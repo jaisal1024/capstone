{
 "cells": [
  {
   "cell_type": "code",
   "execution_count": 2,
   "metadata": {},
   "outputs": [],
   "source": [
    "import pandas as pd\n",
    "import os"
   ]
  },
  {
   "cell_type": "code",
   "execution_count": 3,
   "metadata": {},
   "outputs": [],
   "source": [
    "os.chdir('..')"
   ]
  },
  {
   "cell_type": "code",
   "execution_count": 46,
   "metadata": {},
   "outputs": [],
   "source": [
    "df_raw_val = pd.read_csv('RAW_DATA/20200216_Dubai Residential Monthly Transactions - Value.csv')\n",
    "df_raw_vol = pd.read_csv('RAW_DATA/20200216_Dubai Residential Monthly Transactions - Volume.csv')"
   ]
  },
  {
   "cell_type": "code",
   "execution_count": 47,
   "metadata": {},
   "outputs": [
    {
     "data": {
      "text/html": [
       "<div>\n",
       "<style scoped>\n",
       "    .dataframe tbody tr th:only-of-type {\n",
       "        vertical-align: middle;\n",
       "    }\n",
       "\n",
       "    .dataframe tbody tr th {\n",
       "        vertical-align: top;\n",
       "    }\n",
       "\n",
       "    .dataframe thead th {\n",
       "        text-align: right;\n",
       "    }\n",
       "</style>\n",
       "<table border=\"1\" class=\"dataframe\">\n",
       "  <thead>\n",
       "    <tr style=\"text-align: right;\">\n",
       "      <th></th>\n",
       "      <th>Date (Mth)</th>\n",
       "      <th>Transaction Type</th>\n",
       "      <th>Value (AED Billions)</th>\n",
       "    </tr>\n",
       "  </thead>\n",
       "  <tbody>\n",
       "    <tr>\n",
       "      <th>0</th>\n",
       "      <td>Jan-20</td>\n",
       "      <td>Sales - Off Plan</td>\n",
       "      <td>1,751,489,310</td>\n",
       "    </tr>\n",
       "    <tr>\n",
       "      <th>1</th>\n",
       "      <td>Jan-20</td>\n",
       "      <td>Sales - Ready</td>\n",
       "      <td>2,553,592,298</td>\n",
       "    </tr>\n",
       "    <tr>\n",
       "      <th>2</th>\n",
       "      <td>Dec-19</td>\n",
       "      <td>Sales - Off Plan</td>\n",
       "      <td>2,833,918,333</td>\n",
       "    </tr>\n",
       "    <tr>\n",
       "      <th>3</th>\n",
       "      <td>Dec-19</td>\n",
       "      <td>Sales - Ready</td>\n",
       "      <td>2,070,608,607</td>\n",
       "    </tr>\n",
       "    <tr>\n",
       "      <th>4</th>\n",
       "      <td>Nov-19</td>\n",
       "      <td>Sales - Off Plan</td>\n",
       "      <td>4,630,339,344</td>\n",
       "    </tr>\n",
       "  </tbody>\n",
       "</table>\n",
       "</div>"
      ],
      "text/plain": [
       "  Date (Mth)  Transaction Type  Value (AED Billions) \n",
       "0     Jan-20  Sales - Off Plan         1,751,489,310 \n",
       "1     Jan-20     Sales - Ready         2,553,592,298 \n",
       "2     Dec-19  Sales - Off Plan         2,833,918,333 \n",
       "3     Dec-19     Sales - Ready         2,070,608,607 \n",
       "4     Nov-19  Sales - Off Plan         4,630,339,344 "
      ]
     },
     "execution_count": 47,
     "metadata": {},
     "output_type": "execute_result"
    }
   ],
   "source": [
    "df_raw_val.head()"
   ]
  },
  {
   "cell_type": "code",
   "execution_count": 48,
   "metadata": {},
   "outputs": [
    {
     "data": {
      "text/html": [
       "<div>\n",
       "<style scoped>\n",
       "    .dataframe tbody tr th:only-of-type {\n",
       "        vertical-align: middle;\n",
       "    }\n",
       "\n",
       "    .dataframe tbody tr th {\n",
       "        vertical-align: top;\n",
       "    }\n",
       "\n",
       "    .dataframe thead th {\n",
       "        text-align: right;\n",
       "    }\n",
       "</style>\n",
       "<table border=\"1\" class=\"dataframe\">\n",
       "  <thead>\n",
       "    <tr style=\"text-align: right;\">\n",
       "      <th></th>\n",
       "      <th>Date (Mth)</th>\n",
       "      <th>Transaction Type</th>\n",
       "      <th>Number</th>\n",
       "    </tr>\n",
       "  </thead>\n",
       "  <tbody>\n",
       "    <tr>\n",
       "      <th>0</th>\n",
       "      <td>Jan-20</td>\n",
       "      <td>Sales - Ready</td>\n",
       "      <td>1,495</td>\n",
       "    </tr>\n",
       "    <tr>\n",
       "      <th>1</th>\n",
       "      <td>Jan-20</td>\n",
       "      <td>Sales - Off Plan</td>\n",
       "      <td>1,399</td>\n",
       "    </tr>\n",
       "    <tr>\n",
       "      <th>2</th>\n",
       "      <td>Dec-19</td>\n",
       "      <td>Sales - Off Plan</td>\n",
       "      <td>1,683</td>\n",
       "    </tr>\n",
       "    <tr>\n",
       "      <th>3</th>\n",
       "      <td>Dec-19</td>\n",
       "      <td>Sales - Ready</td>\n",
       "      <td>1,119</td>\n",
       "    </tr>\n",
       "    <tr>\n",
       "      <th>4</th>\n",
       "      <td>Nov-19</td>\n",
       "      <td>Sales - Ready</td>\n",
       "      <td>1,796</td>\n",
       "    </tr>\n",
       "  </tbody>\n",
       "</table>\n",
       "</div>"
      ],
      "text/plain": [
       "  Date (Mth)  Transaction Type  Number \n",
       "0     Jan-20     Sales - Ready   1,495 \n",
       "1     Jan-20  Sales - Off Plan   1,399 \n",
       "2     Dec-19  Sales - Off Plan   1,683 \n",
       "3     Dec-19     Sales - Ready   1,119 \n",
       "4     Nov-19     Sales - Ready   1,796 "
      ]
     },
     "execution_count": 48,
     "metadata": {},
     "output_type": "execute_result"
    }
   ],
   "source": [
    "df_raw_vol.head()"
   ]
  },
  {
   "cell_type": "code",
   "execution_count": 49,
   "metadata": {},
   "outputs": [],
   "source": [
    "for df in (df_raw_val, df_raw_vol):\n",
    "    # Strip the column(s) you're planning to join with\n",
    "    df['Transaction Type'] = df['Transaction Type'].str.strip()\n",
    "    df['Transaction Type'] = df_raw_val['Transaction Type'].astype(str)\n",
    "    df['Date (Mth)'] = df['Date (Mth)'].str.strip()\n",
    "    df['Date (Mth)'] = df_raw_val['Date (Mth)'].astype(str)"
   ]
  },
  {
   "cell_type": "code",
   "execution_count": 50,
   "metadata": {},
   "outputs": [],
   "source": [
    "df_combine = pd.merge(df_raw_val, df_raw_vol, on = ['Date (Mth)', 'Transaction Type'])"
   ]
  },
  {
   "cell_type": "code",
   "execution_count": 51,
   "metadata": {},
   "outputs": [
    {
     "data": {
      "text/html": [
       "<div>\n",
       "<style scoped>\n",
       "    .dataframe tbody tr th:only-of-type {\n",
       "        vertical-align: middle;\n",
       "    }\n",
       "\n",
       "    .dataframe tbody tr th {\n",
       "        vertical-align: top;\n",
       "    }\n",
       "\n",
       "    .dataframe thead th {\n",
       "        text-align: right;\n",
       "    }\n",
       "</style>\n",
       "<table border=\"1\" class=\"dataframe\">\n",
       "  <thead>\n",
       "    <tr style=\"text-align: right;\">\n",
       "      <th></th>\n",
       "      <th>Date (Mth)</th>\n",
       "      <th>Transaction Type</th>\n",
       "      <th>Value (AED Billions)</th>\n",
       "      <th>Number</th>\n",
       "    </tr>\n",
       "  </thead>\n",
       "  <tbody>\n",
       "    <tr>\n",
       "      <th>0</th>\n",
       "      <td>Jan-20</td>\n",
       "      <td>Sales - Off Plan</td>\n",
       "      <td>1,751,489,310</td>\n",
       "      <td>1,495</td>\n",
       "    </tr>\n",
       "    <tr>\n",
       "      <th>1</th>\n",
       "      <td>Jan-20</td>\n",
       "      <td>Sales - Ready</td>\n",
       "      <td>2,553,592,298</td>\n",
       "      <td>1,399</td>\n",
       "    </tr>\n",
       "    <tr>\n",
       "      <th>2</th>\n",
       "      <td>Dec-19</td>\n",
       "      <td>Sales - Off Plan</td>\n",
       "      <td>2,833,918,333</td>\n",
       "      <td>1,683</td>\n",
       "    </tr>\n",
       "    <tr>\n",
       "      <th>3</th>\n",
       "      <td>Dec-19</td>\n",
       "      <td>Sales - Ready</td>\n",
       "      <td>2,070,608,607</td>\n",
       "      <td>1,119</td>\n",
       "    </tr>\n",
       "    <tr>\n",
       "      <th>4</th>\n",
       "      <td>Nov-19</td>\n",
       "      <td>Sales - Off Plan</td>\n",
       "      <td>4,630,339,344</td>\n",
       "      <td>1,796</td>\n",
       "    </tr>\n",
       "    <tr>\n",
       "      <th>...</th>\n",
       "      <td>...</td>\n",
       "      <td>...</td>\n",
       "      <td>...</td>\n",
       "      <td>...</td>\n",
       "    </tr>\n",
       "    <tr>\n",
       "      <th>309</th>\n",
       "      <td>Mar-07</td>\n",
       "      <td>Sales - Ready</td>\n",
       "      <td>694,923,384</td>\n",
       "      <td>249</td>\n",
       "    </tr>\n",
       "    <tr>\n",
       "      <th>310</th>\n",
       "      <td>Feb-07</td>\n",
       "      <td>Sales - Ready</td>\n",
       "      <td>261,435,813</td>\n",
       "      <td>87</td>\n",
       "    </tr>\n",
       "    <tr>\n",
       "      <th>311</th>\n",
       "      <td>Feb-07</td>\n",
       "      <td>Sales - Off Plan</td>\n",
       "      <td>3,498,738</td>\n",
       "      <td>2</td>\n",
       "    </tr>\n",
       "    <tr>\n",
       "      <th>312</th>\n",
       "      <td>Jan-07</td>\n",
       "      <td>Sales - Ready</td>\n",
       "      <td>437,592,778</td>\n",
       "      <td>4</td>\n",
       "    </tr>\n",
       "    <tr>\n",
       "      <th>313</th>\n",
       "      <td>Jan-07</td>\n",
       "      <td>Sales - Off Plan</td>\n",
       "      <td>6,646,626</td>\n",
       "      <td>179</td>\n",
       "    </tr>\n",
       "  </tbody>\n",
       "</table>\n",
       "<p>314 rows × 4 columns</p>\n",
       "</div>"
      ],
      "text/plain": [
       "    Date (Mth)  Transaction Type  Value (AED Billions)   Number \n",
       "0       Jan-20  Sales - Off Plan         1,751,489,310    1,495 \n",
       "1       Jan-20     Sales - Ready         2,553,592,298    1,399 \n",
       "2       Dec-19  Sales - Off Plan         2,833,918,333    1,683 \n",
       "3       Dec-19     Sales - Ready         2,070,608,607    1,119 \n",
       "4       Nov-19  Sales - Off Plan         4,630,339,344    1,796 \n",
       "..         ...               ...                    ...      ...\n",
       "309     Mar-07     Sales - Ready           694,923,384      249 \n",
       "310     Feb-07     Sales - Ready           261,435,813       87 \n",
       "311     Feb-07  Sales - Off Plan             3,498,738        2 \n",
       "312     Jan-07     Sales - Ready           437,592,778        4 \n",
       "313     Jan-07  Sales - Off Plan             6,646,626      179 \n",
       "\n",
       "[314 rows x 4 columns]"
      ]
     },
     "execution_count": 51,
     "metadata": {},
     "output_type": "execute_result"
    }
   ],
   "source": [
    "df_combine"
   ]
  },
  {
   "cell_type": "code",
   "execution_count": 52,
   "metadata": {},
   "outputs": [],
   "source": [
    "df_combine.to_csv('ENG_DATA/20200216_Dubai Residential Monthly Transactions - Volume and Value.csv', index= False)"
   ]
  }
 ],
 "metadata": {
  "kernelspec": {
   "display_name": "Python 3",
   "language": "python",
   "name": "python3"
  },
  "language_info": {
   "codemirror_mode": {
    "name": "ipython",
    "version": 3
   },
   "file_extension": ".py",
   "mimetype": "text/x-python",
   "name": "python",
   "nbconvert_exporter": "python",
   "pygments_lexer": "ipython3",
   "version": "3.6.9"
  }
 },
 "nbformat": 4,
 "nbformat_minor": 2
}
