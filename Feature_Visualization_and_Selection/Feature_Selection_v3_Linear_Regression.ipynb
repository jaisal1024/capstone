{
 "cells": [
  {
   "cell_type": "code",
   "execution_count": 83,
   "metadata": {},
   "outputs": [],
   "source": [
    "import os \n",
    "import pandas as pd\n",
    "import numpy as np\n",
    "from sklearn.feature_selection import VarianceThreshold, SelectKBest, chi2, f_regression, SelectFromModel, mutual_info_regression\n",
    "from scipy.stats import f_oneway\n",
    "from scipy.sparse import csr_matrix\n",
    "from sklearn.preprocessing import LabelEncoder, OrdinalEncoder, OneHotEncoder\n",
    "from sklearn.ensemble import RandomForestRegressor, AdaBoostRegressor\n",
    "from sklearn.linear_model import LinearRegression\n",
    "from sklearn.feature_selection import VarianceThreshold\n",
    "from sklearn.model_selection import train_test_split\n",
    "from sklearn.svm import LinearSVR\n",
    "from sklearn.feature_selection import RFECV\n",
    "from sklearn.preprocessing import MinMaxScaler, StandardScaler \n",
    "from sklearn_pandas import DataFrameMapper\n",
    "from sklearn.metrics import r2_score\n",
    "from sklearn.model_selection import RandomizedSearchCV\n",
    "from category_encoders import BinaryEncoder\n",
    "from category_encoders.ordinal import OrdinalEncoder\n",
    "from category_encoders.one_hot import OneHotEncoder\n",
    "from sklearn.model_selection import cross_val_score, KFold\n",
    "from datetime import datetime\n",
    "import matplotlib.pyplot as plt\n",
    "import json"
   ]
  },
  {
   "cell_type": "code",
   "execution_count": 2,
   "metadata": {},
   "outputs": [],
   "source": [
    "os.chdir('..')"
   ]
  },
  {
   "cell_type": "code",
   "execution_count": 3,
   "metadata": {},
   "outputs": [],
   "source": [
    "df = pd.read_csv('ENG_DATA/CLEANED/12-8_Cleaned_df.csv', index_col = [0])"
   ]
  },
  {
   "cell_type": "markdown",
   "metadata": {},
   "source": [
    "# Fix Missing Data"
   ]
  },
  {
   "cell_type": "code",
   "execution_count": 4,
   "metadata": {},
   "outputs": [],
   "source": [
    "#fix a bug \n",
    "for l in ['charter', 'private', 'public', 'gsRating', 'enrollment']: \n",
    "    df[l].fillna(df[l].mean(), inplace=True)"
   ]
  },
  {
   "cell_type": "markdown",
   "metadata": {},
   "source": [
    "# Add Dates"
   ]
  },
  {
   "cell_type": "code",
   "execution_count": 5,
   "metadata": {},
   "outputs": [],
   "source": [
    "df[\"on_market_date\"] = df[\"on_market_date\"].apply(lambda x: datetime.strptime(x, \"%m/%d/%y\"))\n",
    "df[\"sale_date\"] = df[\"sale_date\"].apply(lambda x: datetime.strptime(x, \"%m/%d/%y\"))"
   ]
  },
  {
   "cell_type": "code",
   "execution_count": 6,
   "metadata": {},
   "outputs": [],
   "source": [
    "df[\"on_market_month_year\"] = df[\"on_market_date\"].apply(lambda x: x.strftime(\"%m/%Y\"))\n",
    "df[\"sale_month_year\"] = df[\"sale_date\"].apply(lambda x: x.strftime(\"%m/%Y\"))"
   ]
  },
  {
   "cell_type": "markdown",
   "metadata": {},
   "source": [
    "# Functions to Test"
   ]
  },
  {
   "cell_type": "code",
   "execution_count": 85,
   "metadata": {},
   "outputs": [],
   "source": [
    "lr = LinearRegression(normalize=True)\n",
    "rf = RandomForestRegressor(n_estimators = 20)\n",
    "kf = KFold(n_splits=5, shuffle=True, random_state=None)\n",
    "std_scaler = StandardScaler()"
   ]
  },
  {
   "cell_type": "code",
   "execution_count": 95,
   "metadata": {},
   "outputs": [],
   "source": [
    "def get_score(model, x, y):\n",
    "    # Split dataset into train and validation subsets:\n",
    "    X_train, X_test, y_train, y_test = train_test_split(x, y, test_size=0.2, random_state=0)\n",
    "    model.fit(X_train, y_train)\n",
    "    print(\"{}: {}\".format(type(model).__name__, model.score(X_test, y_test)))\n",
    "def get_cvs(model, x, y): \n",
    "    scores = cross_val_score(model, x, y, scoring='r2', cv=kf)\n",
    "    print(\"R2: %0.3f (+/- %0.3f)\" % (scores.mean(), scores.std() * 2))\n",
    "def get_feature_importance(model, x, y): \n",
    "    X_train, X_test, y_train, y_test = train_test_split(x, y, test_size=0.2, random_state=0)\n",
    "    model.fit(X_train, y_train)\n",
    "    return pd.DataFrame(model.feature_importances_, index = X_train.columns, columns=['importance']).sort_values('importance',ascending=False)\n",
    "def get_coef(model, x, y): \n",
    "    X_train, X_test, y_train, y_test = train_test_split(x, y, test_size=0.2, random_state=0)\n",
    "    model.fit(X_train, y_train)\n",
    "    return pd.DataFrame(model.coef_, index = X_train.columns, columns=['coef']).sort_values('coef',ascending=False)"
   ]
  },
  {
   "cell_type": "code",
   "execution_count": 113,
   "metadata": {},
   "outputs": [],
   "source": [
    "x = df.drop(columns = ['sale_price', 'orig_list_price', 'city', 'full_address', 'park_leased'])\n",
    "y = np.log(df.sale_price)\n",
    "x_num = x.select_dtypes(include = 'number')\n",
    "x_cat = x.select_dtypes(exclude = 'number')"
   ]
  },
  {
   "cell_type": "markdown",
   "metadata": {},
   "source": [
    "# Feature Highlighting & Baseline"
   ]
  },
  {
   "cell_type": "code",
   "execution_count": 114,
   "metadata": {},
   "outputs": [
    {
     "name": "stdout",
     "output_type": "stream",
     "text": [
      "<class 'pandas.core.frame.DataFrame'>\n",
      "Int64Index: 23720 entries, 0 to 23719\n",
      "Data columns (total 13 columns):\n",
      " #   Column                Non-Null Count  Dtype         \n",
      "---  ------                --------------  -----         \n",
      " 0   street_name           23720 non-null  object        \n",
      " 1   on_market_date        23720 non-null  datetime64[ns]\n",
      " 2   sale_date             23720 non-null  datetime64[ns]\n",
      " 3   zoning                23720 non-null  object        \n",
      " 4   drive_side            23720 non-null  object        \n",
      " 5   parking               23720 non-null  object        \n",
      " 6   shopping              23720 non-null  object        \n",
      " 7   transportation        23720 non-null  object        \n",
      " 8   type                  23720 non-null  object        \n",
      " 9   views                 23720 non-null  object        \n",
      " 10  neighborhood          23720 non-null  object        \n",
      " 11  on_market_month_year  23720 non-null  object        \n",
      " 12  sale_month_year       23720 non-null  object        \n",
      "dtypes: datetime64[ns](2), object(11)\n",
      "memory usage: 2.5+ MB\n"
     ]
    }
   ],
   "source": [
    "# X_train.info()\n",
    "x_cat.info()\n",
    "# x_num.info()"
   ]
  },
  {
   "cell_type": "code",
   "execution_count": 11,
   "metadata": {},
   "outputs": [
    {
     "data": {
      "text/plain": [
       "street_name             1962\n",
       "on_market_date          3396\n",
       "sale_date               2655\n",
       "zoning                    17\n",
       "drive_side                16\n",
       "parking                  152\n",
       "shopping                  14\n",
       "transportation            16\n",
       "type                     259\n",
       "views                   2451\n",
       "neighborhood             104\n",
       "on_market_month_year     133\n",
       "sale_month_year          120\n",
       "dtype: int64"
      ]
     },
     "execution_count": 11,
     "metadata": {},
     "output_type": "execute_result"
    }
   ],
   "source": [
    "x_cat.nunique()"
   ]
  },
  {
   "cell_type": "code",
   "execution_count": 12,
   "metadata": {},
   "outputs": [
    {
     "data": {
      "text/html": [
       "<div>\n",
       "<style scoped>\n",
       "    .dataframe tbody tr th:only-of-type {\n",
       "        vertical-align: middle;\n",
       "    }\n",
       "\n",
       "    .dataframe tbody tr th {\n",
       "        vertical-align: top;\n",
       "    }\n",
       "\n",
       "    .dataframe thead th {\n",
       "        text-align: right;\n",
       "    }\n",
       "</style>\n",
       "<table border=\"1\" class=\"dataframe\">\n",
       "  <thead>\n",
       "    <tr style=\"text-align: right;\">\n",
       "      <th></th>\n",
       "      <th>street_name</th>\n",
       "      <th>on_market_date</th>\n",
       "      <th>sale_date</th>\n",
       "      <th>zoning</th>\n",
       "      <th>drive_side</th>\n",
       "      <th>parking</th>\n",
       "      <th>shopping</th>\n",
       "      <th>transportation</th>\n",
       "      <th>type</th>\n",
       "      <th>views</th>\n",
       "      <th>neighborhood</th>\n",
       "      <th>on_market_month_year</th>\n",
       "      <th>sale_month_year</th>\n",
       "    </tr>\n",
       "  </thead>\n",
       "  <tbody>\n",
       "    <tr>\n",
       "      <th>0</th>\n",
       "      <td>El Camino Del Mar</td>\n",
       "      <td>2013-03-14</td>\n",
       "      <td>2013-03-22</td>\n",
       "      <td>RH2</td>\n",
       "      <td>PVDW,PVSW</td>\n",
       "      <td>ATCH,GARG</td>\n",
       "      <td>4BLK</td>\n",
       "      <td>1BLK</td>\n",
       "      <td>3STR</td>\n",
       "      <td>PNRM,OCEN,PARK,GRDN</td>\n",
       "      <td>Lincoln Park / Ft. Miley</td>\n",
       "      <td>03/2013</td>\n",
       "      <td>03/2013</td>\n",
       "    </tr>\n",
       "    <tr>\n",
       "      <th>1</th>\n",
       "      <td>La Playa St</td>\n",
       "      <td>2017-05-18</td>\n",
       "      <td>2017-08-17</td>\n",
       "      <td>RM1</td>\n",
       "      <td>0</td>\n",
       "      <td>ATCH,GARG,ATDR,INAC</td>\n",
       "      <td>2BLK</td>\n",
       "      <td>1BLK</td>\n",
       "      <td>0</td>\n",
       "      <td>0</td>\n",
       "      <td>Outer Sunset</td>\n",
       "      <td>05/2017</td>\n",
       "      <td>08/2017</td>\n",
       "    </tr>\n",
       "    <tr>\n",
       "      <th>2</th>\n",
       "      <td>48th Ave</td>\n",
       "      <td>2010-06-27</td>\n",
       "      <td>2010-08-20</td>\n",
       "      <td>RH1</td>\n",
       "      <td>PVDW,PVSW</td>\n",
       "      <td>GARG</td>\n",
       "      <td>3BLK</td>\n",
       "      <td>1BLK</td>\n",
       "      <td>ATAC,2STR,FIXR</td>\n",
       "      <td>WATR,OCEN,PARK</td>\n",
       "      <td>Sutro Heights</td>\n",
       "      <td>06/2010</td>\n",
       "      <td>08/2010</td>\n",
       "    </tr>\n",
       "    <tr>\n",
       "      <th>3</th>\n",
       "      <td>48th Ave</td>\n",
       "      <td>2012-06-07</td>\n",
       "      <td>2012-07-13</td>\n",
       "      <td>OTHR</td>\n",
       "      <td>PVDW</td>\n",
       "      <td>ATCH,GARG,ATDR,INAC</td>\n",
       "      <td>4BLK</td>\n",
       "      <td>2BLK</td>\n",
       "      <td>3STR</td>\n",
       "      <td>PNRM,CTYL,OCEN,PARK</td>\n",
       "      <td>Sutro Heights</td>\n",
       "      <td>06/2012</td>\n",
       "      <td>07/2012</td>\n",
       "    </tr>\n",
       "    <tr>\n",
       "      <th>4</th>\n",
       "      <td>48th Ave</td>\n",
       "      <td>2018-05-17</td>\n",
       "      <td>2018-06-21</td>\n",
       "      <td>OTHR</td>\n",
       "      <td>0</td>\n",
       "      <td>ATCH,GARG,ATDR,INAC</td>\n",
       "      <td>3BLK</td>\n",
       "      <td>1BLK</td>\n",
       "      <td>2STR</td>\n",
       "      <td>PNRM,CTYL,WATR,SFRN,OCEN,PARK,GRDN,TWNP</td>\n",
       "      <td>Sutro Heights</td>\n",
       "      <td>05/2018</td>\n",
       "      <td>06/2018</td>\n",
       "    </tr>\n",
       "  </tbody>\n",
       "</table>\n",
       "</div>"
      ],
      "text/plain": [
       "          street_name on_market_date  sale_date zoning drive_side  \\\n",
       "0  El Camino Del Mar      2013-03-14 2013-03-22    RH2  PVDW,PVSW   \n",
       "1         La Playa St     2017-05-18 2017-08-17    RM1          0   \n",
       "2            48th Ave     2010-06-27 2010-08-20    RH1  PVDW,PVSW   \n",
       "3            48th Ave     2012-06-07 2012-07-13   OTHR       PVDW   \n",
       "4            48th Ave     2018-05-17 2018-06-21   OTHR          0   \n",
       "\n",
       "               parking shopping transportation            type  \\\n",
       "0            ATCH,GARG     4BLK           1BLK            3STR   \n",
       "1  ATCH,GARG,ATDR,INAC     2BLK           1BLK               0   \n",
       "2                 GARG     3BLK           1BLK  ATAC,2STR,FIXR   \n",
       "3  ATCH,GARG,ATDR,INAC     4BLK           2BLK            3STR   \n",
       "4  ATCH,GARG,ATDR,INAC     3BLK           1BLK            2STR   \n",
       "\n",
       "                                     views              neighborhood  \\\n",
       "0                      PNRM,OCEN,PARK,GRDN  Lincoln Park / Ft. Miley   \n",
       "1                                        0              Outer Sunset   \n",
       "2                           WATR,OCEN,PARK             Sutro Heights   \n",
       "3                      PNRM,CTYL,OCEN,PARK             Sutro Heights   \n",
       "4  PNRM,CTYL,WATR,SFRN,OCEN,PARK,GRDN,TWNP             Sutro Heights   \n",
       "\n",
       "  on_market_month_year sale_month_year  \n",
       "0              03/2013         03/2013  \n",
       "1              05/2017         08/2017  \n",
       "2              06/2010         08/2010  \n",
       "3              06/2012         07/2012  \n",
       "4              05/2018         06/2018  "
      ]
     },
     "execution_count": 12,
     "metadata": {},
     "output_type": "execute_result"
    }
   ],
   "source": [
    "x_cat.head(5)"
   ]
  },
  {
   "cell_type": "code",
   "execution_count": 96,
   "metadata": {},
   "outputs": [
    {
     "name": "stdout",
     "output_type": "stream",
     "text": [
      "R2: 0.851 (+/- 0.012)\n",
      "LinearRegression: 0.8593629444485931\n",
      "CPU times: user 632 ms, sys: 72.6 ms, total: 705 ms\n",
      "Wall time: 394 ms\n"
     ]
    }
   ],
   "source": [
    "%%time\n",
    "get_cvs(lr, x_num, y)\n",
    "get_score(lr, x_num, y)"
   ]
  },
  {
   "cell_type": "code",
   "execution_count": 97,
   "metadata": {},
   "outputs": [
    {
     "data": {
      "text/html": [
       "<div>\n",
       "<style scoped>\n",
       "    .dataframe tbody tr th:only-of-type {\n",
       "        vertical-align: middle;\n",
       "    }\n",
       "\n",
       "    .dataframe tbody tr th {\n",
       "        vertical-align: top;\n",
       "    }\n",
       "\n",
       "    .dataframe thead th {\n",
       "        text-align: right;\n",
       "    }\n",
       "</style>\n",
       "<table border=\"1\" class=\"dataframe\">\n",
       "  <thead>\n",
       "    <tr style=\"text-align: right;\">\n",
       "      <th></th>\n",
       "      <th>coef</th>\n",
       "    </tr>\n",
       "  </thead>\n",
       "  <tbody>\n",
       "    <tr>\n",
       "      <th>latitude</th>\n",
       "      <td>9.840227</td>\n",
       "    </tr>\n",
       "    <tr>\n",
       "      <th>trea</th>\n",
       "      <td>0.781636</td>\n",
       "    </tr>\n",
       "    <tr>\n",
       "      <th>baths</th>\n",
       "      <td>0.174038</td>\n",
       "    </tr>\n",
       "    <tr>\n",
       "      <th>num_parking</th>\n",
       "      <td>0.071333</td>\n",
       "    </tr>\n",
       "    <tr>\n",
       "      <th>on_market_year</th>\n",
       "      <td>0.064909</td>\n",
       "    </tr>\n",
       "    <tr>\n",
       "      <th>beds</th>\n",
       "      <td>0.049513</td>\n",
       "    </tr>\n",
       "    <tr>\n",
       "      <th>charter</th>\n",
       "      <td>0.044102</td>\n",
       "    </tr>\n",
       "    <tr>\n",
       "      <th>embezzlement</th>\n",
       "      <td>0.030783</td>\n",
       "    </tr>\n",
       "    <tr>\n",
       "      <th>gambling</th>\n",
       "      <td>0.026934</td>\n",
       "    </tr>\n",
       "    <tr>\n",
       "      <th>sex offenses, non forcible</th>\n",
       "      <td>0.024619</td>\n",
       "    </tr>\n",
       "  </tbody>\n",
       "</table>\n",
       "</div>"
      ],
      "text/plain": [
       "                                coef\n",
       "latitude                    9.840227\n",
       "trea                        0.781636\n",
       "baths                       0.174038\n",
       "num_parking                 0.071333\n",
       "on_market_year              0.064909\n",
       "beds                        0.049513\n",
       "charter                     0.044102\n",
       "embezzlement                0.030783\n",
       "gambling                    0.026934\n",
       "sex offenses, non forcible  0.024619"
      ]
     },
     "execution_count": 97,
     "metadata": {},
     "output_type": "execute_result"
    }
   ],
   "source": [
    "get_coef(lr, x_num, y).head(10)"
   ]
  },
  {
   "cell_type": "markdown",
   "metadata": {},
   "source": [
    "# Feature Elimination\n",
    "1. Drop Highly Correlated Features\n",
    "2. Recursively drop Crime and School Features that are not effective"
   ]
  },
  {
   "cell_type": "code",
   "execution_count": 115,
   "metadata": {},
   "outputs": [],
   "source": [
    "school_features = [\"charter\", \"private\", \"public\", \"gsRating\", \"enrollment\"]\n",
    "crime_features = [\"arson\", \"assault\", \"bad checks\", \"bribery\", \"burglary\", \"disorderly conduct\", \"driving under the influence\", \"drug/narcotic\", \"drunkenness\", \"embezzlement\", \"extortion\", \"family offenses\", \"forgery/counterfeiting\", \"fraud\", \"gambling\", \"kidnapping\", \"larceny/theft\", \"liquor laws\", \"loitering\", \"missing person\", \"non-criminal\", \"other offenses\", \"pornography/obscene mat\", \"prostitution\", \"recovered vehicle\", \"robbery\", \"runaway\", \"secondary codes\", \"sex offenses, forcible\", \"sex offenses, non forcible\", \"stolen property\", \"suicide\", \"suspicious occ\", \"trea\", \"trespass\", \"vandalism\", \"vehicle theft\", \"warrants\", \"weapon laws\", \"totalincidents\"]"
   ]
  },
  {
   "cell_type": "code",
   "execution_count": 117,
   "metadata": {},
   "outputs": [
    {
     "name": "stdout",
     "output_type": "stream",
     "text": [
      "LinearRegression: 0.14754591762864933\n",
      "RandomForestRegressor: 0.525796528709815\n"
     ]
    }
   ],
   "source": [
    "x_sf = x[school_features]\n",
    "get_score(lr, x_sf, y)\n",
    "get_score(rf, x_sf, y)"
   ]
  },
  {
   "cell_type": "code",
   "execution_count": 118,
   "metadata": {},
   "outputs": [
    {
     "name": "stdout",
     "output_type": "stream",
     "text": [
      "LinearRegression: 0.5095770296871311\n",
      "RandomForestRegressor: 0.5961546207044346\n"
     ]
    }
   ],
   "source": [
    "x_cf = x[crime_features]\n",
    "get_score(lr, x_cf, y)\n",
    "get_score(rf, x_cf, y)"
   ]
  },
  {
   "cell_type": "code",
   "execution_count": 47,
   "metadata": {
    "scrolled": true
   },
   "outputs": [
    {
     "data": {
      "text/html": [
       "<div>\n",
       "<style scoped>\n",
       "    .dataframe tbody tr th:only-of-type {\n",
       "        vertical-align: middle;\n",
       "    }\n",
       "\n",
       "    .dataframe tbody tr th {\n",
       "        vertical-align: top;\n",
       "    }\n",
       "\n",
       "    .dataframe thead th {\n",
       "        text-align: right;\n",
       "    }\n",
       "</style>\n",
       "<table border=\"1\" class=\"dataframe\">\n",
       "  <thead>\n",
       "    <tr style=\"text-align: right;\">\n",
       "      <th></th>\n",
       "      <th>importance</th>\n",
       "    </tr>\n",
       "  </thead>\n",
       "  <tbody>\n",
       "    <tr>\n",
       "      <th>weapon laws</th>\n",
       "      <td>0.233829</td>\n",
       "    </tr>\n",
       "    <tr>\n",
       "      <th>secondary codes</th>\n",
       "      <td>0.156672</td>\n",
       "    </tr>\n",
       "    <tr>\n",
       "      <th>prostitution</th>\n",
       "      <td>0.146927</td>\n",
       "    </tr>\n",
       "    <tr>\n",
       "      <th>suicide</th>\n",
       "      <td>0.114304</td>\n",
       "    </tr>\n",
       "    <tr>\n",
       "      <th>burglary</th>\n",
       "      <td>0.062376</td>\n",
       "    </tr>\n",
       "    <tr>\n",
       "      <th>robbery</th>\n",
       "      <td>0.041303</td>\n",
       "    </tr>\n",
       "    <tr>\n",
       "      <th>recovered vehicle</th>\n",
       "      <td>0.041036</td>\n",
       "    </tr>\n",
       "    <tr>\n",
       "      <th>assault</th>\n",
       "      <td>0.031118</td>\n",
       "    </tr>\n",
       "    <tr>\n",
       "      <th>drug/narcotic</th>\n",
       "      <td>0.021947</td>\n",
       "    </tr>\n",
       "    <tr>\n",
       "      <th>larceny/theft</th>\n",
       "      <td>0.020186</td>\n",
       "    </tr>\n",
       "    <tr>\n",
       "      <th>family offenses</th>\n",
       "      <td>0.013247</td>\n",
       "    </tr>\n",
       "    <tr>\n",
       "      <th>forgery/counterfeiting</th>\n",
       "      <td>0.012071</td>\n",
       "    </tr>\n",
       "    <tr>\n",
       "      <th>fraud</th>\n",
       "      <td>0.011675</td>\n",
       "    </tr>\n",
       "    <tr>\n",
       "      <th>liquor laws</th>\n",
       "      <td>0.009724</td>\n",
       "    </tr>\n",
       "    <tr>\n",
       "      <th>runaway</th>\n",
       "      <td>0.008354</td>\n",
       "    </tr>\n",
       "    <tr>\n",
       "      <th>driving under the influence</th>\n",
       "      <td>0.008246</td>\n",
       "    </tr>\n",
       "    <tr>\n",
       "      <th>arson</th>\n",
       "      <td>0.007913</td>\n",
       "    </tr>\n",
       "    <tr>\n",
       "      <th>disorderly conduct</th>\n",
       "      <td>0.007714</td>\n",
       "    </tr>\n",
       "    <tr>\n",
       "      <th>drunkenness</th>\n",
       "      <td>0.007482</td>\n",
       "    </tr>\n",
       "    <tr>\n",
       "      <th>sex offenses, forcible</th>\n",
       "      <td>0.006713</td>\n",
       "    </tr>\n",
       "    <tr>\n",
       "      <th>vehicle theft</th>\n",
       "      <td>0.005603</td>\n",
       "    </tr>\n",
       "    <tr>\n",
       "      <th>warrants</th>\n",
       "      <td>0.004787</td>\n",
       "    </tr>\n",
       "    <tr>\n",
       "      <th>kidnapping</th>\n",
       "      <td>0.003649</td>\n",
       "    </tr>\n",
       "    <tr>\n",
       "      <th>non-criminal</th>\n",
       "      <td>0.003350</td>\n",
       "    </tr>\n",
       "    <tr>\n",
       "      <th>vandalism</th>\n",
       "      <td>0.002877</td>\n",
       "    </tr>\n",
       "    <tr>\n",
       "      <th>missing person</th>\n",
       "      <td>0.002865</td>\n",
       "    </tr>\n",
       "    <tr>\n",
       "      <th>suspicious occ</th>\n",
       "      <td>0.002496</td>\n",
       "    </tr>\n",
       "    <tr>\n",
       "      <th>stolen property</th>\n",
       "      <td>0.002225</td>\n",
       "    </tr>\n",
       "    <tr>\n",
       "      <th>trespass</th>\n",
       "      <td>0.001559</td>\n",
       "    </tr>\n",
       "    <tr>\n",
       "      <th>bribery</th>\n",
       "      <td>0.001475</td>\n",
       "    </tr>\n",
       "    <tr>\n",
       "      <th>embezzlement</th>\n",
       "      <td>0.001407</td>\n",
       "    </tr>\n",
       "    <tr>\n",
       "      <th>other offenses</th>\n",
       "      <td>0.001270</td>\n",
       "    </tr>\n",
       "    <tr>\n",
       "      <th>totalincidents</th>\n",
       "      <td>0.001162</td>\n",
       "    </tr>\n",
       "    <tr>\n",
       "      <th>bad checks</th>\n",
       "      <td>0.000717</td>\n",
       "    </tr>\n",
       "    <tr>\n",
       "      <th>sex offenses, non forcible</th>\n",
       "      <td>0.000632</td>\n",
       "    </tr>\n",
       "    <tr>\n",
       "      <th>gambling</th>\n",
       "      <td>0.000492</td>\n",
       "    </tr>\n",
       "    <tr>\n",
       "      <th>extortion</th>\n",
       "      <td>0.000311</td>\n",
       "    </tr>\n",
       "    <tr>\n",
       "      <th>loitering</th>\n",
       "      <td>0.000275</td>\n",
       "    </tr>\n",
       "    <tr>\n",
       "      <th>pornography/obscene mat</th>\n",
       "      <td>0.000011</td>\n",
       "    </tr>\n",
       "    <tr>\n",
       "      <th>trea</th>\n",
       "      <td>0.000000</td>\n",
       "    </tr>\n",
       "  </tbody>\n",
       "</table>\n",
       "</div>"
      ],
      "text/plain": [
       "                             importance\n",
       "weapon laws                    0.233829\n",
       "secondary codes                0.156672\n",
       "prostitution                   0.146927\n",
       "suicide                        0.114304\n",
       "burglary                       0.062376\n",
       "robbery                        0.041303\n",
       "recovered vehicle              0.041036\n",
       "assault                        0.031118\n",
       "drug/narcotic                  0.021947\n",
       "larceny/theft                  0.020186\n",
       "family offenses                0.013247\n",
       "forgery/counterfeiting         0.012071\n",
       "fraud                          0.011675\n",
       "liquor laws                    0.009724\n",
       "runaway                        0.008354\n",
       "driving under the influence    0.008246\n",
       "arson                          0.007913\n",
       "disorderly conduct             0.007714\n",
       "drunkenness                    0.007482\n",
       "sex offenses, forcible         0.006713\n",
       "vehicle theft                  0.005603\n",
       "warrants                       0.004787\n",
       "kidnapping                     0.003649\n",
       "non-criminal                   0.003350\n",
       "vandalism                      0.002877\n",
       "missing person                 0.002865\n",
       "suspicious occ                 0.002496\n",
       "stolen property                0.002225\n",
       "trespass                       0.001559\n",
       "bribery                        0.001475\n",
       "embezzlement                   0.001407\n",
       "other offenses                 0.001270\n",
       "totalincidents                 0.001162\n",
       "bad checks                     0.000717\n",
       "sex offenses, non forcible     0.000632\n",
       "gambling                       0.000492\n",
       "extortion                      0.000311\n",
       "loitering                      0.000275\n",
       "pornography/obscene mat        0.000011\n",
       "trea                           0.000000"
      ]
     },
     "execution_count": 47,
     "metadata": {},
     "output_type": "execute_result"
    }
   ],
   "source": [
    "get_feature_importance(rf, x_cf, y)"
   ]
  },
  {
   "cell_type": "code",
   "execution_count": 90,
   "metadata": {},
   "outputs": [
    {
     "name": "stdout",
     "output_type": "stream",
     "text": [
      "Optimal number of features : 10\n"
     ]
    }
   ],
   "source": [
    "# classifications\n",
    "rfecv = RFECV(rf, step=3, min_features_to_select = 4,\n",
    "              scoring='r2', cv=kf)\n",
    "rfecv.fit(x_cf, y)\n",
    "print(\"Optimal number of features : %d\" % rfecv.n_features_)"
   ]
  },
  {
   "cell_type": "code",
   "execution_count": 91,
   "metadata": {
    "collapsed": true
   },
   "outputs": [
    {
     "data": {
      "image/png": "[encoded data removed]",
      "text/plain": [
       "<Figure size 432x288 with 1 Axes>"
      ]
     },
     "metadata": {
      "needs_background": "light"
     },
     "output_type": "display_data"
    }
   ],
   "source": [
    "# Plot number of features VS. cross-validation scores\n",
    "plt.figure()\n",
    "plt.xlabel(\"Number of features selected\")\n",
    "plt.ylabel(\"Cross validation score (r squared)\")\n",
    "plt.plot(range(4, 3*len(rfecv.grid_scores_) + 4, 3), rfecv.grid_scores_)\n",
    "plt.show()"
   ]
  },
  {
   "cell_type": "code",
   "execution_count": 120,
   "metadata": {
    "collapsed": true
   },
   "outputs": [
    {
     "ename": "IndexError",
     "evalue": "boolean index did not match indexed array along dimension 0; dimension is 40 but corresponding boolean dimension is 5",
     "output_type": "error",
     "traceback": [
      "\u001b[0;31m---------------------------------------------------------------------------\u001b[0m",
      "\u001b[0;31mIndexError\u001b[0m                                Traceback (most recent call last)",
      "\u001b[0;32m<ipython-input-120-c3f3c9c424c8>\u001b[0m in \u001b[0;36m<module>\u001b[0;34m\u001b[0m\n\u001b[0;32m----> 1\u001b[0;31m \u001b[0moptimal_crime_school_features\u001b[0m \u001b[0;34m=\u001b[0m \u001b[0mx_cf\u001b[0m\u001b[0;34m.\u001b[0m\u001b[0mcolumns\u001b[0m\u001b[0;34m[\u001b[0m\u001b[0mrfecv\u001b[0m\u001b[0;34m.\u001b[0m\u001b[0msupport_\u001b[0m\u001b[0;34m]\u001b[0m\u001b[0;34m.\u001b[0m\u001b[0mto_list\u001b[0m\u001b[0;34m(\u001b[0m\u001b[0;34m)\u001b[0m\u001b[0;34m\u001b[0m\u001b[0;34m\u001b[0m\u001b[0m\n\u001b[0m",
      "\u001b[0;32m~/anaconda3/envs/TEST/lib/python3.6/site-packages/pandas/core/indexes/base.py\u001b[0m in \u001b[0;36m__getitem__\u001b[0;34m(self, key)\u001b[0m\n\u001b[1;32m   3938\u001b[0m \u001b[0;34m\u001b[0m\u001b[0m\n\u001b[1;32m   3939\u001b[0m         \u001b[0mkey\u001b[0m \u001b[0;34m=\u001b[0m \u001b[0mcom\u001b[0m\u001b[0;34m.\u001b[0m\u001b[0mvalues_from_object\u001b[0m\u001b[0;34m(\u001b[0m\u001b[0mkey\u001b[0m\u001b[0;34m)\u001b[0m\u001b[0;34m\u001b[0m\u001b[0;34m\u001b[0m\u001b[0m\n\u001b[0;32m-> 3940\u001b[0;31m         \u001b[0mresult\u001b[0m \u001b[0;34m=\u001b[0m \u001b[0mgetitem\u001b[0m\u001b[0;34m(\u001b[0m\u001b[0mkey\u001b[0m\u001b[0;34m)\u001b[0m\u001b[0;34m\u001b[0m\u001b[0;34m\u001b[0m\u001b[0m\n\u001b[0m\u001b[1;32m   3941\u001b[0m         \u001b[0;32mif\u001b[0m \u001b[0;32mnot\u001b[0m \u001b[0mis_scalar\u001b[0m\u001b[0;34m(\u001b[0m\u001b[0mresult\u001b[0m\u001b[0;34m)\u001b[0m\u001b[0;34m:\u001b[0m\u001b[0;34m\u001b[0m\u001b[0;34m\u001b[0m\u001b[0m\n\u001b[1;32m   3942\u001b[0m             \u001b[0;32mif\u001b[0m \u001b[0mnp\u001b[0m\u001b[0;34m.\u001b[0m\u001b[0mndim\u001b[0m\u001b[0;34m(\u001b[0m\u001b[0mresult\u001b[0m\u001b[0;34m)\u001b[0m \u001b[0;34m>\u001b[0m \u001b[0;36m1\u001b[0m\u001b[0;34m:\u001b[0m\u001b[0;34m\u001b[0m\u001b[0;34m\u001b[0m\u001b[0m\n",
      "\u001b[0;31mIndexError\u001b[0m: boolean index did not match indexed array along dimension 0; dimension is 40 but corresponding boolean dimension is 5"
     ]
    }
   ],
   "source": [
    "optimal_crime_features = x_cf.columns[rfecv.support_].to_list()"
   ]
  },
  {
   "cell_type": "code",
   "execution_count": 100,
   "metadata": {},
   "outputs": [
    {
     "name": "stdout",
     "output_type": "stream",
     "text": [
      "Optimal number of features : 5\n"
     ]
    }
   ],
   "source": [
    "# classifications\n",
    "rfecv = RFECV(rf, step=1, min_features_to_select = 1,\n",
    "              scoring='r2', cv=kf)\n",
    "rfecv.fit(x_sf, y)\n",
    "print(\"Optimal number of features : %d\" % rfecv.n_features_)"
   ]
  },
  {
   "cell_type": "code",
   "execution_count": 102,
   "metadata": {},
   "outputs": [
    {
     "data": {
      "image/png": "[encoded data removed]",
      "text/plain": [
       "<Figure size 432x288 with 1 Axes>"
      ]
     },
     "metadata": {
      "needs_background": "light"
     },
     "output_type": "display_data"
    }
   ],
   "source": [
    "# Plot number of features VS. cross-validation scores\n",
    "plt.figure()\n",
    "plt.xlabel(\"Number of features selected\")\n",
    "plt.ylabel(\"Cross validation score (r squared)\")\n",
    "plt.plot(range(1, 1*len(rfecv.grid_scores_) + 1, 1), rfecv.grid_scores_)\n",
    "plt.show()"
   ]
  },
  {
   "cell_type": "code",
   "execution_count": 104,
   "metadata": {},
   "outputs": [
    {
     "data": {
      "text/html": [
       "<div>\n",
       "<style scoped>\n",
       "    .dataframe tbody tr th:only-of-type {\n",
       "        vertical-align: middle;\n",
       "    }\n",
       "\n",
       "    .dataframe tbody tr th {\n",
       "        vertical-align: top;\n",
       "    }\n",
       "\n",
       "    .dataframe thead th {\n",
       "        text-align: right;\n",
       "    }\n",
       "</style>\n",
       "<table border=\"1\" class=\"dataframe\">\n",
       "  <thead>\n",
       "    <tr style=\"text-align: right;\">\n",
       "      <th></th>\n",
       "      <th>importance</th>\n",
       "    </tr>\n",
       "  </thead>\n",
       "  <tbody>\n",
       "    <tr>\n",
       "      <th>enrollment</th>\n",
       "      <td>0.392763</td>\n",
       "    </tr>\n",
       "    <tr>\n",
       "      <th>gsRating</th>\n",
       "      <td>0.292001</td>\n",
       "    </tr>\n",
       "    <tr>\n",
       "      <th>private</th>\n",
       "      <td>0.261197</td>\n",
       "    </tr>\n",
       "    <tr>\n",
       "      <th>public</th>\n",
       "      <td>0.034730</td>\n",
       "    </tr>\n",
       "    <tr>\n",
       "      <th>charter</th>\n",
       "      <td>0.019310</td>\n",
       "    </tr>\n",
       "  </tbody>\n",
       "</table>\n",
       "</div>"
      ],
      "text/plain": [
       "            importance\n",
       "enrollment    0.392763\n",
       "gsRating      0.292001\n",
       "private       0.261197\n",
       "public        0.034730\n",
       "charter       0.019310"
      ]
     },
     "execution_count": 104,
     "metadata": {},
     "output_type": "execute_result"
    }
   ],
   "source": [
    "get_feature_importance(rf, x_sf, y)"
   ]
  },
  {
   "cell_type": "code",
   "execution_count": 121,
   "metadata": {},
   "outputs": [
    {
     "name": "stdout",
     "output_type": "stream",
     "text": [
      "R2: 0.526 (+/- 0.014)\n"
     ]
    }
   ],
   "source": [
    "get_cvs(rf, x_sf[\"enrollment\"].to_frame(), y)\n",
    "optimal_crime_features.append(\"enrollment\")"
   ]
  },
  {
   "cell_type": "code",
   "execution_count": 125,
   "metadata": {},
   "outputs": [],
   "source": [
    "cs_to_drop = list(set(school_features + crime_features) - set(optimal_crime_features))"
   ]
  },
  {
   "cell_type": "code",
   "execution_count": 127,
   "metadata": {},
   "outputs": [],
   "source": [
    "x_cs = x.drop(columns = cs_to_drop)"
   ]
  },
  {
   "cell_type": "code",
   "execution_count": 131,
   "metadata": {},
   "outputs": [
    {
     "name": "stdout",
     "output_type": "stream",
     "text": [
      "LinearRegression: 0.8315186238099188\n",
      "RandomForestRegressor: 0.9089679208078918\n"
     ]
    }
   ],
   "source": [
    "get_score(lr, x_cs.select_dtypes(include = 'number'), y)\n",
    "get_score(rf, x_cs.select_dtypes(include = 'number'), y)"
   ]
  },
  {
   "cell_type": "code",
   "execution_count": 134,
   "metadata": {},
   "outputs": [],
   "source": [
    "# FROM: https://chrisalbon.com/machine_learning/feature_selection/drop_highly_correlated_features/\n",
    "corr_matrix = x_cs.corr().abs()\n",
    "upper = corr_matrix.where(np.triu(np.ones(corr_matrix.shape), k=1).astype(np.bool))\n",
    "to_drop = [column for column in upper.columns if any(upper[column] > 0.8)]"
   ]
  },
  {
   "cell_type": "code",
   "execution_count": 135,
   "metadata": {},
   "outputs": [
    {
     "name": "stdout",
     "output_type": "stream",
     "text": [
      "LinearRegression: 0.7930486367885938\n",
      "RandomForestRegressor: 0.9061087012946497\n"
     ]
    }
   ],
   "source": [
    "x_fe = x_cs.drop(x_cs[to_drop], axis=1).copy()\n",
    "get_score(lr, x_fe.select_dtypes(include = 'number'), y)\n",
    "get_score(rf, x_fe.select_dtypes(include = 'number'), y)"
   ]
  },
  {
   "cell_type": "code",
   "execution_count": 27,
   "metadata": {},
   "outputs": [],
   "source": [
    "def intoArray(s): \n",
    "    print (json.dumps((s.split(','))))"
   ]
  },
  {
   "cell_type": "code",
   "execution_count": 33,
   "metadata": {},
   "outputs": [
    {
     "name": "stdout",
     "output_type": "stream",
     "text": [
      "[\"arson\", \"assault\", \"bad checks\", \"bribery\", \"burglary\", \"disorderly conduct\", \"driving under the influence\", \"drug/narcotic\", \"drunkenness\", \"embezzlement\", \"extortion\", \"family offenses\", \"forgery/counterfeiting\", \"fraud\", \"gambling\", \"kidnapping\", \"larceny/theft\", \"liquor laws\", \"loitering\", \"missing person\", \"non-criminal\", \"other offenses\", \"pornography/obscene mat\", \"prostitution\", \"recovered vehicle\", \"robbery\", \"runaway\", \"secondary codes\", \"\\\"sex offenses\", \" forcible\\\"\", \"\\\"sex offenses\", \" non forcible\\\"\", \"stolen property\", \"suicide\", \"suspicious occ\", \"trea\", \"trespass\", \"vandalism\", \"vehicle theft\", \"warrants\", \"weapon laws\", \"totalincidents\"]\n"
     ]
    }
   ],
   "source": [
    "intoArray(s)"
   ]
  },
  {
   "cell_type": "markdown",
   "metadata": {},
   "source": [
    "# Linear Regression Transformation \n",
    "1. OneHot Encode variables with comma-seperated features\n",
    "2. BinaryEncoder for sparse features\n",
    "3. Ordinal Encoding for Month-Year and Neighborhood"
   ]
  },
  {
   "cell_type": "code",
   "execution_count": 188,
   "metadata": {},
   "outputs": [],
   "source": [
    "x_lr = x_fe.copy()"
   ]
  },
  {
   "cell_type": "code",
   "execution_count": 189,
   "metadata": {},
   "outputs": [],
   "source": [
    "x_lr.drop(columns = ['on_market_date', 'sale_date'], inplace=True)"
   ]
  },
  {
   "cell_type": "code",
   "execution_count": 190,
   "metadata": {},
   "outputs": [],
   "source": [
    "x_lr = x_lr.merge(x_lr['views'].str.get_dummies(sep=',').rename(lambda x: 'views_' + x, axis='columns'), left_index=True, right_index=True)"
   ]
  },
  {
   "cell_type": "code",
   "execution_count": 191,
   "metadata": {},
   "outputs": [],
   "source": [
    "x_lr = x_lr.merge(x_lr['parking'].str.get_dummies(sep=',').rename(lambda x: 'parking_' + x, axis='columns'), left_index=True, right_index=True)"
   ]
  },
  {
   "cell_type": "code",
   "execution_count": 192,
   "metadata": {},
   "outputs": [],
   "source": [
    "x_lr = x_lr.merge(x_lr['type'].str.get_dummies(sep=',').rename(lambda x: 'type_' + x, axis='columns'), left_index=True, right_index=True)"
   ]
  },
  {
   "cell_type": "code",
   "execution_count": 193,
   "metadata": {},
   "outputs": [],
   "source": [
    "x_lr.drop(columns = ['views', 'parking', 'drive_side', 'type'], inplace=True)"
   ]
  },
  {
   "cell_type": "code",
   "execution_count": 194,
   "metadata": {},
   "outputs": [
    {
     "data": {
      "text/plain": [
       "street_name             1962\n",
       "zoning                    17\n",
       "shopping                  14\n",
       "transportation            16\n",
       "neighborhood             104\n",
       "on_market_month_year     133\n",
       "sale_month_year          120\n",
       "dtype: int64"
      ]
     },
     "execution_count": 194,
     "metadata": {},
     "output_type": "execute_result"
    }
   ],
   "source": [
    "x_lr.select_dtypes(exclude = 'number').nunique()"
   ]
  },
  {
   "cell_type": "code",
   "execution_count": 195,
   "metadata": {},
   "outputs": [
    {
     "name": "stdout",
     "output_type": "stream",
     "text": [
      "LinearRegression: 0.8117587601111074\n",
      "R2: 0.802 (+/- 0.007)\n",
      "CPU times: user 680 ms, sys: 74.4 ms, total: 754 ms\n",
      "Wall time: 430 ms\n"
     ]
    }
   ],
   "source": [
    "%%time\n",
    "get_score(lr, x_lr.select_dtypes(include = 'number'), y)\n",
    "get_cvs(lr, x_lr.select_dtypes(include = 'number'), y)"
   ]
  },
  {
   "cell_type": "markdown",
   "metadata": {},
   "source": [
    "# Adding Location Variables"
   ]
  },
  {
   "cell_type": "code",
   "execution_count": 208,
   "metadata": {},
   "outputs": [],
   "source": [
    "x_lc = x_fe.copy()"
   ]
  },
  {
   "cell_type": "code",
   "execution_count": 209,
   "metadata": {},
   "outputs": [],
   "source": [
    "xy_scaler = std_scaler.fit(x_lc[[\"latitude\",\"longitude\"]])\n",
    "x_lc[[\"latitude\",\"longitude\"]]=xy_scaler.transform(x_lc[[\"latitude\",\"longitude\"]])"
   ]
  },
  {
   "cell_type": "code",
   "execution_count": 210,
   "metadata": {},
   "outputs": [],
   "source": [
    "x_lc[\"rot45latitude\"] = .707* x_lc[\"longitude\"] + .707* x_lc[\"latitude\"] \n",
    "x_lc[\"rot45longitude\"] = .707* x_lc[\"longitude\"] - .707* x_lc[\"latitude\"]\n",
    "x_lc[\"rot30latitude\"] = (1.732/2)* x_lc[\"latitude\"] + (1./2)* x_lc[\"longitude\"] \n",
    "x_lc[\"rot30longitude\"] = (1.732/2)* x_lc[\"longitude\"] - (1./2)* x_lc[\"latitude\"]\n",
    "x_lc[\"rot60latitude\"] = (1./2)* x_lc[\"latitude\"] + (1.732/2)* x_lc[\"longitude\"] \n",
    "x_lc[\"rot60longitude\"] = (1./2)* x_lc[\"longitude\"] - (1.732/2)* x_lc[\"latitude\"]\n",
    "x_lc[\"radial_r\"] = np.sqrt( np.power(x_lc[\"longitude\"],2) + np.power(x_lc[\"latitude\"],2))"
   ]
  },
  {
   "cell_type": "code",
   "execution_count": 212,
   "metadata": {},
   "outputs": [
    {
     "name": "stdout",
     "output_type": "stream",
     "text": [
      "RandomForestRegressor: 0.9078031422919817\n"
     ]
    }
   ],
   "source": [
    "get_score(rf, x_lc.select_dtypes(include = 'number'), y)"
   ]
  },
  {
   "cell_type": "markdown",
   "metadata": {},
   "source": [
    "# Adding Square Variables"
   ]
  },
  {
   "cell_type": "code",
   "execution_count": 213,
   "metadata": {},
   "outputs": [],
   "source": [
    "x_lr2 = x_lr.copy()"
   ]
  },
  {
   "cell_type": "code",
   "execution_count": 214,
   "metadata": {},
   "outputs": [],
   "source": [
    "square_cols_list = []\n",
    "cols_num = list(set(list(x_lr2.columns)) - set(list(x_lr.columns)).difference(set(list(x_num.columns))))\n",
    "for col in cols_num: \n",
    "    square_cols_list.append(col + \"_2\") "
   ]
  },
  {
   "cell_type": "code",
   "execution_count": 215,
   "metadata": {},
   "outputs": [],
   "source": [
    "x_lr2[square_cols_list] = x_lr2[cols_num].pow(2)"
   ]
  },
  {
   "cell_type": "code",
   "execution_count": 225,
   "metadata": {},
   "outputs": [
    {
     "name": "stdout",
     "output_type": "stream",
     "text": [
      "LinearRegression: 0.8643185486945311\n"
     ]
    }
   ],
   "source": [
    "get_score(lr, x_lr2.select_dtypes(include = 'number'), y)"
   ]
  },
  {
   "cell_type": "code",
   "execution_count": 238,
   "metadata": {},
   "outputs": [],
   "source": [
    "cat_drop = x_lr2.select_dtypes(exclude = 'number').columns.to_list()"
   ]
  },
  {
   "cell_type": "markdown",
   "metadata": {},
   "source": [
    "# Eliminate Features"
   ]
  },
  {
   "cell_type": "code",
   "execution_count": 231,
   "metadata": {},
   "outputs": [],
   "source": [
    "corr_matrix = x_lr2.corr().abs()\n",
    "upper = corr_matrix.where(np.triu(np.ones(corr_matrix.shape), k=1).astype(np.bool))\n",
    "to_drop = [column for column in upper.columns if any(upper[column] > 0.95)]"
   ]
  },
  {
   "cell_type": "code",
   "execution_count": 234,
   "metadata": {},
   "outputs": [
    {
     "name": "stdout",
     "output_type": "stream",
     "text": [
      "LinearRegression: 0.8475813428213197\n"
     ]
    }
   ],
   "source": [
    "x_lr3 = x_lr2.drop(x_lr2[to_drop], axis=1).copy()\n",
    "get_score(lr, x_lr3.select_dtypes(include = 'number'), y)"
   ]
  },
  {
   "cell_type": "code",
   "execution_count": 237,
   "metadata": {},
   "outputs": [
    {
     "name": "stdout",
     "output_type": "stream",
     "text": [
      "R2: 0.824 (+/- 0.043)\n"
     ]
    }
   ],
   "source": [
    "get_cvs(lr, x_lr3.select_dtypes(include = 'number'), y)"
   ]
  },
  {
   "cell_type": "code",
   "execution_count": 239,
   "metadata": {},
   "outputs": [],
   "source": [
    "x_lr3.drop(columns = cat_drop, inplace=True)"
   ]
  },
  {
   "cell_type": "markdown",
   "metadata": {},
   "source": [
    "# Repeat for Log Features "
   ]
  },
  {
   "cell_type": "code",
   "execution_count": 252,
   "metadata": {},
   "outputs": [],
   "source": [
    "x_log = x_lr.copy()"
   ]
  },
  {
   "cell_type": "code",
   "execution_count": 253,
   "metadata": {},
   "outputs": [],
   "source": [
    "log_cols = x_log.select_dtypes(include='float64').columns.tolist()"
   ]
  },
  {
   "cell_type": "code",
   "execution_count": 255,
   "metadata": {},
   "outputs": [],
   "source": [
    "x_log[log_cols] = np.log(np.abs(x_log[log_cols]).replace(0, np.nan))\n",
    "x_log.fillna(0, inplace=True)"
   ]
  },
  {
   "cell_type": "code",
   "execution_count": 259,
   "metadata": {},
   "outputs": [
    {
     "name": "stdout",
     "output_type": "stream",
     "text": [
      "LinearRegression: 0.8229650525792356\n",
      "R2: 0.815 (+/- 0.008)\n"
     ]
    }
   ],
   "source": [
    "get_score(lr, x_log.select_dtypes(include = 'number'), y)\n",
    "get_cvs(lr, x_log.select_dtypes(include = 'number'), y)"
   ]
  },
  {
   "cell_type": "markdown",
   "metadata": {},
   "source": [
    "## Add Square Variables"
   ]
  },
  {
   "cell_type": "code",
   "execution_count": 262,
   "metadata": {},
   "outputs": [],
   "source": [
    "x_log[square_cols_list] = x_log[cols_num].pow(2)"
   ]
  },
  {
   "cell_type": "code",
   "execution_count": 266,
   "metadata": {},
   "outputs": [
    {
     "name": "stdout",
     "output_type": "stream",
     "text": [
      "LinearRegression: 0.870690626044214\n"
     ]
    }
   ],
   "source": [
    "get_score(lr, x_log.select_dtypes(include = 'number'), y)"
   ]
  },
  {
   "cell_type": "code",
   "execution_count": 267,
   "metadata": {},
   "outputs": [
    {
     "name": "stdout",
     "output_type": "stream",
     "text": [
      "R2: 0.849 (+/- 0.051)\n"
     ]
    }
   ],
   "source": [
    "get_cvs(lr, x_log.select_dtypes(include = 'number'), y)"
   ]
  },
  {
   "cell_type": "code",
   "execution_count": 269,
   "metadata": {},
   "outputs": [],
   "source": [
    "x_log.drop(columns = cat_drop, inplace=True)"
   ]
  },
  {
   "cell_type": "markdown",
   "metadata": {},
   "source": [
    "# Recursive Feature Elimination"
   ]
  },
  {
   "cell_type": "code",
   "execution_count": 243,
   "metadata": {},
   "outputs": [
    {
     "name": "stdout",
     "output_type": "stream",
     "text": [
      "Optimal number of features : 75\n"
     ]
    }
   ],
   "source": [
    "# classifications\n",
    "rfecv = RFECV(lr, step=3, min_features_to_select = 50,\n",
    "              scoring='r2', cv=kf)\n",
    "rfecv.fit(x_lr3, y)\n",
    "print(\"Optimal number of features : %d\" % rfecv.n_features_)"
   ]
  },
  {
   "cell_type": "code",
   "execution_count": null,
   "metadata": {},
   "outputs": [],
   "source": [
    "# Plot number of features VS. cross-validation scores\n",
    "plt.figure()\n",
    "plt.xlabel(\"Number of features selected\")\n",
    "plt.ylabel(\"Cross validation score (nb of correct classifications)\")\n",
    "plt.plot(range(50, 5*len(rfecv.grid_scores_) + 50, 5), rfecv.grid_scores_)\n",
    "plt.show()"
   ]
  },
  {
   "cell_type": "code",
   "execution_count": null,
   "metadata": {},
   "outputs": [],
   "source": [
    "x_lr_rfe = x_lr5[x_lr5.columns[rfecv.support_]]"
   ]
  },
  {
   "cell_type": "code",
   "execution_count": null,
   "metadata": {},
   "outputs": [],
   "source": [
    "print(\"LR r2_score: {:.3f}\".format(get_score(lr, x_lr_rfe, y)))"
   ]
  },
  {
   "cell_type": "markdown",
   "metadata": {},
   "source": [
    "# Export"
   ]
  },
  {
   "cell_type": "code",
   "execution_count": 141,
   "metadata": {},
   "outputs": [],
   "source": [
    "def export_df(df_, name_):\n",
    "    month_day = datetime.now().strftime('%m-%d')\n",
    "    df_.to_csv('ENG_DATA/SELECTED/{}_{}.csv'.format(month_day, name_))"
   ]
  },
  {
   "cell_type": "code",
   "execution_count": 251,
   "metadata": {},
   "outputs": [],
   "source": [
    "export_df(x_lr3.merge(y, left_index = True, right_index = True), \"lr_all\")"
   ]
  },
  {
   "cell_type": "code",
   "execution_count": 270,
   "metadata": {},
   "outputs": [],
   "source": [
    "export_df(x_log.merge(y, left_index = True, right_index = True), \"lr_log\")"
   ]
  },
  {
   "cell_type": "code",
   "execution_count": 249,
   "metadata": {
    "collapsed": true
   },
   "outputs": [
    {
     "ename": "KeyError",
     "evalue": "\"['street_name' 'zoning' 'shopping' 'transportation' 'neighborhood'\\n 'on_market_month_year' 'sale_month_year'] not found in axis\"",
     "output_type": "error",
     "traceback": [
      "\u001b[0;31m---------------------------------------------------------------------------\u001b[0m",
      "\u001b[0;31mKeyError\u001b[0m                                  Traceback (most recent call last)",
      "\u001b[0;32m<ipython-input-249-d08c4efa499f>\u001b[0m in \u001b[0;36m<module>\u001b[0;34m\u001b[0m\n\u001b[0;32m----> 1\u001b[0;31m \u001b[0mx_fe\u001b[0m\u001b[0;34m.\u001b[0m\u001b[0mdrop\u001b[0m\u001b[0;34m(\u001b[0m\u001b[0mcolumns\u001b[0m \u001b[0;34m=\u001b[0m \u001b[0mcat_drop\u001b[0m\u001b[0;34m,\u001b[0m \u001b[0minplace\u001b[0m\u001b[0;34m=\u001b[0m\u001b[0;32mTrue\u001b[0m\u001b[0;34m)\u001b[0m\u001b[0;34m\u001b[0m\u001b[0;34m\u001b[0m\u001b[0m\n\u001b[0m",
      "\u001b[0;32m~/anaconda3/envs/TEST/lib/python3.6/site-packages/pandas/core/frame.py\u001b[0m in \u001b[0;36mdrop\u001b[0;34m(self, labels, axis, index, columns, level, inplace, errors)\u001b[0m\n\u001b[1;32m   3995\u001b[0m             \u001b[0mlevel\u001b[0m\u001b[0;34m=\u001b[0m\u001b[0mlevel\u001b[0m\u001b[0;34m,\u001b[0m\u001b[0;34m\u001b[0m\u001b[0;34m\u001b[0m\u001b[0m\n\u001b[1;32m   3996\u001b[0m             \u001b[0minplace\u001b[0m\u001b[0;34m=\u001b[0m\u001b[0minplace\u001b[0m\u001b[0;34m,\u001b[0m\u001b[0;34m\u001b[0m\u001b[0;34m\u001b[0m\u001b[0m\n\u001b[0;32m-> 3997\u001b[0;31m             \u001b[0merrors\u001b[0m\u001b[0;34m=\u001b[0m\u001b[0merrors\u001b[0m\u001b[0;34m,\u001b[0m\u001b[0;34m\u001b[0m\u001b[0;34m\u001b[0m\u001b[0m\n\u001b[0m\u001b[1;32m   3998\u001b[0m         )\n\u001b[1;32m   3999\u001b[0m \u001b[0;34m\u001b[0m\u001b[0m\n",
      "\u001b[0;32m~/anaconda3/envs/TEST/lib/python3.6/site-packages/pandas/core/generic.py\u001b[0m in \u001b[0;36mdrop\u001b[0;34m(self, labels, axis, index, columns, level, inplace, errors)\u001b[0m\n\u001b[1;32m   3934\u001b[0m         \u001b[0;32mfor\u001b[0m \u001b[0maxis\u001b[0m\u001b[0;34m,\u001b[0m \u001b[0mlabels\u001b[0m \u001b[0;32min\u001b[0m \u001b[0maxes\u001b[0m\u001b[0;34m.\u001b[0m\u001b[0mitems\u001b[0m\u001b[0;34m(\u001b[0m\u001b[0;34m)\u001b[0m\u001b[0;34m:\u001b[0m\u001b[0;34m\u001b[0m\u001b[0;34m\u001b[0m\u001b[0m\n\u001b[1;32m   3935\u001b[0m             \u001b[0;32mif\u001b[0m \u001b[0mlabels\u001b[0m \u001b[0;32mis\u001b[0m \u001b[0;32mnot\u001b[0m \u001b[0;32mNone\u001b[0m\u001b[0;34m:\u001b[0m\u001b[0;34m\u001b[0m\u001b[0;34m\u001b[0m\u001b[0m\n\u001b[0;32m-> 3936\u001b[0;31m                 \u001b[0mobj\u001b[0m \u001b[0;34m=\u001b[0m \u001b[0mobj\u001b[0m\u001b[0;34m.\u001b[0m\u001b[0m_drop_axis\u001b[0m\u001b[0;34m(\u001b[0m\u001b[0mlabels\u001b[0m\u001b[0;34m,\u001b[0m \u001b[0maxis\u001b[0m\u001b[0;34m,\u001b[0m \u001b[0mlevel\u001b[0m\u001b[0;34m=\u001b[0m\u001b[0mlevel\u001b[0m\u001b[0;34m,\u001b[0m \u001b[0merrors\u001b[0m\u001b[0;34m=\u001b[0m\u001b[0merrors\u001b[0m\u001b[0;34m)\u001b[0m\u001b[0;34m\u001b[0m\u001b[0;34m\u001b[0m\u001b[0m\n\u001b[0m\u001b[1;32m   3937\u001b[0m \u001b[0;34m\u001b[0m\u001b[0m\n\u001b[1;32m   3938\u001b[0m         \u001b[0;32mif\u001b[0m \u001b[0minplace\u001b[0m\u001b[0;34m:\u001b[0m\u001b[0;34m\u001b[0m\u001b[0;34m\u001b[0m\u001b[0m\n",
      "\u001b[0;32m~/anaconda3/envs/TEST/lib/python3.6/site-packages/pandas/core/generic.py\u001b[0m in \u001b[0;36m_drop_axis\u001b[0;34m(self, labels, axis, level, errors)\u001b[0m\n\u001b[1;32m   3968\u001b[0m                 \u001b[0mnew_axis\u001b[0m \u001b[0;34m=\u001b[0m \u001b[0maxis\u001b[0m\u001b[0;34m.\u001b[0m\u001b[0mdrop\u001b[0m\u001b[0;34m(\u001b[0m\u001b[0mlabels\u001b[0m\u001b[0;34m,\u001b[0m \u001b[0mlevel\u001b[0m\u001b[0;34m=\u001b[0m\u001b[0mlevel\u001b[0m\u001b[0;34m,\u001b[0m \u001b[0merrors\u001b[0m\u001b[0;34m=\u001b[0m\u001b[0merrors\u001b[0m\u001b[0;34m)\u001b[0m\u001b[0;34m\u001b[0m\u001b[0;34m\u001b[0m\u001b[0m\n\u001b[1;32m   3969\u001b[0m             \u001b[0;32melse\u001b[0m\u001b[0;34m:\u001b[0m\u001b[0;34m\u001b[0m\u001b[0;34m\u001b[0m\u001b[0m\n\u001b[0;32m-> 3970\u001b[0;31m                 \u001b[0mnew_axis\u001b[0m \u001b[0;34m=\u001b[0m \u001b[0maxis\u001b[0m\u001b[0;34m.\u001b[0m\u001b[0mdrop\u001b[0m\u001b[0;34m(\u001b[0m\u001b[0mlabels\u001b[0m\u001b[0;34m,\u001b[0m \u001b[0merrors\u001b[0m\u001b[0;34m=\u001b[0m\u001b[0merrors\u001b[0m\u001b[0;34m)\u001b[0m\u001b[0;34m\u001b[0m\u001b[0;34m\u001b[0m\u001b[0m\n\u001b[0m\u001b[1;32m   3971\u001b[0m             \u001b[0mresult\u001b[0m \u001b[0;34m=\u001b[0m \u001b[0mself\u001b[0m\u001b[0;34m.\u001b[0m\u001b[0mreindex\u001b[0m\u001b[0;34m(\u001b[0m\u001b[0;34m**\u001b[0m\u001b[0;34m{\u001b[0m\u001b[0maxis_name\u001b[0m\u001b[0;34m:\u001b[0m \u001b[0mnew_axis\u001b[0m\u001b[0;34m}\u001b[0m\u001b[0;34m)\u001b[0m\u001b[0;34m\u001b[0m\u001b[0;34m\u001b[0m\u001b[0m\n\u001b[1;32m   3972\u001b[0m \u001b[0;34m\u001b[0m\u001b[0m\n",
      "\u001b[0;32m~/anaconda3/envs/TEST/lib/python3.6/site-packages/pandas/core/indexes/base.py\u001b[0m in \u001b[0;36mdrop\u001b[0;34m(self, labels, errors)\u001b[0m\n\u001b[1;32m   5015\u001b[0m         \u001b[0;32mif\u001b[0m \u001b[0mmask\u001b[0m\u001b[0;34m.\u001b[0m\u001b[0many\u001b[0m\u001b[0;34m(\u001b[0m\u001b[0;34m)\u001b[0m\u001b[0;34m:\u001b[0m\u001b[0;34m\u001b[0m\u001b[0;34m\u001b[0m\u001b[0m\n\u001b[1;32m   5016\u001b[0m             \u001b[0;32mif\u001b[0m \u001b[0merrors\u001b[0m \u001b[0;34m!=\u001b[0m \u001b[0;34m\"ignore\"\u001b[0m\u001b[0;34m:\u001b[0m\u001b[0;34m\u001b[0m\u001b[0;34m\u001b[0m\u001b[0m\n\u001b[0;32m-> 5017\u001b[0;31m                 \u001b[0;32mraise\u001b[0m \u001b[0mKeyError\u001b[0m\u001b[0;34m(\u001b[0m\u001b[0;34mf\"{labels[mask]} not found in axis\"\u001b[0m\u001b[0;34m)\u001b[0m\u001b[0;34m\u001b[0m\u001b[0;34m\u001b[0m\u001b[0m\n\u001b[0m\u001b[1;32m   5018\u001b[0m             \u001b[0mindexer\u001b[0m \u001b[0;34m=\u001b[0m \u001b[0mindexer\u001b[0m\u001b[0;34m[\u001b[0m\u001b[0;34m~\u001b[0m\u001b[0mmask\u001b[0m\u001b[0;34m]\u001b[0m\u001b[0;34m\u001b[0m\u001b[0;34m\u001b[0m\u001b[0m\n\u001b[1;32m   5019\u001b[0m         \u001b[0;32mreturn\u001b[0m \u001b[0mself\u001b[0m\u001b[0;34m.\u001b[0m\u001b[0mdelete\u001b[0m\u001b[0;34m(\u001b[0m\u001b[0mindexer\u001b[0m\u001b[0;34m)\u001b[0m\u001b[0;34m\u001b[0m\u001b[0;34m\u001b[0m\u001b[0m\n",
      "\u001b[0;31mKeyError\u001b[0m: \"['street_name' 'zoning' 'shopping' 'transportation' 'neighborhood'\\n 'on_market_month_year' 'sale_month_year'] not found in axis\""
     ]
    }
   ],
   "source": [
    "x_fe.drop(columns = cat_drop, inplace=True)"
   ]
  },
  {
   "cell_type": "code",
   "execution_count": 250,
   "metadata": {},
   "outputs": [],
   "source": [
    "export_df(x_fe.merge(y, left_index=True, right_index=True), \"rfe_all\")"
   ]
  },
  {
   "cell_type": "code",
   "execution_count": null,
   "metadata": {},
   "outputs": [],
   "source": []
  }
 ],
 "metadata": {
  "kernelspec": {
   "display_name": "Python 3",
   "language": "python",
   "name": "python3"
  },
  "language_info": {
   "codemirror_mode": {
    "name": "ipython",
    "version": 3
   },
   "file_extension": ".py",
   "mimetype": "text/x-python",
   "name": "python",
   "nbconvert_exporter": "python",
   "pygments_lexer": "ipython3",
   "version": "3.6.10"
  }
 },
 "nbformat": 4,
 "nbformat_minor": 2
}
