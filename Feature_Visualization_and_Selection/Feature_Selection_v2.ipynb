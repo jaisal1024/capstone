{
 "cells": [
  {
   "cell_type": "code",
   "execution_count": 90,
   "metadata": {},
   "outputs": [],
   "source": [
    "import os \n",
    "import pandas as pd\n",
    "import numpy as np\n",
    "from sklearn.feature_selection import VarianceThreshold, SelectKBest, chi2, f_regression, SelectFromModel, mutual_info_regression\n",
    "from scipy.stats import f_oneway\n",
    "from scipy.sparse import csr_matrix\n",
    "from sklearn.preprocessing import LabelEncoder, OrdinalEncoder, OneHotEncoder\n",
    "from sklearn.ensemble import RandomForestRegressor, AdaBoostRegressor\n",
    "from sklearn.linear_model import LinearRegression\n",
    "from sklearn.model_selection import train_test_split\n",
    "from sklearn.svm import LinearSVR\n",
    "from sklearn.feature_selection import RFE\n",
    "from sklearn.preprocessing import MinMaxScaler, StandardScaler \n",
    "from sklearn.metrics import r2_score\n",
    "from sklearn.model_selection import RandomizedSearchCV\n",
    "from category_encoders import TargetEncoder\n",
    "from category_encoders.ordinal import OrdinalEncoder\n",
    "from category_encoders.one_hot import OneHotEncoder\n",
    "from datetime import datetime"
   ]
  },
  {
   "cell_type": "code",
   "execution_count": 2,
   "metadata": {},
   "outputs": [],
   "source": [
    "os.chdir('..')"
   ]
  },
  {
   "cell_type": "code",
   "execution_count": 3,
   "metadata": {},
   "outputs": [],
   "source": [
    "df = pd.read_csv('ENG_DATA/CLEANED/12-8_Cleaned_df.csv', index_col = [0])"
   ]
  },
  {
   "cell_type": "markdown",
   "metadata": {},
   "source": [
    "# Fix Missing Data"
   ]
  },
  {
   "cell_type": "code",
   "execution_count": 4,
   "metadata": {},
   "outputs": [],
   "source": [
    "#fix a bug \n",
    "for l in ['charter', 'private', 'public', 'gsRating', 'enrollment']: \n",
    "    df[l].fillna(df[l].mean(), inplace=True)"
   ]
  },
  {
   "cell_type": "markdown",
   "metadata": {},
   "source": [
    "# Add Dates"
   ]
  },
  {
   "cell_type": "code",
   "execution_count": 5,
   "metadata": {},
   "outputs": [],
   "source": [
    "df[\"on_market_date\"] = df[\"on_market_date\"].apply(lambda x: datetime.strptime(x, \"%m/%d/%y\"))\n",
    "df[\"sale_date\"] = df[\"sale_date\"].apply(lambda x: datetime.strptime(x, \"%m/%d/%y\"))"
   ]
  },
  {
   "cell_type": "code",
   "execution_count": 6,
   "metadata": {},
   "outputs": [],
   "source": [
    "df[\"on_market_month_year\"] = df[\"on_market_date\"].apply(lambda x: x.strftime(\"%m/%Y\"))\n",
    "df[\"sale_month_year\"] = df[\"sale_date\"].apply(lambda x: x.strftime(\"%m/%Y\"))"
   ]
  },
  {
   "cell_type": "markdown",
   "metadata": {},
   "source": [
    "# Functions to Test"
   ]
  },
  {
   "cell_type": "code",
   "execution_count": 99,
   "metadata": {},
   "outputs": [],
   "source": [
    "rf = RandomForestRegressor(random_state=0)\n",
    "lr = LinearRegression(normalize=True)\n",
    "adb = AdaBoostRegressor(random_state=0, n_estimators = 50, loss='linear', learning_rate = 0.05)\n",
    "svr = LinearSVR()\n",
    "mm_scaler = MinMaxScaler()\n",
    "std_scaler = StandardScaler()"
   ]
  },
  {
   "cell_type": "code",
   "execution_count": 11,
   "metadata": {},
   "outputs": [],
   "source": [
    "def get_score(model, x, y):\n",
    "    # Split dataset into train and validation subsets:\n",
    "    X_train, X_test, y_train, y_test = train_test_split(x, y, test_size=0.2, random_state=0)\n",
    "    model.fit(X_train, y_train)\n",
    "    y_pred = model.predict(X_test)\n",
    "    score = r2_score(y_test, y_pred)\n",
    "    return score"
   ]
  },
  {
   "cell_type": "code",
   "execution_count": 12,
   "metadata": {},
   "outputs": [],
   "source": [
    "x = df.drop(columns = ['sale_price', 'orig_list_price', 'city', 'full_address'])\n",
    "y = df.sale_price\n",
    "x_num = x.select_dtypes(include = 'number')\n",
    "x_cat = x.select_dtypes(exclude = 'number')"
   ]
  },
  {
   "cell_type": "markdown",
   "metadata": {},
   "source": [
    "# Feature Highlighting & Baseline"
   ]
  },
  {
   "cell_type": "code",
   "execution_count": 13,
   "metadata": {},
   "outputs": [
    {
     "name": "stdout",
     "output_type": "stream",
     "text": [
      "<class 'pandas.core.frame.DataFrame'>\n",
      "Int64Index: 23720 entries, 0 to 23719\n",
      "Data columns (total 14 columns):\n",
      "street_name             23720 non-null object\n",
      "on_market_date          23720 non-null datetime64[ns]\n",
      "sale_date               23720 non-null datetime64[ns]\n",
      "zoning                  23720 non-null object\n",
      "drive_side              23720 non-null object\n",
      "parking                 23720 non-null object\n",
      "park_leased             23720 non-null object\n",
      "shopping                23720 non-null object\n",
      "transportation          23720 non-null object\n",
      "type                    23720 non-null object\n",
      "views                   23720 non-null object\n",
      "neighborhood            23720 non-null object\n",
      "on_market_month_year    23720 non-null object\n",
      "sale_month_year         23720 non-null object\n",
      "dtypes: datetime64[ns](2), object(12)\n",
      "memory usage: 2.7+ MB\n"
     ]
    }
   ],
   "source": [
    "# X_train.info()\n",
    "x_cat.info()\n",
    "# x_num.info()"
   ]
  },
  {
   "cell_type": "code",
   "execution_count": 14,
   "metadata": {},
   "outputs": [
    {
     "data": {
      "text/plain": [
       "street_name             1962\n",
       "on_market_date          3396\n",
       "sale_date               2655\n",
       "zoning                    17\n",
       "drive_side                16\n",
       "parking                  152\n",
       "park_leased                3\n",
       "shopping                  14\n",
       "transportation            16\n",
       "type                     259\n",
       "views                   2451\n",
       "neighborhood             104\n",
       "on_market_month_year     133\n",
       "sale_month_year          120\n",
       "dtype: int64"
      ]
     },
     "execution_count": 14,
     "metadata": {},
     "output_type": "execute_result"
    }
   ],
   "source": [
    "x_cat.nunique()"
   ]
  },
  {
   "cell_type": "code",
   "execution_count": 15,
   "metadata": {},
   "outputs": [
    {
     "data": {
      "text/html": [
       "<div>\n",
       "<style scoped>\n",
       "    .dataframe tbody tr th:only-of-type {\n",
       "        vertical-align: middle;\n",
       "    }\n",
       "\n",
       "    .dataframe tbody tr th {\n",
       "        vertical-align: top;\n",
       "    }\n",
       "\n",
       "    .dataframe thead th {\n",
       "        text-align: right;\n",
       "    }\n",
       "</style>\n",
       "<table border=\"1\" class=\"dataframe\">\n",
       "  <thead>\n",
       "    <tr style=\"text-align: right;\">\n",
       "      <th></th>\n",
       "      <th>street_name</th>\n",
       "      <th>on_market_date</th>\n",
       "      <th>sale_date</th>\n",
       "      <th>zoning</th>\n",
       "      <th>drive_side</th>\n",
       "      <th>parking</th>\n",
       "      <th>park_leased</th>\n",
       "      <th>shopping</th>\n",
       "      <th>transportation</th>\n",
       "      <th>type</th>\n",
       "      <th>views</th>\n",
       "      <th>neighborhood</th>\n",
       "      <th>on_market_month_year</th>\n",
       "      <th>sale_month_year</th>\n",
       "    </tr>\n",
       "  </thead>\n",
       "  <tbody>\n",
       "    <tr>\n",
       "      <th>0</th>\n",
       "      <td>El Camino Del Mar</td>\n",
       "      <td>2013-03-14</td>\n",
       "      <td>2013-03-22</td>\n",
       "      <td>RH2</td>\n",
       "      <td>PVDW,PVSW</td>\n",
       "      <td>ATCH,GARG</td>\n",
       "      <td>0</td>\n",
       "      <td>4BLK</td>\n",
       "      <td>1BLK</td>\n",
       "      <td>3STR</td>\n",
       "      <td>PNRM,OCEN,PARK,GRDN</td>\n",
       "      <td>Lincoln Park / Ft. Miley</td>\n",
       "      <td>03/2013</td>\n",
       "      <td>03/2013</td>\n",
       "    </tr>\n",
       "    <tr>\n",
       "      <th>1</th>\n",
       "      <td>La Playa St</td>\n",
       "      <td>2017-05-18</td>\n",
       "      <td>2017-08-17</td>\n",
       "      <td>RM1</td>\n",
       "      <td>0</td>\n",
       "      <td>ATCH,GARG,ATDR,INAC</td>\n",
       "      <td>ONST</td>\n",
       "      <td>2BLK</td>\n",
       "      <td>1BLK</td>\n",
       "      <td>0</td>\n",
       "      <td>0</td>\n",
       "      <td>Outer Sunset</td>\n",
       "      <td>05/2017</td>\n",
       "      <td>08/2017</td>\n",
       "    </tr>\n",
       "    <tr>\n",
       "      <th>2</th>\n",
       "      <td>48th Ave</td>\n",
       "      <td>2010-06-27</td>\n",
       "      <td>2010-08-20</td>\n",
       "      <td>RH1</td>\n",
       "      <td>PVDW,PVSW</td>\n",
       "      <td>GARG</td>\n",
       "      <td>0</td>\n",
       "      <td>3BLK</td>\n",
       "      <td>1BLK</td>\n",
       "      <td>ATAC,2STR,FIXR</td>\n",
       "      <td>WATR,OCEN,PARK</td>\n",
       "      <td>Sutro Heights</td>\n",
       "      <td>06/2010</td>\n",
       "      <td>08/2010</td>\n",
       "    </tr>\n",
       "    <tr>\n",
       "      <th>3</th>\n",
       "      <td>48th Ave</td>\n",
       "      <td>2012-06-07</td>\n",
       "      <td>2012-07-13</td>\n",
       "      <td>OTHR</td>\n",
       "      <td>PVDW</td>\n",
       "      <td>ATCH,GARG,ATDR,INAC</td>\n",
       "      <td>0</td>\n",
       "      <td>4BLK</td>\n",
       "      <td>2BLK</td>\n",
       "      <td>3STR</td>\n",
       "      <td>PNRM,CTYL,OCEN,PARK</td>\n",
       "      <td>Sutro Heights</td>\n",
       "      <td>06/2012</td>\n",
       "      <td>07/2012</td>\n",
       "    </tr>\n",
       "    <tr>\n",
       "      <th>4</th>\n",
       "      <td>48th Ave</td>\n",
       "      <td>2018-05-17</td>\n",
       "      <td>2018-06-21</td>\n",
       "      <td>OTHR</td>\n",
       "      <td>0</td>\n",
       "      <td>ATCH,GARG,ATDR,INAC</td>\n",
       "      <td>ONST</td>\n",
       "      <td>3BLK</td>\n",
       "      <td>1BLK</td>\n",
       "      <td>2STR</td>\n",
       "      <td>PNRM,CTYL,WATR,SFRN,OCEN,PARK,GRDN,TWNP</td>\n",
       "      <td>Sutro Heights</td>\n",
       "      <td>05/2018</td>\n",
       "      <td>06/2018</td>\n",
       "    </tr>\n",
       "  </tbody>\n",
       "</table>\n",
       "</div>"
      ],
      "text/plain": [
       "          street_name on_market_date  sale_date zoning drive_side  \\\n",
       "0  El Camino Del Mar      2013-03-14 2013-03-22    RH2  PVDW,PVSW   \n",
       "1         La Playa St     2017-05-18 2017-08-17    RM1          0   \n",
       "2            48th Ave     2010-06-27 2010-08-20    RH1  PVDW,PVSW   \n",
       "3            48th Ave     2012-06-07 2012-07-13   OTHR       PVDW   \n",
       "4            48th Ave     2018-05-17 2018-06-21   OTHR          0   \n",
       "\n",
       "               parking park_leased shopping transportation            type  \\\n",
       "0            ATCH,GARG           0     4BLK           1BLK            3STR   \n",
       "1  ATCH,GARG,ATDR,INAC        ONST     2BLK           1BLK               0   \n",
       "2                 GARG           0     3BLK           1BLK  ATAC,2STR,FIXR   \n",
       "3  ATCH,GARG,ATDR,INAC           0     4BLK           2BLK            3STR   \n",
       "4  ATCH,GARG,ATDR,INAC        ONST     3BLK           1BLK            2STR   \n",
       "\n",
       "                                     views              neighborhood  \\\n",
       "0                      PNRM,OCEN,PARK,GRDN  Lincoln Park / Ft. Miley   \n",
       "1                                        0              Outer Sunset   \n",
       "2                           WATR,OCEN,PARK             Sutro Heights   \n",
       "3                      PNRM,CTYL,OCEN,PARK             Sutro Heights   \n",
       "4  PNRM,CTYL,WATR,SFRN,OCEN,PARK,GRDN,TWNP             Sutro Heights   \n",
       "\n",
       "  on_market_month_year sale_month_year  \n",
       "0              03/2013         03/2013  \n",
       "1              05/2017         08/2017  \n",
       "2              06/2010         08/2010  \n",
       "3              06/2012         07/2012  \n",
       "4              05/2018         06/2018  "
      ]
     },
     "execution_count": 15,
     "metadata": {},
     "output_type": "execute_result"
    }
   ],
   "source": [
    "x_cat.head(5)"
   ]
  },
  {
   "cell_type": "code",
   "execution_count": 16,
   "metadata": {},
   "outputs": [
    {
     "name": "stderr",
     "output_type": "stream",
     "text": [
      "/Users/37138/anaconda3/lib/python3.6/site-packages/sklearn/ensemble/forest.py:245: FutureWarning: The default value of n_estimators will change from 10 in version 0.20 to 100 in 0.22.\n",
      "  \"10 in version 0.20 to 100 in 0.22.\", FutureWarning)\n"
     ]
    },
    {
     "name": "stdout",
     "output_type": "stream",
     "text": [
      "Random Forest score without feature engineering: 0.8339756769498468\n",
      "CPU times: user 4.11 s, sys: 58.4 ms, total: 4.16 s\n",
      "Wall time: 4.23 s\n"
     ]
    }
   ],
   "source": [
    "%%time\n",
    "baseline_rf_score = get_score(rf, x.select_dtypes(include = 'number'), y)\n",
    "print('Random Forest score without feature engineering:', baseline_rf_score)"
   ]
  },
  {
   "cell_type": "code",
   "execution_count": 17,
   "metadata": {},
   "outputs": [
    {
     "name": "stdout",
     "output_type": "stream",
     "text": [
      "Logistic Regression score with target encoding: 0.657191595831697\n",
      "CPU times: user 142 ms, sys: 27.7 ms, total: 170 ms\n",
      "Wall time: 121 ms\n"
     ]
    }
   ],
   "source": [
    "%%time\n",
    "baseline_lr_score = get_score(lr, x.select_dtypes(include = 'number'), y)\n",
    "print('Linear Regression score with target encoding:', baseline_lr_score)"
   ]
  },
  {
   "cell_type": "markdown",
   "metadata": {},
   "source": [
    "# Categorical Transformation "
   ]
  },
  {
   "cell_type": "code",
   "execution_count": 18,
   "metadata": {},
   "outputs": [],
   "source": [
    "x_ct = x.copy()"
   ]
  },
  {
   "cell_type": "markdown",
   "metadata": {},
   "source": [
    "## Drop & OneHot Encode variables with too many features"
   ]
  },
  {
   "cell_type": "code",
   "execution_count": 19,
   "metadata": {},
   "outputs": [],
   "source": [
    "x_ct.drop(columns = ['on_market_date', 'sale_date'], inplace=True)"
   ]
  },
  {
   "cell_type": "code",
   "execution_count": 20,
   "metadata": {},
   "outputs": [],
   "source": [
    "x_ct = x_ct.merge(x_ct['views'].str.get_dummies(sep=',').rename(lambda x: 'views_' + x, axis='columns'), left_index=True, right_index=True)"
   ]
  },
  {
   "cell_type": "code",
   "execution_count": 21,
   "metadata": {},
   "outputs": [],
   "source": [
    "x_ct = x_ct.merge(x_ct['parking'].str.get_dummies(sep=',').rename(lambda x: 'parking_' + x, axis='columns'), left_index=True, right_index=True)"
   ]
  },
  {
   "cell_type": "code",
   "execution_count": 22,
   "metadata": {},
   "outputs": [],
   "source": [
    "x_ct = x_ct.merge(x_ct['drive_side'].str.get_dummies(sep=',').rename(lambda x: 'drive_side_' + x, axis='columns'), left_index=True, right_index=True)"
   ]
  },
  {
   "cell_type": "code",
   "execution_count": 23,
   "metadata": {},
   "outputs": [],
   "source": [
    "x_ct = x_ct.merge(x_ct['type'].str.get_dummies(sep=',').rename(lambda x: 'type_' + x, axis='columns'), left_index=True, right_index=True)"
   ]
  },
  {
   "cell_type": "code",
   "execution_count": 24,
   "metadata": {},
   "outputs": [],
   "source": [
    "x_ct.drop(columns = ['views', 'parking', 'drive_side', 'type'], inplace=True)"
   ]
  },
  {
   "cell_type": "code",
   "execution_count": 25,
   "metadata": {},
   "outputs": [
    {
     "data": {
      "text/plain": [
       "street_name             1962\n",
       "zoning                    17\n",
       "park_leased                3\n",
       "shopping                  14\n",
       "transportation            16\n",
       "neighborhood             104\n",
       "on_market_month_year     133\n",
       "sale_month_year          120\n",
       "dtype: int64"
      ]
     },
     "execution_count": 25,
     "metadata": {},
     "output_type": "execute_result"
    }
   ],
   "source": [
    "x_ct.select_dtypes(exclude = 'number').nunique()"
   ]
  },
  {
   "cell_type": "code",
   "execution_count": 26,
   "metadata": {},
   "outputs": [
    {
     "name": "stdout",
     "output_type": "stream",
     "text": [
      "Random Forest score with feature engineering/extraction 1: 0.8192856563176838\n",
      "CPU times: user 6.01 s, sys: 113 ms, total: 6.13 s\n",
      "Wall time: 6.37 s\n"
     ]
    }
   ],
   "source": [
    "%%time\n",
    "dummy1_rf_score = get_score(rf, x_ct.select_dtypes(include = 'number'), y)\n",
    "print('Random Forest score with feature engineering/extraction 1:', dummy1_rf_score)"
   ]
  },
  {
   "cell_type": "code",
   "execution_count": 27,
   "metadata": {},
   "outputs": [
    {
     "name": "stdout",
     "output_type": "stream",
     "text": [
      "Linear Regression score with target encoding: 0.6834762377958432\n",
      "CPU times: user 229 ms, sys: 38.8 ms, total: 268 ms\n",
      "Wall time: 194 ms\n"
     ]
    }
   ],
   "source": [
    "%%time\n",
    "dummy1_lr_score = get_score(lr, x_ct.select_dtypes(include = 'number'), y)\n",
    "print('Linear Regression score with target encoding:', dummy1_lr_score)"
   ]
  },
  {
   "cell_type": "markdown",
   "metadata": {},
   "source": [
    "# Target Encoding"
   ]
  },
  {
   "cell_type": "code",
   "execution_count": 31,
   "metadata": {},
   "outputs": [],
   "source": [
    "ce_target = TargetEncoder(cols = ['street_name', 'neighborhood'])\n",
    "x_ct2 = ce_target.fit_transform(x_ct, y)"
   ]
  },
  {
   "cell_type": "code",
   "execution_count": 32,
   "metadata": {},
   "outputs": [
    {
     "name": "stdout",
     "output_type": "stream",
     "text": [
      "Random Forest score with feature engineering/extraction 1: 0.8324825851409321\n",
      "CPU times: user 6.43 s, sys: 72.4 ms, total: 6.5 s\n",
      "Wall time: 6.41 s\n"
     ]
    }
   ],
   "source": [
    "%%time\n",
    "dummy2_rf_score = get_score(rf, x_ct2.select_dtypes(include = 'number'), y)\n",
    "print('Random Forest score with feature engineering/extraction 1:', dummy2_rf_score)"
   ]
  },
  {
   "cell_type": "code",
   "execution_count": 33,
   "metadata": {},
   "outputs": [
    {
     "name": "stdout",
     "output_type": "stream",
     "text": [
      "Linear Regression score with target encoding: 0.7363665351112405\n",
      "CPU times: user 263 ms, sys: 37.7 ms, total: 300 ms\n",
      "Wall time: 215 ms\n"
     ]
    }
   ],
   "source": [
    "%%time\n",
    "dummy2_lr_score = get_score(lr, x_ct2.select_dtypes(include = 'number'), y)\n",
    "print('Linear Regression score with target encoding:', dummy2_lr_score)"
   ]
  },
  {
   "cell_type": "markdown",
   "metadata": {},
   "source": [
    "# Ordinal Encoding"
   ]
  },
  {
   "cell_type": "code",
   "execution_count": 35,
   "metadata": {},
   "outputs": [],
   "source": [
    "oe_target = OrdinalEncoder(cols = ['on_market_month_year', 'sale_month_year'])\n",
    "x_ct3 = oe_target.fit_transform(x_ct2, y)"
   ]
  },
  {
   "cell_type": "code",
   "execution_count": 36,
   "metadata": {},
   "outputs": [
    {
     "name": "stdout",
     "output_type": "stream",
     "text": [
      "Random Forest score with feature engineering/extraction 1: 0.824236186093312\n",
      "CPU times: user 6.82 s, sys: 125 ms, total: 6.95 s\n",
      "Wall time: 7.12 s\n"
     ]
    }
   ],
   "source": [
    "%%time\n",
    "dummy3_rf_score = get_score(rf, x_ct3.select_dtypes(include = 'number'), y)\n",
    "print('Random Forest score with feature engineering/extraction 3:', dummy3_rf_score)"
   ]
  },
  {
   "cell_type": "code",
   "execution_count": 37,
   "metadata": {},
   "outputs": [
    {
     "name": "stdout",
     "output_type": "stream",
     "text": [
      "Linear Regression score with target encoding: 0.7365291373517966\n",
      "CPU times: user 263 ms, sys: 39.9 ms, total: 303 ms\n",
      "Wall time: 210 ms\n"
     ]
    }
   ],
   "source": [
    "%%time\n",
    "dummy3_lr_score = get_score(lr, x_ct3.select_dtypes(include = 'number'), y)\n",
    "print('Linear Regression score with ordinal encoding:', dummy3_lr_score)"
   ]
  },
  {
   "cell_type": "markdown",
   "metadata": {},
   "source": [
    "# Final One Hot Encoding"
   ]
  },
  {
   "cell_type": "code",
   "execution_count": 46,
   "metadata": {},
   "outputs": [],
   "source": [
    "oh_target = OneHotEncoder(cols = ['zoning', 'park_leased', 'shopping', 'transportation'])\n",
    "x_ct4 = oh_target.fit_transform(x_ct3, y)"
   ]
  },
  {
   "cell_type": "code",
   "execution_count": 47,
   "metadata": {},
   "outputs": [
    {
     "name": "stdout",
     "output_type": "stream",
     "text": [
      "Random Forest score with feature engineering/extraction 4: 0.8326139023193551\n",
      "CPU times: user 7.46 s, sys: 101 ms, total: 7.56 s\n",
      "Wall time: 7.7 s\n"
     ]
    }
   ],
   "source": [
    "%%time\n",
    "dummy4_rf_score = get_score(rf, x_ct4.select_dtypes(include = 'number'), y)\n",
    "print('Random Forest score with feature engineering/extraction 4:', dummy4_rf_score)"
   ]
  },
  {
   "cell_type": "code",
   "execution_count": 48,
   "metadata": {},
   "outputs": [
    {
     "name": "stdout",
     "output_type": "stream",
     "text": [
      "Linear Regression score with all encoding: 0.7377151477542421\n",
      "CPU times: user 383 ms, sys: 49.7 ms, total: 433 ms\n",
      "Wall time: 292 ms\n"
     ]
    }
   ],
   "source": [
    "%%time\n",
    "dummy4_lr_score = get_score(lr, x_ct4.select_dtypes(include = 'number'), y)\n",
    "print('Linear Regression score with all encoding:', dummy4_lr_score)"
   ]
  },
  {
   "cell_type": "markdown",
   "metadata": {},
   "source": [
    "# Scaler - problem now with the r2 linear regression WHY NEGATIVE?"
   ]
  },
  {
   "cell_type": "code",
   "execution_count": 72,
   "metadata": {},
   "outputs": [],
   "source": [
    "x_sc = x_ct4.copy()"
   ]
  },
  {
   "cell_type": "code",
   "execution_count": 78,
   "metadata": {},
   "outputs": [],
   "source": [
    "num_columns = list(x.select_dtypes(include = 'number'))"
   ]
  },
  {
   "cell_type": "code",
   "execution_count": 79,
   "metadata": {},
   "outputs": [],
   "source": [
    "x_sc[num_columns] = mm_scaler.fit_transform(x_sc[num_columns])\n",
    "y[num_columns] = mm_scaler.fit_transform(x_sc[num_columns])"
   ]
  },
  {
   "cell_type": "code",
   "execution_count": 80,
   "metadata": {},
   "outputs": [
    {
     "name": "stdout",
     "output_type": "stream",
     "text": [
      "Random Forest score with MinMaxScaler: 0.8320096500962244\n",
      "CPU times: user 7.12 s, sys: 39.3 ms, total: 7.16 s\n",
      "Wall time: 7.19 s\n"
     ]
    }
   ],
   "source": [
    "%%time\n",
    "mmscaler_rf_score = get_score(rf, x_sc, y)\n",
    "print('Random Forest score with MinMaxScaler:', mmscaler_rf_score)"
   ]
  },
  {
   "cell_type": "code",
   "execution_count": 100,
   "metadata": {},
   "outputs": [
    {
     "name": "stdout",
     "output_type": "stream",
     "text": [
      "Linear Regression score with MinMaxScaler: -5.84193355948447e+24\n",
      "CPU times: user 343 ms, sys: 70.9 ms, total: 414 ms\n",
      "Wall time: 249 ms\n"
     ]
    }
   ],
   "source": [
    "%%time\n",
    "mmscaler_lr_score = get_score(lr, x_sc, y)\n",
    "print('Linear Regression score with MinMaxScaler:', mmscaler_lr_score)"
   ]
  },
  {
   "cell_type": "markdown",
   "metadata": {},
   "source": [
    "# Compare AdaBoost and SVR Performance"
   ]
  },
  {
   "cell_type": "code",
   "execution_count": 58,
   "metadata": {},
   "outputs": [
    {
     "name": "stdout",
     "output_type": "stream",
     "text": [
      "Support Vector Regressor score: 0.4637721435634795\n",
      "CPU times: user 11 s, sys: 159 ms, total: 11.2 s\n",
      "Wall time: 11.6 s\n"
     ]
    },
    {
     "name": "stderr",
     "output_type": "stream",
     "text": [
      "/Users/37138/anaconda3/lib/python3.6/site-packages/sklearn/svm/base.py:929: ConvergenceWarning: Liblinear failed to converge, increase the number of iterations.\n",
      "  \"the number of iterations.\", ConvergenceWarning)\n"
     ]
    }
   ],
   "source": [
    "%%time\n",
    "svr_score = get_score(svr, x_ct4.select_dtypes(include = 'number'), y)\n",
    "print('Support Vector Regressor score:', svr_score)"
   ]
  },
  {
   "cell_type": "code",
   "execution_count": 60,
   "metadata": {},
   "outputs": [
    {
     "data": {
      "text/plain": [
       "RandomizedSearchCV(cv=3, error_score='raise-deprecating',\n",
       "                   estimator=AdaBoostRegressor(base_estimator=None,\n",
       "                                               learning_rate=1.0, loss='linear',\n",
       "                                               n_estimators=50,\n",
       "                                               random_state=None),\n",
       "                   iid='warn', n_iter=10, n_jobs=-1,\n",
       "                   param_distributions={'learning_rate': [0.01, 0.05, 0.1, 0.3,\n",
       "                                                          1],\n",
       "                                        'loss': ['linear', 'square',\n",
       "                                                 'exponential'],\n",
       "                                        'n_estimators': [50, 100]},\n",
       "                   pre_dispatch='2*n_jobs', random_state=None, refit=True,\n",
       "                   return_train_score=False, scoring=None, verbose=0)"
      ]
     },
     "execution_count": 60,
     "metadata": {},
     "output_type": "execute_result"
    }
   ],
   "source": [
    "X_tr, X_t, y_tr, y_t = train_test_split(x_ct4, y, test_size=0.2, random_state=0)\n",
    "\n",
    "param_dist = {\n",
    " 'n_estimators': [50, 100],\n",
    " 'learning_rate' : [0.01,0.05,0.1,0.3,1],\n",
    " 'loss' : ['linear', 'square', 'exponential']\n",
    " }\n",
    "\n",
    "pre_gs_inst = RandomizedSearchCV(AdaBoostRegressor(),\n",
    " param_distributions = param_dist,\n",
    " cv=3,\n",
    " n_iter = 10,\n",
    " n_jobs=-1)\n",
    "\n",
    "pre_gs_inst.fit(X_tr, y_tr)"
   ]
  },
  {
   "cell_type": "code",
   "execution_count": 61,
   "metadata": {},
   "outputs": [
    {
     "data": {
      "text/plain": [
       "{'n_estimators': 50, 'loss': 'linear', 'learning_rate': 0.05}"
      ]
     },
     "execution_count": 61,
     "metadata": {},
     "output_type": "execute_result"
    }
   ],
   "source": [
    "pre_gs_inst.best_params_"
   ]
  },
  {
   "cell_type": "code",
   "execution_count": 63,
   "metadata": {},
   "outputs": [
    {
     "name": "stdout",
     "output_type": "stream",
     "text": [
      "AdaBoost Regressor score: 0.7257814554773282\n",
      "CPU times: user 15.1 s, sys: 515 ms, total: 15.6 s\n",
      "Wall time: 16.1 s\n"
     ]
    }
   ],
   "source": [
    "%%time\n",
    "adb_score = get_score(adb, x_ct4.select_dtypes(include = 'number'), y)\n",
    "print('AdaBoost Regressor score:', adb_score)"
   ]
  },
  {
   "cell_type": "markdown",
   "metadata": {},
   "source": [
    "# Recursive Feature Selection"
   ]
  },
  {
   "cell_type": "code",
   "execution_count": 93,
   "metadata": {},
   "outputs": [
    {
     "data": {
      "text/plain": [
       "RFE(estimator=RandomForestRegressor(bootstrap=True, criterion='mse',\n",
       "                                    max_depth=None, max_features='auto',\n",
       "                                    max_leaf_nodes=None,\n",
       "                                    min_impurity_decrease=0.0,\n",
       "                                    min_impurity_split=None, min_samples_leaf=1,\n",
       "                                    min_samples_split=2,\n",
       "                                    min_weight_fraction_leaf=0.0,\n",
       "                                    n_estimators=10, n_jobs=None,\n",
       "                                    oob_score=False, random_state=0, verbose=0,\n",
       "                                    warm_start=False),\n",
       "    n_features_to_select=None, step=3, verbose=0)"
      ]
     },
     "execution_count": 93,
     "metadata": {},
     "output_type": "execute_result"
    }
   ],
   "source": [
    "rfe = RFE(rf, step=3)\n",
    "rfe.fit(x_ct4, y)"
   ]
  },
  {
   "cell_type": "code",
   "execution_count": 120,
   "metadata": {},
   "outputs": [],
   "source": [
    "x_rfe = x_ct4[x_ct4.columns[rfe.support_]]"
   ]
  },
  {
   "cell_type": "code",
   "execution_count": 121,
   "metadata": {},
   "outputs": [
    {
     "name": "stderr",
     "output_type": "stream",
     "text": [
      "/Users/37138/anaconda3/lib/python3.6/site-packages/sklearn/ensemble/forest.py:245: FutureWarning: The default value of n_estimators will change from 10 in version 0.20 to 100 in 0.22.\n",
      "  \"10 in version 0.20 to 100 in 0.22.\", FutureWarning)\n"
     ]
    },
    {
     "name": "stdout",
     "output_type": "stream",
     "text": [
      "Random Forest score with RFE: 0.8301375187319064\n",
      "CPU times: user 4.97 s, sys: 51.8 ms, total: 5.02 s\n",
      "Wall time: 5.05 s\n"
     ]
    }
   ],
   "source": [
    "%%time\n",
    "rfe_rf_score = get_score(rf, x_rfe, y)\n",
    "print('Random Forest score with RFE:', rfe_rf_score)"
   ]
  },
  {
   "cell_type": "markdown",
   "metadata": {},
   "source": [
    "# Export"
   ]
  },
  {
   "cell_type": "code",
   "execution_count": 124,
   "metadata": {},
   "outputs": [],
   "source": [
    "def export_train_test(df_, name_):\n",
    "    train, test = train_test_split(df_ , test_size = 0.2)\n",
    "    month_day = datetime.now().strftime('%m-%d')\n",
    "    train.to_csv('ENG_DATA/SELECTED/{}_{}_train.csv'.format(month_day, name_))\n",
    "    test.to_csv('ENG_DATA/SELECTED/{}_{}_test.csv'.format(month_day, name_))"
   ]
  },
  {
   "cell_type": "code",
   "execution_count": 88,
   "metadata": {},
   "outputs": [],
   "source": [
    "df_out = x_ct4.merge(y, left_index = True, right_index = True)"
   ]
  },
  {
   "cell_type": "code",
   "execution_count": 89,
   "metadata": {},
   "outputs": [
    {
     "name": "stdout",
     "output_type": "stream",
     "text": [
      "<class 'pandas.core.frame.DataFrame'>\n",
      "Int64Index: 23720 entries, 0 to 23719\n",
      "Columns: 176 entries, longitude to sale_price\n",
      "dtypes: float64(52), int64(124)\n",
      "memory usage: 32.7 MB\n"
     ]
    }
   ],
   "source": [
    "df_out.info()"
   ]
  },
  {
   "cell_type": "code",
   "execution_count": 125,
   "metadata": {},
   "outputs": [],
   "source": [
    "export_train_test(df_out, \"cat_transformed\")"
   ]
  },
  {
   "cell_type": "code",
   "execution_count": 138,
   "metadata": {},
   "outputs": [],
   "source": [
    "export_train_test(x_rfe.merge(y, left_index = True, right_index = True), \"rfe-87\")"
   ]
  }
 ],
 "metadata": {
  "kernelspec": {
   "display_name": "Python 3",
   "language": "python",
   "name": "python3"
  },
  "language_info": {
   "codemirror_mode": {
    "name": "ipython",
    "version": 3
   },
   "file_extension": ".py",
   "mimetype": "text/x-python",
   "name": "python",
   "nbconvert_exporter": "python",
   "pygments_lexer": "ipython3",
   "version": "3.6.9"
  }
 },
 "nbformat": 4,
 "nbformat_minor": 2
}
