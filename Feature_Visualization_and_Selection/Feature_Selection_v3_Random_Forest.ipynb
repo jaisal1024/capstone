{
 "cells": [
  {
   "cell_type": "code",
   "execution_count": 42,
   "metadata": {},
   "outputs": [],
   "source": [
    "import os \n",
    "import pandas as pd\n",
    "import numpy as np\n",
    "from sklearn.feature_selection import VarianceThreshold, SelectKBest, chi2, f_regression, SelectFromModel, mutual_info_regression\n",
    "from scipy.stats import f_oneway\n",
    "from scipy.sparse import csr_matrix\n",
    "from sklearn.preprocessing import LabelEncoder, OrdinalEncoder, OneHotEncoder, LabelEncoder\n",
    "from sklearn.ensemble import RandomForestRegressor\n",
    "from sklearn.linear_model import LinearRegression\n",
    "from sklearn.feature_selection import VarianceThreshold\n",
    "from sklearn.model_selection import train_test_split\n",
    "from sklearn.svm import LinearSVR\n",
    "from sklearn.feature_selection import RFECV\n",
    "from sklearn.preprocessing import MinMaxScaler, StandardScaler \n",
    "from sklearn_pandas import DataFrameMapper\n",
    "from sklearn.metrics import r2_score\n",
    "from sklearn.model_selection import RandomizedSearchCV\n",
    "from category_encoders import BinaryEncoder\n",
    "from category_encoders.ordinal import OrdinalEncoder\n",
    "from category_encoders.one_hot import OneHotEncoder\n",
    "from datetime import datetime\n",
    "import matplotlib.pyplot as plt"
   ]
  },
  {
   "cell_type": "code",
   "execution_count": 3,
   "metadata": {},
   "outputs": [],
   "source": [
    "os.chdir('..')"
   ]
  },
  {
   "cell_type": "code",
   "execution_count": 4,
   "metadata": {},
   "outputs": [],
   "source": [
    "df = pd.read_csv('ENG_DATA/CLEANED/12-8_Cleaned_df.csv', index_col = [0])"
   ]
  },
  {
   "cell_type": "markdown",
   "metadata": {},
   "source": [
    "# Fix Missing Data"
   ]
  },
  {
   "cell_type": "code",
   "execution_count": 5,
   "metadata": {},
   "outputs": [],
   "source": [
    "#fix a bug \n",
    "for l in ['charter', 'private', 'public', 'gsRating', 'enrollment']: \n",
    "    df[l].fillna(df[l].median(), inplace=True)"
   ]
  },
  {
   "cell_type": "markdown",
   "metadata": {},
   "source": [
    "# Add Dates"
   ]
  },
  {
   "cell_type": "code",
   "execution_count": 6,
   "metadata": {},
   "outputs": [],
   "source": [
    "df[\"on_market_date\"] = df[\"on_market_date\"].apply(lambda x: datetime.strptime(x, \"%m/%d/%y\"))\n",
    "df[\"sale_date\"] = df[\"sale_date\"].apply(lambda x: datetime.strptime(x, \"%m/%d/%y\"))"
   ]
  },
  {
   "cell_type": "code",
   "execution_count": 7,
   "metadata": {},
   "outputs": [],
   "source": [
    "df[\"on_market_month_year\"] = df[\"on_market_date\"].apply(lambda x: x.strftime(\"%m/%Y\"))\n",
    "df[\"sale_month_year\"] = df[\"sale_date\"].apply(lambda x: x.strftime(\"%m/%Y\"))"
   ]
  },
  {
   "cell_type": "markdown",
   "metadata": {},
   "source": [
    "# Functions to Test"
   ]
  },
  {
   "cell_type": "code",
   "execution_count": 44,
   "metadata": {},
   "outputs": [],
   "source": [
    "rf = RandomForestRegressor(random_state=0, n_estimators = 20, n_jobs = -1)\n",
    "lr = LinearRegression()\n",
    "std_scaler = StandardScaler()"
   ]
  },
  {
   "cell_type": "code",
   "execution_count": 43,
   "metadata": {},
   "outputs": [],
   "source": [
    "def get_score(model, x, y):\n",
    "    # Split dataset into train and validation subsets:\n",
    "    X_train, X_test, y_train, y_test = train_test_split(x, y, test_size=0.2, random_state=0)\n",
    "    model.fit(X_train, y_train)\n",
    "    y_pred = model.predict(X_test)\n",
    "    score = r2_score(y_test, y_pred)\n",
    "    return score\n",
    "def get_feature_importance(model, x, y): \n",
    "    X_train, X_test, y_train, y_test = train_test_split(x, y, test_size=0.2, random_state=0)\n",
    "    model.fit(X_train, y_train)\n",
    "    return pd.DataFrame(model.feature_importances_, index = X_train.columns, columns=['importance']).sort_values('importance',ascending=False)\n",
    "def get_coef(model, x, y): \n",
    "    X_train, X_test, y_train, y_test = train_test_split(x, y, test_size=0.2, random_state=0)\n",
    "    model.fit(X_train, y_train)\n",
    "    return pd.DataFrame(model.coef_, index = X_train.columns, columns=['coef']).sort_values('coef',ascending=False)"
   ]
  },
  {
   "cell_type": "code",
   "execution_count": 15,
   "metadata": {},
   "outputs": [],
   "source": [
    "x = df.drop(columns = ['sale_price', 'orig_list_price', 'city', 'full_address', 'park_leased'])\n",
    "y = df.sale_price\n",
    "cols_num = list(x.select_dtypes(include = 'number').columns)\n",
    "cols_cat = list(x.select_dtypes(exclude = 'number').columns)\n",
    "x_cat = x.select_dtypes(include = 'number')"
   ]
  },
  {
   "cell_type": "markdown",
   "metadata": {},
   "source": [
    "# Feature Highlighting & Baseline"
   ]
  },
  {
   "cell_type": "code",
   "execution_count": 16,
   "metadata": {},
   "outputs": [
    {
     "name": "stdout",
     "output_type": "stream",
     "text": [
      "<class 'pandas.core.frame.DataFrame'>\n",
      "Int64Index: 23720 entries, 0 to 23719\n",
      "Data columns (total 64 columns):\n",
      " #   Column                       Non-Null Count  Dtype  \n",
      "---  ------                       --------------  -----  \n",
      " 0   longitude                    23720 non-null  float64\n",
      " 1   latitude                     23720 non-null  float64\n",
      " 2   elevation                    23720 non-null  float64\n",
      " 3   zip                          23720 non-null  int64  \n",
      " 4   area                         23720 non-null  int64  \n",
      " 5   district_no                  23720 non-null  int64  \n",
      " 6   subdist_no                   23720 non-null  int64  \n",
      " 7   cdom                         23720 non-null  int64  \n",
      " 8   rooms                        23720 non-null  int64  \n",
      " 9   baths                        23720 non-null  float64\n",
      " 10  beds                         23720 non-null  int64  \n",
      " 11  lot_acres                    23720 non-null  float64\n",
      " 12  year_built                   23720 non-null  int64  \n",
      " 13  num_parking                  23720 non-null  int64  \n",
      " 14  days_on_market               23720 non-null  int64  \n",
      " 15  on_market_year               23720 non-null  int64  \n",
      " 16  on_market_month              23720 non-null  int64  \n",
      " 17  sale_year                    23720 non-null  int64  \n",
      " 18  sale_month                   23720 non-null  int64  \n",
      " 19  charter                      23720 non-null  float64\n",
      " 20  private                      23720 non-null  float64\n",
      " 21  public                       23720 non-null  float64\n",
      " 22  gsRating                     23720 non-null  float64\n",
      " 23  enrollment                   23720 non-null  float64\n",
      " 24  arson                        23720 non-null  float64\n",
      " 25  assault                      23720 non-null  float64\n",
      " 26  bad checks                   23720 non-null  float64\n",
      " 27  bribery                      23720 non-null  float64\n",
      " 28  burglary                     23720 non-null  float64\n",
      " 29  disorderly conduct           23720 non-null  float64\n",
      " 30  driving under the influence  23720 non-null  float64\n",
      " 31  drug/narcotic                23720 non-null  float64\n",
      " 32  drunkenness                  23720 non-null  float64\n",
      " 33  embezzlement                 23720 non-null  float64\n",
      " 34  extortion                    23720 non-null  float64\n",
      " 35  family offenses              23720 non-null  float64\n",
      " 36  forgery/counterfeiting       23720 non-null  float64\n",
      " 37  fraud                        23720 non-null  float64\n",
      " 38  gambling                     23720 non-null  float64\n",
      " 39  kidnapping                   23720 non-null  float64\n",
      " 40  larceny/theft                23720 non-null  float64\n",
      " 41  liquor laws                  23720 non-null  float64\n",
      " 42  loitering                    23720 non-null  float64\n",
      " 43  missing person               23720 non-null  float64\n",
      " 44  non-criminal                 23720 non-null  float64\n",
      " 45  other offenses               23720 non-null  float64\n",
      " 46  pornography/obscene mat      23720 non-null  float64\n",
      " 47  prostitution                 23720 non-null  float64\n",
      " 48  recovered vehicle            23720 non-null  float64\n",
      " 49  robbery                      23720 non-null  float64\n",
      " 50  runaway                      23720 non-null  float64\n",
      " 51  secondary codes              23720 non-null  float64\n",
      " 52  sex offenses, forcible       23720 non-null  float64\n",
      " 53  sex offenses, non forcible   23720 non-null  float64\n",
      " 54  stolen property              23720 non-null  float64\n",
      " 55  suicide                      23720 non-null  float64\n",
      " 56  suspicious occ               23720 non-null  float64\n",
      " 57  trea                         23720 non-null  float64\n",
      " 58  trespass                     23720 non-null  float64\n",
      " 59  vandalism                    23720 non-null  float64\n",
      " 60  vehicle theft                23720 non-null  float64\n",
      " 61  warrants                     23720 non-null  float64\n",
      " 62  weapon laws                  23720 non-null  float64\n",
      " 63  totalincidents               23720 non-null  float64\n",
      "dtypes: float64(50), int64(14)\n",
      "memory usage: 11.8 MB\n"
     ]
    }
   ],
   "source": [
    "x_cat.info()"
   ]
  },
  {
   "cell_type": "code",
   "execution_count": 17,
   "metadata": {},
   "outputs": [
    {
     "data": {
      "text/plain": [
       "longitude         11366\n",
       "latitude          12762\n",
       "elevation         15267\n",
       "zip                  58\n",
       "area                 86\n",
       "                  ...  \n",
       "vandalism            87\n",
       "vehicle theft        85\n",
       "warrants             76\n",
       "weapon laws          49\n",
       "totalincidents      102\n",
       "Length: 64, dtype: int64"
      ]
     },
     "execution_count": 17,
     "metadata": {},
     "output_type": "execute_result"
    }
   ],
   "source": [
    "x_cat.nunique()"
   ]
  },
  {
   "cell_type": "code",
   "execution_count": 18,
   "metadata": {},
   "outputs": [
    {
     "data": {
      "text/html": [
       "<div>\n",
       "<style scoped>\n",
       "    .dataframe tbody tr th:only-of-type {\n",
       "        vertical-align: middle;\n",
       "    }\n",
       "\n",
       "    .dataframe tbody tr th {\n",
       "        vertical-align: top;\n",
       "    }\n",
       "\n",
       "    .dataframe thead th {\n",
       "        text-align: right;\n",
       "    }\n",
       "</style>\n",
       "<table border=\"1\" class=\"dataframe\">\n",
       "  <thead>\n",
       "    <tr style=\"text-align: right;\">\n",
       "      <th></th>\n",
       "      <th>longitude</th>\n",
       "      <th>latitude</th>\n",
       "      <th>elevation</th>\n",
       "      <th>zip</th>\n",
       "      <th>area</th>\n",
       "      <th>district_no</th>\n",
       "      <th>subdist_no</th>\n",
       "      <th>cdom</th>\n",
       "      <th>rooms</th>\n",
       "      <th>baths</th>\n",
       "      <th>...</th>\n",
       "      <th>stolen property</th>\n",
       "      <th>suicide</th>\n",
       "      <th>suspicious occ</th>\n",
       "      <th>trea</th>\n",
       "      <th>trespass</th>\n",
       "      <th>vandalism</th>\n",
       "      <th>vehicle theft</th>\n",
       "      <th>warrants</th>\n",
       "      <th>weapon laws</th>\n",
       "      <th>totalincidents</th>\n",
       "    </tr>\n",
       "  </thead>\n",
       "  <tbody>\n",
       "    <tr>\n",
       "      <th>0</th>\n",
       "      <td>-122.50965</td>\n",
       "      <td>37.780280</td>\n",
       "      <td>200.83</td>\n",
       "      <td>94121</td>\n",
       "      <td>1050</td>\n",
       "      <td>1</td>\n",
       "      <td>1050</td>\n",
       "      <td>4</td>\n",
       "      <td>8</td>\n",
       "      <td>3.5</td>\n",
       "      <td>...</td>\n",
       "      <td>0.0</td>\n",
       "      <td>0.0</td>\n",
       "      <td>2.0</td>\n",
       "      <td>0.0</td>\n",
       "      <td>0.0</td>\n",
       "      <td>0.0</td>\n",
       "      <td>1.0</td>\n",
       "      <td>1.0</td>\n",
       "      <td>0.0</td>\n",
       "      <td>44.0</td>\n",
       "    </tr>\n",
       "    <tr>\n",
       "      <th>1</th>\n",
       "      <td>-122.50929</td>\n",
       "      <td>37.762608</td>\n",
       "      <td>23.21</td>\n",
       "      <td>94122</td>\n",
       "      <td>2030</td>\n",
       "      <td>2</td>\n",
       "      <td>2030</td>\n",
       "      <td>36</td>\n",
       "      <td>9</td>\n",
       "      <td>5.0</td>\n",
       "      <td>...</td>\n",
       "      <td>34.0</td>\n",
       "      <td>10.0</td>\n",
       "      <td>444.0</td>\n",
       "      <td>0.0</td>\n",
       "      <td>60.0</td>\n",
       "      <td>680.0</td>\n",
       "      <td>856.0</td>\n",
       "      <td>192.0</td>\n",
       "      <td>65.0</td>\n",
       "      <td>8385.0</td>\n",
       "    </tr>\n",
       "    <tr>\n",
       "      <th>2</th>\n",
       "      <td>-122.50924</td>\n",
       "      <td>37.777330</td>\n",
       "      <td>189.11</td>\n",
       "      <td>94121</td>\n",
       "      <td>1050</td>\n",
       "      <td>1</td>\n",
       "      <td>1050</td>\n",
       "      <td>42</td>\n",
       "      <td>5</td>\n",
       "      <td>1.0</td>\n",
       "      <td>...</td>\n",
       "      <td>6.0</td>\n",
       "      <td>1.0</td>\n",
       "      <td>37.0</td>\n",
       "      <td>0.0</td>\n",
       "      <td>3.0</td>\n",
       "      <td>59.0</td>\n",
       "      <td>79.0</td>\n",
       "      <td>9.0</td>\n",
       "      <td>9.0</td>\n",
       "      <td>976.0</td>\n",
       "    </tr>\n",
       "    <tr>\n",
       "      <th>3</th>\n",
       "      <td>-122.50919</td>\n",
       "      <td>37.776695</td>\n",
       "      <td>175.89</td>\n",
       "      <td>94121</td>\n",
       "      <td>1050</td>\n",
       "      <td>1</td>\n",
       "      <td>1050</td>\n",
       "      <td>24</td>\n",
       "      <td>8</td>\n",
       "      <td>4.0</td>\n",
       "      <td>...</td>\n",
       "      <td>6.0</td>\n",
       "      <td>1.0</td>\n",
       "      <td>37.0</td>\n",
       "      <td>0.0</td>\n",
       "      <td>3.0</td>\n",
       "      <td>59.0</td>\n",
       "      <td>79.0</td>\n",
       "      <td>9.0</td>\n",
       "      <td>9.0</td>\n",
       "      <td>976.0</td>\n",
       "    </tr>\n",
       "    <tr>\n",
       "      <th>4</th>\n",
       "      <td>-122.50919</td>\n",
       "      <td>37.776695</td>\n",
       "      <td>175.89</td>\n",
       "      <td>94121</td>\n",
       "      <td>1050</td>\n",
       "      <td>1</td>\n",
       "      <td>1050</td>\n",
       "      <td>13</td>\n",
       "      <td>8</td>\n",
       "      <td>4.0</td>\n",
       "      <td>...</td>\n",
       "      <td>6.0</td>\n",
       "      <td>1.0</td>\n",
       "      <td>37.0</td>\n",
       "      <td>0.0</td>\n",
       "      <td>3.0</td>\n",
       "      <td>59.0</td>\n",
       "      <td>79.0</td>\n",
       "      <td>9.0</td>\n",
       "      <td>9.0</td>\n",
       "      <td>976.0</td>\n",
       "    </tr>\n",
       "  </tbody>\n",
       "</table>\n",
       "<p>5 rows × 64 columns</p>\n",
       "</div>"
      ],
      "text/plain": [
       "   longitude   latitude  elevation    zip  area  district_no  subdist_no  \\\n",
       "0 -122.50965  37.780280     200.83  94121  1050            1        1050   \n",
       "1 -122.50929  37.762608      23.21  94122  2030            2        2030   \n",
       "2 -122.50924  37.777330     189.11  94121  1050            1        1050   \n",
       "3 -122.50919  37.776695     175.89  94121  1050            1        1050   \n",
       "4 -122.50919  37.776695     175.89  94121  1050            1        1050   \n",
       "\n",
       "   cdom  rooms  baths  ...  stolen property  suicide  suspicious occ  trea  \\\n",
       "0     4      8    3.5  ...              0.0      0.0             2.0   0.0   \n",
       "1    36      9    5.0  ...             34.0     10.0           444.0   0.0   \n",
       "2    42      5    1.0  ...              6.0      1.0            37.0   0.0   \n",
       "3    24      8    4.0  ...              6.0      1.0            37.0   0.0   \n",
       "4    13      8    4.0  ...              6.0      1.0            37.0   0.0   \n",
       "\n",
       "   trespass  vandalism  vehicle theft  warrants  weapon laws  totalincidents  \n",
       "0       0.0        0.0            1.0       1.0          0.0            44.0  \n",
       "1      60.0      680.0          856.0     192.0         65.0          8385.0  \n",
       "2       3.0       59.0           79.0       9.0          9.0           976.0  \n",
       "3       3.0       59.0           79.0       9.0          9.0           976.0  \n",
       "4       3.0       59.0           79.0       9.0          9.0           976.0  \n",
       "\n",
       "[5 rows x 64 columns]"
      ]
     },
     "execution_count": 18,
     "metadata": {},
     "output_type": "execute_result"
    }
   ],
   "source": [
    "x_cat.head(5)"
   ]
  },
  {
   "cell_type": "code",
   "execution_count": 19,
   "metadata": {},
   "outputs": [
    {
     "name": "stdout",
     "output_type": "stream",
     "text": [
      "r2_score: 0.845\n",
      "CPU times: user 12.8 s, sys: 161 ms, total: 13 s\n",
      "Wall time: 4.39 s\n"
     ]
    }
   ],
   "source": [
    "%%time\n",
    "print(\"r2_score: {:.3f}\".format(get_score(rf, x.select_dtypes(include = 'number'), y)))"
   ]
  },
  {
   "cell_type": "markdown",
   "metadata": {},
   "source": [
    "# Scaling Numerical Columns"
   ]
  },
  {
   "cell_type": "code",
   "execution_count": 21,
   "metadata": {},
   "outputs": [],
   "source": [
    "x_sc = x.copy()"
   ]
  },
  {
   "cell_type": "code",
   "execution_count": 22,
   "metadata": {},
   "outputs": [],
   "source": [
    "xy_scaler = std_scaler.fit(x_sc[cols_num])\n",
    "x_sc[cols_num]=xy_scaler.transform(x_sc[cols_num])"
   ]
  },
  {
   "cell_type": "code",
   "execution_count": 23,
   "metadata": {},
   "outputs": [
    {
     "name": "stdout",
     "output_type": "stream",
     "text": [
      "r2_score: 0.844\n",
      "CPU times: user 12.4 s, sys: 120 ms, total: 12.5 s\n",
      "Wall time: 3.96 s\n"
     ]
    }
   ],
   "source": [
    "%%time\n",
    "print(\"r2_score: {:.3f}\".format(get_score(rf, x_sc.select_dtypes(include = 'number'), y)))"
   ]
  },
  {
   "cell_type": "markdown",
   "metadata": {},
   "source": [
    "# Feature Elimination\n",
    "1. Drop Highly Correlated Features"
   ]
  },
  {
   "cell_type": "code",
   "execution_count": 24,
   "metadata": {},
   "outputs": [],
   "source": [
    "# FROM: https://chrisalbon.com/machine_learning/feature_selection/drop_highly_correlated_features/\n",
    "corr_matrix = x_sc[cols_num].corr().abs()\n",
    "upper = corr_matrix.where(np.triu(np.ones(corr_matrix.shape), k=1).astype(np.bool))\n",
    "to_drop = [column for column in upper.columns if any(upper[column] > 0.9)]\n",
    "# to_drop.remove('sale_year')"
   ]
  },
  {
   "cell_type": "code",
   "execution_count": 25,
   "metadata": {},
   "outputs": [
    {
     "name": "stdout",
     "output_type": "stream",
     "text": [
      "RF r2_score: 0.848\n"
     ]
    }
   ],
   "source": [
    "x_fe = x_sc.drop(x_sc[to_drop], axis=1).copy()\n",
    "print(\"RF r2_score: {:.3f}\".format(get_score(rf, x_fe.select_dtypes(include = 'number'), y)))"
   ]
  },
  {
   "cell_type": "markdown",
   "metadata": {},
   "source": [
    "# Feature Transformation \n",
    "1. Ordinal Encode - label data"
   ]
  },
  {
   "cell_type": "code",
   "execution_count": 26,
   "metadata": {},
   "outputs": [],
   "source": [
    "x_rf = x_fe.copy()"
   ]
  },
  {
   "cell_type": "code",
   "execution_count": 27,
   "metadata": {},
   "outputs": [],
   "source": [
    "x_rf.drop(columns = ['on_market_date', 'sale_date'], inplace=True)"
   ]
  },
  {
   "cell_type": "markdown",
   "metadata": {},
   "source": [
    "## Ordinal Encoding"
   ]
  },
  {
   "cell_type": "code",
   "execution_count": 28,
   "metadata": {},
   "outputs": [],
   "source": [
    "ce_oe = OrdinalEncoder(cols = ['on_market_month_year', 'sale_month_year'])\n",
    "x_rf2 = ce_oe.fit_transform(x_rf, y)"
   ]
  },
  {
   "cell_type": "code",
   "execution_count": 29,
   "metadata": {},
   "outputs": [
    {
     "name": "stdout",
     "output_type": "stream",
     "text": [
      "RF r2_score: 0.851\n"
     ]
    }
   ],
   "source": [
    "print(\"RF r2_score: {:.3f}\".format(get_score(rf, x_rf2.select_dtypes(include = 'number'), y)))"
   ]
  },
  {
   "cell_type": "markdown",
   "metadata": {},
   "source": [
    "# Just Drop 2 Columns from Scaler and use (best)"
   ]
  },
  {
   "cell_type": "code",
   "execution_count": 30,
   "metadata": {},
   "outputs": [],
   "source": [
    "x_fe.drop(columns = ['on_market_month_year', 'sale_month_year'], inplace=True)"
   ]
  },
  {
   "cell_type": "code",
   "execution_count": 31,
   "metadata": {},
   "outputs": [
    {
     "name": "stdout",
     "output_type": "stream",
     "text": [
      "RF r2_score: 0.848\n"
     ]
    }
   ],
   "source": [
    "print(\"RF r2_score: {:.3f}\".format(get_score(rf, x_fe.select_dtypes(include = 'number'), y)))"
   ]
  },
  {
   "cell_type": "code",
   "execution_count": 32,
   "metadata": {},
   "outputs": [
    {
     "data": {
      "text/plain": [
       "51"
      ]
     },
     "execution_count": 32,
     "metadata": {},
     "output_type": "execute_result"
    }
   ],
   "source": [
    "x_fe.columns.shape[0]"
   ]
  },
  {
   "cell_type": "markdown",
   "metadata": {},
   "source": [
    "# Remove 20 Least Important Features"
   ]
  },
  {
   "cell_type": "code",
   "execution_count": 33,
   "metadata": {},
   "outputs": [],
   "source": [
    "feature_import = get_feature_importance(rf, x_fe.select_dtypes(include = 'number'), y)"
   ]
  },
  {
   "cell_type": "code",
   "execution_count": 34,
   "metadata": {},
   "outputs": [],
   "source": [
    "x_lip = x_fe.drop(list(feature_import.tail(20)[\"importance\"].index), axis=1)"
   ]
  },
  {
   "cell_type": "code",
   "execution_count": 35,
   "metadata": {},
   "outputs": [
    {
     "name": "stdout",
     "output_type": "stream",
     "text": [
      "RF r2_score: 0.841\n"
     ]
    }
   ],
   "source": [
    "print(\"RF r2_score: {:.3f}\".format(get_score(rf, x_lip.select_dtypes(include = 'number'), y)))"
   ]
  },
  {
   "cell_type": "code",
   "execution_count": 36,
   "metadata": {},
   "outputs": [],
   "source": [
    "x_lip.drop(columns = \"on_market_date\", inplace=True)"
   ]
  },
  {
   "cell_type": "markdown",
   "metadata": {},
   "source": [
    "# Add 1-Hot Encoded of Most Important Views"
   ]
  },
  {
   "cell_type": "code",
   "execution_count": 49,
   "metadata": {},
   "outputs": [],
   "source": [
    "x_1ht = x_lip.merge(x_lip['views'].str.get_dummies(sep=',').rename(lambda x: 'views_' + x, axis='columns'), left_index=True, right_index=True).copy()"
   ]
  },
  {
   "cell_type": "code",
   "execution_count": 51,
   "metadata": {},
   "outputs": [],
   "source": [
    "coef_df = get_coef(lr, x_1ht.select_dtypes(include = 'number'), y)"
   ]
  },
  {
   "cell_type": "code",
   "execution_count": 125,
   "metadata": {},
   "outputs": [
    {
     "data": {
      "text/html": [
       "<div>\n",
       "<style scoped>\n",
       "    .dataframe tbody tr th:only-of-type {\n",
       "        vertical-align: middle;\n",
       "    }\n",
       "\n",
       "    .dataframe tbody tr th {\n",
       "        vertical-align: top;\n",
       "    }\n",
       "\n",
       "    .dataframe thead th {\n",
       "        text-align: right;\n",
       "    }\n",
       "</style>\n",
       "<table border=\"1\" class=\"dataframe\">\n",
       "  <thead>\n",
       "    <tr style=\"text-align: right;\">\n",
       "      <th></th>\n",
       "      <th>coef</th>\n",
       "    </tr>\n",
       "  </thead>\n",
       "  <tbody>\n",
       "    <tr>\n",
       "      <th>views_MRNA</th>\n",
       "      <td>1.803099e+06</td>\n",
       "    </tr>\n",
       "    <tr>\n",
       "      <th>views_GGTE</th>\n",
       "      <td>5.609996e+05</td>\n",
       "    </tr>\n",
       "    <tr>\n",
       "      <th>latitude</th>\n",
       "      <td>4.678384e+05</td>\n",
       "    </tr>\n",
       "    <tr>\n",
       "      <th>views_MTPS</th>\n",
       "      <td>4.536931e+05</td>\n",
       "    </tr>\n",
       "    <tr>\n",
       "      <th>baths</th>\n",
       "      <td>4.517947e+05</td>\n",
       "    </tr>\n",
       "    <tr>\n",
       "      <th>on_market_year</th>\n",
       "      <td>3.080468e+05</td>\n",
       "    </tr>\n",
       "    <tr>\n",
       "      <th>area</th>\n",
       "      <td>2.652080e+05</td>\n",
       "    </tr>\n",
       "    <tr>\n",
       "      <th>views_BAY</th>\n",
       "      <td>2.162634e+05</td>\n",
       "    </tr>\n",
       "    <tr>\n",
       "      <th>views_LAKE</th>\n",
       "      <td>1.707036e+05</td>\n",
       "    </tr>\n",
       "    <tr>\n",
       "      <th>views_GRDN</th>\n",
       "      <td>1.431519e+05</td>\n",
       "    </tr>\n",
       "    <tr>\n",
       "      <th>views_WATR</th>\n",
       "      <td>1.334466e+05</td>\n",
       "    </tr>\n",
       "    <tr>\n",
       "      <th>num_parking</th>\n",
       "      <td>1.089682e+05</td>\n",
       "    </tr>\n",
       "    <tr>\n",
       "      <th>views_SFRN</th>\n",
       "      <td>8.709325e+04</td>\n",
       "    </tr>\n",
       "    <tr>\n",
       "      <th>beds</th>\n",
       "      <td>7.083726e+04</td>\n",
       "    </tr>\n",
       "    <tr>\n",
       "      <th>views_0</th>\n",
       "      <td>5.716978e+04</td>\n",
       "    </tr>\n",
       "    <tr>\n",
       "      <th>views_BYBR</th>\n",
       "      <td>5.202289e+04</td>\n",
       "    </tr>\n",
       "    <tr>\n",
       "      <th>cdom</th>\n",
       "      <td>5.107185e+04</td>\n",
       "    </tr>\n",
       "    <tr>\n",
       "      <th>views_PARK</th>\n",
       "      <td>4.822818e+04</td>\n",
       "    </tr>\n",
       "    <tr>\n",
       "      <th>views_PNRM</th>\n",
       "      <td>2.885163e+04</td>\n",
       "    </tr>\n",
       "    <tr>\n",
       "      <th>runaway</th>\n",
       "      <td>1.733841e+04</td>\n",
       "    </tr>\n",
       "    <tr>\n",
       "      <th>views_HILL</th>\n",
       "      <td>1.441885e+04</td>\n",
       "    </tr>\n",
       "    <tr>\n",
       "      <th>views_CTYL</th>\n",
       "      <td>1.075278e+04</td>\n",
       "    </tr>\n",
       "    <tr>\n",
       "      <th>elevation</th>\n",
       "      <td>7.406760e+03</td>\n",
       "    </tr>\n",
       "    <tr>\n",
       "      <th>views_FRST</th>\n",
       "      <td>3.951216e+03</td>\n",
       "    </tr>\n",
       "    <tr>\n",
       "      <th>on_market_month</th>\n",
       "      <td>2.540309e+03</td>\n",
       "    </tr>\n",
       "    <tr>\n",
       "      <th>zip</th>\n",
       "      <td>-5.565357e+02</td>\n",
       "    </tr>\n",
       "    <tr>\n",
       "      <th>year_built</th>\n",
       "      <td>-1.095232e+03</td>\n",
       "    </tr>\n",
       "    <tr>\n",
       "      <th>lot_acres</th>\n",
       "      <td>-2.409233e+03</td>\n",
       "    </tr>\n",
       "    <tr>\n",
       "      <th>sale_month</th>\n",
       "      <td>-7.933728e+03</td>\n",
       "    </tr>\n",
       "    <tr>\n",
       "      <th>days_on_market</th>\n",
       "      <td>-8.282730e+03</td>\n",
       "    </tr>\n",
       "    <tr>\n",
       "      <th>views_DWNT</th>\n",
       "      <td>-1.459790e+04</td>\n",
       "    </tr>\n",
       "    <tr>\n",
       "      <th>views_VALY</th>\n",
       "      <td>-1.791918e+04</td>\n",
       "    </tr>\n",
       "    <tr>\n",
       "      <th>views_PRTL</th>\n",
       "      <td>-2.170504e+04</td>\n",
       "    </tr>\n",
       "    <tr>\n",
       "      <th>views_OCEN</th>\n",
       "      <td>-3.109193e+04</td>\n",
       "    </tr>\n",
       "    <tr>\n",
       "      <th>rooms</th>\n",
       "      <td>-3.122465e+04</td>\n",
       "    </tr>\n",
       "    <tr>\n",
       "      <th>views_WOOD</th>\n",
       "      <td>-4.222452e+04</td>\n",
       "    </tr>\n",
       "    <tr>\n",
       "      <th>views_GLFC</th>\n",
       "      <td>-4.299012e+04</td>\n",
       "    </tr>\n",
       "    <tr>\n",
       "      <th>views_TWNP</th>\n",
       "      <td>-5.249321e+04</td>\n",
       "    </tr>\n",
       "    <tr>\n",
       "      <th>views_RIDG</th>\n",
       "      <td>-8.201197e+04</td>\n",
       "    </tr>\n",
       "    <tr>\n",
       "      <th>missing person</th>\n",
       "      <td>-9.028919e+04</td>\n",
       "    </tr>\n",
       "    <tr>\n",
       "      <th>enrollment</th>\n",
       "      <td>-9.249524e+04</td>\n",
       "    </tr>\n",
       "    <tr>\n",
       "      <th>longitude</th>\n",
       "      <td>-1.109205e+05</td>\n",
       "    </tr>\n",
       "    <tr>\n",
       "      <th>recovered vehicle</th>\n",
       "      <td>-1.124690e+05</td>\n",
       "    </tr>\n",
       "    <tr>\n",
       "      <th>views_MNTN</th>\n",
       "      <td>-1.597571e+05</td>\n",
       "    </tr>\n",
       "    <tr>\n",
       "      <th>views_CNYN</th>\n",
       "      <td>-1.654816e+05</td>\n",
       "    </tr>\n",
       "    <tr>\n",
       "      <th>views_MTDB</th>\n",
       "      <td>-2.025373e+05</td>\n",
       "    </tr>\n",
       "  </tbody>\n",
       "</table>\n",
       "</div>"
      ],
      "text/plain": [
       "                           coef\n",
       "views_MRNA         1.803099e+06\n",
       "views_GGTE         5.609996e+05\n",
       "latitude           4.678384e+05\n",
       "views_MTPS         4.536931e+05\n",
       "baths              4.517947e+05\n",
       "on_market_year     3.080468e+05\n",
       "area               2.652080e+05\n",
       "views_BAY          2.162634e+05\n",
       "views_LAKE         1.707036e+05\n",
       "views_GRDN         1.431519e+05\n",
       "views_WATR         1.334466e+05\n",
       "num_parking        1.089682e+05\n",
       "views_SFRN         8.709325e+04\n",
       "beds               7.083726e+04\n",
       "views_0            5.716978e+04\n",
       "views_BYBR         5.202289e+04\n",
       "cdom               5.107185e+04\n",
       "views_PARK         4.822818e+04\n",
       "views_PNRM         2.885163e+04\n",
       "runaway            1.733841e+04\n",
       "views_HILL         1.441885e+04\n",
       "views_CTYL         1.075278e+04\n",
       "elevation          7.406760e+03\n",
       "views_FRST         3.951216e+03\n",
       "on_market_month    2.540309e+03\n",
       "zip               -5.565357e+02\n",
       "year_built        -1.095232e+03\n",
       "lot_acres         -2.409233e+03\n",
       "sale_month        -7.933728e+03\n",
       "days_on_market    -8.282730e+03\n",
       "views_DWNT        -1.459790e+04\n",
       "views_VALY        -1.791918e+04\n",
       "views_PRTL        -2.170504e+04\n",
       "views_OCEN        -3.109193e+04\n",
       "rooms             -3.122465e+04\n",
       "views_WOOD        -4.222452e+04\n",
       "views_GLFC        -4.299012e+04\n",
       "views_TWNP        -5.249321e+04\n",
       "views_RIDG        -8.201197e+04\n",
       "missing person    -9.028919e+04\n",
       "enrollment        -9.249524e+04\n",
       "longitude         -1.109205e+05\n",
       "recovered vehicle -1.124690e+05\n",
       "views_MNTN        -1.597571e+05\n",
       "views_CNYN        -1.654816e+05\n",
       "views_MTDB        -2.025373e+05"
      ]
     },
     "execution_count": 125,
     "metadata": {},
     "output_type": "execute_result"
    }
   ],
   "source": [
    "coef_df"
   ]
  },
  {
   "cell_type": "code",
   "execution_count": 111,
   "metadata": {},
   "outputs": [],
   "source": [
    "good_views = list(coef_df[coef_df.index.str.startswith('views', na=False)].query('coef > 4e5').index)\n",
    "bad_views = list(coef_df[coef_df.index.str.startswith('views', na=False)].query('coef < -1e5').index)"
   ]
  },
  {
   "cell_type": "code",
   "execution_count": 122,
   "metadata": {},
   "outputs": [],
   "source": [
    "x_1htt = x_1ht.copy()"
   ]
  },
  {
   "cell_type": "code",
   "execution_count": 123,
   "metadata": {},
   "outputs": [],
   "source": [
    "x_1htt[\"n_bad_views\"] = x_1htt[bad_views].sum(axis=1)\n",
    "x_1htt[\"n_good_views\"] = x_1htt[good_views].sum(axis=1)\n",
    "x_1htt.drop(good_views + bad_views, axis=1, inplace=True)"
   ]
  },
  {
   "cell_type": "code",
   "execution_count": 124,
   "metadata": {},
   "outputs": [
    {
     "name": "stdout",
     "output_type": "stream",
     "text": [
      "RF r2_score: 0.839\n"
     ]
    }
   ],
   "source": [
    "print(\"RF r2_score: {:.3f}\".format(get_score(rf, x_1htt.select_dtypes(include = 'number'), y)))"
   ]
  },
  {
   "cell_type": "code",
   "execution_count": 116,
   "metadata": {},
   "outputs": [
    {
     "data": {
      "text/plain": [
       "1508"
      ]
     },
     "execution_count": 116,
     "metadata": {},
     "output_type": "execute_result"
    }
   ],
   "source": [
    "x_1htt.query('n_bad_views > 0').shape[0]"
   ]
  },
  {
   "cell_type": "code",
   "execution_count": 117,
   "metadata": {},
   "outputs": [
    {
     "data": {
      "text/plain": [
       "1046"
      ]
     },
     "execution_count": 117,
     "metadata": {},
     "output_type": "execute_result"
    }
   ],
   "source": [
    "x_1htt.query('n_good_views > 0').shape[0]"
   ]
  },
  {
   "cell_type": "markdown",
   "metadata": {},
   "source": [
    "# Recursive Feature Elimination"
   ]
  },
  {
   "cell_type": "code",
   "execution_count": 37,
   "metadata": {},
   "outputs": [
    {
     "name": "stdout",
     "output_type": "stream",
     "text": [
      "Optimal number of features : 30\n"
     ]
    }
   ],
   "source": [
    "# classifications\n",
    "rfecv = RFECV(rf, step=3, min_features_to_select = 10,\n",
    "              scoring='r2')\n",
    "rfecv.fit(x_lip.select_dtypes(include = 'number'), y)\n",
    "print(\"Optimal number of features : %d\" % rfecv.n_features_)"
   ]
  },
  {
   "cell_type": "code",
   "execution_count": 90,
   "metadata": {},
   "outputs": [
    {
     "data": {
      "image/png": "[encoded data removed]",
      "text/plain": [
       "<Figure size 432x288 with 1 Axes>"
      ]
     },
     "metadata": {
      "needs_background": "light"
     },
     "output_type": "display_data"
    }
   ],
   "source": [
    "# Plot number of features VS. cross-validation scores\n",
    "plt.figure()\n",
    "plt.xlabel(\"Number of features selected\")\n",
    "plt.ylabel(\"Cross validation score (r2 score)\")\n",
    "plt.plot(range(30, 3*len(rfecv.grid_scores_) + 30, 3), rfecv.grid_scores_)\n",
    "plt.show()"
   ]
  },
  {
   "cell_type": "markdown",
   "metadata": {},
   "source": [
    "# Export"
   ]
  },
  {
   "cell_type": "code",
   "execution_count": 86,
   "metadata": {},
   "outputs": [],
   "source": [
    "def export_df(df_, name_):\n",
    "    month_day = datetime.now().strftime('%m-%d')\n",
    "    df_.to_csv('ENG_DATA/SELECTED/{}_{}_train.csv'.format(month_day, name_))"
   ]
  },
  {
   "cell_type": "code",
   "execution_count": 113,
   "metadata": {},
   "outputs": [],
   "source": [
    "df_out = x_lip.merge(y, left_index = True, right_index = True)"
   ]
  },
  {
   "cell_type": "code",
   "execution_count": 114,
   "metadata": {},
   "outputs": [],
   "source": [
    "export_df(df_out, \"rf_all\")"
   ]
  },
  {
   "cell_type": "markdown",
   "metadata": {},
   "source": [
    "# Remove Location Data"
   ]
  },
  {
   "cell_type": "code",
   "execution_count": 81,
   "metadata": {},
   "outputs": [
    {
     "name": "stdout",
     "output_type": "stream",
     "text": [
      "<class 'pandas.core.frame.DataFrame'>\n",
      "Int64Index: 23720 entries, 0 to 23719\n",
      "Data columns (total 30 columns):\n",
      " #   Column             Non-Null Count  Dtype         \n",
      "---  ------             --------------  -----         \n",
      " 0   longitude          23720 non-null  float64       \n",
      " 1   latitude           23720 non-null  float64       \n",
      " 2   elevation          23720 non-null  float64       \n",
      " 3   street_name        23720 non-null  object        \n",
      " 4   zip                23720 non-null  float64       \n",
      " 5   area               23720 non-null  float64       \n",
      " 6   cdom               23720 non-null  float64       \n",
      " 7   sale_date          23720 non-null  datetime64[ns]\n",
      " 8   rooms              23720 non-null  float64       \n",
      " 9   baths              23720 non-null  float64       \n",
      " 10  beds               23720 non-null  float64       \n",
      " 11  lot_acres          23720 non-null  float64       \n",
      " 12  year_built         23720 non-null  float64       \n",
      " 13  zoning             23720 non-null  object        \n",
      " 14  drive_side         23720 non-null  object        \n",
      " 15  parking            23720 non-null  object        \n",
      " 16  num_parking        23720 non-null  float64       \n",
      " 17  shopping           23720 non-null  object        \n",
      " 18  transportation     23720 non-null  object        \n",
      " 19  type               23720 non-null  object        \n",
      " 20  views              23720 non-null  object        \n",
      " 21  days_on_market     23720 non-null  float64       \n",
      " 22  on_market_year     23720 non-null  float64       \n",
      " 23  on_market_month    23720 non-null  float64       \n",
      " 24  sale_month         23720 non-null  float64       \n",
      " 25  neighborhood       23720 non-null  object        \n",
      " 26  enrollment         23720 non-null  float64       \n",
      " 27  missing person     23720 non-null  float64       \n",
      " 28  recovered vehicle  23720 non-null  float64       \n",
      " 29  runaway            23720 non-null  float64       \n",
      "dtypes: datetime64[ns](1), float64(20), object(9)\n",
      "memory usage: 6.2+ MB\n"
     ]
    }
   ],
   "source": [
    "x_lip.info()"
   ]
  },
  {
   "cell_type": "code",
   "execution_count": 126,
   "metadata": {},
   "outputs": [],
   "source": [
    "location_cols = ['longitude', 'latitude', 'elevation', 'street_name', 'zip', 'area', 'street_name', 'zoning', 'neighborhood', 'views']"
   ]
  },
  {
   "cell_type": "code",
   "execution_count": 127,
   "metadata": {},
   "outputs": [],
   "source": [
    "x_noloc = x_lip.drop(location_cols, axis=1)"
   ]
  },
  {
   "cell_type": "code",
   "execution_count": 128,
   "metadata": {},
   "outputs": [
    {
     "name": "stdout",
     "output_type": "stream",
     "text": [
      "RF r2_score: 0.788\n"
     ]
    }
   ],
   "source": [
    "print(\"RF r2_score: {:.3f}\".format(get_score(rf, x_noloc.select_dtypes(include = 'number'), y)))"
   ]
  },
  {
   "cell_type": "code",
   "execution_count": 129,
   "metadata": {},
   "outputs": [],
   "source": [
    "export_df(x_noloc.merge(y, left_index = True, right_index = True), \"rf_noloc\")"
   ]
  },
  {
   "cell_type": "code",
   "execution_count": null,
   "metadata": {},
   "outputs": [],
   "source": []
  }
 ],
 "metadata": {
  "kernelspec": {
   "display_name": "Python 3",
   "language": "python",
   "name": "python3"
  },
  "language_info": {
   "codemirror_mode": {
    "name": "ipython",
    "version": 3
   },
   "file_extension": ".py",
   "mimetype": "text/x-python",
   "name": "python",
   "nbconvert_exporter": "python",
   "pygments_lexer": "ipython3",
   "version": "3.6.10"
  }
 },
 "nbformat": 4,
 "nbformat_minor": 2
}
