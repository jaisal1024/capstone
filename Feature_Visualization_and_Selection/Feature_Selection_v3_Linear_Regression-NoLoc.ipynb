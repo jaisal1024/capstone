{
 "cells": [
  {
   "cell_type": "code",
   "execution_count": 1,
   "metadata": {},
   "outputs": [],
   "source": [
    "import os \n",
    "import pandas as pd\n",
    "import numpy as np\n",
    "from sklearn.feature_selection import VarianceThreshold, SelectKBest, chi2, f_regression, SelectFromModel, mutual_info_regression\n",
    "from scipy.stats import f_oneway\n",
    "from scipy.sparse import csr_matrix\n",
    "from sklearn.preprocessing import LabelEncoder, OrdinalEncoder, OneHotEncoder\n",
    "from sklearn.ensemble import RandomForestRegressor, AdaBoostRegressor\n",
    "from sklearn.linear_model import LinearRegression\n",
    "from sklearn.feature_selection import VarianceThreshold\n",
    "from sklearn.model_selection import train_test_split\n",
    "from sklearn.svm import LinearSVR\n",
    "from sklearn.feature_selection import RFECV\n",
    "from sklearn.preprocessing import MinMaxScaler, StandardScaler \n",
    "from sklearn_pandas import DataFrameMapper\n",
    "from sklearn.metrics import r2_score\n",
    "from sklearn.model_selection import RandomizedSearchCV\n",
    "from category_encoders import BinaryEncoder\n",
    "from category_encoders.ordinal import OrdinalEncoder\n",
    "from category_encoders.one_hot import OneHotEncoder\n",
    "from datetime import datetime\n",
    "import matplotlib.pyplot as plt"
   ]
  },
  {
   "cell_type": "code",
   "execution_count": 2,
   "metadata": {},
   "outputs": [],
   "source": [
    "os.chdir('..')"
   ]
  },
  {
   "cell_type": "code",
   "execution_count": 3,
   "metadata": {},
   "outputs": [],
   "source": [
    "df = pd.read_csv('ENG_DATA/CLEANED/12-8_Cleaned_df.csv', index_col = [0])"
   ]
  },
  {
   "cell_type": "markdown",
   "metadata": {},
   "source": [
    "# Fix Missing Data"
   ]
  },
  {
   "cell_type": "code",
   "execution_count": 4,
   "metadata": {},
   "outputs": [],
   "source": [
    "#fix a bug \n",
    "for l in ['charter', 'private', 'public', 'gsRating', 'enrollment']: \n",
    "    df[l].fillna(df[l].mean(), inplace=True)"
   ]
  },
  {
   "cell_type": "markdown",
   "metadata": {},
   "source": [
    "# Add Dates"
   ]
  },
  {
   "cell_type": "code",
   "execution_count": 5,
   "metadata": {},
   "outputs": [],
   "source": [
    "df[\"on_market_date\"] = df[\"on_market_date\"].apply(lambda x: datetime.strptime(x, \"%m/%d/%y\"))\n",
    "df[\"sale_date\"] = df[\"sale_date\"].apply(lambda x: datetime.strptime(x, \"%m/%d/%y\"))"
   ]
  },
  {
   "cell_type": "code",
   "execution_count": 6,
   "metadata": {},
   "outputs": [],
   "source": [
    "df[\"on_market_month_year\"] = df[\"on_market_date\"].apply(lambda x: x.strftime(\"%m/%Y\"))\n",
    "df[\"sale_month_year\"] = df[\"sale_date\"].apply(lambda x: x.strftime(\"%m/%Y\"))"
   ]
  },
  {
   "cell_type": "markdown",
   "metadata": {},
   "source": [
    "# Functions to Test"
   ]
  },
  {
   "cell_type": "code",
   "execution_count": 7,
   "metadata": {},
   "outputs": [],
   "source": [
    "lr = LinearRegression(normalize=True)"
   ]
  },
  {
   "cell_type": "code",
   "execution_count": 8,
   "metadata": {},
   "outputs": [],
   "source": [
    "def get_score(model, x, y):\n",
    "    # Split dataset into train and validation subsets:\n",
    "    X_train, X_test, y_train, y_test = train_test_split(x, y, test_size=0.2, random_state=0)\n",
    "    model.fit(X_train, y_train)\n",
    "    y_pred = model.predict(X_test)\n",
    "    score = r2_score(y_test, y_pred)\n",
    "    return score\n",
    "def get_coef(model, x, y): \n",
    "    X_train, X_test, y_train, y_test = train_test_split(x, y, test_size=0.2, random_state=0)\n",
    "    model.fit(X_train, y_train)\n",
    "    return pd.DataFrame(model.coef_, index = X_train.columns, columns=['coef']).sort_values('coef',ascending=False)"
   ]
  },
  {
   "cell_type": "code",
   "execution_count": 69,
   "metadata": {},
   "outputs": [],
   "source": [
    "location_cols = ['longitude', 'latitude', 'elevation', 'street_name', 'zip', 'area', 'street_name', 'zoning', 'neighborhood', 'views', 'shopping']"
   ]
  },
  {
   "cell_type": "code",
   "execution_count": 70,
   "metadata": {},
   "outputs": [],
   "source": [
    "x = df.drop(columns = ['sale_price', 'orig_list_price', 'city', 'full_address', 'park_leased'])\n",
    "x.drop(location_cols, axis=1, inplace=True)\n",
    "y = df.sale_price\n",
    "x_num = x.select_dtypes(include = 'number')\n",
    "x_cat = x.select_dtypes(exclude = 'number')"
   ]
  },
  {
   "cell_type": "markdown",
   "metadata": {},
   "source": [
    "# Feature Highlighting & Baseline"
   ]
  },
  {
   "cell_type": "code",
   "execution_count": 71,
   "metadata": {},
   "outputs": [
    {
     "name": "stdout",
     "output_type": "stream",
     "text": [
      "<class 'pandas.core.frame.DataFrame'>\n",
      "Int64Index: 23720 entries, 0 to 23719\n",
      "Data columns (total 8 columns):\n",
      " #   Column                Non-Null Count  Dtype         \n",
      "---  ------                --------------  -----         \n",
      " 0   on_market_date        23720 non-null  datetime64[ns]\n",
      " 1   sale_date             23720 non-null  datetime64[ns]\n",
      " 2   drive_side            23720 non-null  object        \n",
      " 3   parking               23720 non-null  object        \n",
      " 4   transportation        23720 non-null  object        \n",
      " 5   type                  23720 non-null  object        \n",
      " 6   on_market_month_year  23720 non-null  object        \n",
      " 7   sale_month_year       23720 non-null  object        \n",
      "dtypes: datetime64[ns](2), object(6)\n",
      "memory usage: 1.6+ MB\n"
     ]
    }
   ],
   "source": [
    "x_cat.info()"
   ]
  },
  {
   "cell_type": "code",
   "execution_count": 72,
   "metadata": {},
   "outputs": [
    {
     "data": {
      "text/plain": [
       "on_market_date          3396\n",
       "sale_date               2655\n",
       "drive_side                16\n",
       "parking                  152\n",
       "transportation            16\n",
       "type                     259\n",
       "on_market_month_year     133\n",
       "sale_month_year          120\n",
       "dtype: int64"
      ]
     },
     "execution_count": 72,
     "metadata": {},
     "output_type": "execute_result"
    }
   ],
   "source": [
    "x_cat.nunique()"
   ]
  },
  {
   "cell_type": "code",
   "execution_count": 73,
   "metadata": {},
   "outputs": [
    {
     "data": {
      "text/html": [
       "<div>\n",
       "<style scoped>\n",
       "    .dataframe tbody tr th:only-of-type {\n",
       "        vertical-align: middle;\n",
       "    }\n",
       "\n",
       "    .dataframe tbody tr th {\n",
       "        vertical-align: top;\n",
       "    }\n",
       "\n",
       "    .dataframe thead th {\n",
       "        text-align: right;\n",
       "    }\n",
       "</style>\n",
       "<table border=\"1\" class=\"dataframe\">\n",
       "  <thead>\n",
       "    <tr style=\"text-align: right;\">\n",
       "      <th></th>\n",
       "      <th>on_market_date</th>\n",
       "      <th>sale_date</th>\n",
       "      <th>drive_side</th>\n",
       "      <th>parking</th>\n",
       "      <th>transportation</th>\n",
       "      <th>type</th>\n",
       "      <th>on_market_month_year</th>\n",
       "      <th>sale_month_year</th>\n",
       "    </tr>\n",
       "  </thead>\n",
       "  <tbody>\n",
       "    <tr>\n",
       "      <th>0</th>\n",
       "      <td>2013-03-14</td>\n",
       "      <td>2013-03-22</td>\n",
       "      <td>PVDW,PVSW</td>\n",
       "      <td>ATCH,GARG</td>\n",
       "      <td>1BLK</td>\n",
       "      <td>3STR</td>\n",
       "      <td>03/2013</td>\n",
       "      <td>03/2013</td>\n",
       "    </tr>\n",
       "    <tr>\n",
       "      <th>1</th>\n",
       "      <td>2017-05-18</td>\n",
       "      <td>2017-08-17</td>\n",
       "      <td>0</td>\n",
       "      <td>ATCH,GARG,ATDR,INAC</td>\n",
       "      <td>1BLK</td>\n",
       "      <td>0</td>\n",
       "      <td>05/2017</td>\n",
       "      <td>08/2017</td>\n",
       "    </tr>\n",
       "    <tr>\n",
       "      <th>2</th>\n",
       "      <td>2010-06-27</td>\n",
       "      <td>2010-08-20</td>\n",
       "      <td>PVDW,PVSW</td>\n",
       "      <td>GARG</td>\n",
       "      <td>1BLK</td>\n",
       "      <td>ATAC,2STR,FIXR</td>\n",
       "      <td>06/2010</td>\n",
       "      <td>08/2010</td>\n",
       "    </tr>\n",
       "    <tr>\n",
       "      <th>3</th>\n",
       "      <td>2012-06-07</td>\n",
       "      <td>2012-07-13</td>\n",
       "      <td>PVDW</td>\n",
       "      <td>ATCH,GARG,ATDR,INAC</td>\n",
       "      <td>2BLK</td>\n",
       "      <td>3STR</td>\n",
       "      <td>06/2012</td>\n",
       "      <td>07/2012</td>\n",
       "    </tr>\n",
       "    <tr>\n",
       "      <th>4</th>\n",
       "      <td>2018-05-17</td>\n",
       "      <td>2018-06-21</td>\n",
       "      <td>0</td>\n",
       "      <td>ATCH,GARG,ATDR,INAC</td>\n",
       "      <td>1BLK</td>\n",
       "      <td>2STR</td>\n",
       "      <td>05/2018</td>\n",
       "      <td>06/2018</td>\n",
       "    </tr>\n",
       "  </tbody>\n",
       "</table>\n",
       "</div>"
      ],
      "text/plain": [
       "  on_market_date  sale_date drive_side              parking transportation  \\\n",
       "0     2013-03-14 2013-03-22  PVDW,PVSW            ATCH,GARG           1BLK   \n",
       "1     2017-05-18 2017-08-17          0  ATCH,GARG,ATDR,INAC           1BLK   \n",
       "2     2010-06-27 2010-08-20  PVDW,PVSW                 GARG           1BLK   \n",
       "3     2012-06-07 2012-07-13       PVDW  ATCH,GARG,ATDR,INAC           2BLK   \n",
       "4     2018-05-17 2018-06-21          0  ATCH,GARG,ATDR,INAC           1BLK   \n",
       "\n",
       "             type on_market_month_year sale_month_year  \n",
       "0            3STR              03/2013         03/2013  \n",
       "1               0              05/2017         08/2017  \n",
       "2  ATAC,2STR,FIXR              06/2010         08/2010  \n",
       "3            3STR              06/2012         07/2012  \n",
       "4            2STR              05/2018         06/2018  "
      ]
     },
     "execution_count": 73,
     "metadata": {},
     "output_type": "execute_result"
    }
   ],
   "source": [
    "x_cat.head(5)"
   ]
  },
  {
   "cell_type": "code",
   "execution_count": 74,
   "metadata": {},
   "outputs": [
    {
     "name": "stdout",
     "output_type": "stream",
     "text": [
      "Linear Regression score without feature engineering: 0.6319655908401001\n",
      "CPU times: user 109 ms, sys: 26.7 ms, total: 136 ms\n",
      "Wall time: 137 ms\n"
     ]
    }
   ],
   "source": [
    "%%time\n",
    "baseline_lr_score = get_score(lr, x.select_dtypes(include = 'number'), y)\n",
    "print('Linear Regression score without feature engineering:', baseline_lr_score)"
   ]
  },
  {
   "cell_type": "code",
   "execution_count": 75,
   "metadata": {},
   "outputs": [
    {
     "data": {
      "text/html": [
       "<div>\n",
       "<style scoped>\n",
       "    .dataframe tbody tr th:only-of-type {\n",
       "        vertical-align: middle;\n",
       "    }\n",
       "\n",
       "    .dataframe tbody tr th {\n",
       "        vertical-align: top;\n",
       "    }\n",
       "\n",
       "    .dataframe thead th {\n",
       "        text-align: right;\n",
       "    }\n",
       "</style>\n",
       "<table border=\"1\" class=\"dataframe\">\n",
       "  <thead>\n",
       "    <tr style=\"text-align: right;\">\n",
       "      <th></th>\n",
       "      <th>coef</th>\n",
       "    </tr>\n",
       "  </thead>\n",
       "  <tbody>\n",
       "    <tr>\n",
       "      <th>trea</th>\n",
       "      <td>4.685570e+14</td>\n",
       "    </tr>\n",
       "    <tr>\n",
       "      <th>pornography/obscene mat</th>\n",
       "      <td>4.685570e+14</td>\n",
       "    </tr>\n",
       "    <tr>\n",
       "      <th>suicide</th>\n",
       "      <td>4.685570e+14</td>\n",
       "    </tr>\n",
       "    <tr>\n",
       "      <th>stolen property</th>\n",
       "      <td>4.685570e+14</td>\n",
       "    </tr>\n",
       "    <tr>\n",
       "      <th>disorderly conduct</th>\n",
       "      <td>4.685570e+14</td>\n",
       "    </tr>\n",
       "    <tr>\n",
       "      <th>extortion</th>\n",
       "      <td>4.685570e+14</td>\n",
       "    </tr>\n",
       "    <tr>\n",
       "      <th>kidnapping</th>\n",
       "      <td>4.685570e+14</td>\n",
       "    </tr>\n",
       "    <tr>\n",
       "      <th>bribery</th>\n",
       "      <td>4.685570e+14</td>\n",
       "    </tr>\n",
       "    <tr>\n",
       "      <th>arson</th>\n",
       "      <td>4.685570e+14</td>\n",
       "    </tr>\n",
       "    <tr>\n",
       "      <th>bad checks</th>\n",
       "      <td>4.685570e+14</td>\n",
       "    </tr>\n",
       "  </tbody>\n",
       "</table>\n",
       "</div>"
      ],
      "text/plain": [
       "                                 coef\n",
       "trea                     4.685570e+14\n",
       "pornography/obscene mat  4.685570e+14\n",
       "suicide                  4.685570e+14\n",
       "stolen property          4.685570e+14\n",
       "disorderly conduct       4.685570e+14\n",
       "extortion                4.685570e+14\n",
       "kidnapping               4.685570e+14\n",
       "bribery                  4.685570e+14\n",
       "arson                    4.685570e+14\n",
       "bad checks               4.685570e+14"
      ]
     },
     "execution_count": 75,
     "metadata": {},
     "output_type": "execute_result"
    }
   ],
   "source": [
    "get_coef(lr, x_num, y).head(10)"
   ]
  },
  {
   "cell_type": "markdown",
   "metadata": {},
   "source": [
    "# Feature Elimination\n",
    "1. Drop Highly Correlated Features"
   ]
  },
  {
   "cell_type": "code",
   "execution_count": 76,
   "metadata": {},
   "outputs": [],
   "source": [
    "# FROM: https://chrisalbon.com/machine_learning/feature_selection/drop_highly_correlated_features/\n",
    "corr_matrix = x_num.corr().abs()\n",
    "upper = corr_matrix.where(np.triu(np.ones(corr_matrix.shape), k=1).astype(np.bool))\n",
    "to_drop = [column for column in upper.columns if any(upper[column] > 0.9)]"
   ]
  },
  {
   "cell_type": "code",
   "execution_count": 77,
   "metadata": {},
   "outputs": [
    {
     "name": "stdout",
     "output_type": "stream",
     "text": [
      "LR r2_score: 0.602\n"
     ]
    }
   ],
   "source": [
    "x_fe = x.drop(x[to_drop], axis=1).copy()\n",
    "print(\"LR r2_score: {:.3f}\".format(get_score(lr, x_fe.select_dtypes(include = 'number'), y)))"
   ]
  },
  {
   "cell_type": "markdown",
   "metadata": {},
   "source": [
    "# Linear Regression Transformation \n",
    "1. OneHot Encode variables with comma-seperated features\n",
    "2. BinaryEncoder for sparse features\n",
    "3. Ordinal Encoding for Month-Year and Neighborhood"
   ]
  },
  {
   "cell_type": "code",
   "execution_count": 78,
   "metadata": {},
   "outputs": [],
   "source": [
    "x_lr = x_fe.copy()"
   ]
  },
  {
   "cell_type": "code",
   "execution_count": 79,
   "metadata": {},
   "outputs": [],
   "source": [
    "x_lr.drop(columns = ['on_market_date'], inplace=True)"
   ]
  },
  {
   "cell_type": "code",
   "execution_count": 80,
   "metadata": {},
   "outputs": [],
   "source": [
    "x_lr = x_lr.merge(x_lr['parking'].str.get_dummies(sep=',').rename(lambda x: 'parking_' + x, axis='columns'), left_index=True, right_index=True)"
   ]
  },
  {
   "cell_type": "code",
   "execution_count": 81,
   "metadata": {},
   "outputs": [],
   "source": [
    "x_lr = x_lr.merge(x_lr['drive_side'].str.get_dummies(sep=',').rename(lambda x: 'drive_side_' + x, axis='columns'), left_index=True, right_index=True)"
   ]
  },
  {
   "cell_type": "code",
   "execution_count": 82,
   "metadata": {},
   "outputs": [],
   "source": [
    "x_lr = x_lr.merge(x_lr['type'].str.get_dummies(sep=',').rename(lambda x: 'type_' + x, axis='columns'), left_index=True, right_index=True)"
   ]
  },
  {
   "cell_type": "code",
   "execution_count": 83,
   "metadata": {},
   "outputs": [],
   "source": [
    "x_lr.drop(columns = ['parking', 'drive_side', 'type'], inplace=True)"
   ]
  },
  {
   "cell_type": "code",
   "execution_count": 84,
   "metadata": {},
   "outputs": [
    {
     "data": {
      "text/plain": [
       "sale_date               2655\n",
       "transportation            16\n",
       "on_market_month_year     133\n",
       "sale_month_year          120\n",
       "dtype: int64"
      ]
     },
     "execution_count": 84,
     "metadata": {},
     "output_type": "execute_result"
    }
   ],
   "source": [
    "x_lr.select_dtypes(exclude = 'number').nunique()"
   ]
  },
  {
   "cell_type": "code",
   "execution_count": 85,
   "metadata": {},
   "outputs": [
    {
     "name": "stdout",
     "output_type": "stream",
     "text": [
      "Linear Regression score with 1-hot encoding: 0.6191789317059218\n",
      "CPU times: user 112 ms, sys: 30.4 ms, total: 142 ms\n",
      "Wall time: 115 ms\n"
     ]
    }
   ],
   "source": [
    "%%time\n",
    "dummy1_lr_score = get_score(lr, x_lr.select_dtypes(include = 'number'), y)\n",
    "print('Linear Regression score with 1-hot encoding:', dummy1_lr_score)"
   ]
  },
  {
   "cell_type": "markdown",
   "metadata": {},
   "source": [
    "## Binary Encoding"
   ]
  },
  {
   "cell_type": "code",
   "execution_count": 86,
   "metadata": {},
   "outputs": [],
   "source": [
    "# ce_bin = BinaryEncoder(cols = ['street_name'])\n",
    "ce_bin = BinaryEncoder(cols = ['transportation'])\n",
    "x_lr2 = ce_bin.fit_transform(x_lr)"
   ]
  },
  {
   "cell_type": "code",
   "execution_count": 87,
   "metadata": {},
   "outputs": [
    {
     "name": "stdout",
     "output_type": "stream",
     "text": [
      "Linear Regression score with target encoding: 0.6197382506377681\n",
      "CPU times: user 111 ms, sys: 20.2 ms, total: 131 ms\n",
      "Wall time: 100 ms\n"
     ]
    }
   ],
   "source": [
    "%%time\n",
    "dummy2_lr_score = get_score(lr, x_lr2.select_dtypes(include = 'number'), y)\n",
    "print('Linear Regression score with target encoding:', dummy2_lr_score)"
   ]
  },
  {
   "cell_type": "markdown",
   "metadata": {},
   "source": [
    "## Ordinal Encoding"
   ]
  },
  {
   "cell_type": "code",
   "execution_count": 88,
   "metadata": {},
   "outputs": [],
   "source": [
    "ce_oe = OrdinalEncoder(cols = ['on_market_month_year', 'sale_month_year'])\n",
    "x_lr3 = ce_oe.fit_transform(x_lr2, y)"
   ]
  },
  {
   "cell_type": "code",
   "execution_count": 89,
   "metadata": {},
   "outputs": [
    {
     "name": "stdout",
     "output_type": "stream",
     "text": [
      "Linear Regression score with ordinal encoding: 0.6200124779695756\n",
      "CPU times: user 121 ms, sys: 31.1 ms, total: 152 ms\n",
      "Wall time: 119 ms\n"
     ]
    }
   ],
   "source": [
    "%%time\n",
    "dummy3_lr_score = get_score(lr, x_lr3.select_dtypes(include = 'number'), y)\n",
    "print('Linear Regression score with ordinal encoding:', dummy3_lr_score)"
   ]
  },
  {
   "cell_type": "code",
   "execution_count": 90,
   "metadata": {},
   "outputs": [
    {
     "data": {
      "text/html": [
       "<div>\n",
       "<style scoped>\n",
       "    .dataframe tbody tr th:only-of-type {\n",
       "        vertical-align: middle;\n",
       "    }\n",
       "\n",
       "    .dataframe tbody tr th {\n",
       "        vertical-align: top;\n",
       "    }\n",
       "\n",
       "    .dataframe thead th {\n",
       "        text-align: right;\n",
       "    }\n",
       "</style>\n",
       "<table border=\"1\" class=\"dataframe\">\n",
       "  <thead>\n",
       "    <tr style=\"text-align: right;\">\n",
       "      <th></th>\n",
       "      <th>coef</th>\n",
       "    </tr>\n",
       "  </thead>\n",
       "  <tbody>\n",
       "    <tr>\n",
       "      <th>type_4STR</th>\n",
       "      <td>1.550833e+06</td>\n",
       "    </tr>\n",
       "    <tr>\n",
       "      <th>baths</th>\n",
       "      <td>4.084683e+05</td>\n",
       "    </tr>\n",
       "    <tr>\n",
       "      <th>drive_side_SHDW</th>\n",
       "      <td>3.081843e+05</td>\n",
       "    </tr>\n",
       "    <tr>\n",
       "      <th>parking_GSPC</th>\n",
       "      <td>1.480289e+05</td>\n",
       "    </tr>\n",
       "    <tr>\n",
       "      <th>num_parking</th>\n",
       "      <td>1.418776e+05</td>\n",
       "    </tr>\n",
       "    <tr>\n",
       "      <th>...</th>\n",
       "      <td>...</td>\n",
       "    </tr>\n",
       "    <tr>\n",
       "      <th>drive_side_DIRT</th>\n",
       "      <td>-1.880935e+05</td>\n",
       "    </tr>\n",
       "    <tr>\n",
       "      <th>pornography/obscene mat</th>\n",
       "      <td>-2.141571e+05</td>\n",
       "    </tr>\n",
       "    <tr>\n",
       "      <th>drive_side_GRVL</th>\n",
       "      <td>-2.169495e+05</td>\n",
       "    </tr>\n",
       "    <tr>\n",
       "      <th>type_TWNH</th>\n",
       "      <td>-3.266633e+05</td>\n",
       "    </tr>\n",
       "    <tr>\n",
       "      <th>trea</th>\n",
       "      <td>-3.515991e+05</td>\n",
       "    </tr>\n",
       "  </tbody>\n",
       "</table>\n",
       "<p>74 rows × 1 columns</p>\n",
       "</div>"
      ],
      "text/plain": [
       "                                 coef\n",
       "type_4STR                1.550833e+06\n",
       "baths                    4.084683e+05\n",
       "drive_side_SHDW          3.081843e+05\n",
       "parking_GSPC             1.480289e+05\n",
       "num_parking              1.418776e+05\n",
       "...                               ...\n",
       "drive_side_DIRT         -1.880935e+05\n",
       "pornography/obscene mat -2.141571e+05\n",
       "drive_side_GRVL         -2.169495e+05\n",
       "type_TWNH               -3.266633e+05\n",
       "trea                    -3.515991e+05\n",
       "\n",
       "[74 rows x 1 columns]"
      ]
     },
     "execution_count": 90,
     "metadata": {},
     "output_type": "execute_result"
    }
   ],
   "source": [
    "get_coef(lr, x_lr3.select_dtypes(include = 'number'), y)"
   ]
  },
  {
   "cell_type": "markdown",
   "metadata": {},
   "source": [
    "# Adding Location Variables"
   ]
  },
  {
   "cell_type": "code",
   "execution_count": null,
   "metadata": {},
   "outputs": [],
   "source": [
    "x_lc = x.copy()"
   ]
  },
  {
   "cell_type": "code",
   "execution_count": null,
   "metadata": {},
   "outputs": [],
   "source": [
    "xy_scaler = std_scaler.fit(x_lc[[\"latitude\",\"longitude\"]])\n",
    "x_lc[[\"latitude\",\"longitude\"]]=xy_scaler.transform(x_lc[[\"latitude\",\"longitude\"]])"
   ]
  },
  {
   "cell_type": "code",
   "execution_count": null,
   "metadata": {},
   "outputs": [],
   "source": [
    "x_lc[\"rot45latitude\"] = .707* x_lc[\"longitude\"] + .707* x_lc[\"latitude\"] \n",
    "x_lc[\"rot45longitude\"] = .707* x_lc[\"longitude\"] - .707* x_lc[\"latitude\"]\n",
    "x_lc[\"rot30latitude\"] = (1.732/2)* x_lc[\"latitude\"] + (1./2)* x_lc[\"longitude\"] \n",
    "x_lc[\"rot30longitude\"] = (1.732/2)* x_lc[\"longitude\"] - (1./2)* x_lc[\"latitude\"]\n",
    "x_lc[\"rot60latitude\"] = (1./2)* x_lc[\"latitude\"] + (1.732/2)* x_lc[\"longitude\"] \n",
    "x_lc[\"rot60longitude\"] = (1./2)* x_lc[\"longitude\"] - (1.732/2)* x_lc[\"latitude\"]\n",
    "x_lc[\"radial_r\"] = np.sqrt( np.power(x_lc[\"longitude\"],2) + np.power(x_lc[\"latitude\"],2))"
   ]
  },
  {
   "cell_type": "code",
   "execution_count": null,
   "metadata": {},
   "outputs": [],
   "source": [
    "print(\"LR r2_score: {:.3f}\".format(get_score(rf, x_lc.select_dtypes(include = 'number'), y)))"
   ]
  },
  {
   "cell_type": "markdown",
   "metadata": {},
   "source": [
    "# Adding Square Variables"
   ]
  },
  {
   "cell_type": "code",
   "execution_count": 102,
   "metadata": {},
   "outputs": [],
   "source": [
    "x_lr4 = x_lr3.copy()"
   ]
  },
  {
   "cell_type": "code",
   "execution_count": 103,
   "metadata": {},
   "outputs": [],
   "source": [
    "square_cols_list = []\n",
    "cols_num = list(set(list(x_lr4.columns)) - set(list(x_lr3.columns)).difference(set(list(x_num.columns))))\n",
    "for col in cols_num: \n",
    "    square_cols_list.append(col + \"_2\") "
   ]
  },
  {
   "cell_type": "code",
   "execution_count": 105,
   "metadata": {},
   "outputs": [],
   "source": [
    "x_lr4[square_cols_list] = x_lr4[cols_num].pow(2)"
   ]
  },
  {
   "cell_type": "code",
   "execution_count": 97,
   "metadata": {},
   "outputs": [
    {
     "name": "stdout",
     "output_type": "stream",
     "text": [
      "LR r2_score: 0.696\n"
     ]
    }
   ],
   "source": [
    "print(\"LR r2_score: {:.3f}\".format(get_score(lr, x_lr4.select_dtypes(include = 'number'), y)))"
   ]
  },
  {
   "cell_type": "code",
   "execution_count": 100,
   "metadata": {},
   "outputs": [
    {
     "data": {
      "text/html": [
       "<div>\n",
       "<style scoped>\n",
       "    .dataframe tbody tr th:only-of-type {\n",
       "        vertical-align: middle;\n",
       "    }\n",
       "\n",
       "    .dataframe tbody tr th {\n",
       "        vertical-align: top;\n",
       "    }\n",
       "\n",
       "    .dataframe thead th {\n",
       "        text-align: right;\n",
       "    }\n",
       "</style>\n",
       "<table border=\"1\" class=\"dataframe\">\n",
       "  <thead>\n",
       "    <tr style=\"text-align: right;\">\n",
       "      <th></th>\n",
       "      <th>coef</th>\n",
       "    </tr>\n",
       "  </thead>\n",
       "  <tbody>\n",
       "    <tr>\n",
       "      <th>pornography/obscene mat</th>\n",
       "      <td>1.360621e+07</td>\n",
       "    </tr>\n",
       "    <tr>\n",
       "      <th>type_4STR</th>\n",
       "      <td>1.165367e+06</td>\n",
       "    </tr>\n",
       "    <tr>\n",
       "      <th>extortion</th>\n",
       "      <td>3.018293e+05</td>\n",
       "    </tr>\n",
       "    <tr>\n",
       "      <th>drive_side_SHDW</th>\n",
       "      <td>2.739613e+05</td>\n",
       "    </tr>\n",
       "    <tr>\n",
       "      <th>gsRating</th>\n",
       "      <td>2.703085e+05</td>\n",
       "    </tr>\n",
       "    <tr>\n",
       "      <th>...</th>\n",
       "      <td>...</td>\n",
       "    </tr>\n",
       "    <tr>\n",
       "      <th>charter</th>\n",
       "      <td>-2.327292e+05</td>\n",
       "    </tr>\n",
       "    <tr>\n",
       "      <th>transportation_0</th>\n",
       "      <td>-2.345133e+05</td>\n",
       "    </tr>\n",
       "    <tr>\n",
       "      <th>public</th>\n",
       "      <td>-2.659102e+05</td>\n",
       "    </tr>\n",
       "    <tr>\n",
       "      <th>pornography/obscene mat_2</th>\n",
       "      <td>-1.395441e+07</td>\n",
       "    </tr>\n",
       "    <tr>\n",
       "      <th>on_market_year</th>\n",
       "      <td>-2.621339e+07</td>\n",
       "    </tr>\n",
       "  </tbody>\n",
       "</table>\n",
       "<p>110 rows × 1 columns</p>\n",
       "</div>"
      ],
      "text/plain": [
       "                                   coef\n",
       "pornography/obscene mat    1.360621e+07\n",
       "type_4STR                  1.165367e+06\n",
       "extortion                  3.018293e+05\n",
       "drive_side_SHDW            2.739613e+05\n",
       "gsRating                   2.703085e+05\n",
       "...                                 ...\n",
       "charter                   -2.327292e+05\n",
       "transportation_0          -2.345133e+05\n",
       "public                    -2.659102e+05\n",
       "pornography/obscene mat_2 -1.395441e+07\n",
       "on_market_year            -2.621339e+07\n",
       "\n",
       "[110 rows x 1 columns]"
      ]
     },
     "execution_count": 100,
     "metadata": {},
     "output_type": "execute_result"
    }
   ],
   "source": [
    "get_coef(lr, x_lr4.select_dtypes(include = 'number'), y)"
   ]
  },
  {
   "cell_type": "markdown",
   "metadata": {},
   "source": [
    "# Eliminate Features"
   ]
  },
  {
   "cell_type": "code",
   "execution_count": 108,
   "metadata": {},
   "outputs": [],
   "source": [
    "corr_matrix = x_lr4.corr().abs()\n",
    "upper = corr_matrix.where(np.triu(np.ones(corr_matrix.shape), k=1).astype(np.bool))\n",
    "to_drop = [column for column in upper.columns if any(upper[column] > 0.95)]"
   ]
  },
  {
   "cell_type": "code",
   "execution_count": 109,
   "metadata": {},
   "outputs": [
    {
     "name": "stdout",
     "output_type": "stream",
     "text": [
      "LR r2_score: 0.685\n"
     ]
    }
   ],
   "source": [
    "x_lr5 = x_lr4.drop(x_lr4[to_drop], axis=1).copy()\n",
    "print(\"LR r2_score: {:.3f}\".format(get_score(lr, x_lr5.select_dtypes(include = 'number'), y)))"
   ]
  },
  {
   "cell_type": "code",
   "execution_count": 110,
   "metadata": {},
   "outputs": [
    {
     "data": {
      "text/plain": [
       "98"
      ]
     },
     "execution_count": 110,
     "metadata": {},
     "output_type": "execute_result"
    }
   ],
   "source": [
    "x_lr5.columns.shape[0]"
   ]
  },
  {
   "cell_type": "markdown",
   "metadata": {},
   "source": [
    "# Recursive Feature Elimination"
   ]
  },
  {
   "cell_type": "code",
   "execution_count": null,
   "metadata": {},
   "outputs": [],
   "source": [
    "# classifications\n",
    "rfecv = RFECV(lr, step=5, min_features_to_select = 60,\n",
    "              scoring='r2')\n",
    "rfecv.fit(x_lr5, y)\n",
    "print(\"Optimal number of features : %d\" % rfecv.n_features_)"
   ]
  },
  {
   "cell_type": "code",
   "execution_count": null,
   "metadata": {},
   "outputs": [],
   "source": [
    "# Plot number of features VS. cross-validation scores\n",
    "plt.figure()\n",
    "plt.xlabel(\"Number of features selected\")\n",
    "plt.ylabel(\"Cross validation score (nb of correct classifications)\")\n",
    "plt.plot(range(50, 5*len(rfecv.grid_scores_) + 50, 5), rfecv.grid_scores_)\n",
    "plt.show()"
   ]
  },
  {
   "cell_type": "code",
   "execution_count": null,
   "metadata": {},
   "outputs": [],
   "source": [
    "x_lr_rfe = x_lr5[x_lr5.columns[rfecv.support_]]"
   ]
  },
  {
   "cell_type": "code",
   "execution_count": null,
   "metadata": {},
   "outputs": [],
   "source": [
    "print(\"LR r2_score: {:.3f}\".format(get_score(lr, x_lr_rfe, y)))"
   ]
  },
  {
   "cell_type": "markdown",
   "metadata": {},
   "source": [
    "# Export"
   ]
  },
  {
   "cell_type": "code",
   "execution_count": 111,
   "metadata": {},
   "outputs": [],
   "source": [
    "def export_df(df_, name_):\n",
    "    month_day = datetime.now().strftime('%m-%d')\n",
    "    df_.to_csv('ENG_DATA/SELECTED/{}_{}.csv'.format(month_day, name_))"
   ]
  },
  {
   "cell_type": "code",
   "execution_count": 113,
   "metadata": {},
   "outputs": [],
   "source": [
    "export_df(x_lr4.merge(y, left_index = True, right_index = True), \"lr_noloc\")"
   ]
  },
  {
   "cell_type": "code",
   "execution_count": null,
   "metadata": {},
   "outputs": [],
   "source": []
  }
 ],
 "metadata": {
  "kernelspec": {
   "display_name": "Python 3",
   "language": "python",
   "name": "python3"
  },
  "language_info": {
   "codemirror_mode": {
    "name": "ipython",
    "version": 3
   },
   "file_extension": ".py",
   "mimetype": "text/x-python",
   "name": "python",
   "nbconvert_exporter": "python",
   "pygments_lexer": "ipython3",
   "version": "3.6.10"
  }
 },
 "nbformat": 4,
 "nbformat_minor": 2
}
