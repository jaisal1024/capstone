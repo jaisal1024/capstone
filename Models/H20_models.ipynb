{
 "cells": [
  {
   "cell_type": "code",
   "execution_count": 7,
   "metadata": {},
   "outputs": [],
   "source": [
    "import os\n",
    "import h2o\n",
    "from h2o.automl import H2OAutoML"
   ]
  },
  {
   "cell_type": "code",
   "execution_count": 8,
   "metadata": {},
   "outputs": [],
   "source": [
    "os.chdir('..')"
   ]
  },
  {
   "cell_type": "code",
   "execution_count": 3,
   "metadata": {},
   "outputs": [
    {
     "name": "stdout",
     "output_type": "stream",
     "text": [
      "Checking whether there is an H2O instance running at http://localhost:54321 ..... not found.\n",
      "Attempting to start a local H2O server...\n",
      "  Java Version: java version \"1.8.0_51\"; Java(TM) SE Runtime Environment (build 1.8.0_51-b16); Java HotSpot(TM) 64-Bit Server VM (build 25.51-b03, mixed mode)\n",
      "  Starting server from /Users/37138/anaconda3/lib/python3.6/site-packages/h2o/backend/bin/h2o.jar\n",
      "  Ice root: /var/folders/ff/0003j6g13lzcpwj4j090w7v9sr000f/T/tmphdwgtxi0\n",
      "  JVM stdout: /var/folders/ff/0003j6g13lzcpwj4j090w7v9sr000f/T/tmphdwgtxi0/h2o_jpf_started_from_python.out\n",
      "  JVM stderr: /var/folders/ff/0003j6g13lzcpwj4j090w7v9sr000f/T/tmphdwgtxi0/h2o_jpf_started_from_python.err\n",
      "  Server is running at http://127.0.0.1:54321\n",
      "Connecting to H2O server at http://127.0.0.1:54321 ... successful.\n"
     ]
    },
    {
     "data": {
      "text/html": [
       "<div style=\"overflow:auto\"><table style=\"width:50%\"><tr><td>H2O cluster uptime:</td>\n",
       "<td>02 secs</td></tr>\n",
       "<tr><td>H2O cluster timezone:</td>\n",
       "<td>Asia/Dubai</td></tr>\n",
       "<tr><td>H2O data parsing timezone:</td>\n",
       "<td>UTC</td></tr>\n",
       "<tr><td>H2O cluster version:</td>\n",
       "<td>3.26.0.11</td></tr>\n",
       "<tr><td>H2O cluster version age:</td>\n",
       "<td>3 days </td></tr>\n",
       "<tr><td>H2O cluster name:</td>\n",
       "<td>H2O_from_python_jpf_3uzrs9</td></tr>\n",
       "<tr><td>H2O cluster total nodes:</td>\n",
       "<td>1</td></tr>\n",
       "<tr><td>H2O cluster free memory:</td>\n",
       "<td>1.778 Gb</td></tr>\n",
       "<tr><td>H2O cluster total cores:</td>\n",
       "<td>4</td></tr>\n",
       "<tr><td>H2O cluster allowed cores:</td>\n",
       "<td>4</td></tr>\n",
       "<tr><td>H2O cluster status:</td>\n",
       "<td>accepting new members, healthy</td></tr>\n",
       "<tr><td>H2O connection url:</td>\n",
       "<td>http://127.0.0.1:54321</td></tr>\n",
       "<tr><td>H2O connection proxy:</td>\n",
       "<td>{'http': None, 'https': None}</td></tr>\n",
       "<tr><td>H2O internal security:</td>\n",
       "<td>False</td></tr>\n",
       "<tr><td>H2O API Extensions:</td>\n",
       "<td>Amazon S3, XGBoost, Algos, AutoML, Core V3, TargetEncoder, Core V4</td></tr>\n",
       "<tr><td>Python version:</td>\n",
       "<td>3.6.9 final</td></tr></table></div>"
      ],
      "text/plain": [
       "--------------------------  ------------------------------------------------------------------\n",
       "H2O cluster uptime:         02 secs\n",
       "H2O cluster timezone:       Asia/Dubai\n",
       "H2O data parsing timezone:  UTC\n",
       "H2O cluster version:        3.26.0.11\n",
       "H2O cluster version age:    3 days\n",
       "H2O cluster name:           H2O_from_python_jpf_3uzrs9\n",
       "H2O cluster total nodes:    1\n",
       "H2O cluster free memory:    1.778 Gb\n",
       "H2O cluster total cores:    4\n",
       "H2O cluster allowed cores:  4\n",
       "H2O cluster status:         accepting new members, healthy\n",
       "H2O connection url:         http://127.0.0.1:54321\n",
       "H2O connection proxy:       {'http': None, 'https': None}\n",
       "H2O internal security:      False\n",
       "H2O API Extensions:         Amazon S3, XGBoost, Algos, AutoML, Core V3, TargetEncoder, Core V4\n",
       "Python version:             3.6.9 final\n",
       "--------------------------  ------------------------------------------------------------------"
      ]
     },
     "metadata": {},
     "output_type": "display_data"
    }
   ],
   "source": [
    "h2o.init()"
   ]
  },
  {
   "cell_type": "code",
   "execution_count": 22,
   "metadata": {},
   "outputs": [
    {
     "name": "stdout",
     "output_type": "stream",
     "text": [
      "Parse progress: |█████████████████████████████████████████████████████████| 100%\n",
      "Parse progress: |█████████████████████████████████████████████████████████| 100%\n"
     ]
    }
   ],
   "source": [
    "# Import a sample binary outcome train/test set into H2O\n",
    "train = h2o.import_file('ENG_DATA/SELECTED/12-8_test.csv')\n",
    "test = h2o.import_file('ENG_DATA/SELECTED/12-8_train.csv')\n",
    "factor_columns = ['full_address',\n",
    " 'street_name',\n",
    " 'type',\n",
    " 'neighborhood']\n",
    "\n",
    "#remove column index \n",
    "train.columns.remove(\"C1\")\n",
    "test.columns.remove(\"C1\")\n",
    "\n",
    "# Identify predictors and response\n",
    "x = train.columns\n",
    "y = \"sale_price\"\n",
    "x.remove(y)\n",
    "x.remove(\"C1\")"
   ]
  },
  {
   "cell_type": "code",
   "execution_count": 23,
   "metadata": {},
   "outputs": [],
   "source": [
    "for f in factor_columns: \n",
    "    train[f] = train[f].asfactor()\n",
    "    test[f] = test[f].asfactor()"
   ]
  },
  {
   "cell_type": "code",
   "execution_count": 24,
   "metadata": {},
   "outputs": [
    {
     "name": "stdout",
     "output_type": "stream",
     "text": [
      "AutoML progress: |████████████████████████████████████████████████████████| 100%\n"
     ]
    },
    {
     "data": {
      "text/html": [
       "<table>\n",
       "<thead>\n",
       "<tr><th>model_id                                           </th><th style=\"text-align: right;\">  mean_residual_deviance</th><th style=\"text-align: right;\">            rmse</th><th style=\"text-align: right;\">        mse</th><th style=\"text-align: right;\">   mae</th><th style=\"text-align: right;\">     rmsle</th></tr>\n",
       "</thead>\n",
       "<tbody>\n",
       "<tr><td>StackedEnsemble_BestOfFamily_AutoML_20191209_190625</td><td style=\"text-align: right;\">             3.44759e+11</td><td style=\"text-align: right;\">587162          </td><td style=\"text-align: right;\">3.44759e+11</td><td style=\"text-align: right;\">238006</td><td style=\"text-align: right;\">  0.207269</td></tr>\n",
       "<tr><td>StackedEnsemble_AllModels_AutoML_20191209_190625   </td><td style=\"text-align: right;\">             3.48333e+11</td><td style=\"text-align: right;\">590198          </td><td style=\"text-align: right;\">3.48333e+11</td><td style=\"text-align: right;\">239730</td><td style=\"text-align: right;\">  0.208356</td></tr>\n",
       "<tr><td>XGBoost_1_AutoML_20191209_190625                   </td><td style=\"text-align: right;\">             3.51993e+11</td><td style=\"text-align: right;\">593290          </td><td style=\"text-align: right;\">3.51993e+11</td><td style=\"text-align: right;\">238027</td><td style=\"text-align: right;\">  0.209808</td></tr>\n",
       "<tr><td>XGBoost_2_AutoML_20191209_190625                   </td><td style=\"text-align: right;\">             3.58749e+11</td><td style=\"text-align: right;\">598956          </td><td style=\"text-align: right;\">3.58749e+11</td><td style=\"text-align: right;\">240627</td><td style=\"text-align: right;\">  0.20972 </td></tr>\n",
       "<tr><td>XGBoost_grid_1_AutoML_20191209_190625_model_1      </td><td style=\"text-align: right;\">             3.63377e+11</td><td style=\"text-align: right;\">602807          </td><td style=\"text-align: right;\">3.63377e+11</td><td style=\"text-align: right;\">254855</td><td style=\"text-align: right;\">  0.226783</td></tr>\n",
       "<tr><td>GBM_1_AutoML_20191209_190625                       </td><td style=\"text-align: right;\">             3.73138e+11</td><td style=\"text-align: right;\">610850          </td><td style=\"text-align: right;\">3.73138e+11</td><td style=\"text-align: right;\">243268</td><td style=\"text-align: right;\">  0.21043 </td></tr>\n",
       "<tr><td>XGBoost_3_AutoML_20191209_190625                   </td><td style=\"text-align: right;\">             3.73526e+11</td><td style=\"text-align: right;\">611168          </td><td style=\"text-align: right;\">3.73526e+11</td><td style=\"text-align: right;\">253452</td><td style=\"text-align: right;\">  0.222857</td></tr>\n",
       "<tr><td>GBM_4_AutoML_20191209_190625                       </td><td style=\"text-align: right;\">             3.76123e+11</td><td style=\"text-align: right;\">613289          </td><td style=\"text-align: right;\">3.76123e+11</td><td style=\"text-align: right;\">249345</td><td style=\"text-align: right;\">nan       </td></tr>\n",
       "<tr><td>GBM_grid_1_AutoML_20191209_190625_model_1          </td><td style=\"text-align: right;\">             3.83052e+11</td><td style=\"text-align: right;\">618912          </td><td style=\"text-align: right;\">3.83052e+11</td><td style=\"text-align: right;\">255106</td><td style=\"text-align: right;\">nan       </td></tr>\n",
       "<tr><td>GBM_2_AutoML_20191209_190625                       </td><td style=\"text-align: right;\">             3.87522e+11</td><td style=\"text-align: right;\">622512          </td><td style=\"text-align: right;\">3.87522e+11</td><td style=\"text-align: right;\">250824</td><td style=\"text-align: right;\">nan       </td></tr>\n",
       "<tr><td>XGBoost_grid_1_AutoML_20191209_190625_model_2      </td><td style=\"text-align: right;\">             3.87954e+11</td><td style=\"text-align: right;\">622859          </td><td style=\"text-align: right;\">3.87954e+11</td><td style=\"text-align: right;\">245576</td><td style=\"text-align: right;\">  0.207457</td></tr>\n",
       "<tr><td>XGBoost_grid_1_AutoML_20191209_190625_model_3      </td><td style=\"text-align: right;\">             3.91192e+11</td><td style=\"text-align: right;\">625454          </td><td style=\"text-align: right;\">3.91192e+11</td><td style=\"text-align: right;\">249221</td><td style=\"text-align: right;\">  0.216465</td></tr>\n",
       "<tr><td>GBM_3_AutoML_20191209_190625                       </td><td style=\"text-align: right;\">             3.93876e+11</td><td style=\"text-align: right;\">627595          </td><td style=\"text-align: right;\">3.93876e+11</td><td style=\"text-align: right;\">246872</td><td style=\"text-align: right;\">nan       </td></tr>\n",
       "<tr><td>XGBoost_grid_1_AutoML_20191209_190625_model_4      </td><td style=\"text-align: right;\">             3.9545e+11 </td><td style=\"text-align: right;\">628848          </td><td style=\"text-align: right;\">3.9545e+11 </td><td style=\"text-align: right;\">258155</td><td style=\"text-align: right;\">nan       </td></tr>\n",
       "<tr><td>XRT_1_AutoML_20191209_190625                       </td><td style=\"text-align: right;\">             4.10953e+11</td><td style=\"text-align: right;\">641056          </td><td style=\"text-align: right;\">4.10953e+11</td><td style=\"text-align: right;\">254533</td><td style=\"text-align: right;\">  0.21854 </td></tr>\n",
       "<tr><td>DRF_1_AutoML_20191209_190625                       </td><td style=\"text-align: right;\">             4.11542e+11</td><td style=\"text-align: right;\">641516          </td><td style=\"text-align: right;\">4.11542e+11</td><td style=\"text-align: right;\">255069</td><td style=\"text-align: right;\">  0.218669</td></tr>\n",
       "<tr><td>GBM_grid_1_AutoML_20191209_190625_model_2          </td><td style=\"text-align: right;\">             4.54017e+11</td><td style=\"text-align: right;\">673808          </td><td style=\"text-align: right;\">4.54017e+11</td><td style=\"text-align: right;\">292611</td><td style=\"text-align: right;\">nan       </td></tr>\n",
       "<tr><td>GBM_5_AutoML_20191209_190625                       </td><td style=\"text-align: right;\">             5.46974e+11</td><td style=\"text-align: right;\">739577          </td><td style=\"text-align: right;\">5.46974e+11</td><td style=\"text-align: right;\">272806</td><td style=\"text-align: right;\">nan       </td></tr>\n",
       "<tr><td>DeepLearning_1_AutoML_20191209_190625              </td><td style=\"text-align: right;\">             5.61564e+11</td><td style=\"text-align: right;\">749376          </td><td style=\"text-align: right;\">5.61564e+11</td><td style=\"text-align: right;\">306015</td><td style=\"text-align: right;\">  0.286742</td></tr>\n",
       "<tr><td>DeepLearning_grid_1_AutoML_20191209_190625_model_1 </td><td style=\"text-align: right;\">             5.81497e+11</td><td style=\"text-align: right;\">762559          </td><td style=\"text-align: right;\">5.81497e+11</td><td style=\"text-align: right;\">329160</td><td style=\"text-align: right;\">nan       </td></tr>\n",
       "<tr><td>DeepLearning_grid_1_AutoML_20191209_190625_model_2 </td><td style=\"text-align: right;\">             6.10293e+11</td><td style=\"text-align: right;\">781213          </td><td style=\"text-align: right;\">6.10293e+11</td><td style=\"text-align: right;\">544120</td><td style=\"text-align: right;\">  0.528784</td></tr>\n",
       "<tr><td>GLM_grid_1_AutoML_20191209_190625_model_1          </td><td style=\"text-align: right;\">             1.77939e+12</td><td style=\"text-align: right;\">     1.33394e+06</td><td style=\"text-align: right;\">1.77939e+12</td><td style=\"text-align: right;\">741082</td><td style=\"text-align: right;\">  0.678104</td></tr>\n",
       "</tbody>\n",
       "</table>"
      ]
     },
     "metadata": {},
     "output_type": "display_data"
    },
    {
     "data": {
      "text/plain": []
     },
     "execution_count": 24,
     "metadata": {},
     "output_type": "execute_result"
    }
   ],
   "source": [
    "# Run AutoML for 20 base models (limited to 1 hour max runtime by default)\n",
    "aml = H2OAutoML(max_models=20, seed=1)\n",
    "aml.train(x=x, y=y, training_frame=train)\n",
    "\n",
    "# View the AutoML Leaderboard\n",
    "lb = aml.leaderboard\n",
    "lb.head(rows=lb.nrows)  # Print all rows instead of default (10 rows)"
   ]
  },
  {
   "cell_type": "code",
   "execution_count": 25,
   "metadata": {},
   "outputs": [
    {
     "data": {
      "text/plain": [
       "{'creation_epoch': '1575903986',\n",
       " 'start_epoch': '1575903986',\n",
       " 'stop_epoch': '1575906172',\n",
       " 'duration_secs': '2186'}"
      ]
     },
     "execution_count": 25,
     "metadata": {},
     "output_type": "execute_result"
    }
   ],
   "source": [
    "aml.training_info"
   ]
  },
  {
   "cell_type": "code",
   "execution_count": null,
   "metadata": {},
   "outputs": [],
   "source": []
  }
 ],
 "metadata": {
  "kernelspec": {
   "display_name": "Python 3",
   "language": "python",
   "name": "python3"
  },
  "language_info": {
   "codemirror_mode": {
    "name": "ipython",
    "version": 3
   },
   "file_extension": ".py",
   "mimetype": "text/x-python",
   "name": "python",
   "nbconvert_exporter": "python",
   "pygments_lexer": "ipython3",
   "version": "3.6.9"
  }
 },
 "nbformat": 4,
 "nbformat_minor": 2
}
