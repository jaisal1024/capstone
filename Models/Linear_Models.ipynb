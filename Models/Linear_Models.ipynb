{
 "cells": [
  {
   "cell_type": "code",
   "execution_count": 43,
   "metadata": {},
   "outputs": [],
   "source": [
    "import os\n",
    "import json\n",
    "import pandas as pd \n",
    "import numpy as np\n",
    "from sklearn.model_selection import train_test_split\n",
    "from sklearn.linear_model import LinearRegression\n",
    "from sklearn.ensemble import RandomForestRegressor\n",
    "from sklearn.feature_selection import RFE\n",
    "from sklearn.feature_selection import RFECV\n",
    "from sklearn.preprocessing import PolynomialFeatures\n",
    "from sklearn.decomposition import PCA\n",
    "from sklearn.linear_model import Ridge\n",
    "from sklearn.pipeline import make_pipeline\n",
    "from sklearn.metrics import mean_absolute_error, median_absolute_error, r2_score, SCORERS\n",
    "from sklearn.model_selection import RandomizedSearchCV\n",
    "import matplotlib.pyplot as plt\n",
    "import pickle\n",
    "import joblib \n",
    "import json"
   ]
  },
  {
   "cell_type": "code",
   "execution_count": 2,
   "metadata": {},
   "outputs": [],
   "source": [
    "os.chdir('..')"
   ]
  },
  {
   "cell_type": "code",
   "execution_count": 3,
   "metadata": {},
   "outputs": [],
   "source": [
    "test = pd.read_csv('ENG_DATA/SELECTED/05-01_cat_transformed_test.csv', index_col = [0])\n",
    "train = pd.read_csv('ENG_DATA/SELECTED/05-01_cat_transformed_train.csv', index_col = [0])\n",
    "df = pd.concat([test, train])"
   ]
  },
  {
   "cell_type": "markdown",
   "metadata": {},
   "source": [
    "# Define Functions"
   ]
  },
  {
   "cell_type": "code",
   "execution_count": 4,
   "metadata": {},
   "outputs": [],
   "source": [
    "x = df.drop(columns = ['sale_price'])\n",
    "y = df[\"sale_price\"]"
   ]
  },
  {
   "cell_type": "code",
   "execution_count": 5,
   "metadata": {},
   "outputs": [],
   "source": [
    "def get_score(model, x, y):\n",
    "    # Split dataset into train and validation subsets:\n",
    "    X_train, X_test, y_train, y_test = train_test_split(x, y, test_size=0.2, random_state=0)\n",
    "    model.fit(X_train, y_train)\n",
    "    y_pred = model.predict(X_test)\n",
    "    score = r2_score(y_test, y_pred)\n",
    "    return score\n",
    "\n",
    "def get_model(model, x, y):\n",
    "    # Split dataset into train and validation subsets:\n",
    "    X_train, X_test, y_train, y_test = train_test_split(x, y, test_size=0.2, random_state=0)\n",
    "    model.fit(X_train, y_train)\n",
    "    return model\n",
    "\n",
    "def get_pred(model, x, y):\n",
    "    # Split dataset into train and validation subsets:\n",
    "    X_train, X_test, y_train, y_test = train_test_split(x, y, test_size=0.2, random_state=0)\n",
    "    model.fit(X_train, y_train)\n",
    "    return model.predict(X_test)"
   ]
  },
  {
   "cell_type": "code",
   "execution_count": 42,
   "metadata": {},
   "outputs": [],
   "source": [
    "# Add functions to test\n",
    "lr = LinearRegression()\n",
    "pca = PCA()\n",
    "rr = Ridge()\n",
    "rf = RandomForestRegressor(n_jobs = -1, random_state=0)\n",
    "lr_sq = make_pipeline(PolynomialFeatures(2), lr)\n",
    "rr_sq = make_pipeline(PolynomialFeatures(2), rr)"
   ]
  },
  {
   "cell_type": "markdown",
   "metadata": {},
   "source": [
    "# Simple Models for LR, RF, and RR"
   ]
  },
  {
   "cell_type": "code",
   "execution_count": 7,
   "metadata": {},
   "outputs": [
    {
     "name": "stdout",
     "output_type": "stream",
     "text": [
      "Linear Regression\n",
      "r2_score: 0.787\n",
      "CPU times: user 362 ms, sys: 76.4 ms, total: 438 ms\n",
      "Wall time: 384 ms\n"
     ]
    }
   ],
   "source": [
    "%%time\n",
    "print(\"Linear Regression\")\n",
    "print(\"r2_score: {:.3f}\".format(get_score(lr, x, y)))"
   ]
  },
  {
   "cell_type": "code",
   "execution_count": 8,
   "metadata": {},
   "outputs": [
    {
     "name": "stdout",
     "output_type": "stream",
     "text": [
      "Ridge Regression\n",
      "r2_score: 0.787\n",
      "CPU times: user 140 ms, sys: 31 ms, total: 171 ms\n",
      "Wall time: 138 ms\n"
     ]
    },
    {
     "name": "stderr",
     "output_type": "stream",
     "text": [
      "/Users/37138/anaconda3/envs/TEST/lib/python3.6/site-packages/sklearn/linear_model/_ridge.py:148: LinAlgWarning: Ill-conditioned matrix (rcond=2.92706e-17): result may not be accurate.\n",
      "  overwrite_a=True).T\n"
     ]
    }
   ],
   "source": [
    "%%time\n",
    "print(\"Ridge Regression\")\n",
    "print(\"r2_score: {:.3f}\".format(get_score(rr, x, y)))"
   ]
  },
  {
   "cell_type": "code",
   "execution_count": 9,
   "metadata": {},
   "outputs": [
    {
     "name": "stdout",
     "output_type": "stream",
     "text": [
      "Random Forests\n",
      "r2_score: 0.863\n",
      "CPU times: user 1min 11s, sys: 436 ms, total: 1min 11s\n",
      "Wall time: 1min 12s\n"
     ]
    }
   ],
   "source": [
    "%%time\n",
    "print(\"Random Forests\")\n",
    "print(\"r2_score: {:.3f}\".format(get_score(rf, x, y)))"
   ]
  },
  {
   "cell_type": "markdown",
   "metadata": {},
   "source": [
    "# Models for each year in data-set"
   ]
  },
  {
   "cell_type": "code",
   "execution_count": 10,
   "metadata": {},
   "outputs": [],
   "source": [
    "def perf_model_year(model, name, df):\n",
    "    r2_out = []\n",
    "    years = list(sorted(x.sale_year.unique()))\n",
    "    for year in years:   \n",
    "        x_yr = df.query(\"sale_year <= @year\")\n",
    "        y_yr = x_yr[\"sale_price\"]\n",
    "        r2_out.append(get_score(model, x_yr.drop(columns = ['sale_price']), y_yr))\n",
    "    \n",
    "    plt.figure()\n",
    "    plt.title(\"Yearly Performance of {}\".format(name))\n",
    "    plt.xlabel(\"r2 score\")\n",
    "    plt.ylabel(\"year\")\n",
    "    plt.plot(years, r2_out)\n",
    "    plt.show()"
   ]
  },
  {
   "cell_type": "code",
   "execution_count": 11,
   "metadata": {},
   "outputs": [
    {
     "data": {
      "image/png": "[encoded data removed]",
      "text/plain": [
       "<Figure size 432x288 with 1 Axes>"
      ]
     },
     "metadata": {
      "needs_background": "light"
     },
     "output_type": "display_data"
    }
   ],
   "source": [
    "perf_model_year(lr, \"Linear Regression\", df)"
   ]
  },
  {
   "cell_type": "code",
   "execution_count": 12,
   "metadata": {},
   "outputs": [
    {
     "name": "stderr",
     "output_type": "stream",
     "text": [
      "/Users/37138/anaconda3/envs/TEST/lib/python3.6/site-packages/sklearn/linear_model/_ridge.py:148: LinAlgWarning: Ill-conditioned matrix (rcond=9.23678e-17): result may not be accurate.\n",
      "  overwrite_a=True).T\n",
      "/Users/37138/anaconda3/envs/TEST/lib/python3.6/site-packages/sklearn/linear_model/_ridge.py:148: LinAlgWarning: Ill-conditioned matrix (rcond=6.3308e-17): result may not be accurate.\n",
      "  overwrite_a=True).T\n",
      "/Users/37138/anaconda3/envs/TEST/lib/python3.6/site-packages/sklearn/linear_model/_ridge.py:148: LinAlgWarning: Ill-conditioned matrix (rcond=4.99571e-17): result may not be accurate.\n",
      "  overwrite_a=True).T\n",
      "/Users/37138/anaconda3/envs/TEST/lib/python3.6/site-packages/sklearn/linear_model/_ridge.py:148: LinAlgWarning: Ill-conditioned matrix (rcond=4.39125e-17): result may not be accurate.\n",
      "  overwrite_a=True).T\n",
      "/Users/37138/anaconda3/envs/TEST/lib/python3.6/site-packages/sklearn/linear_model/_ridge.py:148: LinAlgWarning: Ill-conditioned matrix (rcond=4.03629e-17): result may not be accurate.\n",
      "  overwrite_a=True).T\n",
      "/Users/37138/anaconda3/envs/TEST/lib/python3.6/site-packages/sklearn/linear_model/_ridge.py:148: LinAlgWarning: Ill-conditioned matrix (rcond=3.53396e-17): result may not be accurate.\n",
      "  overwrite_a=True).T\n",
      "/Users/37138/anaconda3/envs/TEST/lib/python3.6/site-packages/sklearn/linear_model/_ridge.py:148: LinAlgWarning: Ill-conditioned matrix (rcond=3.20775e-17): result may not be accurate.\n",
      "  overwrite_a=True).T\n",
      "/Users/37138/anaconda3/envs/TEST/lib/python3.6/site-packages/sklearn/linear_model/_ridge.py:148: LinAlgWarning: Ill-conditioned matrix (rcond=2.92706e-17): result may not be accurate.\n",
      "  overwrite_a=True).T\n"
     ]
    },
    {
     "data": {
      "image/png": "[encoded data removed]",
      "text/plain": [
       "<Figure size 432x288 with 1 Axes>"
      ]
     },
     "metadata": {
      "needs_background": "light"
     },
     "output_type": "display_data"
    }
   ],
   "source": [
    "perf_model_year(rr, \"Ridge Regression\", df)"
   ]
  },
  {
   "cell_type": "code",
   "execution_count": 13,
   "metadata": {},
   "outputs": [
    {
     "data": {
      "image/png": "[encoded data removed]",
      "text/plain": [
       "<Figure size 432x288 with 1 Axes>"
      ]
     },
     "metadata": {
      "needs_background": "light"
     },
     "output_type": "display_data"
    }
   ],
   "source": [
    "perf_model_year(rf, \"Random Forest\", df)"
   ]
  },
  {
   "cell_type": "markdown",
   "metadata": {},
   "source": [
    "# Feature Elimination \n",
    "1. Correlated Features\n",
    "2. PCA\n",
    "3. RFE \n",
    "4. RFECV"
   ]
  },
  {
   "cell_type": "code",
   "execution_count": 31,
   "metadata": {},
   "outputs": [],
   "source": [
    "# FROM: https://chrisalbon.com/machine_learning/feature_selection/drop_highly_correlated_features/\n",
    "corr_matrix = x.corr().abs()\n",
    "upper = corr_matrix.where(np.triu(np.ones(corr_matrix.shape), k=1).astype(np.bool))\n",
    "to_drop = [column for column in upper.columns if any(upper[column] > 0.8)]"
   ]
  },
  {
   "cell_type": "code",
   "execution_count": 32,
   "metadata": {},
   "outputs": [
    {
     "name": "stdout",
     "output_type": "stream",
     "text": [
      "r2_score: 0.781\n",
      "r2_score: 0.861\n"
     ]
    }
   ],
   "source": [
    "x_cr = x.drop(x[to_drop], axis=1)\n",
    "print(\"r2_score: {:.3f}\".format(get_score(lr, x_cr, y)))\n",
    "print(\"r2_score: {:.3f}\".format(get_score(rf, x_cr, y)))"
   ]
  },
  {
   "cell_type": "markdown",
   "metadata": {},
   "source": [
    "## PCA"
   ]
  },
  {
   "cell_type": "code",
   "execution_count": 19,
   "metadata": {},
   "outputs": [
    {
     "data": {
      "text/plain": [
       "array([[-4.65977779e-10,  1.22150383e-08,  4.63466016e-06, ...,\n",
       "        -1.02546550e-09, -2.64654519e-09, -7.96037183e-10],\n",
       "       [ 1.68511554e-09, -9.69428915e-09,  9.13108866e-06, ...,\n",
       "        -7.02439596e-09,  6.50097405e-09, -2.13816297e-09],\n",
       "       [ 8.29036247e-06, -2.13267304e-06, -1.22880372e-02, ...,\n",
       "         2.94044075e-06, -2.14715140e-06,  8.60238597e-07],\n",
       "       ...,\n",
       "       [-0.00000000e+00, -9.36757037e-14, -1.32420338e-17, ...,\n",
       "        -3.10081821e-17, -1.73472348e-17, -7.32920669e-17],\n",
       "       [-0.00000000e+00,  9.12886608e-15,  4.42970164e-18, ...,\n",
       "         8.71698547e-17,  2.35922393e-16,  4.98299318e-16],\n",
       "       [-0.00000000e+00, -6.95436022e-11, -7.76730702e-17, ...,\n",
       "        -2.89260152e-13, -1.21603595e-12, -1.26833960e-12]])"
      ]
     },
     "execution_count": 19,
     "metadata": {},
     "output_type": "execute_result"
    }
   ],
   "source": [
    "pca.fit(x_cr)\n",
    "pca.components_ "
   ]
  },
  {
   "cell_type": "code",
   "execution_count": 20,
   "metadata": {},
   "outputs": [
    {
     "data": {
      "text/plain": [
       "149"
      ]
     },
     "execution_count": 20,
     "metadata": {},
     "output_type": "execute_result"
    }
   ],
   "source": [
    "pca.n_features_"
   ]
  },
  {
   "cell_type": "markdown",
   "metadata": {},
   "source": [
    "## Recursive Feature Elimination"
   ]
  },
  {
   "cell_type": "code",
   "execution_count": 43,
   "metadata": {},
   "outputs": [
    {
     "data": {
      "text/plain": [
       "RFE(estimator=LinearRegression(copy_X=True, fit_intercept=True, n_jobs=None,\n",
       "                               normalize=False),\n",
       "    n_features_to_select=25, step=3, verbose=0)"
      ]
     },
     "execution_count": 43,
     "metadata": {},
     "output_type": "execute_result"
    }
   ],
   "source": [
    "rfe = RFE(lr, step=3, n_features_to_select=25)\n",
    "rfe.fit(x_cr, y)"
   ]
  },
  {
   "cell_type": "code",
   "execution_count": 45,
   "metadata": {},
   "outputs": [
    {
     "name": "stdout",
     "output_type": "stream",
     "text": [
      "Index(['longitude', 'latitude', 'baths', 'zoning_5', 'zoning_10', 'zoning_12',\n",
      "       'zoning_13', 'zoning_14', 'zoning_15', 'shopping_6', 'shopping_11',\n",
      "       'shopping_14', 'transportation_9', 'transportation_13',\n",
      "       'transportation_16', 'pornography/obscene mat', 'views_BAY',\n",
      "       'views_GGTE', 'views_LAKE', 'views_MRNA', 'parking_DECK',\n",
      "       'parking_GSPC', 'type_4STR', 'type_PUD', 'type_TWNH'],\n",
      "      dtype='object')\n"
     ]
    }
   ],
   "source": [
    "x_rfe = x_cr[x_cr.columns[rfe.support_]]\n",
    "print(x_rfe.columns)"
   ]
  },
  {
   "cell_type": "markdown",
   "metadata": {},
   "source": [
    "## RFE Cross Validation"
   ]
  },
  {
   "cell_type": "code",
   "execution_count": 37,
   "metadata": {},
   "outputs": [
    {
     "name": "stdout",
     "output_type": "stream",
     "text": [
      "Optimal number of features : 175\n"
     ]
    }
   ],
   "source": [
    "# classifications\n",
    "rfecv = RFECV(lr, step=5, min_features_to_select = 25,\n",
    "              scoring='r2')\n",
    "rfecv.fit(x, y)\n",
    "print(\"Optimal number of features : %d\" % rfecv.n_features_)"
   ]
  },
  {
   "cell_type": "code",
   "execution_count": 38,
   "metadata": {},
   "outputs": [
    {
     "data": {
      "image/png": "[encoded data removed]",
      "text/plain": [
       "<Figure size 432x288 with 1 Axes>"
      ]
     },
     "metadata": {
      "needs_background": "light"
     },
     "output_type": "display_data"
    }
   ],
   "source": [
    "# Plot number of features VS. cross-validation scores\n",
    "plt.figure()\n",
    "plt.xlabel(\"Number of features selected\")\n",
    "plt.ylabel(\"Cross validation score (nb of correct classifications)\")\n",
    "plt.plot(range(25, 5*len(rfecv.grid_scores_) + 25, 5), rfecv.grid_scores_)\n",
    "plt.show()"
   ]
  },
  {
   "cell_type": "markdown",
   "metadata": {},
   "source": [
    "# Linear Regression w/minimalized features"
   ]
  },
  {
   "cell_type": "code",
   "execution_count": 46,
   "metadata": {},
   "outputs": [
    {
     "name": "stdout",
     "output_type": "stream",
     "text": [
      "r2_score: 0.593\n",
      "CPU times: user 48.5 ms, sys: 14.4 ms, total: 62.9 ms\n",
      "Wall time: 57.8 ms\n"
     ]
    }
   ],
   "source": [
    "%%time\n",
    "print(\"r2_score: {:.3f}\".format(get_score(lr, x_rfe, y)))"
   ]
  },
  {
   "cell_type": "markdown",
   "metadata": {},
   "source": [
    "# Re-Run Linear Regression w/Square Variables"
   ]
  },
  {
   "cell_type": "code",
   "execution_count": 47,
   "metadata": {},
   "outputs": [
    {
     "name": "stdout",
     "output_type": "stream",
     "text": [
      "r2_score: 0.682\n",
      "CPU times: user 341 ms, sys: 69 ms, total: 410 ms\n",
      "Wall time: 301 ms\n"
     ]
    }
   ],
   "source": [
    "%%time\n",
    "print(\"r2_score: {:.3f}\".format(get_score(rr_sq, x_rfe, y)))"
   ]
  }
 ],
 "metadata": {
  "kernelspec": {
   "display_name": "Python 3",
   "language": "python",
   "name": "python3"
  },
  "language_info": {
   "codemirror_mode": {
    "name": "ipython",
    "version": 3
   },
   "file_extension": ".py",
   "mimetype": "text/x-python",
   "name": "python",
   "nbconvert_exporter": "python",
   "pygments_lexer": "ipython3",
   "version": "3.6.10"
  }
 },
 "nbformat": 4,
 "nbformat_minor": 2
}
