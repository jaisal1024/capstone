{
 "cells": [
  {
   "cell_type": "code",
   "execution_count": 1,
   "metadata": {},
   "outputs": [],
   "source": [
    "import os\n",
    "import json\n",
    "import pandas as pd \n",
    "import numpy as np\n",
    "from sklearn.linear_model import LogisticRegression, LinearRegression\n",
    "from sklearn.ensemble import RandomForestRegressor, VotingRegressor, AdaBoostRegressor\n",
    "from sklearn.preprocessing import LabelEncoder, MinMaxScaler\n",
    "from sklearn.metrics import mean_absolute_error, median_absolute_error, r2_score"
   ]
  },
  {
   "cell_type": "code",
   "execution_count": 2,
   "metadata": {},
   "outputs": [],
   "source": [
    "os.chdir('..')"
   ]
  },
  {
   "cell_type": "code",
   "execution_count": 3,
   "metadata": {},
   "outputs": [],
   "source": [
    "test = pd.read_csv('ENG_DATA/SELECTED/12-10_all_test.csv', index_col = [0])\n",
    "train = pd.read_csv('ENG_DATA/SELECTED/12-10_all_train.csv', index_col = [0])"
   ]
  },
  {
   "cell_type": "code",
   "execution_count": 8,
   "metadata": {},
   "outputs": [],
   "source": [
    "test_2 = pd.read_csv('ENG_DATA/SELECTED/12-10_hedon_test.csv', index_col = [0])\n",
    "train_2 = pd.read_csv('ENG_DATA/SELECTED/12-10_hedon_train.csv', index_col = [0])"
   ]
  },
  {
   "cell_type": "code",
   "execution_count": null,
   "metadata": {},
   "outputs": [],
   "source": [
    "test_1 = pd.read_csv('ENG_DATA/SELECTED/12-10_1he_test.csv', index_col = [0])\n",
    "train_1 = pd.read_csv('ENG_DATA/SELECTED/12-10_1he_train.csv', index_col = [0])"
   ]
  },
  {
   "cell_type": "code",
   "execution_count": 4,
   "metadata": {},
   "outputs": [],
   "source": [
    "x_test = test.drop(columns = 'sale_price')\n",
    "y_test = test[\"sale_price\"]\n",
    "x_train = train.drop(columns = 'sale_price')\n",
    "y_train = train[\"sale_price\"]"
   ]
  },
  {
   "cell_type": "code",
   "execution_count": 9,
   "metadata": {},
   "outputs": [],
   "source": [
    "x_test_2 = test_2.drop(columns = 'sale_price')\n",
    "y_test_2 = test_2[\"sale_price\"]\n",
    "x_train_2 = train_2.drop(columns = 'sale_price')\n",
    "y_train_2 = train_2[\"sale_price\"]"
   ]
  },
  {
   "cell_type": "code",
   "execution_count": null,
   "metadata": {},
   "outputs": [],
   "source": [
    "x_test_1 = test_1.drop(columns = 'sale_price')\n",
    "y_test_1 = test_1[\"sale_price\"]\n",
    "x_train_1 = train_1.drop(columns = 'sale_price')\n",
    "y_train_1 = train_1[\"sale_price\"]"
   ]
  },
  {
   "cell_type": "code",
   "execution_count": 7,
   "metadata": {},
   "outputs": [
    {
     "data": {
      "text/plain": [
       "23720"
      ]
     },
     "execution_count": 7,
     "metadata": {},
     "output_type": "execute_result"
    }
   ],
   "source": [
    "test.shape[0] + train.shape[0]"
   ]
  },
  {
   "cell_type": "code",
   "execution_count": 10,
   "metadata": {},
   "outputs": [],
   "source": [
    "def createEncoder(x_train_, x_test_, type = \"L\"): \n",
    "    cat_columns = list(x_train_.select_dtypes(exclude = 'number').columns)\n",
    "   # Label encode categories\n",
    "    le=LabelEncoder()\n",
    "\n",
    "    # create a dataframe to store label encoded values\n",
    "    x_train_le = x_train_.copy()\n",
    "    x_test_le = x_test_.copy()\n",
    "\n",
    "    for i in cat_columns:\n",
    "        le.fit(x_train_[i])\n",
    "        x_train_le[i] = le.transform(x_train_[i]).copy()\n",
    "\n",
    "    for i in cat_columns:\n",
    "        le.fit(x_test_[i])\n",
    "        x_test_le[i] = le.transform(x_test_[i]).copy() \n",
    "    return x_train_le, x_test_le, le"
   ]
  },
  {
   "cell_type": "code",
   "execution_count": null,
   "metadata": {},
   "outputs": [],
   "source": [
    "x_train_le, x_test_le, le = createEncoder(x_train, x_test, type = \"L\")"
   ]
  },
  {
   "cell_type": "code",
   "execution_count": 11,
   "metadata": {},
   "outputs": [],
   "source": [
    "x_train_le2, x_test_le2, le2 = createEncoder(x_train_2, x_test_2, type = \"L\")"
   ]
  },
  {
   "cell_type": "code",
   "execution_count": 12,
   "metadata": {
    "scrolled": true
   },
   "outputs": [
    {
     "data": {
      "text/plain": [
       "Index(['longitude', 'latitude', 'elevation', 'full_address', 'city',\n",
       "       'street_name', 'zip', 'area', 'district_no', 'subdist_no',\n",
       "       'on_market_date', 'cdom', 'sale_date', 'rooms', 'baths', 'beds',\n",
       "       'lot_acres', 'year_built', 'zoning', 'drive_side', 'parking',\n",
       "       'park_leased', 'num_parking', 'shopping', 'transportation', 'type',\n",
       "       'views', 'days_on_market', 'on_market_year', 'on_market_month',\n",
       "       'sale_year', 'sale_month', 'neighborhood'],\n",
       "      dtype='object')"
      ]
     },
     "execution_count": 12,
     "metadata": {},
     "output_type": "execute_result"
    }
   ],
   "source": [
    "x_train_le2.columns"
   ]
  },
  {
   "cell_type": "code",
   "execution_count": 84,
   "metadata": {},
   "outputs": [],
   "source": [
    "scaler = MinMaxScaler(feature_range=(0, 1), copy=False)\n",
    "x_train_test = scaler.fit_transform(x_train_le)"
   ]
  },
  {
   "cell_type": "code",
   "execution_count": 85,
   "metadata": {},
   "outputs": [
    {
     "data": {
      "text/plain": [
       "array([[0.52561328, 0.78808156, 0.16272808, ..., 0.02235294, 0.04347826,\n",
       "        0.04925449],\n",
       "       [0.63953824, 0.21022774, 0.27180498, ..., 0.00676471, 0.02717391,\n",
       "        0.01589292],\n",
       "       [0.51565657, 0.29034262, 0.36814216, ..., 0.005     , 0.02898551,\n",
       "        0.0178753 ],\n",
       "       ...,\n",
       "       [0.0748557 , 0.66196122, 0.14621908, ..., 0.03117647, 0.08514493,\n",
       "        0.09239241],\n",
       "       [0.32597403, 0.13128412, 0.35060517, ..., 0.01852941, 0.0307971 ,\n",
       "        0.04271433],\n",
       "       [0.55533911, 0.8081663 , 0.21319741, ..., 0.01058824, 0.02355072,\n",
       "        0.04611996]])"
      ]
     },
     "execution_count": 85,
     "metadata": {},
     "output_type": "execute_result"
    }
   ],
   "source": [
    "x_train_test"
   ]
  },
  {
   "cell_type": "code",
   "execution_count": 13,
   "metadata": {},
   "outputs": [],
   "source": [
    "models = {}"
   ]
  },
  {
   "cell_type": "code",
   "execution_count": 15,
   "metadata": {},
   "outputs": [],
   "source": [
    "def runModel(name, model_type, x_train_, y_train_, x_test_, y_test_):\n",
    "    clf_ = None\n",
    "#     x_train_ = MinMaxScaler().fit_transform(x_train_)\n",
    "#     x_test_ = MinMaxScaler().fit_transform(x_test_)\n",
    "    if (model_type == \"F\"):\n",
    "        clf_ = RandomForestRegressor(n_estimators=20, max_depth=50,random_state=0).fit(x_train_, y_train_)\n",
    "    elif (model_type == \"L\"):\n",
    "        clf_ = LinearRegression().fit(x_train_, y_train_)\n",
    "    else: \n",
    "        raise ValueError(\"Model Type not implemented in function\")\n",
    "    y_pred_ = clf_.predict(x_test_)\n",
    "    metrics = {\n",
    "        \"model_type\": model_type,\n",
    "        \"r2\": r2_score(y_pred_, y_test_), \n",
    "        \"mean_absolute_error\": mean_absolute_error(y_pred_, y_test_) / np.mean(y_test_), \n",
    "        \"median_absolute_error\" :median_absolute_error(y_pred_, y_test_) / np.mean(y_test_),\n",
    "        \"mean_abs_perc_error\" : np.mean(np.abs((y_pred_ - y_test_) / y_test_)) * 100\n",
    "    }\n",
    "    models[f\"{name}-{model_type}\"] = metrics\n",
    "    del(clf_) "
   ]
  },
  {
   "cell_type": "code",
   "execution_count": 16,
   "metadata": {},
   "outputs": [],
   "source": [
    "runModel(\"hedon\", \"F\", x_train_le2, y_train_2, x_test_le2, y_test_2)"
   ]
  },
  {
   "cell_type": "code",
   "execution_count": 17,
   "metadata": {},
   "outputs": [
    {
     "data": {
      "text/plain": [
       "{'hedon-F': {'model_type': 'F',\n",
       "  'r2': 0.7828017316957556,\n",
       "  'mean_absolute_error': 0.17634649794528875,\n",
       "  'median_absolute_error': 0.08242477528156973,\n",
       "  'mean_abs_perc_error': 16.29035583501948}}"
      ]
     },
     "execution_count": 17,
     "metadata": {},
     "output_type": "execute_result"
    }
   ],
   "source": [
    "models"
   ]
  },
  {
   "cell_type": "code",
   "execution_count": 12,
   "metadata": {},
   "outputs": [],
   "source": [
    "runModel(\"all\", \"L\", x_train_le, y_train, x_test_le, y_test)\n",
    "runModel(\"all_no_list_price\", \"L\", x_train_le.drop(columns = \"orig_list_price\"), y_train, x_test_le.drop(columns = \"orig_list_price\"), y_test)\n",
    "runModel(\"all\", \"F\", x_train_le, y_train, x_test_le, y_test)\n",
    "runModel(\"all_no_list_price\", \"F\", x_train_le.drop(columns = \"orig_list_price\"), y_train, x_test_le.drop(columns = \"orig_list_price\"), y_test)\n",
    "runModel(\"all_he\", \"L\", x_train_1, y_train_1, x_test_1, y_test_1)\n",
    "runModel(\"all_he\", \"F\", x_train_1, y_train_1, x_test_1, y_test_1)"
   ]
  },
  {
   "cell_type": "code",
   "execution_count": 13,
   "metadata": {},
   "outputs": [],
   "source": [
    "models[\"12-10-all-automl\"] = {'r2': 0.9669572425163331,\n",
    "  'mean_absolute_error': 0.0741511405465754,\n",
    "  'median_absolute_error': 0.039920145619098436,\n",
    "  'mean_abs_perc_error': 7.6138036271989025}"
   ]
  },
  {
   "cell_type": "code",
   "execution_count": 14,
   "metadata": {},
   "outputs": [],
   "source": [
    "with open('RESULTS/12-10-models-results.json', 'w') as fp:\n",
    "    json.dump(models, fp)"
   ]
  },
  {
   "cell_type": "code",
   "execution_count": 15,
   "metadata": {},
   "outputs": [
    {
     "data": {
      "text/plain": [
       "{'all-L': {'model_type': 'L',\n",
       "  'r2': 0.4638260671940839,\n",
       "  'mean_absolute_error': 0.29628996698515814,\n",
       "  'median_absolute_error': 0.2017725256608768,\n",
       "  'mean_abs_perc_error': 36.24977465029022},\n",
       " 'all_no_list_price-L': {'model_type': 'L',\n",
       "  'r2': 0.4626893708917976,\n",
       "  'mean_absolute_error': 0.2960207645987858,\n",
       "  'median_absolute_error': 0.20202444441265802,\n",
       "  'mean_abs_perc_error': 36.17702464258172},\n",
       " 'all-F': {'model_type': 'F',\n",
       "  'r2': 0.9459234300069457,\n",
       "  'mean_absolute_error': 0.07678229052327126,\n",
       "  'median_absolute_error': 0.04135130254327362,\n",
       "  'mean_abs_perc_error': 7.714333023121968},\n",
       " 'all_no_list_price-F': {'model_type': 'F',\n",
       "  'r2': 0.7598732296079245,\n",
       "  'mean_absolute_error': 0.17559300587910265,\n",
       "  'median_absolute_error': 0.08228763594097863,\n",
       "  'mean_abs_perc_error': 16.021185075401693},\n",
       " 'all_he-L': {'model_type': 'L',\n",
       "  'r2': -0.0003139792605919567,\n",
       "  'mean_absolute_error': 10.599971014751954,\n",
       "  'median_absolute_error': 0.17046573568782927,\n",
       "  'mean_abs_perc_error': 3158.8215516635496},\n",
       " 'all_he-F': {'model_type': 'F',\n",
       "  'r2': 0.9247209057007821,\n",
       "  'mean_absolute_error': 0.08145169392258218,\n",
       "  'median_absolute_error': 0.04150268201013966,\n",
       "  'mean_abs_perc_error': 8.050817017706848},\n",
       " '12-10-all-automl': {'r2': 0.9669572425163331,\n",
       "  'mean_absolute_error': 0.0741511405465754,\n",
       "  'median_absolute_error': 0.039920145619098436,\n",
       "  'mean_abs_perc_error': 7.6138036271989025}}"
      ]
     },
     "execution_count": 15,
     "metadata": {},
     "output_type": "execute_result"
    }
   ],
   "source": [
    "models"
   ]
  },
  {
   "cell_type": "code",
   "execution_count": 19,
   "metadata": {},
   "outputs": [],
   "source": [
    "df = pd.read_csv('ENG_DATA/CLEANED/12-8_Cleaned_df.csv', index_col = [0])"
   ]
  },
  {
   "cell_type": "code",
   "execution_count": 23,
   "metadata": {},
   "outputs": [],
   "source": [
    "# Merge two Dataframes on index of both the dataframes - ADD Back original list price\n",
    "x_train_le = x_train_le.merge(df[[\"orig_list_price\"]], left_index=True, right_index=True)\n",
    "x_test_le = x_test_le.merge(df[[\"orig_list_price\"]], left_index=True, right_index=True)"
   ]
  },
  {
   "cell_type": "code",
   "execution_count": 21,
   "metadata": {},
   "outputs": [
    {
     "data": {
      "text/html": [
       "<div>\n",
       "<style scoped>\n",
       "    .dataframe tbody tr th:only-of-type {\n",
       "        vertical-align: middle;\n",
       "    }\n",
       "\n",
       "    .dataframe tbody tr th {\n",
       "        vertical-align: top;\n",
       "    }\n",
       "\n",
       "    .dataframe thead th {\n",
       "        text-align: right;\n",
       "    }\n",
       "</style>\n",
       "<table border=\"1\" class=\"dataframe\">\n",
       "  <thead>\n",
       "    <tr style=\"text-align: right;\">\n",
       "      <th></th>\n",
       "      <th>orig_list_price</th>\n",
       "      <th>sale_price</th>\n",
       "    </tr>\n",
       "  </thead>\n",
       "  <tbody>\n",
       "    <tr>\n",
       "      <th>orig_list_price</th>\n",
       "      <td>3.371707e+14</td>\n",
       "      <td>1.607321e+12</td>\n",
       "    </tr>\n",
       "    <tr>\n",
       "      <th>sale_price</th>\n",
       "      <td>1.607321e+12</td>\n",
       "      <td>1.685941e+12</td>\n",
       "    </tr>\n",
       "  </tbody>\n",
       "</table>\n",
       "</div>"
      ],
      "text/plain": [
       "                 orig_list_price    sale_price\n",
       "orig_list_price     3.371707e+14  1.607321e+12\n",
       "sale_price          1.607321e+12  1.685941e+12"
      ]
     },
     "execution_count": 21,
     "metadata": {},
     "output_type": "execute_result"
    }
   ],
   "source": [
    "df[[\"orig_list_price\", \"sale_price\"]].cov()"
   ]
  },
  {
   "cell_type": "code",
   "execution_count": 22,
   "metadata": {},
   "outputs": [
    {
     "data": {
      "text/plain": [
       "419367.2587268129"
      ]
     },
     "execution_count": 22,
     "metadata": {},
     "output_type": "execute_result"
    }
   ],
   "source": [
    "df[\"orig_list_price\"].mean() - df[\"sale_price\"].mean()"
   ]
  },
  {
   "cell_type": "code",
   "execution_count": 27,
   "metadata": {},
   "outputs": [
    {
     "data": {
      "text/plain": [
       "0.3552311444369088"
      ]
     },
     "execution_count": 27,
     "metadata": {},
     "output_type": "execute_result"
    }
   ],
   "source": [
    "np.mean(np.abs((df[\"orig_list_price\"] - df[\"sale_price\"]))) / df[\"orig_list_price\"].mean()"
   ]
  },
  {
   "cell_type": "code",
   "execution_count": null,
   "metadata": {},
   "outputs": [],
   "source": []
  }
 ],
 "metadata": {
  "kernelspec": {
   "display_name": "Python 3",
   "language": "python",
   "name": "python3"
  },
  "language_info": {
   "codemirror_mode": {
    "name": "ipython",
    "version": 3
   },
   "file_extension": ".py",
   "mimetype": "text/x-python",
   "name": "python",
   "nbconvert_exporter": "python",
   "pygments_lexer": "ipython3",
   "version": "3.6.9"
  }
 },
 "nbformat": 4,
 "nbformat_minor": 2
}
