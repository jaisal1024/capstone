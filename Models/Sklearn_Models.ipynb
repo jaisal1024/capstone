{
 "cells": [
  {
   "cell_type": "code",
   "execution_count": 2,
   "metadata": {},
   "outputs": [],
   "source": [
    "import os\n",
    "import pandas as pd \n",
    "from sklearn.linear_model import LogisticRegression\n",
    "from sklearn.ensemble import RandomForestRegressor, VotingRegressor, AdaBoostRegressor\n",
    "from sklearn.preprocessing import LabelEncoder\n",
    "from sklearn.metrics import mean_absolute_error, median_absolute_error, r2_score"
   ]
  },
  {
   "cell_type": "code",
   "execution_count": 3,
   "metadata": {},
   "outputs": [],
   "source": [
    "os.chdir('..')"
   ]
  },
  {
   "cell_type": "code",
   "execution_count": 4,
   "metadata": {},
   "outputs": [],
   "source": [
    "test = pd.read_csv('ENG_DATA/SELECTED/12-8_test.csv', index_col = [0])\n",
    "train = pd.read_csv('ENG_DATA/SELECTED/12-8_train.csv', index_col = [0])"
   ]
  },
  {
   "cell_type": "code",
   "execution_count": 5,
   "metadata": {},
   "outputs": [],
   "source": [
    "x_test = test.drop(columns = 'sale_price')\n",
    "y_test = test[\"sale_price\"]\n",
    "x_train = train.drop(columns = 'sale_price')\n",
    "y_train = train[\"sale_price\"]"
   ]
  },
  {
   "cell_type": "code",
   "execution_count": 6,
   "metadata": {},
   "outputs": [],
   "source": [
    "cat_columns = ['full_address',\n",
    " 'street_name',\n",
    " 'on_market_date',\n",
    " 'sale_date',\n",
    " 'type',\n",
    " 'neighborhood']"
   ]
  },
  {
   "cell_type": "code",
   "execution_count": 7,
   "metadata": {},
   "outputs": [],
   "source": [
    "# Label encode categories\n",
    "le=LabelEncoder()\n",
    "\n",
    "# create a dataframe to store label encoded values\n",
    "x_train_le = x_train.copy()\n",
    "x_test_le = x_test.copy()\n",
    "\n",
    "for i in cat_columns:\n",
    "    le.fit(x_train[i])\n",
    "    x_train_le[i] = le.transform(x_train[i]).copy()\n",
    "    \n",
    "for i in cat_columns:\n",
    "    le.fit(x_test[i])\n",
    "    x_test_le[i] = le.transform(x_test[i]).copy()"
   ]
  },
  {
   "cell_type": "code",
   "execution_count": 18,
   "metadata": {},
   "outputs": [
    {
     "data": {
      "text/plain": [
       "Index(['longitude', 'latitude', 'elevation', 'zip', 'area', 'district_no',\n",
       "       'subdist_no', 'cdom', 'rooms', 'baths', 'beds', 'lot_acres',\n",
       "       'year_built', 'days_on_market', 'on_market_year', 'sale_year',\n",
       "       'private', 'public', 'gsRating', 'enrollment', 'arson', 'assault',\n",
       "       'bad checks', 'bribery', 'burglary', 'disorderly conduct',\n",
       "       'driving under the influence', 'drug/narcotic', 'drunkenness',\n",
       "       'embezzlement', 'extortion', 'family offenses',\n",
       "       'forgery/counterfeiting', 'fraud', 'gambling', 'kidnapping',\n",
       "       'larceny/theft', 'liquor laws', 'loitering', 'missing person',\n",
       "       'non-criminal', 'other offenses', 'prostitution', 'recovered vehicle',\n",
       "       'robbery', 'runaway', 'secondary codes', 'sex offenses, forcible',\n",
       "       'sex offenses, non forcible', 'stolen property', 'suicide',\n",
       "       'suspicious occ', 'trespass', 'vandalism', 'vehicle theft', 'warrants',\n",
       "       'weapon laws', 'totalincidents', 'full_address', 'street_name',\n",
       "       'on_market_date', 'sale_date', 'type', 'neighborhood'],\n",
       "      dtype='object')"
      ]
     },
     "execution_count": 18,
     "metadata": {},
     "output_type": "execute_result"
    }
   ],
   "source": [
    "x_train_le.columns"
   ]
  },
  {
   "cell_type": "code",
   "execution_count": 15,
   "metadata": {},
   "outputs": [],
   "source": [
    "clf_f = RandomForestRegressor(n_estimators=20, max_depth=50,random_state=0)\n",
    "clf_f.fit(x_train_le, y_train)\n",
    "y_pred = clf_f.predict(x_test_le)"
   ]
  },
  {
   "cell_type": "code",
   "execution_count": 19,
   "metadata": {},
   "outputs": [
    {
     "data": {
      "text/plain": [
       "0.6509977827036159"
      ]
     },
     "execution_count": 19,
     "metadata": {},
     "output_type": "execute_result"
    }
   ],
   "source": [
    "r2_score(y_pred, y_test)"
   ]
  },
  {
   "cell_type": "code",
   "execution_count": 11,
   "metadata": {},
   "outputs": [],
   "source": [
    "clf_ab = AdaBoostRegressor(random_state=0, n_estimators=50)\n",
    "clf_ab.fit(x_train_le, y_train)\n",
    "y_pred_ab = clf_ab.predict(x_test_le)"
   ]
  },
  {
   "cell_type": "code",
   "execution_count": 12,
   "metadata": {},
   "outputs": [
    {
     "data": {
      "text/plain": [
       "-0.6508615774444952"
      ]
     },
     "execution_count": 12,
     "metadata": {},
     "output_type": "execute_result"
    }
   ],
   "source": [
    "r2_score(y_pred_ab, y_test)"
   ]
  },
  {
   "cell_type": "code",
   "execution_count": 20,
   "metadata": {},
   "outputs": [],
   "source": [
    "df = pd.read_csv('ENG_DATA/CLEANED/12-8_Cleaned_df.csv', index_col = [0])"
   ]
  },
  {
   "cell_type": "code",
   "execution_count": 23,
   "metadata": {},
   "outputs": [],
   "source": [
    "# Merge two Dataframes on index of both the dataframes - ADD Back original list price\n",
    "x_train_le = x_train_le.merge(df[[\"orig_list_price\"]], left_index=True, right_index=True)\n",
    "x_test_le = x_test_le.merge(df[[\"orig_list_price\"]], left_index=True, right_index=True)"
   ]
  },
  {
   "cell_type": "code",
   "execution_count": 26,
   "metadata": {},
   "outputs": [],
   "source": [
    "clf_f = RandomForestRegressor(n_estimators=10, max_depth=50,random_state=0)\n",
    "clf_f.fit(x_train_le, y_train)\n",
    "y_pred = clf_f.predict(x_test_le)"
   ]
  },
  {
   "cell_type": "code",
   "execution_count": 27,
   "metadata": {},
   "outputs": [
    {
     "data": {
      "text/plain": [
       "0.9608999756014683"
      ]
     },
     "execution_count": 27,
     "metadata": {},
     "output_type": "execute_result"
    }
   ],
   "source": [
    "r2_score(y_pred, y_test)"
   ]
  },
  {
   "cell_type": "code",
   "execution_count": null,
   "metadata": {},
   "outputs": [],
   "source": []
  }
 ],
 "metadata": {
  "kernelspec": {
   "display_name": "Python 3",
   "language": "python",
   "name": "python3"
  },
  "language_info": {
   "codemirror_mode": {
    "name": "ipython",
    "version": 3
   },
   "file_extension": ".py",
   "mimetype": "text/x-python",
   "name": "python",
   "nbconvert_exporter": "python",
   "pygments_lexer": "ipython3",
   "version": "3.6.9"
  }
 },
 "nbformat": 4,
 "nbformat_minor": 2
}
