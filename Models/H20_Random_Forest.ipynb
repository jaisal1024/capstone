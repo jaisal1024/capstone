{
 "cells": [
  {
   "cell_type": "code",
   "execution_count": 60,
   "metadata": {},
   "outputs": [],
   "source": [
    "import os\n",
    "import h2o\n",
    "from h2o.estimators import H2ORandomForestEstimator\n",
    "from h2o.grid.grid_search import H2OGridSearch\n",
    "import pandas as pd\n",
    "from datetime import date\n",
    "from sklearn.model_selection import train_test_split"
   ]
  },
  {
   "cell_type": "code",
   "execution_count": 3,
   "metadata": {},
   "outputs": [],
   "source": [
    "os.chdir('..')"
   ]
  },
  {
   "cell_type": "code",
   "execution_count": 4,
   "metadata": {},
   "outputs": [
    {
     "name": "stdout",
     "output_type": "stream",
     "text": [
      "Checking whether there is an H2O instance running at http://localhost:54321 ..... not found.\n",
      "Attempting to start a local H2O server...\n",
      "  Java Version: java version \"1.8.0_51\"; Java(TM) SE Runtime Environment (build 1.8.0_51-b16); Java HotSpot(TM) 64-Bit Server VM (build 25.51-b03, mixed mode)\n",
      "  Starting server from /Users/37138/anaconda3/envs/TEST/lib/python3.6/site-packages/h2o/backend/bin/h2o.jar\n",
      "  Ice root: /var/folders/ff/0003j6g13lzcpwj4j090w7v9sr000f/T/tmplkmvy9fq\n",
      "  JVM stdout: /var/folders/ff/0003j6g13lzcpwj4j090w7v9sr000f/T/tmplkmvy9fq/h2o_jpf_started_from_python.out\n",
      "  JVM stderr: /var/folders/ff/0003j6g13lzcpwj4j090w7v9sr000f/T/tmplkmvy9fq/h2o_jpf_started_from_python.err\n",
      "  Server is running at http://127.0.0.1:54321\n",
      "Connecting to H2O server at http://127.0.0.1:54321 ... successful.\n"
     ]
    },
    {
     "data": {
      "text/html": [
       "<div style=\"overflow:auto\"><table style=\"width:50%\"><tr><td>H2O cluster uptime:</td>\n",
       "<td>03 secs</td></tr>\n",
       "<tr><td>H2O cluster timezone:</td>\n",
       "<td>Asia/Dubai</td></tr>\n",
       "<tr><td>H2O data parsing timezone:</td>\n",
       "<td>UTC</td></tr>\n",
       "<tr><td>H2O cluster version:</td>\n",
       "<td>3.28.1.2</td></tr>\n",
       "<tr><td>H2O cluster version age:</td>\n",
       "<td>1 month and 26 days </td></tr>\n",
       "<tr><td>H2O cluster name:</td>\n",
       "<td>H2O_from_python_jpf_ae8aps</td></tr>\n",
       "<tr><td>H2O cluster total nodes:</td>\n",
       "<td>1</td></tr>\n",
       "<tr><td>H2O cluster free memory:</td>\n",
       "<td>1.778 Gb</td></tr>\n",
       "<tr><td>H2O cluster total cores:</td>\n",
       "<td>4</td></tr>\n",
       "<tr><td>H2O cluster allowed cores:</td>\n",
       "<td>4</td></tr>\n",
       "<tr><td>H2O cluster status:</td>\n",
       "<td>accepting new members, healthy</td></tr>\n",
       "<tr><td>H2O connection url:</td>\n",
       "<td>http://127.0.0.1:54321</td></tr>\n",
       "<tr><td>H2O connection proxy:</td>\n",
       "<td>{'http': None, 'https': None}</td></tr>\n",
       "<tr><td>H2O internal security:</td>\n",
       "<td>False</td></tr>\n",
       "<tr><td>H2O API Extensions:</td>\n",
       "<td>Amazon S3, XGBoost, Algos, AutoML, Core V3, TargetEncoder, Core V4</td></tr>\n",
       "<tr><td>Python version:</td>\n",
       "<td>3.6.10 final</td></tr></table></div>"
      ],
      "text/plain": [
       "--------------------------  ------------------------------------------------------------------\n",
       "H2O cluster uptime:         03 secs\n",
       "H2O cluster timezone:       Asia/Dubai\n",
       "H2O data parsing timezone:  UTC\n",
       "H2O cluster version:        3.28.1.2\n",
       "H2O cluster version age:    1 month and 26 days\n",
       "H2O cluster name:           H2O_from_python_jpf_ae8aps\n",
       "H2O cluster total nodes:    1\n",
       "H2O cluster free memory:    1.778 Gb\n",
       "H2O cluster total cores:    4\n",
       "H2O cluster allowed cores:  4\n",
       "H2O cluster status:         accepting new members, healthy\n",
       "H2O connection url:         http://127.0.0.1:54321\n",
       "H2O connection proxy:       {'http': None, 'https': None}\n",
       "H2O internal security:      False\n",
       "H2O API Extensions:         Amazon S3, XGBoost, Algos, AutoML, Core V3, TargetEncoder, Core V4\n",
       "Python version:             3.6.10 final\n",
       "--------------------------  ------------------------------------------------------------------"
      ]
     },
     "metadata": {},
     "output_type": "display_data"
    }
   ],
   "source": [
    "h2o.init()"
   ]
  },
  {
   "cell_type": "code",
   "execution_count": 7,
   "metadata": {},
   "outputs": [],
   "source": [
    "df = pd.read_csv('ENG_DATA/SELECTED/05-13_rf_all.csv', index_col = [0], parse_dates = [\"sale_date\"])"
   ]
  },
  {
   "cell_type": "code",
   "execution_count": 40,
   "metadata": {},
   "outputs": [],
   "source": [
    "date1 = date(2015, 12, 31)"
   ]
  },
  {
   "cell_type": "code",
   "execution_count": 41,
   "metadata": {},
   "outputs": [],
   "source": [
    "df.sort_values(by = 'sale_date', inplace=True)\n",
    "df_train = df.query('sale_date <= @date1')\n",
    "df_test, df_validate = train_test_split(df.query('sale_date > @date1'), test_size=0.5)"
   ]
  },
  {
   "cell_type": "code",
   "execution_count": 46,
   "metadata": {},
   "outputs": [
    {
     "name": "stdout",
     "output_type": "stream",
     "text": [
      "Parse progress: |█████████████████████████████████████████████████████████| 100%\n",
      "Parse progress: |█████████████████████████████████████████████████████████| 100%\n",
      "Parse progress: |█████████████████████████████████████████████████████████| 100%\n"
     ]
    }
   ],
   "source": [
    "# Import a sample binary outcome train/test set into H2O\n",
    "test = h2o.H2OFrame(df_test)\n",
    "train = h2o.H2OFrame(df_train)\n",
    "validate = h2o.H2OFrame(df_validate)\n",
    "\n",
    "cols_cat = list(df_train.select_dtypes(exclude=\"number\").columns)\n",
    "cols_cat.remove(\"sale_date\")\n",
    "for col in cols_cat:\n",
    "    train[col] = train[col].asfactor()\n",
    "    test[col] = test[col].asfactor()\n",
    "    validate[col] = validate[col].asfactor()\n",
    "\n",
    "# Identify predictors and response\n",
    "x = train.columns\n",
    "y = \"sale_price\"\n",
    "x.remove(y)\n",
    "x.remove(\"sale_date\")"
   ]
  },
  {
   "cell_type": "code",
   "execution_count": 61,
   "metadata": {},
   "outputs": [
    {
     "name": "stdout",
     "output_type": "stream",
     "text": [
      "drf Grid Build progress: |████████████████████████████████████████████████| 100%\n"
     ]
    }
   ],
   "source": [
    "#\n",
    "# Build and train the model:\n",
    "grid_search_drf = H2ORandomForestEstimator()\n",
    "# grid_search_gbm = H2OGradientBoostingEstimator(\n",
    "#     stopping_rounds = 25,\n",
    "#     stopping_metric = \"AUC\",\n",
    "#     col_sample_rate = 0.65,\n",
    "#     sample_rate = 0.65,\n",
    "#     seed = RANDOM_STATE\n",
    "# ) \n",
    "\n",
    "hyper_params = {\n",
    "    'max_depth':[4,8,16,24],\n",
    "    'ntrees':[50, 100, 250]}\n",
    "\n",
    "grid = H2OGridSearch(grid_search_drf, hyper_params,\n",
    "                         grid_id='depth_grid',\n",
    "                         search_criteria={'strategy': \"Cartesian\"})\n",
    "#Train grid search\n",
    "grid.train(x=x, \n",
    "           y=y,\n",
    "           training_frame=train,\n",
    "           validation_frame=validate)"
   ]
  },
  {
   "cell_type": "code",
   "execution_count": 65,
   "metadata": {},
   "outputs": [],
   "source": [
    "drf = H2ORandomForestEstimator(\n",
    "    ntrees=50, max_depth=16,\n",
    ") "
   ]
  },
  {
   "cell_type": "code",
   "execution_count": 66,
   "metadata": {},
   "outputs": [
    {
     "name": "stdout",
     "output_type": "stream",
     "text": [
      "drf Model Build progress: |███████████████████████████████████████████████| 100%\n"
     ]
    }
   ],
   "source": [
    "drf.train(x=x,\n",
    "          y=y,\n",
    "          training_frame=train,\n",
    "           validation_frame=validate)"
   ]
  },
  {
   "cell_type": "code",
   "execution_count": 67,
   "metadata": {},
   "outputs": [],
   "source": [
    "# Eval performance:\n",
    "perf = drf.model_performance()"
   ]
  },
  {
   "cell_type": "code",
   "execution_count": 68,
   "metadata": {},
   "outputs": [
    {
     "data": {
      "text/plain": [
       "0.7230765188336598"
      ]
     },
     "execution_count": 68,
     "metadata": {},
     "output_type": "execute_result"
    }
   ],
   "source": [
    "drf.r2(valid=True)"
   ]
  },
  {
   "cell_type": "code",
   "execution_count": 69,
   "metadata": {},
   "outputs": [
    {
     "data": {
      "text/plain": [
       "0.8129873633228035"
      ]
     },
     "execution_count": 69,
     "metadata": {},
     "output_type": "execute_result"
    }
   ],
   "source": [
    "drf.r2()"
   ]
  },
  {
   "cell_type": "code",
   "execution_count": 78,
   "metadata": {},
   "outputs": [
    {
     "name": "stdout",
     "output_type": "stream",
     "text": [
      "drf prediction progress: |████████████████████████████████████████████████| 100%\n"
     ]
    },
    {
     "name": "stderr",
     "output_type": "stream",
     "text": [
      "/Users/37138/anaconda3/envs/TEST/lib/python3.6/site-packages/h2o/job.py:70: UserWarning: Test/Validation dataset column 'street_name' has levels not trained on: [Abbey St, Aladdin Ter, Alhambra St, Apollo , Balmy St, Bepler St, Bitting , Brewster , Cherry St, Cottage Row , Donner , Ellert St, Francisco , Funston St, Garnett Ter, Haight , Heather Ave, Hiliritas , Hollywood Ct, Hugo St, Ignacio Ave, Lamartine St, Langton St, Loma Vista Ter, Mendosa , Mercato Ct, Nadell Ct, Niantic Ave, Orben , Plymouth St, Raycliff Ter, Russian Hill Pl, Santa Ysabel Ave, Sharon St, Silverview , Thomas St, Upper Terrace Ter, Urbano St, Venus , West Portal , Winter Pl, Wood St, York ]\n",
      "  warnings.warn(w)\n",
      "/Users/37138/anaconda3/envs/TEST/lib/python3.6/site-packages/h2o/job.py:70: UserWarning: Test/Validation dataset column 'drive_side' has levels not trained on: [PVSW,GRVL]\n",
      "  warnings.warn(w)\n",
      "/Users/37138/anaconda3/envs/TEST/lib/python3.6/site-packages/h2o/job.py:70: UserWarning: Test/Validation dataset column 'parking' has levels not trained on: [ATDR,GSPC, CARP,ATCH,ATDR,INAC,GSPC, DTCH,GARG,ATDR,INAC,GSPC, DTCH,UNCV,ATCH,INAC, DTCH,UNCV,GARG,INAC, UNCV,ATCH,GARG,ATDR,GSPC, UNCV,CARP,ATCH,GARG]\n",
      "  warnings.warn(w)\n",
      "/Users/37138/anaconda3/envs/TEST/lib/python3.6/site-packages/h2o/job.py:70: UserWarning: Test/Validation dataset column 'transportation' has levels not trained on: [1BLK,2BLK,4BLK]\n",
      "  warnings.warn(w)\n",
      "/Users/37138/anaconda3/envs/TEST/lib/python3.6/site-packages/h2o/job.py:70: UserWarning: Test/Validation dataset column 'type' has levels not trained on: [ATAC,3STR,SPLT, ATAC,4STR,SPLT, ATAC,SPLT,PUD, DETC,3STR,PUD, FULL,1STR,2STR, FULL,2STR,3STR, FULL,3STR,SPLT, FULL,ATAC,DETC, JR,1STR,SPLT, JR,PUD, MDFD,DETC,SPLT,FIXR, MDFD,TWNH,ATAC,4STR,SPLT]\n",
      "  warnings.warn(w)\n",
      "/Users/37138/anaconda3/envs/TEST/lib/python3.6/site-packages/h2o/job.py:70: UserWarning: Test/Validation dataset column 'views' has levels not trained on: [BAY,BYBR,PARK, BAY,GGTE,SFRN, BAY,GRDN,HILL,MNTN,TWNP,FRST, BAY,HILL,CNYN,VALY, BAY,MNTN,MTDB, BAY,SFRN,PARK, BAY,SFRN,PARK,HILL, CTYL,BAY,CNYN, CTYL,BAY,GGTE,MRNA, CTYL,BAY,GGTE,SFRN, CTYL,BAY,GGTE,SFRN,MNTN, CTYL,BAY,PARK,GRDN,MNTN,FRST, CTYL,BAY,SFRN,DWNT,MNTN,TWNP, CTYL,BAY,SFRN,GRDN,MNTN, CTYL,BYBR,OCEN,WOOD, CTYL,GGTE,SFRN,DWNT,MNTN, CTYL,GGTE,SFRN,OCEN,PARK,GRDN,HILL,MNTN,MTPS, CTYL,GGTE,SFRN,TWNP, CTYL,GLFC, CTYL,GRDN,WOOD,TWNP, CTYL,MTDB,TWNP, CTYL,OCEN,GLFC, CTYL,OCEN,MNTN,MTPS, CTYL,PARK,WOOD, CTYL,SFRN,DWNT,PARK,WOOD,HILL,FRST, CTYL,SFRN,GRDN,WOOD,HILL,TWNP, CTYL,SFRN,HILL,MNTN,TWNP,VALY, CTYL,SFRN,OCEN,TWNP, CTYL,SFRN,PARK,GRDN, CTYL,SFRN,WOOD,FRST, CTYL,SFRN,WOOD,MNTN,TWNP, CTYL,WATR,BAY,BYBR,DWNT,WOOD,MNTN,MTPS, CTYL,WATR,BAY,BYBR,SFRN,DWNT,GRDN,HILL,MNTN, CTYL,WATR,BAY,DWNT,MNTN, CTYL,WATR,BAY,GGTE,DWNT,HILL, CTYL,WATR,BAY,GGTE,GRDN, CTYL,WATR,BAY,GGTE,MTPS, CTYL,WATR,BAY,GGTE,OCEN,PARK,MTPS, CTYL,WATR,BAY,GGTE,SFRN,MRNA,GRDN, CTYL,WATR,BAY,SFRN,DWNT,HILL, CTYL,WATR,BAY,SFRN,DWNT,TWNP, CTYL,WATR,BAY,SFRN,OCEN,GRDN, CTYL,WATR,BYBR,DWNT,TWNP, CTYL,WATR,BYBR,SFRN,DWNT,HILL,MNTN, CTYL,WATR,OCEN,GRDN, CTYL,WATR,OCEN,GRDN,HILL,TWNP, CTYL,WATR,OCEN,GRDN,HILL,TWNP,FRST, CTYL,WATR,OCEN,PARK,TWNP, CTYL,WATR,SFRN,GRDN,WOOD,RIDG, CTYL,WATR,SFRN,OCEN,GRDN,HILL, CTYL,WATR,SFRN,OCEN,PARK,GLFC,MNTN,TWNP, CTYL,WATR,SFRN,WOOD,FRST, DWNT,GRDN, GGTE,HILL,MTPS, GGTE,PARK,GRDN,MNTN,RIDG, GGTE,SFRN,DWNT,PARK,HILL,TWNP, GGTE,SFRN,MNTN, GLFC,FRST, GRDN,GLFC,HILL, GRDN,WOOD,HILL,TWNP, MNTN,FRST, OCEN,GRDN,HILL,FRST, OCEN,GRDN,WOOD, OCEN,WOOD,MNTN, PARK,GRDN,MNTN, PARK,HILL,MNTN,FRST, PARK,LAKE, PARK,WOOD,HILL, PNRM,BAY,BYBR,HILL, PNRM,BAY,DWNT,HILL,TWNP, PNRM,BAY,HILL,MTDB, PNRM,BAY,OCEN, PNRM,BAY,SFRN,MTDB, PNRM,CNYN, PNRM,CTYL,BAY,BYBR,GGTE,SFRN,DWNT,GRDN, PNRM,CTYL,BAY,BYBR,GGTE,SFRN,DWNT,OCEN,FRST, PNRM,CTYL,BAY,BYBR,SFRN,DWNT,HILL,VALY, PNRM,CTYL,BAY,BYBR,SFRN,DWNT,MTDB,VALY, PNRM,CTYL,BAY,HILL,MNTN,MTPS,TWNP, PNRM,CTYL,BAY,MTDB, PNRM,CTYL,BAY,OCEN,HILL,MNTN,VALY, PNRM,CTYL,BAY,SFRN,DWNT,MNTN,MTDB,CNYN, PNRM,CTYL,BAY,SFRN,MRNA, PNRM,CTYL,DWNT,PARK,WOOD, PNRM,CTYL,GGTE,SFRN,DWNT,GRDN,GLFC,WOOD, PNRM,CTYL,GRDN,MNTN,TWNP, PNRM,CTYL,OCEN,GRDN,HILL,LAKE, PNRM,CTYL,OCEN,HILL,MNTN, PNRM,CTYL,PARK,GRDN,WOOD,HILL,MNTN,FRST,CNYN, PNRM,CTYL,SFRN,DWNT,GRDN,WOOD,HILL,CNYN, PNRM,CTYL,SFRN,DWNT,WOOD,HILL,MNTN,TWNP, PNRM,CTYL,SFRN,OCEN,PARK,GLFC,HILL, PNRM,CTYL,SFRN,PARK,HILL,MNTN,RIDG,CNYN,VALY, PNRM,CTYL,SFRN,PARK,HILL,MNTN,TWNP,FRST,VALY, PNRM,CTYL,SFRN,VALY, PNRM,CTYL,WATR,BAY,BYBR,DWNT,HILL,TWNP, PNRM,CTYL,WATR,BAY,BYBR,GGTE,SFRN,DWNT,GRDN,WOOD,HILL,MNTN,MTPS,MTDB,TWNP,FRST, PNRM,CTYL,WATR,BAY,BYBR,GGTE,SFRN,DWNT,TWNP, PNRM,CTYL,WATR,BAY,BYBR,MTDB, PNRM,CTYL,WATR,BAY,BYBR,SFRN,DWNT,HILL,MNTN,TWNP, PNRM,CTYL,WATR,BAY,BYBR,SFRN,DWNT,HILL,VALY, PNRM,CTYL,WATR,BAY,BYBR,SFRN,DWNT,OCEN, PNRM,CTYL,WATR,BAY,BYBR,SFRN,DWNT,OCEN,HILL, PNRM,CTYL,WATR,BAY,BYBR,SFRN,DWNT,OCEN,PARK,HILL,MNTN,MTDB,TWNP, PNRM,CTYL,WATR,BAY,BYBR,SFRN,DWNT,PARK,GRDN,MTDB, PNRM,CTYL,WATR,BAY,BYBR,SFRN,DWNT,PARK,GRDN,WOOD,HILL,MNTN,MTDB,FRST, PNRM,CTYL,WATR,BAY,BYBR,SFRN,DWNT,PARK,HILL,MNTN,TWNP, PNRM,CTYL,WATR,BAY,BYBR,SFRN,DWNT,PARK,WOOD,HILL,MTDB,TWNP,FRST, PNRM,CTYL,WATR,BAY,GGTE,DWNT,MRNA,GRDN,MTPS, PNRM,CTYL,WATR,BAY,GGTE,MRNA,GRDN, PNRM,CTYL,WATR,BAY,GGTE,OCEN,PARK,GRDN,WOOD,MTPS, PNRM,CTYL,WATR,BAY,GGTE,SFRN,DWNT,MRNA,OCEN,PARK,GRDN,WOOD,HILL,MNTN,TWNP,FRST, PNRM,CTYL,WATR,BAY,GGTE,SFRN,DWNT,MRNA,PARK,GRDN,MNTN, PNRM,CTYL,WATR,BAY,GGTE,SFRN,DWNT,MTPS,MTDB,TWNP, PNRM,CTYL,WATR,BAY,GGTE,SFRN,GRDN,HILL, PNRM,CTYL,WATR,BAY,GGTE,SFRN,OCEN,MNTN, PNRM,CTYL,WATR,BAY,GRDN, PNRM,CTYL,WATR,BAY,GRDN,HILL,MNTN,VALY, PNRM,CTYL,WATR,BAY,GRDN,MNTN,CNYN,VALY, PNRM,CTYL,WATR,BAY,OCEN,PARK,GRDN,WOOD,HILL, PNRM,CTYL,WATR,BAY,PARK,GRDN,WOOD,TWNP,FRST, PNRM,CTYL,WATR,BAY,SFRN,DWNT,GRDN, PNRM,CTYL,WATR,BAY,SFRN,DWNT,GRDN,MNTN,TWNP, PNRM,CTYL,WATR,BAY,SFRN,DWNT,HILL,TWNP,VALY, PNRM,CTYL,WATR,BAY,SFRN,DWNT,OCEN, PNRM,CTYL,WATR,BAY,SFRN,DWNT,OCEN,HILL,TWNP, PNRM,CTYL,WATR,BAY,SFRN,DWNT,PARK,HILL,TWNP,VALY, PNRM,CTYL,WATR,BAY,SFRN,DWNT,PARK,TWNP, PNRM,CTYL,WATR,BAY,SFRN,HILL,MNTN,MTDB,RIDG, PNRM,CTYL,WATR,BYBR,DWNT,HILL, PNRM,CTYL,WATR,GGTE,SFRN,MRNA, PNRM,CTYL,WATR,GGTE,SFRN,OCEN,HILL,MNTN, PNRM,CTYL,WATR,GGTE,SFRN,PARK,HILL,TWNP, PNRM,CTYL,WATR,GRDN,TWNP, PNRM,CTYL,WATR,HILL,MNTN,CNYN, PNRM,CTYL,WATR,OCEN,GLFC,HILL,FRST, PNRM,CTYL,WATR,OCEN,GLFC,HILL,MNTN,LAKE, PNRM,CTYL,WATR,OCEN,GRDN, PNRM,CTYL,WATR,OCEN,GRDN,GLFC,HILL,MNTN,FRST,LAKE, PNRM,CTYL,WATR,OCEN,GRDN,HILL,VALY, PNRM,CTYL,WATR,OCEN,MNTN,MTDB, PNRM,CTYL,WATR,OCEN,PARK,HILL,MTPS,TWNP, PNRM,CTYL,WATR,SFRN,DWNT,HILL, PNRM,CTYL,WATR,SFRN,HILL, PNRM,CTYL,WATR,SFRN,OCEN,GRDN, PNRM,CTYL,WATR,SFRN,OCEN,PARK,GLFC,WOOD,HILL,MNTN,FRST,LAKE,VALY, PNRM,CTYL,WATR,SFRN,OCEN,PARK,GRDN,TWNP, PNRM,CTYL,WOOD,CNYN, PNRM,HILL,TWNP,CNYN, PNRM,MNTN,MTDB,TWNP, PNRM,PRTL,CTYL,BAY,HILL, PNRM,PRTL,CTYL,DWNT,MNTN,CNYN, PNRM,PRTL,CTYL,GGTE,SFRN,DWNT,MNTN,TWNP, PNRM,PRTL,CTYL,GRDN,HILL,MNTN,FRST, PNRM,PRTL,CTYL,PARK,HILL,FRST, PNRM,PRTL,CTYL,SFRN,MNTN, PNRM,PRTL,CTYL,WATR,BAY, PNRM,PRTL,CTYL,WATR,BAY,BYBR,SFRN,DWNT,GRDN,HILL,MNTN, PNRM,PRTL,CTYL,WATR,BAY,BYBR,SFRN,DWNT,PARK,GRDN,WOOD,HILL,MNTN,MTPS,TWNP,FRST, PNRM,PRTL,CTYL,WATR,BAY,CNYN, PNRM,PRTL,CTYL,WATR,BAY,GGTE,SFRN,OCEN,PARK,GRDN,HILL, PNRM,PRTL,CTYL,WATR,BAY,OCEN,HILL, PNRM,PRTL,CTYL,WATR,GGTE,GRDN,WOOD,MNTN, PNRM,PRTL,CTYL,WATR,OCEN,GRDN,HILL,MNTN,MTPS,FRST, PNRM,PRTL,CTYL,WATR,OCEN,MNTN, PNRM,PRTL,CTYL,WATR,OCEN,PARK,GLFC,HILL,MNTN,FRST, PNRM,PRTL,CTYL,WATR,OCEN,PARK,GRDN,GLFC,HILL,LAKE, PNRM,PRTL,CTYL,WATR,OCEN,PARK,HILL,MNTN,FRST, PNRM,PRTL,CTYL,WATR,SFRN, PNRM,PRTL,CTYL,WATR,SFRN,OCEN, PNRM,PRTL,HILL, PNRM,PRTL,WATR,BAY,HILL,TWNP, PNRM,PRTL,WATR,BAY,SFRN, PNRM,PRTL,WATR,GGTE,OCEN, PNRM,RIDG,CNYN, PNRM,TWNP,CNYN, PNRM,WATR,BAY,BYBR,GGTE,DWNT,OCEN,PARK,GRDN,MNTN,MTPS,MTDB, PNRM,WATR,BAY,GGTE,OCEN,MNTN,MTPS, PNRM,WATR,BAY,HILL,MNTN,TWNP, PNRM,WATR,DWNT,PARK,HILL,TWNP, PNRM,WATR,GGTE,SFRN,DWNT, PNRM,WATR,GGTE,SFRN,OCEN,MTPS, PNRM,WATR,OCEN,PARK,GRDN,GLFC,WOOD,FRST, PNRM,WATR,SFRN,HILL, PNRM,WATR,SFRN,OCEN, PNRM,WATR,SFRN,OCEN,GRDN,MNTN,TWNP,FRST, PNRM,WOOD,MNTN,FRST, PRTL,BAY,DWNT, PRTL,BAY,GGTE,MRNA, PRTL,BAY,SFRN,HILL,MTDB, PRTL,CTYL,BAY,GRDN, PRTL,CTYL,BAY,SFRN,MTDB, PRTL,CTYL,GGTE,MRNA, PRTL,CTYL,GGTE,SFRN, PRTL,CTYL,GGTE,TWNP, PRTL,CTYL,GLFC,HILL, PRTL,CTYL,GRDN,WOOD,TWNP, PRTL,CTYL,MNTN,RIDG,VALY, PRTL,CTYL,OCEN,WOOD, PRTL,CTYL,PARK,GRDN,HILL, PRTL,CTYL,SFRN,DWNT,GRDN,WOOD, PRTL,CTYL,SFRN,DWNT,PARK,HILL,MNTN, PRTL,CTYL,WATR,BAY,BYBR,SFRN,DWNT,GRDN,HILL,MNTN,VALY, PRTL,CTYL,WATR,BAY,BYBR,SFRN,DWNT,WOOD,HILL,MNTN,FRST, PRTL,CTYL,WATR,BAY,DWNT,MTDB,TWNP, PRTL,CTYL,WATR,BAY,GRDN,MNTN,CNYN, PRTL,CTYL,WATR,BYBR,SFRN,DWNT, PRTL,CTYL,WATR,OCEN,GRDN,HILL,MNTN, PRTL,CTYL,WATR,OCEN,PARK,GRDN,HILL,MNTN,FRST, PRTL,CTYL,WATR,SFRN,HILL,MNTN, PRTL,CTYL,WOOD,FRST, PRTL,GGTE,SFRN, PRTL,GGTE,SFRN,OCEN,PARK,HILL,TWNP, PRTL,GRDN,HILL,MNTN,TWNP,FRST, PRTL,HILL,MNTN,FRST, PRTL,PARK,HILL,MNTN,MTPS, PRTL,SFRN,GRDN,HILL, PRTL,WATR,BAY,BYBR, PRTL,WATR,BAY,GGTE,MRNA, PRTL,WATR,BAY,SFRN,HILL, PRTL,WATR,BAY,VALY, PRTL,WATR,BYBR,SFRN,TWNP, PRTL,WATR,DWNT, PRTL,WATR,GRDN,HILL,MNTN, PRTL,WATR,OCEN,GRDN,GLFC,WOOD,FRST,LAKE, PRTL,WATR,OCEN,PARK,MTPS, PRTL,WATR,SFRN,OCEN, PRTL,WOOD,HILL,MNTN,FRST,VALY, SFRN,DWNT,MNTN,TWNP, SFRN,GRDN,WOOD,HILL,MNTN,FRST, SFRN,OCEN,GRDN, SFRN,OCEN,HILL,MTPS, SFRN,OCEN,PARK, SFRN,PARK,GRDN,WOOD,HILL,TWNP,FRST, SFRN,PARK,WOOD,HILL, WATR,BAY,GGTE,SFRN,PARK, WATR,BAY,GRDN,FRST, WATR,BAY,GRDN,GLFC, WATR,BAY,HILL,CNYN, WATR,BAY,WOOD,FRST, WATR,BYBR,SFRN, WATR,GGTE,DWNT,OCEN,GRDN,HILL,MTPS, WATR,GGTE,MRNA,GRDN, WATR,HILL,CNYN, WATR,OCEN,GRDN,GLFC, WATR,OCEN,MTPS, WOOD,HILL,RIDG,VALY, WOOD,HILL,TWNP,FRST]\n",
      "  warnings.warn(w)\n"
     ]
    }
   ],
   "source": [
    "# Generate predictions on a validation set (if necessary):\n",
    "pred = drf.predict(test)"
   ]
  },
  {
   "cell_type": "code",
   "execution_count": 79,
   "metadata": {},
   "outputs": [],
   "source": [
    "pred['sale_price'] = test['sale_price']"
   ]
  },
  {
   "cell_type": "code",
   "execution_count": 80,
   "metadata": {},
   "outputs": [],
   "source": [
    "from sklearn.metrics import mean_absolute_error, median_absolute_error, r2_score\n",
    "import numpy as np"
   ]
  },
  {
   "cell_type": "code",
   "execution_count": 83,
   "metadata": {},
   "outputs": [],
   "source": [
    "df_pred = pred.as_data_frame()"
   ]
  },
  {
   "cell_type": "code",
   "execution_count": 84,
   "metadata": {},
   "outputs": [
    {
     "data": {
      "text/html": [
       "<div>\n",
       "<style scoped>\n",
       "    .dataframe tbody tr th:only-of-type {\n",
       "        vertical-align: middle;\n",
       "    }\n",
       "\n",
       "    .dataframe tbody tr th {\n",
       "        vertical-align: top;\n",
       "    }\n",
       "\n",
       "    .dataframe thead th {\n",
       "        text-align: right;\n",
       "    }\n",
       "</style>\n",
       "<table border=\"1\" class=\"dataframe\">\n",
       "  <thead>\n",
       "    <tr style=\"text-align: right;\">\n",
       "      <th></th>\n",
       "      <th>predict</th>\n",
       "      <th>sale_price</th>\n",
       "    </tr>\n",
       "  </thead>\n",
       "  <tbody>\n",
       "    <tr>\n",
       "      <th>0</th>\n",
       "      <td>4.317566e+06</td>\n",
       "      <td>3800000</td>\n",
       "    </tr>\n",
       "    <tr>\n",
       "      <th>1</th>\n",
       "      <td>1.836107e+06</td>\n",
       "      <td>1820000</td>\n",
       "    </tr>\n",
       "    <tr>\n",
       "      <th>2</th>\n",
       "      <td>1.966565e+06</td>\n",
       "      <td>2228000</td>\n",
       "    </tr>\n",
       "    <tr>\n",
       "      <th>3</th>\n",
       "      <td>5.075817e+06</td>\n",
       "      <td>6900000</td>\n",
       "    </tr>\n",
       "    <tr>\n",
       "      <th>4</th>\n",
       "      <td>1.727254e+06</td>\n",
       "      <td>2760000</td>\n",
       "    </tr>\n",
       "    <tr>\n",
       "      <th>...</th>\n",
       "      <td>...</td>\n",
       "      <td>...</td>\n",
       "    </tr>\n",
       "    <tr>\n",
       "      <th>3346</th>\n",
       "      <td>1.176101e+06</td>\n",
       "      <td>1300000</td>\n",
       "    </tr>\n",
       "    <tr>\n",
       "      <th>3347</th>\n",
       "      <td>1.070415e+06</td>\n",
       "      <td>1250000</td>\n",
       "    </tr>\n",
       "    <tr>\n",
       "      <th>3348</th>\n",
       "      <td>7.015312e+05</td>\n",
       "      <td>1050000</td>\n",
       "    </tr>\n",
       "    <tr>\n",
       "      <th>3349</th>\n",
       "      <td>7.349161e+05</td>\n",
       "      <td>728000</td>\n",
       "    </tr>\n",
       "    <tr>\n",
       "      <th>3350</th>\n",
       "      <td>7.537837e+05</td>\n",
       "      <td>888000</td>\n",
       "    </tr>\n",
       "  </tbody>\n",
       "</table>\n",
       "<p>3351 rows × 2 columns</p>\n",
       "</div>"
      ],
      "text/plain": [
       "           predict  sale_price\n",
       "0     4.317566e+06     3800000\n",
       "1     1.836107e+06     1820000\n",
       "2     1.966565e+06     2228000\n",
       "3     5.075817e+06     6900000\n",
       "4     1.727254e+06     2760000\n",
       "...            ...         ...\n",
       "3346  1.176101e+06     1300000\n",
       "3347  1.070415e+06     1250000\n",
       "3348  7.015312e+05     1050000\n",
       "3349  7.349161e+05      728000\n",
       "3350  7.537837e+05      888000\n",
       "\n",
       "[3351 rows x 2 columns]"
      ]
     },
     "execution_count": 84,
     "metadata": {},
     "output_type": "execute_result"
    }
   ],
   "source": [
    "df_pred"
   ]
  },
  {
   "cell_type": "code",
   "execution_count": 85,
   "metadata": {},
   "outputs": [
    {
     "data": {
      "text/plain": [
       "0.555298857535006"
      ]
     },
     "execution_count": 85,
     "metadata": {},
     "output_type": "execute_result"
    }
   ],
   "source": [
    "r2_score(df_pred[\"predict\"], df_pred[\"sale_price\"])"
   ]
  },
  {
   "cell_type": "code",
   "execution_count": 20,
   "metadata": {},
   "outputs": [],
   "source": [
    "df_pred[\"pct_err\"] = ((df_pred[\"predict\"] - df_pred[\"sale_price\"]) / df_pred[\"sale_price\"]) *100"
   ]
  },
  {
   "cell_type": "code",
   "execution_count": 21,
   "metadata": {},
   "outputs": [
    {
     "data": {
      "text/plain": [
       "count    4744.000000\n",
       "mean        1.391958\n",
       "std        13.047760\n",
       "min       -65.284841\n",
       "25%        -5.040566\n",
       "50%         0.276401\n",
       "75%         6.171786\n",
       "max       321.612756\n",
       "Name: pct_err, dtype: float64"
      ]
     },
     "execution_count": 21,
     "metadata": {},
     "output_type": "execute_result"
    }
   ],
   "source": [
    "df_pred[\"pct_err\"].describe()"
   ]
  },
  {
   "cell_type": "code",
   "execution_count": 22,
   "metadata": {},
   "outputs": [
    {
     "data": {
      "text/plain": [
       "<matplotlib.axes._subplots.AxesSubplot at 0x1a1f05ab70>"
      ]
     },
     "execution_count": 22,
     "metadata": {},
     "output_type": "execute_result"
    },
    {
     "data": {
      "image/png": "[encoded data removed]",
      "text/plain": [
       "<Figure size 432x288 with 1 Axes>"
      ]
     },
     "metadata": {
      "needs_background": "light"
     },
     "output_type": "display_data"
    }
   ],
   "source": [
    "df_pred[\"pct_err\"].hist()"
   ]
  },
  {
   "cell_type": "code",
   "execution_count": 90,
   "metadata": {},
   "outputs": [],
   "source": [
    "df_pred.to_csv(\"ENG_DATA/PREDICTED/12-8_df_h20_leader_predictions.csv\")"
   ]
  },
  {
   "cell_type": "markdown",
   "metadata": {},
   "source": [
    "# Without List Price"
   ]
  }
 ],
 "metadata": {
  "kernelspec": {
   "display_name": "Python 3",
   "language": "python",
   "name": "python3"
  },
  "language_info": {
   "codemirror_mode": {
    "name": "ipython",
    "version": 3
   },
   "file_extension": ".py",
   "mimetype": "text/x-python",
   "name": "python",
   "nbconvert_exporter": "python",
   "pygments_lexer": "ipython3",
   "version": "3.6.10"
  }
 },
 "nbformat": 4,
 "nbformat_minor": 2
}
