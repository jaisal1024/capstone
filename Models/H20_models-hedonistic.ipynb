{
 "cells": [
  {
   "cell_type": "code",
   "execution_count": 1,
   "metadata": {},
   "outputs": [],
   "source": [
    "import os\n",
    "import h2o\n",
    "from h2o.automl import H2OAutoML"
   ]
  },
  {
   "cell_type": "code",
   "execution_count": 2,
   "metadata": {},
   "outputs": [],
   "source": [
    "os.chdir('..')"
   ]
  },
  {
   "cell_type": "code",
   "execution_count": 3,
   "metadata": {},
   "outputs": [
    {
     "name": "stdout",
     "output_type": "stream",
     "text": [
      "Checking whether there is an H2O instance running at http://localhost:54321 . connected.\n"
     ]
    },
    {
     "data": {
      "text/html": [
       "<div style=\"overflow:auto\"><table style=\"width:50%\"><tr><td>H2O cluster uptime:</td>\n",
       "<td>1 day 0 hours 45 mins</td></tr>\n",
       "<tr><td>H2O cluster timezone:</td>\n",
       "<td>Asia/Dubai</td></tr>\n",
       "<tr><td>H2O data parsing timezone:</td>\n",
       "<td>UTC</td></tr>\n",
       "<tr><td>H2O cluster version:</td>\n",
       "<td>3.26.0.11</td></tr>\n",
       "<tr><td>H2O cluster version age:</td>\n",
       "<td>6 days </td></tr>\n",
       "<tr><td>H2O cluster name:</td>\n",
       "<td>H2O_from_python_jpf_nvd96g</td></tr>\n",
       "<tr><td>H2O cluster total nodes:</td>\n",
       "<td>1</td></tr>\n",
       "<tr><td>H2O cluster free memory:</td>\n",
       "<td>1.607 Gb</td></tr>\n",
       "<tr><td>H2O cluster total cores:</td>\n",
       "<td>4</td></tr>\n",
       "<tr><td>H2O cluster allowed cores:</td>\n",
       "<td>4</td></tr>\n",
       "<tr><td>H2O cluster status:</td>\n",
       "<td>locked, healthy</td></tr>\n",
       "<tr><td>H2O connection url:</td>\n",
       "<td>http://localhost:54321</td></tr>\n",
       "<tr><td>H2O connection proxy:</td>\n",
       "<td>{'http': None, 'https': None}</td></tr>\n",
       "<tr><td>H2O internal security:</td>\n",
       "<td>False</td></tr>\n",
       "<tr><td>H2O API Extensions:</td>\n",
       "<td>Amazon S3, XGBoost, Algos, AutoML, Core V3, TargetEncoder, Core V4</td></tr>\n",
       "<tr><td>Python version:</td>\n",
       "<td>3.6.9 final</td></tr></table></div>"
      ],
      "text/plain": [
       "--------------------------  ------------------------------------------------------------------\n",
       "H2O cluster uptime:         1 day 0 hours 45 mins\n",
       "H2O cluster timezone:       Asia/Dubai\n",
       "H2O data parsing timezone:  UTC\n",
       "H2O cluster version:        3.26.0.11\n",
       "H2O cluster version age:    6 days\n",
       "H2O cluster name:           H2O_from_python_jpf_nvd96g\n",
       "H2O cluster total nodes:    1\n",
       "H2O cluster free memory:    1.607 Gb\n",
       "H2O cluster total cores:    4\n",
       "H2O cluster allowed cores:  4\n",
       "H2O cluster status:         locked, healthy\n",
       "H2O connection url:         http://localhost:54321\n",
       "H2O connection proxy:       {'http': None, 'https': None}\n",
       "H2O internal security:      False\n",
       "H2O API Extensions:         Amazon S3, XGBoost, Algos, AutoML, Core V3, TargetEncoder, Core V4\n",
       "Python version:             3.6.9 final\n",
       "--------------------------  ------------------------------------------------------------------"
      ]
     },
     "metadata": {},
     "output_type": "display_data"
    }
   ],
   "source": [
    "h2o.init()"
   ]
  },
  {
   "cell_type": "code",
   "execution_count": 5,
   "metadata": {},
   "outputs": [
    {
     "name": "stdout",
     "output_type": "stream",
     "text": [
      "Parse progress: |█████████████████████████████████████████████████████████| 100%\n",
      "Parse progress: |█████████████████████████████████████████████████████████| 100%\n"
     ]
    }
   ],
   "source": [
    "# Import a sample binary outcome train/test set into H2O\n",
    "train = h2o.import_file('ENG_DATA/SELECTED/12-10_hedon_train.csv')\n",
    "test = h2o.import_file('ENG_DATA/SELECTED/12-10_hedon_test.csv')\n",
    "factor_columns = ['full_address',\n",
    " 'street_name',\n",
    " 'type',\n",
    " 'neighborhood']\n",
    "\n",
    "#remove column index \n",
    "train.columns.remove(\"C1\")\n",
    "test.columns.remove(\"C1\")\n",
    "\n",
    "# Identify predictors and response\n",
    "x = train.columns\n",
    "y = \"sale_price\"\n",
    "x.remove(y)\n",
    "x.remove(\"C1\")"
   ]
  },
  {
   "cell_type": "code",
   "execution_count": 6,
   "metadata": {},
   "outputs": [],
   "source": [
    "for f in factor_columns: \n",
    "    train[f] = train[f].asfactor()\n",
    "    test[f] = test[f].asfactor()"
   ]
  },
  {
   "cell_type": "code",
   "execution_count": 7,
   "metadata": {},
   "outputs": [
    {
     "name": "stdout",
     "output_type": "stream",
     "text": [
      "AutoML progress: |████████████████████████████████████████████████████████| 100%\n"
     ]
    },
    {
     "data": {
      "text/html": [
       "<table>\n",
       "<thead>\n",
       "<tr><th>model_id                        </th><th style=\"text-align: right;\">  mean_residual_deviance</th><th style=\"text-align: right;\">  rmse</th><th style=\"text-align: right;\">        mse</th><th style=\"text-align: right;\">   mae</th><th style=\"text-align: right;\">   rmsle</th></tr>\n",
       "</thead>\n",
       "<tbody>\n",
       "<tr><td>XGBoost_1_AutoML_20191212_112938</td><td style=\"text-align: right;\">             2.83514e+11</td><td style=\"text-align: right;\">532460</td><td style=\"text-align: right;\">2.83514e+11</td><td style=\"text-align: right;\">216729</td><td style=\"text-align: right;\">0.186837</td></tr>\n",
       "</tbody>\n",
       "</table>"
      ]
     },
     "metadata": {},
     "output_type": "display_data"
    },
    {
     "data": {
      "text/plain": []
     },
     "execution_count": 7,
     "metadata": {},
     "output_type": "execute_result"
    }
   ],
   "source": [
    "# Run AutoML for 2 base models (limited to 1 hour max runtime by default)\n",
    "aml = H2OAutoML(max_models=1, seed=1)\n",
    "aml.train(x=x, y=y, training_frame=train)\n",
    "\n",
    "# View the AutoML Leaderboard\n",
    "lb = aml.leaderboard\n",
    "lb.head(rows=lb.nrows)  # Print all rows instead of default (10 rows)"
   ]
  },
  {
   "cell_type": "code",
   "execution_count": 8,
   "metadata": {},
   "outputs": [
    {
     "data": {
      "text/plain": [
       "{'creation_epoch': '1576135778',\n",
       " 'start_epoch': '1576135778',\n",
       " 'stop_epoch': '1576136010',\n",
       " 'duration_secs': '232'}"
      ]
     },
     "execution_count": 8,
     "metadata": {},
     "output_type": "execute_result"
    }
   ],
   "source": [
    "aml.training_info"
   ]
  },
  {
   "cell_type": "code",
   "execution_count": 9,
   "metadata": {},
   "outputs": [
    {
     "data": {
      "text/plain": [
       "'/Users/37138/cs/capstone/Models/h20-leader-12-12-hedon.mojo'"
      ]
     },
     "execution_count": 9,
     "metadata": {},
     "output_type": "execute_result"
    }
   ],
   "source": [
    "aml.download_mojo(path='Models/h20-leader-12-12-hedon.mojo')"
   ]
  },
  {
   "cell_type": "code",
   "execution_count": 10,
   "metadata": {},
   "outputs": [
    {
     "name": "stdout",
     "output_type": "stream",
     "text": [
      "Model Details\n",
      "=============\n",
      "H2OXGBoostEstimator :  XGBoost\n",
      "Model Key:  XGBoost_1_AutoML_20191212_112938\n",
      "\n",
      "\n",
      "Model Summary: \n"
     ]
    },
    {
     "data": {
      "text/html": [
       "<div>\n",
       "<style scoped>\n",
       "    .dataframe tbody tr th:only-of-type {\n",
       "        vertical-align: middle;\n",
       "    }\n",
       "\n",
       "    .dataframe tbody tr th {\n",
       "        vertical-align: top;\n",
       "    }\n",
       "\n",
       "    .dataframe thead th {\n",
       "        text-align: right;\n",
       "    }\n",
       "</style>\n",
       "<table border=\"1\" class=\"dataframe\">\n",
       "  <thead>\n",
       "    <tr style=\"text-align: right;\">\n",
       "      <th></th>\n",
       "      <th></th>\n",
       "      <th>number_of_trees</th>\n",
       "    </tr>\n",
       "  </thead>\n",
       "  <tbody>\n",
       "    <tr>\n",
       "      <th>0</th>\n",
       "      <td></td>\n",
       "      <td>144.0</td>\n",
       "    </tr>\n",
       "  </tbody>\n",
       "</table>\n",
       "</div>"
      ],
      "text/plain": [
       "     number_of_trees\n",
       "0              144.0"
      ]
     },
     "metadata": {},
     "output_type": "display_data"
    },
    {
     "name": "stdout",
     "output_type": "stream",
     "text": [
      "\n",
      "\n",
      "ModelMetricsRegression: xgboost\n",
      "** Reported on train data. **\n",
      "\n",
      "MSE: 56506414646.45121\n",
      "RMSE: 237710.77940735294\n",
      "MAE: 135399.98544543108\n",
      "RMSLE: 0.13664259807208573\n",
      "Mean Residual Deviance: 56506414646.45121\n",
      "\n",
      "ModelMetricsRegression: xgboost\n",
      "** Reported on cross-validation data. **\n",
      "\n",
      "MSE: 283513797722.43805\n",
      "RMSE: 532460.1372144567\n",
      "MAE: 216729.07614634934\n",
      "RMSLE: 0.1868368154053054\n",
      "Mean Residual Deviance: 283513797722.43805\n",
      "\n",
      "Cross-Validation Metrics Summary: \n"
     ]
    },
    {
     "data": {
      "text/html": [
       "<div>\n",
       "<style scoped>\n",
       "    .dataframe tbody tr th:only-of-type {\n",
       "        vertical-align: middle;\n",
       "    }\n",
       "\n",
       "    .dataframe tbody tr th {\n",
       "        vertical-align: top;\n",
       "    }\n",
       "\n",
       "    .dataframe thead th {\n",
       "        text-align: right;\n",
       "    }\n",
       "</style>\n",
       "<table border=\"1\" class=\"dataframe\">\n",
       "  <thead>\n",
       "    <tr style=\"text-align: right;\">\n",
       "      <th></th>\n",
       "      <th></th>\n",
       "      <th>mean</th>\n",
       "      <th>sd</th>\n",
       "      <th>cv_1_valid</th>\n",
       "      <th>cv_2_valid</th>\n",
       "      <th>cv_3_valid</th>\n",
       "      <th>cv_4_valid</th>\n",
       "      <th>cv_5_valid</th>\n",
       "    </tr>\n",
       "  </thead>\n",
       "  <tbody>\n",
       "    <tr>\n",
       "      <th>0</th>\n",
       "      <td>mae</td>\n",
       "      <td>216728.52</td>\n",
       "      <td>6617.781</td>\n",
       "      <td>227321.62</td>\n",
       "      <td>216122.05</td>\n",
       "      <td>212317.5</td>\n",
       "      <td>210226.03</td>\n",
       "      <td>217655.38</td>\n",
       "    </tr>\n",
       "    <tr>\n",
       "      <th>1</th>\n",
       "      <td>mean_residual_deviance</td>\n",
       "      <td>2.83504738E11</td>\n",
       "      <td>1.02458581E11</td>\n",
       "      <td>4.55691502E11</td>\n",
       "      <td>2.33899672E11</td>\n",
       "      <td>2.29592941E11</td>\n",
       "      <td>2.97220997E11</td>\n",
       "      <td>2.01118515E11</td>\n",
       "    </tr>\n",
       "    <tr>\n",
       "      <th>2</th>\n",
       "      <td>mse</td>\n",
       "      <td>2.83504738E11</td>\n",
       "      <td>1.02458581E11</td>\n",
       "      <td>4.55691502E11</td>\n",
       "      <td>2.33899672E11</td>\n",
       "      <td>2.29592941E11</td>\n",
       "      <td>2.97220997E11</td>\n",
       "      <td>2.01118515E11</td>\n",
       "    </tr>\n",
       "    <tr>\n",
       "      <th>3</th>\n",
       "      <td>r2</td>\n",
       "      <td>0.84199935</td>\n",
       "      <td>0.037839375</td>\n",
       "      <td>0.78256756</td>\n",
       "      <td>0.84349054</td>\n",
       "      <td>0.8699341</td>\n",
       "      <td>0.83506614</td>\n",
       "      <td>0.8789384</td>\n",
       "    </tr>\n",
       "    <tr>\n",
       "      <th>4</th>\n",
       "      <td>residual_deviance</td>\n",
       "      <td>2.83504738E11</td>\n",
       "      <td>1.02458581E11</td>\n",
       "      <td>4.55691502E11</td>\n",
       "      <td>2.33899672E11</td>\n",
       "      <td>2.29592941E11</td>\n",
       "      <td>2.97220997E11</td>\n",
       "      <td>2.01118515E11</td>\n",
       "    </tr>\n",
       "    <tr>\n",
       "      <th>5</th>\n",
       "      <td>rmse</td>\n",
       "      <td>526296.4</td>\n",
       "      <td>90255.71</td>\n",
       "      <td>675049.25</td>\n",
       "      <td>483631.75</td>\n",
       "      <td>479158.56</td>\n",
       "      <td>545179.75</td>\n",
       "      <td>448462.4</td>\n",
       "    </tr>\n",
       "    <tr>\n",
       "      <th>6</th>\n",
       "      <td>rmsle</td>\n",
       "      <td>0.18682715</td>\n",
       "      <td>0.0021139134</td>\n",
       "      <td>0.18851915</td>\n",
       "      <td>0.18849963</td>\n",
       "      <td>0.1833355</td>\n",
       "      <td>0.18697646</td>\n",
       "      <td>0.18680505</td>\n",
       "    </tr>\n",
       "  </tbody>\n",
       "</table>\n",
       "</div>"
      ],
      "text/plain": [
       "                                    mean             sd     cv_1_valid  \\\n",
       "0                     mae      216728.52       6617.781      227321.62   \n",
       "1  mean_residual_deviance  2.83504738E11  1.02458581E11  4.55691502E11   \n",
       "2                     mse  2.83504738E11  1.02458581E11  4.55691502E11   \n",
       "3                      r2     0.84199935    0.037839375     0.78256756   \n",
       "4       residual_deviance  2.83504738E11  1.02458581E11  4.55691502E11   \n",
       "5                    rmse       526296.4       90255.71      675049.25   \n",
       "6                   rmsle     0.18682715   0.0021139134     0.18851915   \n",
       "\n",
       "      cv_2_valid     cv_3_valid     cv_4_valid     cv_5_valid  \n",
       "0      216122.05       212317.5      210226.03      217655.38  \n",
       "1  2.33899672E11  2.29592941E11  2.97220997E11  2.01118515E11  \n",
       "2  2.33899672E11  2.29592941E11  2.97220997E11  2.01118515E11  \n",
       "3     0.84349054      0.8699341     0.83506614      0.8789384  \n",
       "4  2.33899672E11  2.29592941E11  2.97220997E11  2.01118515E11  \n",
       "5      483631.75      479158.56      545179.75       448462.4  \n",
       "6     0.18849963      0.1833355     0.18697646     0.18680505  "
      ]
     },
     "metadata": {},
     "output_type": "display_data"
    },
    {
     "name": "stdout",
     "output_type": "stream",
     "text": [
      "\n",
      "Scoring History: \n"
     ]
    },
    {
     "data": {
      "text/html": [
       "<div>\n",
       "<style scoped>\n",
       "    .dataframe tbody tr th:only-of-type {\n",
       "        vertical-align: middle;\n",
       "    }\n",
       "\n",
       "    .dataframe tbody tr th {\n",
       "        vertical-align: top;\n",
       "    }\n",
       "\n",
       "    .dataframe thead th {\n",
       "        text-align: right;\n",
       "    }\n",
       "</style>\n",
       "<table border=\"1\" class=\"dataframe\">\n",
       "  <thead>\n",
       "    <tr style=\"text-align: right;\">\n",
       "      <th></th>\n",
       "      <th></th>\n",
       "      <th>timestamp</th>\n",
       "      <th>duration</th>\n",
       "      <th>number_of_trees</th>\n",
       "      <th>training_rmse</th>\n",
       "      <th>training_mae</th>\n",
       "      <th>training_deviance</th>\n",
       "    </tr>\n",
       "  </thead>\n",
       "  <tbody>\n",
       "    <tr>\n",
       "      <th>0</th>\n",
       "      <td></td>\n",
       "      <td>2019-12-12 11:32:47</td>\n",
       "      <td>3 min  8.937 sec</td>\n",
       "      <td>0.0</td>\n",
       "      <td>1.912814e+06</td>\n",
       "      <td>1.376509e+06</td>\n",
       "      <td>3.658857e+12</td>\n",
       "    </tr>\n",
       "    <tr>\n",
       "      <th>1</th>\n",
       "      <td></td>\n",
       "      <td>2019-12-12 11:32:48</td>\n",
       "      <td>3 min 10.359 sec</td>\n",
       "      <td>5.0</td>\n",
       "      <td>1.534424e+06</td>\n",
       "      <td>1.071766e+06</td>\n",
       "      <td>2.354457e+12</td>\n",
       "    </tr>\n",
       "    <tr>\n",
       "      <th>2</th>\n",
       "      <td></td>\n",
       "      <td>2019-12-12 11:32:50</td>\n",
       "      <td>3 min 11.775 sec</td>\n",
       "      <td>10.0</td>\n",
       "      <td>1.242245e+06</td>\n",
       "      <td>8.358094e+05</td>\n",
       "      <td>1.543173e+12</td>\n",
       "    </tr>\n",
       "    <tr>\n",
       "      <th>3</th>\n",
       "      <td></td>\n",
       "      <td>2019-12-12 11:32:51</td>\n",
       "      <td>3 min 13.190 sec</td>\n",
       "      <td>15.0</td>\n",
       "      <td>1.017428e+06</td>\n",
       "      <td>6.528922e+05</td>\n",
       "      <td>1.035161e+12</td>\n",
       "    </tr>\n",
       "    <tr>\n",
       "      <th>4</th>\n",
       "      <td></td>\n",
       "      <td>2019-12-12 11:32:52</td>\n",
       "      <td>3 min 14.450 sec</td>\n",
       "      <td>20.0</td>\n",
       "      <td>8.448000e+05</td>\n",
       "      <td>5.119352e+05</td>\n",
       "      <td>7.136870e+11</td>\n",
       "    </tr>\n",
       "    <tr>\n",
       "      <th>5</th>\n",
       "      <td></td>\n",
       "      <td>2019-12-12 11:32:54</td>\n",
       "      <td>3 min 15.829 sec</td>\n",
       "      <td>25.0</td>\n",
       "      <td>7.129361e+05</td>\n",
       "      <td>4.051060e+05</td>\n",
       "      <td>5.082779e+11</td>\n",
       "    </tr>\n",
       "    <tr>\n",
       "      <th>6</th>\n",
       "      <td></td>\n",
       "      <td>2019-12-12 11:32:55</td>\n",
       "      <td>3 min 17.210 sec</td>\n",
       "      <td>30.0</td>\n",
       "      <td>6.087441e+05</td>\n",
       "      <td>3.257611e+05</td>\n",
       "      <td>3.705694e+11</td>\n",
       "    </tr>\n",
       "    <tr>\n",
       "      <th>7</th>\n",
       "      <td></td>\n",
       "      <td>2019-12-12 11:32:57</td>\n",
       "      <td>3 min 18.581 sec</td>\n",
       "      <td>35.0</td>\n",
       "      <td>5.317211e+05</td>\n",
       "      <td>2.684574e+05</td>\n",
       "      <td>2.827273e+11</td>\n",
       "    </tr>\n",
       "    <tr>\n",
       "      <th>8</th>\n",
       "      <td></td>\n",
       "      <td>2019-12-12 11:32:58</td>\n",
       "      <td>3 min 20.094 sec</td>\n",
       "      <td>40.0</td>\n",
       "      <td>4.724262e+05</td>\n",
       "      <td>2.281523e+05</td>\n",
       "      <td>2.231865e+11</td>\n",
       "    </tr>\n",
       "    <tr>\n",
       "      <th>9</th>\n",
       "      <td></td>\n",
       "      <td>2019-12-12 11:32:59</td>\n",
       "      <td>3 min 21.511 sec</td>\n",
       "      <td>45.0</td>\n",
       "      <td>4.232685e+05</td>\n",
       "      <td>2.000208e+05</td>\n",
       "      <td>1.791562e+11</td>\n",
       "    </tr>\n",
       "    <tr>\n",
       "      <th>10</th>\n",
       "      <td></td>\n",
       "      <td>2019-12-12 11:33:01</td>\n",
       "      <td>3 min 22.958 sec</td>\n",
       "      <td>50.0</td>\n",
       "      <td>3.884270e+05</td>\n",
       "      <td>1.810045e+05</td>\n",
       "      <td>1.508756e+11</td>\n",
       "    </tr>\n",
       "    <tr>\n",
       "      <th>11</th>\n",
       "      <td></td>\n",
       "      <td>2019-12-12 11:33:02</td>\n",
       "      <td>3 min 24.347 sec</td>\n",
       "      <td>55.0</td>\n",
       "      <td>3.612823e+05</td>\n",
       "      <td>1.682158e+05</td>\n",
       "      <td>1.305249e+11</td>\n",
       "    </tr>\n",
       "    <tr>\n",
       "      <th>12</th>\n",
       "      <td></td>\n",
       "      <td>2019-12-12 11:33:04</td>\n",
       "      <td>3 min 25.785 sec</td>\n",
       "      <td>60.0</td>\n",
       "      <td>3.416498e+05</td>\n",
       "      <td>1.597941e+05</td>\n",
       "      <td>1.167246e+11</td>\n",
       "    </tr>\n",
       "    <tr>\n",
       "      <th>13</th>\n",
       "      <td></td>\n",
       "      <td>2019-12-12 11:33:05</td>\n",
       "      <td>3 min 27.162 sec</td>\n",
       "      <td>65.0</td>\n",
       "      <td>3.228934e+05</td>\n",
       "      <td>1.540826e+05</td>\n",
       "      <td>1.042602e+11</td>\n",
       "    </tr>\n",
       "    <tr>\n",
       "      <th>14</th>\n",
       "      <td></td>\n",
       "      <td>2019-12-12 11:33:07</td>\n",
       "      <td>3 min 28.813 sec</td>\n",
       "      <td>70.0</td>\n",
       "      <td>3.096149e+05</td>\n",
       "      <td>1.501964e+05</td>\n",
       "      <td>9.586138e+10</td>\n",
       "    </tr>\n",
       "    <tr>\n",
       "      <th>15</th>\n",
       "      <td></td>\n",
       "      <td>2019-12-12 11:33:08</td>\n",
       "      <td>3 min 30.194 sec</td>\n",
       "      <td>75.0</td>\n",
       "      <td>2.985000e+05</td>\n",
       "      <td>1.470791e+05</td>\n",
       "      <td>8.910225e+10</td>\n",
       "    </tr>\n",
       "    <tr>\n",
       "      <th>16</th>\n",
       "      <td></td>\n",
       "      <td>2019-12-12 11:33:10</td>\n",
       "      <td>3 min 31.602 sec</td>\n",
       "      <td>80.0</td>\n",
       "      <td>2.863922e+05</td>\n",
       "      <td>1.443091e+05</td>\n",
       "      <td>8.202048e+10</td>\n",
       "    </tr>\n",
       "    <tr>\n",
       "      <th>17</th>\n",
       "      <td></td>\n",
       "      <td>2019-12-12 11:33:11</td>\n",
       "      <td>3 min 33.049 sec</td>\n",
       "      <td>85.0</td>\n",
       "      <td>2.807169e+05</td>\n",
       "      <td>1.430921e+05</td>\n",
       "      <td>7.880198e+10</td>\n",
       "    </tr>\n",
       "    <tr>\n",
       "      <th>18</th>\n",
       "      <td></td>\n",
       "      <td>2019-12-12 11:33:12</td>\n",
       "      <td>3 min 34.454 sec</td>\n",
       "      <td>90.0</td>\n",
       "      <td>2.743287e+05</td>\n",
       "      <td>1.418136e+05</td>\n",
       "      <td>7.525623e+10</td>\n",
       "    </tr>\n",
       "    <tr>\n",
       "      <th>19</th>\n",
       "      <td></td>\n",
       "      <td>2019-12-12 11:33:14</td>\n",
       "      <td>3 min 35.836 sec</td>\n",
       "      <td>95.0</td>\n",
       "      <td>2.693926e+05</td>\n",
       "      <td>1.409951e+05</td>\n",
       "      <td>7.257235e+10</td>\n",
       "    </tr>\n",
       "  </tbody>\n",
       "</table>\n",
       "</div>"
      ],
      "text/plain": [
       "                timestamp           duration  number_of_trees  training_rmse  \\\n",
       "0     2019-12-12 11:32:47   3 min  8.937 sec              0.0   1.912814e+06   \n",
       "1     2019-12-12 11:32:48   3 min 10.359 sec              5.0   1.534424e+06   \n",
       "2     2019-12-12 11:32:50   3 min 11.775 sec             10.0   1.242245e+06   \n",
       "3     2019-12-12 11:32:51   3 min 13.190 sec             15.0   1.017428e+06   \n",
       "4     2019-12-12 11:32:52   3 min 14.450 sec             20.0   8.448000e+05   \n",
       "5     2019-12-12 11:32:54   3 min 15.829 sec             25.0   7.129361e+05   \n",
       "6     2019-12-12 11:32:55   3 min 17.210 sec             30.0   6.087441e+05   \n",
       "7     2019-12-12 11:32:57   3 min 18.581 sec             35.0   5.317211e+05   \n",
       "8     2019-12-12 11:32:58   3 min 20.094 sec             40.0   4.724262e+05   \n",
       "9     2019-12-12 11:32:59   3 min 21.511 sec             45.0   4.232685e+05   \n",
       "10    2019-12-12 11:33:01   3 min 22.958 sec             50.0   3.884270e+05   \n",
       "11    2019-12-12 11:33:02   3 min 24.347 sec             55.0   3.612823e+05   \n",
       "12    2019-12-12 11:33:04   3 min 25.785 sec             60.0   3.416498e+05   \n",
       "13    2019-12-12 11:33:05   3 min 27.162 sec             65.0   3.228934e+05   \n",
       "14    2019-12-12 11:33:07   3 min 28.813 sec             70.0   3.096149e+05   \n",
       "15    2019-12-12 11:33:08   3 min 30.194 sec             75.0   2.985000e+05   \n",
       "16    2019-12-12 11:33:10   3 min 31.602 sec             80.0   2.863922e+05   \n",
       "17    2019-12-12 11:33:11   3 min 33.049 sec             85.0   2.807169e+05   \n",
       "18    2019-12-12 11:33:12   3 min 34.454 sec             90.0   2.743287e+05   \n",
       "19    2019-12-12 11:33:14   3 min 35.836 sec             95.0   2.693926e+05   \n",
       "\n",
       "    training_mae  training_deviance  \n",
       "0   1.376509e+06       3.658857e+12  \n",
       "1   1.071766e+06       2.354457e+12  \n",
       "2   8.358094e+05       1.543173e+12  \n",
       "3   6.528922e+05       1.035161e+12  \n",
       "4   5.119352e+05       7.136870e+11  \n",
       "5   4.051060e+05       5.082779e+11  \n",
       "6   3.257611e+05       3.705694e+11  \n",
       "7   2.684574e+05       2.827273e+11  \n",
       "8   2.281523e+05       2.231865e+11  \n",
       "9   2.000208e+05       1.791562e+11  \n",
       "10  1.810045e+05       1.508756e+11  \n",
       "11  1.682158e+05       1.305249e+11  \n",
       "12  1.597941e+05       1.167246e+11  \n",
       "13  1.540826e+05       1.042602e+11  \n",
       "14  1.501964e+05       9.586138e+10  \n",
       "15  1.470791e+05       8.910225e+10  \n",
       "16  1.443091e+05       8.202048e+10  \n",
       "17  1.430921e+05       7.880198e+10  \n",
       "18  1.418136e+05       7.525623e+10  \n",
       "19  1.409951e+05       7.257235e+10  "
      ]
     },
     "metadata": {},
     "output_type": "display_data"
    },
    {
     "name": "stdout",
     "output_type": "stream",
     "text": [
      "\n",
      "See the whole table with table.as_data_frame()\n",
      "\n",
      "Variable Importances: \n"
     ]
    },
    {
     "data": {
      "text/html": [
       "<div>\n",
       "<style scoped>\n",
       "    .dataframe tbody tr th:only-of-type {\n",
       "        vertical-align: middle;\n",
       "    }\n",
       "\n",
       "    .dataframe tbody tr th {\n",
       "        vertical-align: top;\n",
       "    }\n",
       "\n",
       "    .dataframe thead th {\n",
       "        text-align: right;\n",
       "    }\n",
       "</style>\n",
       "<table border=\"1\" class=\"dataframe\">\n",
       "  <thead>\n",
       "    <tr style=\"text-align: right;\">\n",
       "      <th></th>\n",
       "      <th>variable</th>\n",
       "      <th>relative_importance</th>\n",
       "      <th>scaled_importance</th>\n",
       "      <th>percentage</th>\n",
       "    </tr>\n",
       "  </thead>\n",
       "  <tbody>\n",
       "    <tr>\n",
       "      <th>0</th>\n",
       "      <td>latitude</td>\n",
       "      <td>6.954993e+16</td>\n",
       "      <td>1.000000</td>\n",
       "      <td>0.320752</td>\n",
       "    </tr>\n",
       "    <tr>\n",
       "      <th>1</th>\n",
       "      <td>baths</td>\n",
       "      <td>6.017133e+16</td>\n",
       "      <td>0.865153</td>\n",
       "      <td>0.277500</td>\n",
       "    </tr>\n",
       "    <tr>\n",
       "      <th>2</th>\n",
       "      <td>beds</td>\n",
       "      <td>1.402059e+16</td>\n",
       "      <td>0.201590</td>\n",
       "      <td>0.064661</td>\n",
       "    </tr>\n",
       "    <tr>\n",
       "      <th>3</th>\n",
       "      <td>area</td>\n",
       "      <td>1.247760e+16</td>\n",
       "      <td>0.179405</td>\n",
       "      <td>0.057545</td>\n",
       "    </tr>\n",
       "    <tr>\n",
       "      <th>4</th>\n",
       "      <td>on_market_date</td>\n",
       "      <td>1.125692e+16</td>\n",
       "      <td>0.161854</td>\n",
       "      <td>0.051915</td>\n",
       "    </tr>\n",
       "    <tr>\n",
       "      <th>5</th>\n",
       "      <td>elevation</td>\n",
       "      <td>4.824756e+15</td>\n",
       "      <td>0.069371</td>\n",
       "      <td>0.022251</td>\n",
       "    </tr>\n",
       "    <tr>\n",
       "      <th>6</th>\n",
       "      <td>longitude</td>\n",
       "      <td>4.519886e+15</td>\n",
       "      <td>0.064988</td>\n",
       "      <td>0.020845</td>\n",
       "    </tr>\n",
       "    <tr>\n",
       "      <th>7</th>\n",
       "      <td>rooms</td>\n",
       "      <td>4.141323e+15</td>\n",
       "      <td>0.059545</td>\n",
       "      <td>0.019099</td>\n",
       "    </tr>\n",
       "    <tr>\n",
       "      <th>8</th>\n",
       "      <td>sale_date</td>\n",
       "      <td>4.058599e+15</td>\n",
       "      <td>0.058355</td>\n",
       "      <td>0.018718</td>\n",
       "    </tr>\n",
       "    <tr>\n",
       "      <th>9</th>\n",
       "      <td>street_name.BroadwaySt</td>\n",
       "      <td>4.042838e+15</td>\n",
       "      <td>0.058129</td>\n",
       "      <td>0.018645</td>\n",
       "    </tr>\n",
       "    <tr>\n",
       "      <th>10</th>\n",
       "      <td>year_built</td>\n",
       "      <td>2.937109e+15</td>\n",
       "      <td>0.042230</td>\n",
       "      <td>0.013545</td>\n",
       "    </tr>\n",
       "    <tr>\n",
       "      <th>11</th>\n",
       "      <td>days_on_market</td>\n",
       "      <td>2.691101e+15</td>\n",
       "      <td>0.038693</td>\n",
       "      <td>0.012411</td>\n",
       "    </tr>\n",
       "    <tr>\n",
       "      <th>12</th>\n",
       "      <td>cdom</td>\n",
       "      <td>2.551751e+15</td>\n",
       "      <td>0.036689</td>\n",
       "      <td>0.011768</td>\n",
       "    </tr>\n",
       "    <tr>\n",
       "      <th>13</th>\n",
       "      <td>on_market_year</td>\n",
       "      <td>2.409483e+15</td>\n",
       "      <td>0.034644</td>\n",
       "      <td>0.011112</td>\n",
       "    </tr>\n",
       "    <tr>\n",
       "      <th>14</th>\n",
       "      <td>num_parking</td>\n",
       "      <td>2.214236e+15</td>\n",
       "      <td>0.031837</td>\n",
       "      <td>0.010212</td>\n",
       "    </tr>\n",
       "    <tr>\n",
       "      <th>15</th>\n",
       "      <td>lot_acres</td>\n",
       "      <td>2.192064e+15</td>\n",
       "      <td>0.031518</td>\n",
       "      <td>0.010109</td>\n",
       "    </tr>\n",
       "    <tr>\n",
       "      <th>16</th>\n",
       "      <td>subdist_no</td>\n",
       "      <td>1.143200e+15</td>\n",
       "      <td>0.016437</td>\n",
       "      <td>0.005272</td>\n",
       "    </tr>\n",
       "    <tr>\n",
       "      <th>17</th>\n",
       "      <td>on_market_month</td>\n",
       "      <td>1.032140e+15</td>\n",
       "      <td>0.014840</td>\n",
       "      <td>0.004760</td>\n",
       "    </tr>\n",
       "    <tr>\n",
       "      <th>18</th>\n",
       "      <td>sale_month</td>\n",
       "      <td>9.084685e+14</td>\n",
       "      <td>0.013062</td>\n",
       "      <td>0.004190</td>\n",
       "    </tr>\n",
       "    <tr>\n",
       "      <th>19</th>\n",
       "      <td>neighborhood.PacificHeights</td>\n",
       "      <td>7.921510e+14</td>\n",
       "      <td>0.011390</td>\n",
       "      <td>0.003653</td>\n",
       "    </tr>\n",
       "  </tbody>\n",
       "</table>\n",
       "</div>"
      ],
      "text/plain": [
       "                       variable  relative_importance  scaled_importance  \\\n",
       "0                      latitude         6.954993e+16           1.000000   \n",
       "1                         baths         6.017133e+16           0.865153   \n",
       "2                          beds         1.402059e+16           0.201590   \n",
       "3                          area         1.247760e+16           0.179405   \n",
       "4                on_market_date         1.125692e+16           0.161854   \n",
       "5                     elevation         4.824756e+15           0.069371   \n",
       "6                     longitude         4.519886e+15           0.064988   \n",
       "7                         rooms         4.141323e+15           0.059545   \n",
       "8                     sale_date         4.058599e+15           0.058355   \n",
       "9        street_name.BroadwaySt         4.042838e+15           0.058129   \n",
       "10                   year_built         2.937109e+15           0.042230   \n",
       "11               days_on_market         2.691101e+15           0.038693   \n",
       "12                         cdom         2.551751e+15           0.036689   \n",
       "13               on_market_year         2.409483e+15           0.034644   \n",
       "14                  num_parking         2.214236e+15           0.031837   \n",
       "15                    lot_acres         2.192064e+15           0.031518   \n",
       "16                   subdist_no         1.143200e+15           0.016437   \n",
       "17              on_market_month         1.032140e+15           0.014840   \n",
       "18                   sale_month         9.084685e+14           0.013062   \n",
       "19  neighborhood.PacificHeights         7.921510e+14           0.011390   \n",
       "\n",
       "    percentage  \n",
       "0     0.320752  \n",
       "1     0.277500  \n",
       "2     0.064661  \n",
       "3     0.057545  \n",
       "4     0.051915  \n",
       "5     0.022251  \n",
       "6     0.020845  \n",
       "7     0.019099  \n",
       "8     0.018718  \n",
       "9     0.018645  \n",
       "10    0.013545  \n",
       "11    0.012411  \n",
       "12    0.011768  \n",
       "13    0.011112  \n",
       "14    0.010212  \n",
       "15    0.010109  \n",
       "16    0.005272  \n",
       "17    0.004760  \n",
       "18    0.004190  \n",
       "19    0.003653  "
      ]
     },
     "metadata": {},
     "output_type": "display_data"
    },
    {
     "name": "stdout",
     "output_type": "stream",
     "text": [
      "\n",
      "See the whole table with table.as_data_frame()\n"
     ]
    },
    {
     "data": {
      "text/plain": []
     },
     "execution_count": 10,
     "metadata": {},
     "output_type": "execute_result"
    }
   ],
   "source": [
    "aml.leader"
   ]
  },
  {
   "cell_type": "code",
   "execution_count": 11,
   "metadata": {},
   "outputs": [
    {
     "name": "stdout",
     "output_type": "stream",
     "text": [
      "xgboost prediction progress: |████████████████████████████████████████████| 100%\n"
     ]
    },
    {
     "name": "stderr",
     "output_type": "stream",
     "text": [
      "/Users/37138/anaconda3/lib/python3.6/site-packages/h2o/job.py:70: UserWarning: Test/Validation dataset column 'full_address' has levels not trained on: [1 Gabilan Way, San Francisco, CA 94132, 1 Ignacio Ave, San Francisco, CA 94124, 1 Lansdale Ave, San Francisco, CA 94127, 1 Lansdale, San Francisco, CA 94127-1608, 1 Las Villas Ct, San Francisco, CA 94124-2781, 1 Nebraska St, San Francisco, CA 94110, 1 Putnam St, San Francisco, CA 94110, 1 Roanoke, San Francisco, CA 94131, 1 Seymour, San Francisco, CA 94115, 1 Southern Heights Ave, San Francisco, CA 94107-2709, 1 Stanford Heights Ave, San Francisco, CA 94127, 1 West View Ave, San Francisco, CA 94134, 10 22nd Ave, San Francisco, CA 94121, 10 Apollo St, San Francisco, CA 94124, 10 Canyon Dr, San Francisco, CA 94112-4530, 10 Chenery, San Francisco, CA 94131, 10 Cumberland St, San Francisco, CA 94110-1525, 10 De Soto, San Francisco, CA 94127, 10 Deming St, San Francisco, CA 94114-1823, 10 Linares Ave, San Francisco, CA 94116, 10 Lunado Way, San Francisco, CA 94127, 10 Lundys Ln, San Francisco, CA 94110-5101, 10 Ralston St, San Francisco, CA 94132-3020, 10 Richards Cir, San Francisco, CA 94124-4425, 10 Skyview Way, San Francisco, CA 94131, 10 Stanford Heights Ave, San Francisco, CA 94127-2318, 10 Youngs Ct, San Francisco, CA 94124, 100 Arleta Ave, San Francisco, CA 94134-2306, 100 Bosworth St, San Francisco, CA 94112, 100 Capistrano Ave, San Francisco, CA 94112, 100 Farnum, San Francisco, CA 94131, 100 Gambier St, San Francisco, CA 94134-1023, 100 Merrill St, San Francisco, CA 94134, 100 Niagara Ave, San Francisco, CA 94112, 100 Oxford, San Francisco, CA 94134, 100 Palo Alto Ave, San Francisco, CA 94114, 100 Rhine St, San Francisco, CA 94112, 100 Stratford Dr, San Francisco, CA 94132, 100 Woodside Ave, San Francisco, CA 94127, 101 Appleton Ave, San Francisco, CA 94110, 101 Campbell Ave, San Francisco, CA 94134, 101 Christopher Dr, San Francisco, CA 94131, 101 Darien Way, San Francisco, CA 94127, 101 Foerster St, San Francisco, CA 94112-1338, 101 Franconia St, San Francisco, CA 94110, 101 Miguel St, San Francisco, CA 94131, 101 Pinehurst Way, San Francisco, CA 94127-2528, 101 San Juan Ave, San Francisco, CA 94112-2511, 101 University St, San Francisco, CA 94134, 1011 Green St, San Francisco, CA 94133, 1012 Shrader, San Francisco, CA 94117, 1012 Tennessee St, San Francisco, CA 94107, 1015 Goettingen St, San Francisco, CA 94134, 1015 Portola, San Francisco, CA 94127, 1016 De Haro St, San Francisco, CA 94107, 1018 Persia Ave, San Francisco, CA 94112, 1019 Church St, San Francisco, CA 94114, 1019 Russia Ave, San Francisco, CA 94112, 1021 Santiago, San Francisco, CA 94116, 1021-1021A Hayes, San Francisco, CA 94117, 1022 Newhall St, San Francisco, CA 94124-2144, 1023 Le Conte Ave, San Francisco, CA 94124, 1024 Ortega St, San Francisco, CA 94122, 1028 Newhall St, San Francisco, CA 94124, 103 Dwight, San Francisco, CA 94134, 103 Galewood Cir, San Francisco, CA 94131, 1030 Capitol Ave, San Francisco, CA 94112, 1037 Church St, San Francisco, CA 94114-3414, 1037 Florida St, San Francisco, CA 94110, 1038 Le Conte Ave, San Francisco, CA 94124-3535, 104 3rd Ave, San Francisco, CA 94118-1419, 104 Molimo Dr, San Francisco, CA 94127, 104 Trumbull St, San Francisco, CA 94112, 1040 Chenery St, San Francisco, CA 94131, 1042 Ingerson Ave, San Francisco, CA 94124, 1042 Tennessee St, San Francisco, CA 94107-3016, 1043 Hollister Ave, San Francisco, CA 94124, 1043 Ingerson Ave, San Francisco, CA 94124-3511, 1044 Goettingen St, San Francisco, CA 94134, 1045 Sanchez St, San Francisco, CA 94114, 1046 Hollister Ave, San Francisco, CA 94124, 1047 Visitacion Ave, San Francisco, CA 94134, 105 Appleton Ave, San Francisco, CA 94110-5806, 105 Country Club, San Francisco, CA 94132, 105 Hanover St, San Francisco, CA 94112, 1050 Munich St, San Francisco, CA 94112, 1055 Monterey Blvd, San Francisco, CA 94127-2142, 1057 Goettingen St, San Francisco, CA 94134-2115, 1059 Portola Dr, San Francisco, CA 94127-1225, 106 30th St, San Francisco, CA 94110-5404, 106 Collins St, San Francisco, CA 94118, 106 Cordova St, San Francisco, CA 94112, 106 Sweeny St, San Francisco, CA 94134-1234, 1061 Florida St, San Francisco, CA 94110, 1061-1063 Pacific Ave, San Francisco, CA 94133-4234, 1062 Hollister Ave, San Francisco, CA 94124, 107 De Soto St, San Francisco, CA 94127, 107 Monterey Blvd, San Francisco, CA 94131, 1074 Goettingen St, San Francisco, CA 94134, 1076 Hampshire St, San Francisco, CA 94110, 108 Montcalm, San Francisco, CA 94110, 108 Shields St, San Francisco, CA 94132, 1080 Silver Ave, San Francisco, CA 94134, 1081 Goettingen, San Francisco, CA 94134, 1086 Alabama St, San Francisco, CA 94110-3433, 1088 Rhode Island St, San Francisco, CA 94107, 109 Forest Side Ave, San Francisco, CA 94127-1315, 109 Merced Ave, San Francisco, CA 94127, 109 Ottawa Ave, San Francisco, CA 94112, 109 Porter St, San Francisco, CA 94110, 109 Quintara St, San Francisco, CA 94116, 109 St Marys Ave, San Francisco, CA 94112, 109 Stratford Dr, San Francisco, CA 94127, 11 Athens St, San Francisco, CA 94112-1601, 11 August, San Francisco, CA 94133-2716, 11 Commonwealth Ave, San Francisco, CA 94118, 11 Glenview Dr, San Francisco, CA 94131-1609, 11 Hiliritas Ave, San Francisco, CA 94131, 11 Roscoe St, San Francisco, CA 94110, 11 Shephard Pl, San Francisco, CA 94108-1515, 11 Southwood Dr, San Francisco, CA 94112-1247, 110 Ankeny St, San Francisco, CA 94134, 110 Avila St, San Francisco, CA 94123-2010, 110 Oxford St, San Francisco, CA 94134, 110 Sadowa St, San Francisco, CA 94112-2942, 110 San Leandro Way, San Francisco, CA 94127, 110 Sylvan Dr, San Francisco, CA 94132, 1106 Brazil Ave, San Francisco, CA 94112, 1108 Powhattan St, San Francisco, CA 94110, 111 3rd Ave, San Francisco, CA 94118-1418, 111 Amherst St, San Francisco, CA 94134, 111 Country Club Dr, San Francisco, CA 94132, 111 Day St, San Francisco, CA 94131-2414, 111 Devonshire, San Francisco, CA 94131, 111 Gates St, San Francisco, CA 94110, 1110 Ashbury, San Francisco, CA 94117, 1110 Green St, San Francisco, CA 94109, 1110 York St, San Francisco, CA 94110, 1111 Dolores St, San Francisco, CA 94110-3612, 1114 Hollister Ave, San Francisco, CA 94124-3634, 1118 Burrows, San Francisco, CA 94134, 1118 De Haro St, San Francisco, CA 94107, 1118 Noriega, San Francisco, CA 94122, 1119 Mendell St, San Francisco, CA 94124, 112 Cora St, San Francisco, CA 94134, 112 Guttenberg, San Francisco, CA 94112-4344, 112 Mallorca Way, San Francisco, CA 94123, 112 Yukon St, San Francisco, CA 94114, 1122-1122 Naples St, San Francisco, CA 94112, 1124 Fitzgerald Ave, San Francisco, CA 94124, 1125 Hampshire St, San Francisco, CA 94110, 1125 Hayes St, San Francisco, CA 94117-1623, 1125-1127 Broderick St, San Francisco, CA 94115-3904, 1127 Russia Ave, San Francisco, CA 94112, 1129 Ingerson, San Francisco, CA 94124, 113 Knockash Hill, San Francisco, CA 94127-1237, 113 Lundys Ln, San Francisco, CA 94110, 113 Pixley St, San Francisco, CA 94123, 1130 Cole St, San Francisco, CA 94117-4320, 1132 Persia Ave, San Francisco, CA 94112, 1133 Douglass St, San Francisco, CA 94131-1827, 1133 Wisconsin St, San Francisco, CA 94107, 1135 Monterey Blvd, San Francisco, CA 94127-2505, 1136 Quintara St, San Francisco, CA 94116-1227, 1137 Mendell St, San Francisco, CA 94124-2117, 1139 Athens St, San Francisco, CA 94112-4407, 114 Ashton Ave, San Francisco, CA 94112-2206, 114 Ashton Ave, San Francisco, CA 94112-2208, 114 Clearfield Dr, San Francisco, CA 94132, 114 Del Vale Ave, San Francisco, CA 94127-1835, 114 Encline Ct, San Francisco, CA 94127-1838, 1140 Ingerson Ave, San Francisco, CA 94124-3514, 1141 Mendell St, San Francisco, CA 94124-2117, 1145 Vallejo St, San Francisco, CA 94109, 1145 Wisconsin St, San Francisco, CA 94107-3329, 1147-1149 Palou Ave, San Francisco, CA 94112, 1149 Athens St, San Francisco, CA 94112, 115 Ellington, San Francisco, CA 94112, 115 Jordan Ave, San Francisco, CA 94118, 115 Maywood Dr, San Francisco, CA 94127, 115 Sea Cliff Ave, San Francisco, CA 94121-1124, 1150 Sloat Blvd, San Francisco, CA 94132, 1151 Gilman Ave, San Francisco, CA 94124-3622, 1154 Clayton St, San Francisco, CA 94117, 1155 Naples St, San Francisco, CA 94112, 1157 Kirkham St, San Francisco, CA 94122, 1159 Gilman Ave, San Francisco, CA 94124-3622, 1159 Oak St, San Francisco, CA 94117, 116 Bradford St, San Francisco, CA 94110, 116 Chicago Way, San Francisco, CA 94112, 116 Harold Ave, San Francisco, CA 94112, 116 Madison St, San Francisco, CA 94134, 1162 Hollister Ave, San Francisco, CA 94124, 1163-1163 Goettingen St, San Francisco, CA 94134, 1164 Fulton St, San Francisco, CA 94117, 1164 Noe St, San Francisco, CA 94114, 117 Sadowa, San Francisco, CA 94112, 1175 Girard St, San Francisco, CA 94134, 1176 Quesada, San Francisco, CA 94124, 1178 Gilman, San Francisco, CA 94124, 118 17th Ave, San Francisco, CA 94121, 118 Manchester, San Francisco, CA 94110, 118 Midcrest Way, San Francisco, CA 94131, 118 Robinhood Dr, San Francisco, CA 94127, 1182 Hollister Ave, San Francisco, CA 94124, 1183 Munich, San Francisco, CA 94112, 1185 Ingalls St, San Francisco, CA 94124-5609, 1185 Jamestown Ave, San Francisco, CA 94124, 1186 Hollister Ave, San Francisco, CA 94124, 1186 Palou, San Francisco, CA 94124, 1187 Revere Ave, San Francisco, CA 94124-3422, 1188 Diamond St, San Francisco, CA 94114, 119 Bright St, San Francisco, CA 94132-3109, 119 Gates St, San Francisco, CA 94110, 119 Mendosa Ave, San Francisco, CA 94116, 119 Naples St, San Francisco, CA 94112-2010, 119 Stillings Ave, San Francisco, CA 94131-2823, 119 Teddy Ave, San Francisco, CA 94134, 119 Vienna St, San Francisco, CA 94112-2107, 1190 Noe St, San Francisco, CA 94114, 1190 Revere Ave, San Francisco, CA 94124, 1191 Naples St, San Francisco, CA 94112-4456, 12 Auburn St, San Francisco, CA 94133-4702, 12 Carson St, San Francisco, CA 94114-2335, 12 Las Villas Ct, San Francisco, CA 94124, 120 Alhambra St, San Francisco, CA 94123, 120 Capistrano Ave, San Francisco, CA 94112, 120 Cresta Vista Dr, San Francisco, CA 94127, 120 Fernwood Dr, San Francisco, CA 94127-2006, 120 Lake St, San Francisco, CA 94118, 120 Lenox Way, San Francisco, CA 94127-1113, 120 Niagara Ave, San Francisco, CA 94112-3337, 120 Ulloa St, San Francisco, CA 94127, 120 Ulloa, San Francisco, CA 94127, 1200 Revere Ave, San Francisco, CA 94124, 1201 Revere Ave, San Francisco, CA 94124, 1203 Bosworth, San Francisco, CA 94131, 1206 Shafter Ave, San Francisco, CA 94124, 1207 33rd Ave, San Francisco, CA 9412, 1207 33rd Ave, San Francisco, CA 94122, 1207 43rd Ave, San Francisco, CA 94122-1212, 1207 Moraga, San Francisco, CA 94122, 1209 San Bruno Ave, San Francisco, CA 94110, 121 Joost Ave, San Francisco, CA 94131, 121 Naglee Ave, San Francisco, CA 94112, 121 Peabody St, San Francisco, CA 94134, 1212 Dolores St, San Francisco, CA 94110, 1214 Bowdoin St, San Francisco, CA 94134, 1215 Monterey Blvd, San Francisco, CA 94127, 1216 Silver Ave, San Francisco, CA 94134, 122 Bridgeview Dr, San Francisco, CA 94124, 122 Broad St, San Francisco, CA 94112, 122 Maynard St, San Francisco, CA 94112, 122 Rivoli St, San Francisco, CA 94117-4341, 122 Stillings Ave, San Francisco, CA 94131, 1220 Egbert, San Francisco, CA 94124, 1221 York St, San Francisco, CA 94110, 1222 Naples St, San Francisco, CA 94112-4447, 1225 Douglass St, San Francisco, CA 94131, 1225 Goettingen St, San Francisco, CA 94134-2232, 123 Chester Ave, San Francisco, CA 94132, 123 Edinburgh St, San Francisco, CA 94112-2006, 123 Vernon St, San Francisco, CA 94132, 1231 43rd Ave, San Francisco, CA 94122, 1231 Brussels St, San Francisco, CA 94134-2222, 1232 Sanchez St, San Francisco, CA 94114, 1234 2nd Ave, San Francisco, CA 94122, 1235 5th Ave, San Francisco, CA 94122-2613, 1235 Hollister Ave, San Francisco, CA 94124, 1238 38th Ave, San Francisco, CA 94122-1335, 124 21st Ave, San Francisco, CA 94121, 124 Broad St, San Francisco, CA 94112, 124 Clarendon Ave, San Francisco, CA 94114, 124 Ellington Ave, San Francisco, CA 94112, 124 Ellsworth St, San Francisco, CA 94110, 124 Inverness Dr, San Francisco, CA 94132, 124 Marview Way, San Francisco, CA 94131, 124 Santa Rosa Ave, San Francisco, CA 94112-1930, 124 St Charles Ave, San Francisco, CA 94132, 1242 41st Ave, San Francisco, CA 94122, 1244 27th Ave, San Francisco, CA 94122, 1244 30th Ave, San Francisco, CA 94122, 1247 37th Ave, San Francisco, CA 94122, 1249 Sunnydale, San Francisco, CA 94134-2750, 125 25th Ave, San Francisco, CA 94121, 125 Belgrave Ave, San Francisco, CA 94117, 125 Bosworth St, San Francisco, CA 94112, 125 Curtis St, San Francisco, CA 94112, 125 Edgewood Ave, San Francisco, CA 94117-3712, 125 Hazelwood Ave, San Francisco, CA 94112, 125 Lundys Ln, San Francisco, CA 94110, 125 Manchester St, San Francisco, CA 94110, 125 Peru Ave, San Francisco, CA 94112-1610, 125 Pinehurst Way, San Francisco, CA 94127, 125 Rivoli St, San Francisco, CA 94117, 125 Upland Dr, San Francisco, CA 94127-2516, 125 Vale Ave, San Francisco, CA 94132, 1250 42nd St, San Francisco, CA 94122, 1250 Eucalyptus Dr, San Francisco, CA 94132, 1251 14th Ave, San Francisco, CA 94122, 1251 15th Ave, San Francisco, CA 94122-2005, 1251 Revere Ave, San Francisco, CA 94124, 1255 23rd Ave, San Francisco, CA 94122-1605, 1258 4th Ave, San Francisco, CA 94122, 1258 Shafter Ave, San Francisco, CA 94124, 1259 18th Ave, San Francisco, CA 94122, 1259 25th Ave, San Francisco, CA 94122-1522, 126 Arguello, San Francisco, CA 94118, 126 Bridgeview Dr, San Francisco, CA 94124, 126 Bright St, San Francisco, CA 94132, 126 Commonwealth Ave, San Francisco, CA 94118, 126 Ellsworth St, San Francisco, CA 94110-5641, 126 Encline Ct, San Francisco, CA 94127, 126 Gillette, San Francisco, CA 94134, 126 Miraloma Dr, San Francisco, CA 94127, 126 Shakespeare St, San Francisco, CA 94112-3939, 126 Wilson St, San Francisco, CA 94112-3941, 1262 34th Ave, San Francisco, CA 94122, 1263 Revere Ave, San Francisco, CA 94124-3338, 1265 31st Ave, San Francisco, CA 94122, 1266 29th Ave, San Francisco, CA 94122, 1266 41st Ave, San Francisco, CA 94122, 1266 43rd Ave, San Francisco, CA 94122, 1266 7th Ave, San Francisco, CA 94122, 1267 Sunnydale Ave, San Francisco, CA 94134, 1269 Vallejo St, San Francisco, CA 94109, 127 Castenada Ave, San Francisco, CA 94116, 127 Denslowe Dr, San Francisco, CA 94132-2034, 127 Middlefield Dr, San Francisco, CA 94132, 1270 Geneva Ave, San Francisco, CA 94112, 1270 Hollister Ave, San Francisco, CA 94124, 1272 45th Ave, San Francisco, CA 94122, 1279 2nd Ave, San Francisco, CA 94122, 1279 Sanchez St, San Francisco, CA 94114, 128 4th Ave, San Francisco, CA 94118, 128 Britton St, San Francisco, CA 94134-2783, 128 Burnside Ave, San Francisco, CA 94131, 128 Holladay Ave, San Francisco, CA 94110, 1283 Portola Dr, San Francisco, CA 94127, 1286 34th Ave, San Francisco, CA 94122, 129 Goethe St, San Francisco, CA 94112, 129 Inverness Dr, San Francisco, CA 94132, 1290 Portola Dr, San Francisco, CA 94127-1548, 1294 Geneva Ave, San Francisco, CA 94112-3824, 1295 Monterey Blvd, San Francisco, CA 94127-2507, 13 Eugenia Ave, San Francisco, CA 94110, 130 Garfield St, San Francisco, CA 94132-2808, 130 Harold Ave, San Francisco, CA 94112, 130 Ledyard St, San Francisco, CA 94124, 130 Marston Ave, San Francisco, CA 94112, 130 Ord St, San Francisco, CA 94114, 130 Retiro Way, San Francisco, CA 94123, 130 Roanoke St, San Francisco, CA 94131-3050, 130 St Germain Ave, San Francisco, CA 94114, 130 Taraval St, San Francisco, CA 94116-1933, 130 Vienna St, San Francisco, CA 94112-2108, 1300 Mariposa St, San Francisco, CA 94107, 1303 Buchanan St, San Francisco, CA 94115, 1303 Page St, San Francisco, CA 94117-3027, 1304 Eddy St, San Francisco, CA 94115-4212, 1306 Clayton, San Francisco, CA 94114, 1307 29th Ave, San Francisco, CA 94122, 131 Crescent Ave, San Francisco, CA 94110, 131 Dublin St, San Francisco, CA 94112, 131 Hahn St, San Francisco, CA 94134, 131 Naglee Ave, San Francisco, CA 94112, 131 Wilmot St, San Francisco, CA 94115, 1310 10th Ave, San Francisco, CA 94122, 1310 29th Ave, San Francisco, CA 94122, 1311 Buchanan St, San Francisco, CA 94115, 1314 33rd Ave, San Francisco, CA 94122, 1317 Bosworth St, San Francisco, CA 94131, 1319 Gilman Ave, San Francisco, CA 94124, 132 Maddux Ave, San Francisco, CA 94124, 132 Marietta, San Francisco, CA 94127, 1322 Funston Ave, San Francisco, CA 94122-2107, 1322 Wawona, San Francisco, CA 94116-2950, 1323 Noe St, San Francisco, CA 94131, 1325 Cortland Ave, San Francisco, CA 94110, 1325 Guerrero St, San Francisco, CA 94110, 1325 Guerrero, San Francisco, CA 94110, 1327 Ulloa, San Francisco, CA 94116, 133 Blake St, San Francisco, CA 94118, 133 Elsie St, San Francisco, CA 94110, 133 Lobos St, San Francisco, CA 94112, 1330 40th Ave, San Francisco, CA 94122-1203, 1331 San Bruno Ave, San Francisco, CA 94110, 1333 Revere Ave, San Francisco, CA 94124, 1333 Silliman, San Francisco, CA 94134-1055, 1334 Thomas Ave, San Francisco, CA 94124-3306, 1336 Palou Ave, San Francisco, CA 94124-2752, 1338 36th Ave, San Francisco, CA 94122, 134 Hearst Ave, San Francisco, CA 94131-3136, 1340 15th Ave, San Francisco, CA 94122, 1340 Cole St, San Francisco, CA 94117, 1340 Cole St, San Francisco, CA 94117-4324, 1342 35th Ave, San Francisco, CA 94122-1329, 1343 35th Ave, San Francisco, CA 94122, 1343 Geneva Ave, San Francisco, CA 94112, 1346 27th Ave, San Francisco, CA 94122, 1347 14th Ave, San Francisco, CA 94122, 1347 31st Ave, San Francisco, CA 94122, 1347 32nd Ave, San Francisco, CA 94122-1423, 1347 41st Ave, San Francisco, CA 94122, 135 14th Ave, San Francisco, CA 94121, 135 Arbor St, San Francisco, CA 94131, 135 Balceta Ave, San Francisco, CA 94127, 135 Bella Vista Way, San Francisco, CA 94127, 135 Beverly St, San Francisco, CA 94132, 135 Rey St, San Francisco, CA 94134, 135 San Benito Way, San Francisco, CA 94127-2015, 135 San Leandro Way, San Francisco, CA 94127, 135 Wawona St, San Francisco, CA 94127, 135 Whitney St, San Francisco, CA 94131-2744, 1350 46th Ave, San Francisco, CA 94122, 1350 Baker St, San Francisco, CA 94115, 1350 Noe St, San Francisco, CA 94131, 1351 10th Ave, San Francisco, CA 94122, 1353 23rd Ave, San Francisco, CA 94122, 1354 24th Ave, San Francisco, CA 94122-1617, 1354 Palou Ave, San Francisco, CA 94124, 1356 Quesada, San Francisco, CA 94124-3337, 1358 Dolores St, San Francisco, CA 94110, 1359 43rd Ave, San Francisco, CA 94122, 136 Andover St, San Francisco, CA 94110, 136 Bradford, San Francisco, CA 94110, 136 Cora St, San Francisco, CA 94134, 136 Lunado Way, San Francisco, CA 94127, 136 Marview Way, San Francisco, CA 94131, 136 Murray St, San Francisco, CA 94112, 136 Newton St, San Francisco, CA 94112, 136 Santa Marina St, San Francisco, CA 94110, 136 Whitney St, San Francisco, CA 94131-2745, 1360 Dolores St, San Francisco, CA 94110, 1362 11th Ave, San Francisco, CA 94122-2205, 1362 La Playa St, San Francisco, CA 94122-1019, 1363 Sanchez St, San Francisco, CA 94131, 1366 7th Ave, San Francisco, CA 94122, 1367 Thomas Ave, San Francisco, CA 94124, 137 Elsie St, San Francisco, CA 94110, 1370 30th Ave, San Francisco, CA 94122-1410, 1370 31st Ave, San Francisco, CA 94122, 1371 25th Ave, San Francisco, CA 94122-1524, 1374 Utah St, San Francisco, CA 94110, 1378-1380 11th Ave, San Francisco, CA 94122-2205, 138 Alpine Ter, San Francisco, CA 94117, 138 Raymond Ave, San Francisco, CA 94134, 138 Rey St, San Francisco, CA 94134, 1380 24th Ave, San Francisco, CA 94122-1617, 1383 6th Ave, San Francisco, CA 94122, 1383 Quesada Ave, San Francisco, CA 94124, 1385 Monterey Blvd, San Francisco, CA 94127-2509, 1385 Portola Dr, San Francisco, CA 94127, 1387 De Haro St, San Francisco, CA 94107, 1388 45th Ave, San Francisco, CA 94122-1109, 1388 Chestnut St, San Francisco, CA 94123, 139 Arch St, San Francisco, CA 94132, 139 Baden St, San Francisco, CA 94131, 139 Bridgeview Dr, San Francisco, CA 94124, 139 Colby St, San Francisco, CA 94134, 139 Lobos St, San Francisco, CA 94112, 139 Panama St, San Francisco, CA 94132, 139 Quintara St, San Francisco, CA 94116-1360, 139 Ramsell St, San Francisco, CA 94132, 139 San Leandro Way, San Francisco, CA 94127-1946, 139 Tingley, San Francisco, CA 94112, 1390 41st Ave, San Francisco, CA 94122, 1395 Hudson Ave, San Francisco, CA 94124, 1395 Shafter, San Francisco, CA 93551, 14 Calgary St, San Francisco, CA 94134, 14 Garrison Ave, San Francisco, CA 94134, 14 Moneta Way, San Francisco, CA 94112, 14 Ney St, San Francisco, CA 94112-1508, 14 Portola Dr, San Francisco, CA 94131, 14 Putnam St, San Francisco, CA 94110-6214, 14 Starview Way, San Francisco, CA 94131, 14 University St, San Francisco, CA 94134, 14 Wright St, San Francisco, CA 94110, 140 32nd Ave, San Francisco, CA 94121, 140 32nd Ave, San Francisco, CA 94121-1012, 140 Bradford St, San Francisco, CA 94110, 140 Clarendon Ave, San Francisco, CA 94114-2104, 140 Collins, San Francisco, CA 94118, 140 Commonwealth, San Francisco, CA 94118, 140 Edgehill Way, San Francisco, CA 94127, 140 Gellert Dr, San Francisco, CA 94132, 140 Hamerton Ave, San Francisco, CA 94131, 140 Ocean Ave, San Francisco, CA 94112, 140 San Benito Way, San Francisco, CA 94127, 140 San Leandro Way, San Francisco, CA 94127, 140 Seville St, San Francisco, CA 94112, 140 Tingley, San Francisco, CA 94112, 1400 Lane St, San Francisco, CA 94124, 1401 Holloway Ave, San Francisco, CA 94132, 1401 Revere Ave, San Francisco, CA 94124, 1402 Sanchez St, San Francisco, CA 94131-2024, 1404 Lane St, San Francisco, CA 94124, 1408 Visitacion Ave, San Francisco, CA 94134-2757, 141 Westwood Dr, San Francisco, CA 94122, 1410 Innes Ave, San Francisco, CA 94124, 1410 Sloat Blvd, San Francisco, CA 94132, 1410 Stanyan St, San Francisco, CA 94114, 1414 44th Ave, San Francisco, CA 94122, 1414 6th Ave, San Francisco, CA 94122-3811, 1415-1417 Clement St, San Francisco, CA 94118, 1418 Innes Ave, San Francisco, CA 94124-2124, 1418 Oakdale Ave, San Francisco, CA 94124-2726, 1419 33rd Ave, San Francisco, CA 94122, 1419 Funston Ave, San Francisco, CA 94122, 142 11th Ave, San Francisco, CA 94118, 142 15th Ave, San Francisco, CA 94118, 142 Bonview St, San Francisco, CA 94110, 142 Ewing Ter, San Francisco, CA 94118, 142 Geneva Ave, San Francisco, CA 94112, 1420 11th Ave, San Francisco, CA 94122-3605, 1420 6th Ave, San Francisco, CA 94122, 1420 Silver Ave, San Francisco, CA 94134-1228, 1422 42nd Ave, San Francisco, CA 94122, 1422 Douglass St, San Francisco, CA 94131, 1422 Douglass St, San Francisco, CA 94131-2112, 1423 44th Ave, San Francisco, CA 94122-2928, 1424 Alabama St, San Francisco, CA 94110, 1424 Ingalls St, San Francisco, CA 94124-2806, 1424 Page St, San Francisco, CA 94117-2016, 1424 Sanchez St, San Francisco, CA 94131-2024, 1425 20th St, San Francisco, CA 94107-2821, 1425 Anza St, San Francisco, CA 94118, 1425 Eucalyptus, San Francisco, CA 94132, 1426 Rankin St, San Francisco, CA 94124-5331, 1426 Van Dyke Ave, San Francisco, CA 94124, 1427 21st Ave, San Francisco, CA 94122, 1428 Lake St, San Francisco, CA 94118, 1429 Rhode Island St, San Francisco, CA 94107, 1429 Sacramento St, San Francisco, CA 94109, 143 Dwight St, San Francisco, CA 94134, 143 Lower Ter, San Francisco, CA 94114, 143 Madison St, San Francisco, CA 94134-1030, 1430 23rd Ave, San Francisco, CA 94122, 1431 27th Ave, San Francisco, CA 94122, 1431 Santiago St, San Francisco, CA 94116-1763, 1434 29th Ave, San Francisco, CA 94122, 1434 33rd Ave, San Francisco, CA 94122-3143, 1434 45th Ave, San Francisco, CA 94122, 1434 Kansas St, San Francisco, CA 94107, 1434 La Playa St, San Francisco, CA 94122, 1435 12th Ave, San Francisco, CA 94122, 1435 12th Ave, San Francisco, CA 94122-3501, 1435 35th Ave, San Francisco, CA 94122-3116, 1436 Ingalls St, San Francisco, CA 94124, 1436 Palou Ave, San Francisco, CA 94124, 1437 38th Ave, San Francisco, CA 94122, 1438 38th Ave, San Francisco, CA 94122, 1439 28th Ave, San Francisco, CA 94122, 1439 28th Ave, San Francisco, CA 94122-3229, 144 Amherst St, San Francisco, CA 94134-1304, 144 Seville St, San Francisco, CA 94112-4427, 144 Thrift St, San Francisco, CA 94112, 144 Valley St, San Francisco, CA 94131-2419, 1440 La Playa St, San Francisco, CA 94122, 1441 38th Ave, San Francisco, CA 94122-3009, 1442 38th Ave, San Francisco, CA 94122-3010, 1443 46th Ave, San Francisco, CA 94116, 1444 15th Ave, San Francisco, CA 94122, 1446 Francisco St, San Francisco, CA 94123, 1447 44th Ave, San Francisco, CA 94122, 1447 45th Ave, San Francisco, CA 94122, 1447 Newcomb Ave, San Francisco, CA 94124, 1449 10th Ave, San Francisco, CA 94122-3602, 145 Arleta Ave, San Francisco, CA 94134, 145 Faith St, San Francisco, CA 94110, 145 Farnum St, San Francisco, CA 94131, 145 Joost Ave, San Francisco, CA 94131, 145 Juanita Way, San Francisco, CA 94127, 145 Moreland St, San Francisco, CA 94131, 145 Northwood Dr, San Francisco, CA 94112-1236, 145 Paloma Ave, San Francisco, CA 94127, 145 Santa Rosa Ave, San Francisco, CA 94112, 145 St Elmo Way, San Francisco, CA 94127, 145 Ulloa St, San Francisco, CA 94127, 145 Vasquez Ave, San Francisco, CA 94127-1034, 145 Villa Ter, San Francisco, CA 94114-2213, 1450 Grove St, San Francisco, CA 94117-1422, 1450 Newcomb Ave, San Francisco, CA 94124-2722, 1450 Quesada Ave, San Francisco, CA 94124-2756, 1451 Shafter Ave, San Francisco, CA 94124-2759, 1454 36th Ave, San Francisco, CA 94122, 1454 41st Ave, San Francisco, CA 94122, 1454 Church St, San Francisco, CA 94131, 1455 32nd Ave, San Francisco, CA 94122, 1455 35th Ave, San Francisco, CA 94122, 1458 43rd Ave, San Francisco, CA 94122, 1458 45th Ave, San Francisco, CA 94122, 1458 Kansas St, San Francisco, CA 91107, 1459 15th Ave, San Francisco, CA 94122, 1459 47th Ave, San Francisco, CA 94122, 1459 Willard St, San Francisco, CA 94117-3744, 146 Bright St, San Francisco, CA 94132, 146 Delano Ave, San Francisco, CA 94112-2522, 146 Elsie St, San Francisco, CA 94110, 146 Jordan Ave, San Francisco, CA 94118, 146 Ramsell St, San Francisco, CA 94132, 146 San Pablo Ave, San Francisco, CA 94127, 146 Victoria St, San Francisco, CA 94132, 146-146 Howth St, San Francisco, CA 94112-2414, 1460 Alabama St, San Francisco, CA 94110, 1461 6th Ave, San Francisco, CA 94122-3810, 1461 Kansas, San Francisco, CA 94107, 1462 30th Ave, San Francisco, CA 94112, 1463 19th Ave, San Francisco, CA 94122, 1466 30th, San Francisco, CA 94122, 1466 Noe St, San Francisco, CA 94131, 1466 Revere Ave, San Francisco, CA 94124-2758, 1467 Sanchez St, San Francisco, CA 94131, 1467 Thomas Ave, San Francisco, CA 94124, 1467 Underwood Ave, San Francisco, CA 94124-3211, 147 Bacon St, San Francisco, CA 94134, 147 Bronte St, San Francisco, CA 94110, 147 Hahn St, San Francisco, CA 94114-2711, 147 Madison St, San Francisco, CA 94134, 147 Milton, San Francisco, CA 94112, 147 Naples St, San Francisco, CA 94112, 1470 Quesada Ave, San Francisco, CA 94124, 1470 Rhode Island St, San Francisco, CA 94107, 1470 Thomas Ave, San Francisco, CA 94124, 1470-1470 De Haro, San Francisco, CA 94107, 1471 Alemany Blvd, San Francisco, CA 94112-1951, 1473 Revere Ave, San Francisco, CA 94124, 1474 20th Ave, San Francisco, CA 94122, 1475 37th Ave, San Francisco, CA 94122-3125, 1475 40th Ave, San Francisco, CA 94122-3019, 1476 Pacific Ave, San Francisco, CA 94109, 1477 Underwood Ave, San Francisco, CA 94124, 1478 27th Ave, San Francisco, CA 94122, 1479 Shotwell, San Francisco, CA 94103, 148 Elsie St, San Francisco, CA 94110, 148 Orsi Cir, San Francisco, CA 94124, 1480 Shafter, San Francisco, CA 94124, 1482 23rd Ave, San Francisco, CA 94122, 1482 Underwood Ave, San Francisco, CA 94124, 1484 Portola Dr, San Francisco, CA 94127, 1485 Sanchez St, San Francisco, CA 94131-2051, 1486 Oakdale Ave, San Francisco, CA 94124-2726, 1486 Shafter Ave, San Francisco, CA 94124, 1487 Noe St, San Francisco, CA 94131-1949, 1489 23rd Ave, San Francisco, CA 94122-3305, 149 Farnum St, San Francisco, CA 94131, 149 Terrace Dr, San Francisco, CA 94127, 1490 38th Ave, San Francisco, CA 94122, 1490 7th Ave, San Francisco, CA 94122, 1491 Funston Ave, San Francisco, CA 94122-3511, 1493 Hudson Ave, San Francisco, CA 94124, 1494 42nd Ave, San Francisco, CA 94122, 15 Athens, San Francisco, CA 94112, 15 Bennington St, San Francisco, CA 94110-5525, 15 Claremont Blvd, San Francisco, CA 94127, 15 Hazelwood Ave, San Francisco, CA 94112, 15 Hiliritas, San Francisco, CA 94131, 15 Littlefield Ter, San Francisco, CA 94107, 15 Merced, San Francisco, CA 94127, 15 Miraloma Dr, San Francisco, CA 94127-1640, 15 Nebraska St, San Francisco, CA 94110, 15 Presidio Ter, San Francisco, CA 94118, 15 Putnam St, San Francisco, CA 94110-6213, 15 Santa Clara Ave, San Francisco, CA 94127, 15 Scotia Ave, San Francisco, CA 94124, 15 Summit Way, San Francisco, CA 94132, 15 Whipple Ave, San Francisco, CA 94112-4144, 150 Allison St, San Francisco, CA 94112-3704, 150 De Long St, San Francisco, CA 94112, 150 Everglade Dr, San Francisco, CA 94132-1208, 150 Lawrence Ave, San Francisco, CA 94112, 150 Moneta Way, San Francisco, CA 94112, 150 Monticello St, San Francisco, CA 94132, 150 Rutledge St, San Francisco, CA 94110, 150 Urbano Dr, San Francisco, CA 94127, 1500 Jerrold, San Francisco, CA 94124, 1500 Plymouth Ave, San Francisco, CA 94112, 1500 Quesada Ave, San Francisco, CA 94124, 1504 Quesada Ave, San Francisco, CA 94124-2772, 1506 39th Ave, San Francisco, CA 94122, 1506 Newcomb Ave, San Francisco, CA 94124, 1507 Diamond St, San Francisco, CA 94131, 151 22nd Ave, San Francisco, CA 94121-1216, 151 24th Ave, San Francisco, CA 94121, 151 Bernard St, San Francisco, CA 94109, 151 Clearfield Dr, San Francisco, CA 94132, 151 Garcia, San Francisco, CA 94127-1009, 151 Hearst Ave, San Francisco, CA 94131, 151 Lobos St, San Francisco, CA 94112, 151 Monticello St, San Francisco, CA 94132, 151 Morningside Dr, San Francisco, CA 94132, 151 Mount Vernon Ave, San Francisco, CA 94112-3666, 151 Navajo St, San Francisco, CA 94112-3333, 151 Peralta Ave, San Francisco, CA 94110, 151 Sadowa St, San Francisco, CA 94112, 151 Westmoorland Dr, San Francisco, CA 94132, 1510 22nd Ave, San Francisco, CA 94122-3338, 1510 Sloat Blvd, San Francisco, CA 94132, 1510 York St, San Francisco, CA 94110-4825, 1511 Dolores St, San Francisco, CA 94110, 1513 Golden Gate Ave, San Francisco, CA 94115-4514, 1514 26th Ave, San Francisco, CA 94122, 1514 Diamond St, San Francisco, CA 94131, 1514 Diamond, San Francisco, CA 94131, 1515 24th Ave, San Francisco, CA 94122, 1515 26th Ave, San Francisco, CA 94122, 1515 30th Ave, San Francisco, CA 94122-3205, 1515 Golden Gate Ave, San Francisco, CA 94115, 1515 Noe St, San Francisco, CA 94131, 1516 35th Ave, San Francisco, CA 94122, 1516 Great Highway, San Francisco, CA 94122, 1518 34th Ave, San Francisco, CA 94122, 1519 Baker, San Francisco, CA 94115, 152 Ney, San Francisco, CA 94112, 152 Palm Ave, San Francisco, CA 94118, 1520 Eucalyptus Dr, San Francisco, CA 94132, 1520 Jerrold Ave, San Francisco, CA 94124-2108, 1520 Thomas Ave, San Francisco, CA 94124, 1522 29th Ave, San Francisco, CA 94122, 1522 44th Ave, San Francisco, CA 94122, 1522 McKinnon Aly, San Francisco, CA 94124-2151, 1523 26th Ave, San Francisco, CA 94122, 1523 McKinnon Ave, San Francisco, CA 94124, 1523 Shafter Ave, San Francisco, CA 94124, 1524 Newcomb, San Francisco, CA 94124, 1525 Visitacion Ave, San Francisco, CA 94134-2724, 1526 Newcomb Ave, San Francisco, CA 94124, 1526 Shafter Ave, San Francisco, CA 94124, 1526 Shrader St, San Francisco, CA 94117, 1527 18th Ave, San Francisco, CA 94122-3410, 1527 43rd Ave, San Francisco, CA 94122, 1527 Diamond St, San Francisco, CA 94131-2230, 1527 Van Dyke Ave, San Francisco, CA 94124, 1528 Felton St, San Francisco, CA 94134-1332, 153 Del Vale Ave, San Francisco, CA 94127, 153 Del Vale St, San Francisco, CA 94128, 153 Joost Ave, San Francisco, CA 94131, 153 Paris St, San Francisco, CA 94112, 153 Santa Ynez, San Francisco, CA 94112, 1530 22nd Ave, San Francisco, CA 94122, 1530 35th Ave, San Francisco, CA 94122, 1530 44th Ave, San Francisco, CA 94122, 1530 Sloat Blvd, San Francisco, CA 94132, 1530 Van Dyke Ave, San Francisco, CA 94124-3235, 1531 16th Ave, San Francisco, CA 94122-3524, 1531 Funston Ave, San Francisco, CA 94122, 1534 Baker St, San Francisco, CA 94115-2909, 1535 33rd Ave, San Francisco, CA 94122, 1536 McAllister St, San Francisco, CA 94115, 1536-1538 18th St, San Francisco, CA 94107-2804, 1537 34th Ave, San Francisco, CA 94122, 1537 Revere Ave, San Francisco, CA 94124-2737, 1538 35th Ave, San Francisco, CA 94122-3119, 1539 18th Ave, San Francisco, CA 94122-3410, 1539 24th Ave, San Francisco, CA 94122, 1539 41st Ave, San Francisco, CA 94122-3035, 154 11th Ave, San Francisco, CA 94118, 154 Naglee Ave, San Francisco, CA 94112, 154 Sears St, San Francisco, CA 94112, 154 Yerba Buena Ave, San Francisco, CA 94127, 154-156 Park St, San Francisco, CA 94110-5836, 1540 Kirkwood Ave, San Francisco, CA 94124, 1543 38th Ave, San Francisco, CA 94122, 1546 Innes Ave, San Francisco, CA 94124, 155 25th Ave, San Francisco, CA 94115, 155 Dwight St, San Francisco, CA 94134, 155 Foote Ave, San Francisco, CA 94112, 155 Stillings Ave, San Francisco, CA 94131-2823, 1550 La Salle Ave, San Francisco, CA 94124, 1550 McKinnon Ave, San Francisco, CA 94124-2151, 1551 21st Ave, San Francisco, CA 94122-3331, 1551 22nd Ave, San Francisco, CA 94122, 1551 25th Ave, San Francisco, CA 94122, 1554 45th Ave, San Francisco, CA 94122-2937, 1554 48th Ave, San Francisco, CA 94122-2802, 1556 Sanchez St, San Francisco, CA 94131, 1558 30th Ave, San Francisco, CA 94122, 1558 Van Dyke Ave, San Francisco, CA 94124-3235, 1559 23rd Ave, San Francisco, CA 94122-3307, 1559 33rd Ave, San Francisco, CA 94122, 156 Hartford St, San Francisco, CA 94114, 156 Parker Ave, San Francisco, CA 94118, 156 Parque Dr, San Francisco, CA 94134-3121, 1560 Shrader St, San Francisco, CA 94117, 1562 32nd Ave, San Francisco, CA 94122, 1562 Underwood Ave, San Francisco, CA 94124-3214, 1563 Innes Ave, San Francisco, CA 94124, 1566 Newcomb Ave, San Francisco, CA 94124, 1566 Van Dyke Ave, San Francisco, CA 94124-3235, 1567 29th Ave, San Francisco, CA 94122-3235, 1567 Shafter Ave, San Francisco, CA 94124, 157 Bernard St, San Francisco, CA 94109, 157 Thrift St, San Francisco, CA 94112, 1571 11th Ave, San Francisco, CA 94122, 1571 Oakdale, San Francisco, CA 94124, 1574 20th Ave, San Francisco, CA 94122-3434, 1574 43rd Ave, San Francisco, CA 94122, 1575 46th Ave, San Francisco, CA 94122, 1575 Funston Ave, San Francisco, CA 94122, 1575 Palou Ave, San Francisco, CA 94124, 1579 Funston Ave, San Francisco, CA 94122-3530, 158 Burnside Ave, San Francisco, CA 94131, 158 Forest View Dr, San Francisco, CA 94132, 158 Howth St, San Francisco, CA 94112, 1581 16th Ave, San Francisco, CA 94122, 1583 28th Ave, San Francisco, CA 94122, 1583 33rd Ave, San Francisco, CA 94122, 1583 33rd Ave, San Francisco, CA 94122-3144, 1583 La Salle Ave, San Francisco, CA 94124, 1586 41st Ave, San Francisco, CA 94122-3036, 159 Nevada St, San Francisco, CA 94110, 1590 La Playa St, San Francisco, CA 94122-2800, 1591 27th Ave, San Francisco, CA 94122-3227, 1591 43rd Ave, San Francisco, CA 94122, 1591 45th Ave, San Francisco, CA 94122, 1595 45th Ave, San Francisco, CA 94122-2936, 1598 Newcomb Ave, San Francisco, CA 94124, 16 28th St, San Francisco, CA 94110, 16 28th St, San Francisco, CA 94110-4909, 16 Commonwealth, San Francisco, CA 94118, 16 Gaviota Way, San Francisco, CA 94127, 16 Howth St, San Francisco, CA 94112, 16 Knott Ct, San Francisco, CA 94112-4363, 16 Spruce St, San Francisco, CA 94118, 16 Stillings Ave, San Francisco, CA 94131, 16 Tioga Ave, San Francisco, CA 94134, 16 Vicksburg St, San Francisco, CA 94114, 16 West Clay, San Francisco, CA 94121-1231, 160 29th Ave, San Francisco, CA 94121-1038, 160 Andover, San Francisco, CA 94110, 160 Boutwell St, San Francisco, CA 94124, 160 Caselli Ave, San Francisco, CA 94114, 160 Dorado Ter, San Francisco, CA 94112, 160 Everglade Dr, San Francisco, CA 94132-1208, 160 Goethe St, San Francisco, CA 94112, 160 Kenwood Way, San Francisco, CA 94127-2714, 160 Los Palmos Dr, San Francisco, CA 94127, 160 Rey St, San Francisco, CA 94134, 1600 Monterey Blvd, San Francisco, CA 94127-2021, 1601 La Salle Ave, San Francisco, CA 94124, 1607 23rd Ave, San Francisco, CA 94122, 1607 48th Ave, San Francisco, CA 94122-2803, 1608 Kirkwood Ave, San Francisco, CA 94124, 161 Arbor St, San Francisco, CA 94131-2920, 161 Glenview Dr, San Francisco, CA 94131, 161 Schwerin St, San Francisco, CA 94134, 1610 27th Ave, San Francisco, CA 94122-3216, 1610 Alemany Blvd, San Francisco, CA 94112, 1610 Sanchez St, San Francisco, CA 94131, 1611 37th Ave, San Francisco, CA 94122, 1613 Church St, San Francisco, CA 94131-2410, 1614 Diamond St, San Francisco, CA 94114, 1615 Church St, San Francisco, CA 94131-2410, 1617 Church St, San Francisco, CA 94131-2410, 1618 27th Ave, San Francisco, CA 94122, 1618 38th Ave, San Francisco, CA 94122, 1618 45th, San Francisco, CA 94122, 1618 Church St, San Francisco, CA 94131, 1619 Quint, San Francisco, CA 94124, 162 22nd Ave, San Francisco, CA 94121, 162 Beverly St, San Francisco, CA 94132, 162 College Ave, San Francisco, CA 94112-1013, 162 Farnum St, San Francisco, CA 94134, 162 Highland Ave, San Francisco, CA 94110, 162 Lisbon St, San Francisco, CA 94112, 162 Victoria St, San Francisco, CA 94132, 162 Wilson St, San Francisco, CA 94112, 1621 31st Ave, San Francisco, CA 94122-3105, 1621 Cayuga Ave, San Francisco, CA 94112, 1621 Cayuga, San Francisco, CA 94112, 1622 Ingalls St, San Francisco, CA 94124, 1625 Shafter Ave, San Francisco, CA 94124, 1626 47th Ave, San Francisco, CA 94122, 1627 16th Ave, San Francisco, CA 94122-3526, 1627 18th Ave, San Francisco, CA 94122-3412, 1627 24th Ave, San Francisco, CA 94122, 1628 York St, San Francisco, CA 94110, 1628 York St, San Francisco, CA 94110-5350, 163 Bright St, San Francisco, CA 94132, 163 Clearfield Dr, San Francisco, CA 94132, 163 Forest Side Ave, San Francisco, CA 94127, 163 Mangels Ave, San Francisco, CA 94131, 1631 Grove St, San Francisco, CA 94117, 1631 Ortega St, San Francisco, CA 94122, 1632 Dolores St, San Francisco, CA 94109, 1632 Dolores, San Francisco, CA 94110, 1632 Quint St, San Francisco, CA 94124, 1632 Ulloa, San Francisco, CA 94116, 1633 Pacheco St, San Francisco, CA 94116, 1634 22nd Ave, San Francisco, CA 94122, 1634 42nd Ave, San Francisco, CA 94122, 1635 33rd Ave, San Francisco, CA 94122, 1636 16th Ave, San Francisco, CA 94122-3527, 1636 9th Ave, San Francisco, CA 94122, 1636 Diamond, San Francisco, CA 94131, 1637 48th Ave, San Francisco, CA 94122, 1637 Moraga St, San Francisco, CA 94112-4429, 1638 28th Ave, San Francisco, CA 94122, 1639 Quesada Ave, San Francisco, CA 94124, 1639 Ulloa St, San Francisco, CA 94116, 164 Belvedere St, San Francisco, CA 94117, 164 Howth St, San Francisco, CA 94112, 164 Seville St, San Francisco, CA 94112, 1643 21st Ave, San Francisco, CA 94122, 1643 43rd Ave, San Francisco, CA 94122, 1643 Moraga St, San Francisco, CA 94122, 1643 Revere Ave, San Francisco, CA 94124, 1648-1650 Beach St, San Francisco, CA 94123, 165 27th Ave, San Francisco, CA 94121, 165 Ashton Ave, San Francisco, CA 94112, 165 Beacon, San Francisco, CA 94131-2627, 165 Cerritos, San Francisco, CA 94127, 165 Madrid St, San Francisco, CA 94112, 165 Randall St, San Francisco, CA 94131-2724, 165 Williams Ave, San Francisco, CA 94124, 1650 Masonic Ave, San Francisco, CA 94117, 1650 North Point St, San Francisco, CA 94123, 1650 Plymouth Ave, San Francisco, CA 94127-2143, 1652 Lyon St, San Francisco, CA 94115, 1654 39th Ave, San Francisco, CA 94122-3018, 1654 Yosemite Ave, San Francisco, CA 94124, 1656 18th Ave, San Francisco, CA 94122, 1656 9th Ave, San Francisco, CA 94122, 166 Arguello, San Francisco, CA 94118, 166 Caine Ave, San Francisco, CA 94112-3004, 166 Ewing Ter, San Francisco, CA 94118, 166 Glenview Dr, San Francisco, CA 94131, 1660 9th Ave, San Francisco, CA 94122, 1660 Shafter Ave, San Francisco, CA 94124, 1664 Alabama St, San Francisco, CA 94110, 1666 31st Ave, San Francisco, CA 94122, 1666 47th Ave, San Francisco, CA 94122, 1666 Geneva Ave, San Francisco, CA 94134, 1667 Silver Ave, San Francisco, CA 94124, 1669 Alabama St, San Francisco, CA 94110, 167 Gaven St, San Francisco, CA 94134, 167 Hamerton Ave, San Francisco, CA 94131, 167 Judson, San Francisco, CA 94112, 167 Marston Ave, San Francisco, CA 94112, 167 Maywood Dr, San Francisco, CA 94127, 167 Skyview Way, San Francisco, CA 94131, 167 Topaz Way, San Francisco, CA 94114, 167 Venus St, San Francisco, CA 94124, 1670 Greenwich Ct, San Francisco, CA 94123, 1670 Sloat Blvd, San Francisco, CA 94132, 1671 21st Ave, San Francisco, CA 94122, 1672 19th Ave, San Francisco, CA 94122, 1674 43rd Ave, San Francisco, CA 94122, 1674 Palou Ave, San Francisco, CA 94124, 1675 38th Ave, San Francisco, CA 94122, 1675 York St, San Francisco, CA 94110, 1679 40th Ave, San Francisco, CA 94122, 168 Parque Dr, San Francisco, CA 94134, 1682 Alemany Blvd, San Francisco, CA 94112-2610, 1684 Geneva Ave, San Francisco, CA 94134-3111, 1684 McKinnon Ave, San Francisco, CA 94124, 1686 35th Ave, San Francisco, CA 94122, 1686 47th Ave, San Francisco, CA 94122-2913, 1686 York St, San Francisco, CA 94110, 1687 23rd Ave, San Francisco, CA 94122, 1687 31st Ave, San Francisco, CA 94122, 1688 42nd Ave, San Francisco, CA 94122-3044, 169 25th Ave, San Francisco, CA 94121, 169 Amber Dr, San Francisco, CA 94131, 169 Bertita St, San Francisco, CA 94112-3206, 169 Huntington Dr, San Francisco, CA 94132, 1690 14th Ave, San Francisco, CA 94122-3569, 1698 Armstrong, San Francisco, CA 94124, 17 Commonwealth Ave, San Francisco, CA 94118, 17 Elsie St, San Francisco, CA 94110-5106, 17 Hillview Ct, San Francisco, CA 94124-2487, 17 Milton St, San Francisco, CA 94112, 17 Newburg St, San Francisco, CA 94131-1844, 17 Reed St, San Francisco, CA 94109-4127, 17 San Andreas Way, San Francisco, CA 94127, 17 San Pablo Ave, San Francisco, CA 94127-1533, 17 Tioga Ave, San Francisco, CA 94134, 170 Nueva Ave, San Francisco, CA 94134-2421, 1700 43rd Ave, San Francisco, CA 94122, 1700 Lawton St, San Francisco, CA 94122, 1705 Newcomb Ave, San Francisco, CA 94124, 1707 35th Ave, San Francisco, CA 94122, 1709 Sanchez, San Francisco, CA 94131, 171 Devonshire Way, San Francisco, CA 94131, 171 Monticello St, San Francisco, CA 94132-2604, 1710 Quint, San Francisco, CA 94124, 1711 10th Ave, San Francisco, CA 94122-4625, 1711 Broderick St, San Francisco, CA 94115, 1714 24th Ave, San Francisco, CA 94122, 1714 24th Ave, San Francisco, CA 94122-4302, 1714 Grant Ave, San Francisco, CA 94133-3008, 1715 42nd Ave, San Francisco, CA 94122-4005, 1716 14th Ave, San Francisco, CA 94122-4530, 1718 24th Ave, San Francisco, CA 94122, 1718 Diamond St, San Francisco, CA 94131, 1718 Oakdale Ave, San Francisco, CA 94124, 1719 23rd Ave, San Francisco, CA 94122, 1719 29th Ave, San Francisco, CA 94122, 1719 42nd Ave, San Francisco, CA 94122, 1719 47th Ave, San Francisco, CA 94122-3915, 1719 Green St, San Francisco, CA 94123, 1720 Lake St, San Francisco, CA 94121, 1723 27th Ave, San Francisco, CA 94122-4209, 1724 Grant Ave, San Francisco, CA 94133-3008, 1725 Ingalls St, San Francisco, CA 94124-3327, 173 Crestmont Dr, San Francisco, CA 94131, 173 Gambier St, San Francisco, CA 94134-1022, 173 Ottawa Ave, San Francisco, CA 94112, 1730 23rd Ave, San Francisco, CA 94122, 1730 38th Ave, San Francisco, CA 94122, 1730 46th Ave, San Francisco, CA 94122, 1732 Quesada Ave, San Francisco, CA 94124-2337, 1733 Revere Ave, San Francisco, CA 94124, 1734 10th Ave, San Francisco, CA 94122, 1734 26th Ave, San Francisco, CA 94122, 1734 38th Ave, San Francisco, CA 94122, 1735 Wawona St, San Francisco, CA 94116-2925, 1738 29th Ave, San Francisco, CA 94122, 1738 35th Ave, San Francisco, CA 94122, 1738 8th Ave, San Francisco, CA 94122, 174 Arbor St, San Francisco, CA 94131, 174 Brighton Ave, San Francisco, CA 94112-2318, 174 Byxbee St, San Francisco, CA 94132, 174 Concord St, San Francisco, CA 94112-4336, 1742 46th Ave, San Francisco, CA 94122, 1743 40th Ave, San Francisco, CA 94122, 1746 33rd Ave, San Francisco, CA 94122, 1746 48th Ave, San Francisco, CA 94122, 1747 43rd Ave, San Francisco, CA 94122, 1747 Quint St, San Francisco, CA 94124-2022, 175 15th Ave, San Francisco, CA 94118-1010, 175 Brewster St, San Francisco, CA 94110, 175 Bright St, San Francisco, CA 94132-3109, 175 Cresta Vista Dr, San Francisco, CA 95127, 175 Ramsell St, San Francisco, CA 94132, 1750 39th Ave, San Francisco, CA 94122, 1751 42nd Ave, San Francisco, CA 94122, 1751 43rd Ave, San Francisco, CA 94122-4009, 1751 Leavenworth, San Francisco, CA 94109, 1753 Noe St, San Francisco, CA 94131, 1754 40th Ave, San Francisco, CA 94122-4040, 1755 30th Ave, San Francisco, CA 94122-4201, 1758 12th Ave, San Francisco, CA 94122, 1758 28th Ave, San Francisco, CA 94122, 1758 36th Ave, San Francisco, CA 94122, 1758 44th Ave, San Francisco, CA 94122, 1758 Palou Ave, San Francisco, CA 94124, 1759 Quint St, San Francisco, CA 94124-2022, 1759 Revere, San Francisco, CA 94124, 1759 San Jose, San Francisco, CA 94112, 176 Evelyn Way, San Francisco, CA 94127-1731, 176 Holladay Ave, San Francisco, CA 94110, 176 Kenwood Way, San Francisco, CA 94127-2714, 176 Nevada St, San Francisco, CA 94110-5723, 176 Palo Alto Ave, San Francisco, CA 94114, 176 Valmar Ter, San Francisco, CA 94112-2158, 1760 Quesada Ave, San Francisco, CA 94124, 1762 32nd Ave, San Francisco, CA 94122, 1762 Alemany, San Francisco, CA 94112, 1763 20th Ave, San Francisco, CA 94122-4401, 1763 47th Ave, San Francisco, CA 94122, 1763 Dolores St, San Francisco, CA 94110-5440, 1763 Palou Ave, San Francisco, CA 94124, 1765 15th Ave, San Francisco, CA 94122, 1766 10th Ave, San Francisco, CA 94122-4626, 1766 27th Ave, San Francisco, CA 94122, 1766 McKinnon Ave, San Francisco, CA 94124-2141, 1767 31st Ave, San Francisco, CA 94122, 1767 Palou Ave, San Francisco, CA 9412, 177 Forest View Dr, San Francisco, CA 94132, 177 Knockash Hill, San Francisco, CA 94127-1237, 1770 28th Ave, San Francisco, CA 94122-4219, 1770 48th Ave, San Francisco, CA 94122, 1771 11th Ave, San Francisco, CA 94122, 1771 19th Ave, San Francisco, CA 94122, 1771 Quint St, San Francisco, CA 94124, 1774 41st Ave, San Francisco, CA 94122-4002, 1775 34th Ave, San Francisco, CA 94122-4107, 1775 Oakdale Ave, San Francisco, CA 94124, 1779 46th Ave, San Francisco, CA 94122, 178 Jules Ave, San Francisco, CA 94112, 178 Laidley St, San Francisco, CA 94131-2735, 178 Rey St, San Francisco, CA 94134, 1780 Revere Ave, San Francisco, CA 94124, 1780-1782 8th Ave, San Francisco, CA 94122, 1781 Quesada Ave, San Francisco, CA 94124, 1782 36th Ave, San Francisco, CA 94122, 1785 Cayuga Ave, San Francisco, CA 94112-4103, 1786 43rd Ave, San Francisco, CA 94122, 1787 Palou Ave, San Francisco, CA 94124, 179 Brompton Ave, San Francisco, CA 94131-3205, 179 Burnside Ave, San Francisco, CA 94131, 179 Hale St, San Francisco, CA 94134-1213, 179 Ramsell St, San Francisco, CA 94132, 179 Teddy Ave, San Francisco, CA 94134, 18 Buena Vista Ter, San Francisco, CA 94117, 18 Fernwood Dr, San Francisco, CA 94127, 18 Huntington Dr, San Francisco, CA 94132-1114, 18 Joy St, San Francisco, CA 94110-5318, 18 Orben, San Francisco, CA 94115, 18-#11 Dorado Ter, San Francisco, CA 94112, 180 Downey St, San Francisco, CA 94117-4420, 180 Lower Ter, San Francisco, CA 94114, 180 St Elmo Way, San Francisco, CA 94127, 1801 15th Ave, San Francisco, CA 94122, 1806-1806 35th Ave, San Francisco, CA 94122-4114, 181 8th Ave, San Francisco, CA 94118, 181 8th Ave, San Francisco, CA 94118-1210, 181 Farragut Ave, San Francisco, CA 94112, 181 Gladstone, San Francisco, CA 94112, 181 Randall, San Francisco, CA 94131-2724, 1811 20th Ave, San Francisco, CA 94122-4403, 1812 Lyon St, San Francisco, CA 94115, 1817 44th Ave, San Francisco, CA 94122, 1818 31st Ave, San Francisco, CA 94122, 1818 8th Ave, San Francisco, CA 94122-4709, 1818 Great Highway, San Francisco, CA 94122-3924, 1819 25th Ave, San Francisco, CA 94122, 182 Galewood Cir, San Francisco, CA 94131, 1822 20th Ave, San Francisco, CA 94122, 1822 34th Ave, San Francisco, CA 94122, 1823 43rd Ave, San Francisco, CA 94122-4011, 1825 Webster, San Francisco, CA 94115, 1826 38th Ave, San Francisco, CA 94122-4148, 1826 9th Ave, San Francisco, CA 94122-4704, 1827 11th Ave, San Francisco, CA 94122, 1827 31st Ave, San Francisco, CA 94122, 1829 Church St, San Francisco, CA 94131, 1829 Church St, San Francisco, CA 94131-2712, 183 Bocana St, San Francisco, CA 94110, 1830 23rd Ave, San Francisco, CA 94122, 1830 35th Ave, San Francisco, CA 94132, 1831 39th Ave, San Francisco, CA 94122-4037, 1834 27th Ave, San Francisco, CA 94122-4212, 1834 31st Ave, San Francisco, CA 94122, 1836 Santiago St, San Francisco, CA 94116, 1838 42nd Ave, San Francisco, CA 94122, 1839 14th Ave, San Francisco, CA 94122, 1839 22nd Ave, San Francisco, CA 94122-4421, 1839 32nd Ave, San Francisco, CA 94122-4155, 184 Cambridge St, San Francisco, CA 94134, 184 London St, San Francisco, CA 94112, 184 Palm Ave, San Francisco, CA 94118, 1842 26th Ave, San Francisco, CA 94122, 1842 40th Ave, San Francisco, CA 94122, 1842 44th Ave, San Francisco, CA 94122, 1843 40th Ave, San Francisco, CA 94122, 1845 Kirkham, San Francisco, CA 94122, 1846 46th, San Francisco, CA 94122, 1847 Scott St, San Francisco, CA 94115, 1848 28th Ave, San Francisco, CA 94122, 185 Lundys Ln, San Francisco, CA 94110-5128, 185 Marston Ave, San Francisco, CA 94112, 185 Otsego, San Francisco, CA 94112-2535, 185 Stonecrest Dr, San Francisco, CA 94132, 1850 Judah St, San Francisco, CA 94122-1623, 1851 35th Ave, San Francisco, CA 94122, 1851 40th Ave, San Francisco, CA 94122, 1853 15th Ave, San Francisco, CA 94122-4535, 1855 20th Ave, San Francisco, CA 94122, 1857 37th Ave, San Francisco, CA 94122, 186 Brewster St, San Francisco, CA 94110-5304, 186 Colby St, San Francisco, CA 94134, 186 Maynard St, San Francisco, CA 94112, 186 Prague St, San Francisco, CA 94112-2843, 186 Ripley St, San Francisco, CA 94110, 1861 Pine St, San Francisco, CA 94109, 1863 Egbert Ave, San Francisco, CA 94124, 1863-1863 30th Ave, San Francisco, CA 94122, 1865 Pine St, San Francisco, CA 94109, 1866 33rd Ave, San Francisco, CA 94122, 1866 Turk St, San Francisco, CA 94115, 1868 10th, San Francisco, CA 94122, 1868 Greenwich St, San Francisco, CA 94123, 1868 San Jose Ave, San Francisco, CA 94112, 1869 Palou Ave, San Francisco, CA 94124, 1870 34th Ave, San Francisco, CA 94122, 1871 41st Ave, San Francisco, CA 94122, 1871 Green St, San Francisco, CA 94123-4921, 1874 43rd Ave, San Francisco, CA 94122, 1874 San Jose Ave, San Francisco, CA 94112, 1875 17th Ave, San Francisco, CA 94122, 1875 Palou Ave, San Francisco, CA 94124, 1878 Great Highway, San Francisco, CA 94122, 188 Banks St, San Francisco, CA 94110, 188 Broad St, San Francisco, CA 94112, 188 Huntington Dr, San Francisco, CA 94132-1116, 188 Montana St, San Francisco, CA 94112, 188 Montana St, San Francisco, CA 94112-2950, 1886 14th Ave, San Francisco, CA 94122, 1887 20th Ave, San Francisco, CA 94122, 189 Santa Ynez Ave, San Francisco, CA 94112, 1893 San Jose Ave, San Francisco, CA 94112, 1894 31st Ave, San Francisco, CA 94122-4229, 1894 36th Ave, San Francisco, CA 94122-4142, 19 Alta St, San Francisco, CA 94133-3501, 19 Apollo St, San Francisco, CA 94124, 19 Canyon Dr, San Francisco, CA 94112, 19 Congo St, San Francisco, CA 94131, 19 Farallones, San Francisco, CA 94112, 19 Gaviota Way, San Francisco, CA 94127, 19 Prospect, San Francisco, CA 94110, 190 Escolta Way, San Francisco, CA 94116, 190 Juanita Way, San Francisco, CA 94127, 190 Onondaga, San Francisco, CA 94112, 190 San Benito Way, San Francisco, CA 94127, 1900 Green St, San Francisco, CA 94123-4811, 1905 Donner Ave, San Francisco, CA 94124, 1909 Judah St, San Francisco, CA 94122, 191 Cora St, San Francisco, CA 94134, 191 Edgewood Ave, San Francisco, CA 94117-3712, 191 Melrose Ave, San Francisco, CA 94127, 191 Moffitt St, San Francisco, CA 94131, 191 Morningside Dr, San Francisco, CA 94132, 191 Sussex St, San Francisco, CA 94131, 1910 46th Ave, San Francisco, CA 94116, 1910 47th Ave, San Francisco, CA 94116-1045, 1911 Baker St, San Francisco, CA 94115-2012, 1911 Funston Ave, San Francisco, CA 94116, 1913 Sacramento St, San Francisco, CA 94109, 1914 34th Ave, San Francisco, CA 94116, 1915 23rd Ave, San Francisco, CA 94116, 1915 Sacramento St, San Francisco, CA 94109, 1916 15th Ave, San Francisco, CA 94116, 1917 Vallejo St, San Francisco, CA 94123-4917, 1918 29th Ave, San Francisco, CA 94116, 1918 9th Ave, San Francisco, CA 94116, 1918 Lake St, San Francisco, CA 94121, 1919 20th Ave, San Francisco, CA 94116, 1919 Jennings St, San Francisco, CA 94124, 1919 Vallejo, San Francisco, CA 94123, 192 Bonview St, San Francisco, CA 94110, 192 Caine Ave, San Francisco, CA 94112-3004, 192 Yerba Buena Ave, San Francisco, CA 94127, 1920 12th Ave, San Francisco, CA 94116, 1921 48th Ave, San Francisco, CA 94116, 1921 Diamond, San Francisco, CA 94131, 1921 Geneva Ave, San Francisco, CA 94134-3116, 1923 45th Ave, San Francisco, CA 94116, 1924 Pine St, San Francisco, CA 94109, 1924 Pine St, San Francisco, CA 94109-4331, 1926 Lake St, San Francisco, CA 94121, 1926 Ortega St, San Francisco, CA 94122, 1926 Quint St, San Francisco, CA 94124-2214, 1927 Golden Gate Ave, San Francisco, CA 94115, 1929 48th Ave, San Francisco, CA 94116, 193 Brewster St, San Francisco, CA 94110, 193 Sagamore St, San Francisco, CA 94112-2945, 1930 Jennings, San Francisco, CA 94124, 1930 Pine St, San Francisco, CA 94109-4331, 1931 Lyon St, San Francisco, CA 94115-2014, 1932 Great Highway, San Francisco, CA 94116, 1933 Ulloa St, San Francisco, CA 94116-2414, 1936 Sloat Blvd, San Francisco, CA 94116, 1938 45th Ave, San Francisco, CA 94116, 1939 45th Ave, San Francisco, CA 94116, 194 Beverly St, San Francisco, CA 94132, 194 Cayuga Ave, San Francisco, CA 94112, 1941 17th Ave, San Francisco, CA 94116, 1941 Silver St, San Francisco, CA 94108, 1945 8th Ave, San Francisco, CA 94116-1440, 1946 18th Ave, San Francisco, CA 94116-1246, 1946 42nd Ave, San Francisco, CA 94116, 1948 Sutter, San Francisco, CA 94115, 1949 Oak, San Francisco, CA 94117, 195 Brewster St, San Francisco, CA 94110, 195 Clearfield Dr, San Francisco, CA 94132, 195 Dalewood Way, San Francisco, CA 94127-1606, 195 St Elmo Way, San Francisco, CA 94127, 1950 14th Ave, San Francisco, CA 94116, 1950 8th Ave, San Francisco, CA 94116, 1951 9th Ave, San Francisco, CA 94116, 1951 Oakdale Ave, San Francisco, CA 94124-2003, 1951 Webster St, San Francisco, CA 94115-2815, 1953 Webster St, San Francisco, CA 94115-2815, 1954 Buchanan St, San Francisco, CA 94115, 1957 11th Ave, San Francisco, CA 94116, 1958 34th Ave, San Francisco, CA 94116-1106, 1958 Donner Ave, San Francisco, CA 94124-2517, 1959 29th Ave, San Francisco, CA 94116, 1959 Quesada Ave, San Francisco, CA 94124-2007, 196 16th Ave, San Francisco, CA 94118-1017, 1961 16th Ave, San Francisco, CA 94116, 1964 8th Ave, San Francisco, CA 94116-1439, 1966 48th Ave, San Francisco, CA 94116, 1966-1968 Greenwich St, San Francisco, CA 94123, 1968 Quint St, San Francisco, CA 94124, 1971 12th Ave, San Francisco, CA 94116-1305, 1971 14th Ave, San Francisco, CA 94116-1336, 1971 42nd Ave, San Francisco, CA 94116, 1974 44th Ave, San Francisco, CA 94116, 1975 28th Ave, San Francisco, CA 94116, 1979 42nd Ave, San Francisco, CA 94116, 1979 43rd Ave, San Francisco, CA 94116, 1979 43rd Ave, San Francisco, CA 94116-1026, 198 Bonview St, San Francisco, CA 94110, 198 Castro St, San Francisco, CA 94114, 198 Thrift, San Francisco, CA 94112, 1980 14th Ave, San Francisco, CA 94116, 1981-a Funston Ave, San Francisco, CA 94116, 1982 10th, San Francisco, CA 94116, 1986 17th Ave, San Francisco, CA 94116, 1986 48th Ave, San Francisco, CA 94116, 1989 23rd Ave, San Francisco, CA 94116-1214, 199 Capistrano Ave, San Francisco, CA 94122-1902, 199 San Marcos Ave, San Francisco, CA 94116, 1991 46th Ave, San Francisco, CA 94116-1006, 1991 Quint St, San Francisco, CA 94124, 2 Argonaut Ave, San Francisco, CA 94134, 2 Aztec St, San Francisco, CA 94110-5103, 2 Douglass St, San Francisco, CA 94114, 2 Edgehill Way, San Francisco, CA 94127, 2 Everson, San Francisco, CA 94114, 2 Las Villas, San Francisco, CA 94124, 2 McCarthy Ave, San Francisco, CA 94134-3220, 2 Meda Ave, San Francisco, CA 94112, 2 Otsego Ave, San Francisco, CA 94112, 2 Robinson Dr, San Francisco, CA 94112, 2 Santa Rita Ave, San Francisco, CA 94116, 2 Sparta St, San Francisco, CA 94134-2157, 2 Sumner St, San Francisco, CA 94103-3920, 20 Ashbury Ter, San Francisco, CA 94117, 20 Athens St, San Francisco, CA 94112, 20 Borica St, San Francisco, CA 94127, 20 Diana St, San Francisco, CA 94124-2600, 20 Entrada Ct, San Francisco, CA 94127, 20 Garrison Ave, San Francisco, CA 94134-3244, 20 Junior Ter, San Francisco, CA 94112, 20 Maywood Dr, San Francisco, CA 94127, 20 Precita Ave, San Francisco, CA 94110, 20 Sylvan Dr, San Francisco, CA 94132, 20 Wright St, San Francisco, CA 94110, 200 Bennington, San Francisco, CA 94110, 200 Congo St, San Francisco, CA 94131-3107, 200 Laurel St, San Francisco, CA 94118, 200 Locust St, San Francisco, CA 94118, 200 Naples St, San Francisco, CA 94112, 200 Parque Dr, San Francisco, CA 94134, 200 Putnam St, San Francisco, CA 94110, 200 Putnam, San Francisco, CA 94110, 2000 14th Ave, San Francisco, CA 94116, 2000 20th St, San Francisco, CA 94107-2724, 2000 24th Ave, San Francisco, CA 94116-1218, 2005 21st Ave, San Francisco, CA 94116, 2006 32nd Ave, San Francisco, CA 94116, 2007 28th Ave, San Francisco, CA 94116, 201 Amber Dr, San Francisco, CA 94131, 201 Amber, San Francisco, CA 94131, 201 Buchanan St, San Francisco, CA 94102, 201 Cayuga Ave, San Francisco, CA 94112, 201 Hale St, San Francisco, CA 94134, 201 Hamilton St, San Francisco, CA 94134-1435, 201 Justin Dr, San Francisco, CA 94112, 201 Vicente St, San Francisco, CA 94127, 201 Wilde St, San Francisco, CA 94134, 201-203 Roosevelt Way, San Francisco, CA 94114, 2010 Bancroft Ave, San Francisco, CA 94124, 2011 15th Ave, San Francisco, CA 94116-1315, 2011 19th Ave, San Francisco, CA 94116-1253, 2011 32nd Ave, San Francisco, CA 94116, 2011 Bancroft Ave, San Francisco, CA 94124, 2012 Keith, San Francisco, CA 94124-3207, 2014 46th Ave, San Francisco, CA 94116-1007, 2018 Alemany Blvd, San Francisco, CA 94112, 202 Phelan Ave, San Francisco, CA 94112, 2021 10th Ave, San Francisco, CA 94116, 2023 32nd Ave, San Francisco, CA 94116-1124, 2023 Oakdale Ave, San Francisco, CA 94124, 2025 Keith St, San Francisco, CA 94124-3206, 2026 10th Ave, San Francisco, CA 94116, 2026 46th Ave, San Francisco, CA 94116, 2027 9th Ave, San Francisco, CA 94116, 2027 Jefferson St, San Francisco, CA 94123-1016, 203 Acadia St, San Francisco, CA 94131-3214, 203 Louisburg St, San Francisco, CA 94112, 2030 Lyon St, San Francisco, CA 94115-1610, 2034 29th Ave, San Francisco, CA 94116-1144, 2034 34th Ave, San Francisco, CA 94116, 2035 Oakdale Ave, San Francisco, CA 94124, 2039 Broderick, San Francisco, CA 94115, 2039 Thomas Ave, San Francisco, CA 94124-2036, 204 Sagamore St, San Francisco, CA 94112-2948, 2040 Alemany Blvd, San Francisco, CA 94112, 2043 15th Ave, San Francisco, CA 94116, 2048 14th Ave, San Francisco, CA 94116-1310, 2049 San Jose Ave, San Francisco, CA 94112, 205 Chenery St, San Francisco, CA 94131, 2050 16th Ave, San Francisco, CA 94116, 2051 35th Ave, San Francisco, CA 94116, 2054 24th Ave, San Francisco, CA 94116-1218, 2055 Carroll Ave, San Francisco, CA 94124, 2055-2057 Turk Blvd, San Francisco, CA 94115-4326, 2057 Jefferson St, San Francisco, CA 94123, 2059 17th Ave, San Francisco, CA 94116, 206 Lakeview Ave, San Francisco, CA 94112, 2062 Alemany Blvd, San Francisco, CA 94112, 2066 46th, San Francisco, CA 94116-1007, 207 Capitol Ave, San Francisco, CA 94112--293, 207 Crescent Ave, San Francisco, CA 94110, 207 Maple St, San Francisco, CA 94118, 207 Moscow St, San Francisco, CA 94112, 2071 Thomas, San Francisco, CA 94124, 2075 16th Ave, San Francisco, CA 94116-1239, 2077 Bancroft Ave, San Francisco, CA 94124-2505, 208 Joost Ave, San Francisco, CA 94131, 2080 14th Ave, San Francisco, CA 94116, 2082 42nd Ave, San Francisco, CA 94116, 2083 21st Ave, San Francisco, CA 94116-1208, 2083 45th Ave, San Francisco, CA 94116-1004, 2086 48th Ave, San Francisco, CA 94116, 2087 20th Ave, San Francisco, CA 94116, 2087 46th Ave, San Francisco, CA 94116, 2087 46th Ave, San Francisco, CA 94116-1008, 2089 14th Ave, San Francisco, CA 94116-1365, 209 Beverly St, San Francisco, CA 94132, 209 Dellbrook Ave, San Francisco, CA 94131, 209 Hamilton St, San Francisco, CA 94134, 209 Sagamore St, San Francisco, CA 94112-2947, 209 Stillings, San Francisco, CA 94131, 2091 16th Ave, San Francisco, CA 94116, 2095 20th Ave, San Francisco, CA 94116, 2098 Alemany Blvd, San Francisco, CA 94112, 21 Cascade, San Francisco, CA 94116-1339, 21 Fountain St, San Francisco, CA 94114, 21 Fredson Ct, San Francisco, CA 94112, 21 Garfield St, San Francisco, CA 94132, 21 Grand View Ave, San Francisco, CA 94114-2729, 21 Laidley St, San Francisco, CA 94131, 21 Lakeshore Dr, San Francisco, CA 94132, 21 Mill St, San Francisco, CA 94134, 21 Panorama Dr, San Francisco, CA 94131, 21 Rebecca Ln, San Francisco, CA 94124, 21 Scotia Ave, San Francisco, CA 94124, 21 Sotelo, San Francisco, CA 94116, 21 Woodhaven Ct, San Francisco, CA 94131, 210 Chattanooga St, San Francisco, CA 94114, 210 San Marcos Ave, San Francisco, CA 94116, 210 Santa Ana Ave, San Francisco, CA 94127, 2100 29th Ave, San Francisco, CA 94116, 2100 Broadway St, San Francisco, CA 94115, 2106 Divisadero St, San Francisco, CA 94115, 2107 Bush St, San Francisco, CA 94115, 2107-2109 24th St, San Francisco, CA 94107, 211 3rd Ave, San Francisco, CA 94118, 211 Broad St, San Francisco, CA 94112-2926, 211 Hanover St, San Francisco, CA 94112, 211 Montcalm, San Francisco, CA 94110, 2115 16th Ave, San Francisco, CA 94116, 2115 25th Ave, San Francisco, CA 94116, 2116 17th Ave, San Francisco, CA 94116-1854, 2117 32nd Ave, San Francisco, CA 94116, 2118 43rd Ave, San Francisco, CA 94116, 2118 47th Ave, San Francisco, CA 94116, 2119 41st Ave, San Francisco, CA 94116, 212 27th St, San Francisco, CA 94131, 212 Garfield St, San Francisco, CA 94132-2720, 212 Howth St, San Francisco, CA 94112-2416, 2120 Sloat Blvd, San Francisco, CA 94116, 2122 26th Ave, San Francisco, CA 94116, 2122 Ulloa St, San Francisco, CA 94116, 2125 32nd Ave, San Francisco, CA 94116, 2126 27th Ave, San Francisco, CA 94116, 2126 34th Ave, San Francisco, CA 94116, 2126 Ortega St, San Francisco, CA 94122-4246, 2127 Ocean Ave, San Francisco, CA 94127, 2129 32nd Ave, San Francisco, CA 94116, 213 Los Palmos, San Francisco, CA 94127, 213 Moulton St, San Francisco, CA 94123, 2130 35th Ave, San Francisco, CA 94116, 2130 Alemany Blvd, San Francisco, CA 94112-3309, 2130 Filbert St, San Francisco, CA 94123-3413, 2130 Noriega St, San Francisco, CA 94122-4236, 2130 Santiago St, San Francisco, CA 94116, 2131 Divisadero St, San Francisco, CA 94115-2126, 2131 Ortega St, San Francisco, CA 94122, 2132 Ortega St, San Francisco, CA 94122, 2134 30th Ave, San Francisco, CA 94116, 2135 24th Ave, San Francisco, CA 94116, 2135 29th Ave, San Francisco, CA 94116, 2136 29th Ave, San Francisco, CA 94116-1735, 2136 Funston Ave, San Francisco, CA 94116, 2139 12th Ave, San Francisco, CA 94116, 214 Ashton Ave, San Francisco, CA 94112-1720, 214 Cotter St, San Francisco, CA 94112-1923, 214 Edinburgh St, San Francisco, CA 94112, 214 London St, San Francisco, CA 94112, 214 States St, San Francisco, CA 94114, 214-216 Monterey Blvd, San Francisco, CA 94131, 2140 15th Ave, San Francisco, CA 94116, 2143 39th Ave, San Francisco, CA 94116, 2146 21st Ave, San Francisco, CA 94116, 2146 30th Ave, San Francisco, CA 94116, 215 Downey St, San Francisco, CA 94117, 215 Moulton St, San Francisco, CA 94123-3408, 215 Seneca Ave, San Francisco, CA 94112, 215 Stanyan St, San Francisco, CA 94118, 215 Victoria St, San Francisco, CA 94132, 2151 14th Ave, San Francisco, CA 94116, 2151 25th Ave, San Francisco, CA 94116, 2151 Funston Ave, San Francisco, CA 94116-1904, 2155 12th Ave, San Francisco, CA 94116, 2155 26th Ave, San Francisco, CA 94116-1728, 2158 26th Ave, San Francisco, CA 94116-1727, 2158 Bayshore Blvd, San Francisco, CA 94134, 2159 29th Ave, San Francisco, CA 94116, 2159 29th Ave, San Francisco, CA 94116-1736, 2159 47th Ave, San Francisco, CA 94116, 216 27th St, San Francisco, CA 94131, 216 Yerba Buena Ave, San Francisco, CA 94127, 2161 North Point St, San Francisco, CA 94123-1412, 2161 Revere Ave, San Francisco, CA 94124-2027, 2162 31st Ave, San Francisco, CA 94116, 2163 34th Ave, San Francisco, CA 94116, 2165 20th Ave, San Francisco, CA 94116, 2167 32nd Ave, San Francisco, CA 94116-1624, 217 Grand View, San Francisco, CA 94114, 217 Hamilton St, San Francisco, CA 94134-1435, 217 Hartford St, San Francisco, CA 94114, 2170 33rd Ave, San Francisco, CA 94116-1627, 2170 34th Ave, San Francisco, CA 94116, 2170 9th Ave, San Francisco, CA 94116, 2170 Hayes St, San Francisco, CA 94117, 2171 12th Ave, San Francisco, CA 94116, 2175 15th Ave, San Francisco, CA 94116, 2175 33rd Ave, San Francisco, CA 94116, 2176 15th Ave, San Francisco, CA 94116, 2178 25th Ave, San Francisco, CA 94116, 2178 Pine St, San Francisco, CA 94115, 218 25th Ave, San Francisco, CA 94121, 218 Allison St, San Francisco, CA 94112-4311, 218 Bonview St, San Francisco, CA 94110, 218 Marietta Dr, San Francisco, CA 94127, 2182 48th, San Francisco, CA 94116, 2183 42nd Ave, San Francisco, CA 94116, 2184 Funston Ave, San Francisco, CA 94116, 2186 43rd Ave, San Francisco, CA 94116, 2186 9th Ave, San Francisco, CA 94116, 2187 21st Ave, San Francisco, CA 94116, 219 Arleta Ave, San Francisco, CA 94134, 219 Edgewood Ave, San Francisco, CA 94117-3714, 219 Lisbon St, San Francisco, CA 94112, 219 Santos, San Francisco, CA 94134, 219 Teddy Ave, San Francisco, CA 94134-2339, 2190 33rd Ave, San Francisco, CA 94116, 2195 30th Ave, San Francisco, CA 94116, 22 Country Club Dr, San Francisco, CA 94132, 22 Cutler Ave, San Francisco, CA 94116-2611, 22 Cutler Ave, San Francisco, CA 95116, 22 Dunsmuir St, San Francisco, CA 94134, 22 Ford St, San Francisco, CA 94114, 22 Idora, San Francisco, CA 94127, 22 Saturn St, San Francisco, CA 94114, 22 Stoneybrook Ave, San Francisco, CA 94112-1649, 22 Taraval St, San Francisco, CA 94116, 220 27th St, San Francisco, CA 94131, 220 Ankeny St, San Francisco, CA 94134, 220 Argonaut Ave, San Francisco, CA 94134, 220 Concord St, San Francisco, CA 94112, 220 Jersey St, San Francisco, CA 94114-3823, 220 Mullen Ave, San Francisco, CA 94110, 220 San Benito Way, San Francisco, CA 94127, 220 Talbert St, San Francisco, CA 94134, 2200 45th Ave, San Francisco, CA 94116-1503, 2200 45th Ave, San Francisco, CA 94116-2716, 2202 17th Ave, San Francisco, CA 94116-1827, 2204 25th St, San Francisco, CA 94107, 2205 34th Ave, San Francisco, CA 94116, 2208 47th Ave, San Francisco, CA 94116-1547, 221 Arbor St, San Francisco, CA 94131-2943, 221 Dublin St, San Francisco, CA 94112, 221 Farallones St, San Francisco, CA 94112-2938, 221 Olmstead St, San Francisco, CA 94134-1939, 2210 45th Ave, San Francisco, CA 94116-1503, 2211 25th St, San Francisco, CA 94107, 2211 38th Ave, San Francisco, CA 94116-1649, 2214 17th Ave, San Francisco, CA 94116-1827, 2214 43rd Ave, San Francisco, CA 94116-1529, 2214 Clay St, San Francisco, CA 94115, 2215 19th Ave, San Francisco, CA 94116, 2215 39th Ave, San Francisco, CA 94116, 2215 47th Ave, San Francisco, CA 94116, 2215 Lake St, San Francisco, CA 94121, 2217 28th Ave, San Francisco, CA 94116, 2219 27th Ave, San Francisco, CA 94116, 2219 Scott St, San Francisco, CA 94115, 222 Anderson St, San Francisco, CA 94110, 222 Dellbrook Ave, San Francisco, CA 94131, 222 Maynard St, San Francisco, CA 94115, 222 Monticello St, San Francisco, CA 94132, 222 Roosevelt Way, San Francisco, CA 94114, 2220 Castro St, San Francisco, CA 94131, 2221 Webster St, San Francisco, CA 94115-1820, 2224 Sacramento St, San Francisco, CA 94115, 2225 Bay St, San Francisco, CA 94123, 2225 Divisadero, San Francisco, CA 94115, 2226 30th Ave, San Francisco, CA 94116, 2227 35th Ave, San Francisco, CA 94116-1614, 223 28th St, San Francisco, CA 94131-2303, 223 Molimo Dr, San Francisco, CA 94127, 223 Vernon St, San Francisco, CA 94132, 2231 46th Ave, San Francisco, CA 94116, 2231 Ortega St, San Francisco, CA 94122, 2237 Cecilia Ave, San Francisco, CA 94116, 2238 33rd Ave, San Francisco, CA 94116-1605, 224 32nd Ave, San Francisco, CA 94121, 224 Cayuga Ave, San Francisco, CA 94112, 224 Laidley St, San Francisco, CA 94131, 224 Ney St, San Francisco, CA 94112-1645, 2240 27th Ave, San Francisco, CA 94116-1752, 2242 39th Ave, San Francisco, CA 94116, 2243 42nd Ave, San Francisco, CA 94116-1522, 2243 Greenwich St, San Francisco, CA 94123, 2245 Turk St, San Francisco, CA 94118, 2246 Cecilia Ave, San Francisco, CA 94116, 2248 9th Ave, San Francisco, CA 94116, 225 Dwight St, San Francisco, CA 94134, 225 Farallones St, San Francisco, CA 94112, 225 Harvard St, San Francisco, CA 94134-3621, 225 Lakeview Ave, San Francisco, CA 94112-3013, 225 Lakeview, San Francisco, CA 94112, 225 Victoria St, San Francisco, CA 94132, 225 Wawona St, San Francisco, CA 94127, 2250 Bush St, San Francisco, CA 94105, 2251 15th Ave, San Francisco, CA 94116-1824, 2253 9th Ave, San Francisco, CA 94116, 2254 34th Ave, San Francisco, CA 94116, 2255 27th Ave, San Francisco, CA 94116, 2255 Octavia St, San Francisco, CA 94109, 2258 40th Ave, San Francisco, CA 94116, 2258 45th Ave, San Francisco, CA 94116, 2259 41st Ave, San Francisco, CA 94116, 226 Geneva Ave, San Francisco, CA 94112-2410, 226 Madrid St, San Francisco, CA 94112-2055, 226 Olmstead St, San Francisco, CA 94134, 2264 18th Ave, San Francisco, CA 94116, 2266 43rd Ave, San Francisco, CA 94118-1529, 2266 48th Ave, San Francisco, CA 94116-1551, 2266 Cecilia Ave, San Francisco, CA 94116, 2268 Pine St, San Francisco, CA 94115-2743, 227 Arch St, San Francisco, CA 94132-3042, 227 Cordova St, San Francisco, CA 94112, 227 Garfield St, San Francisco, CA 94132, 227 Randolph St, San Francisco, CA 94132, 227 Shields St, San Francisco, CA 94132, 227 Tingley St, San Francisco, CA 94112, 2270 14th Ave, San Francisco, CA 94116, 2270 26th Ave, San Francisco, CA 94116, 2270 29th Ave, San Francisco, CA 94116, 2270 9th Ave, San Francisco, CA 94116, 2270 Sloat Blvd, San Francisco, CA 94116, 2271 30th Ave, San Francisco, CA 94116, 2273-2273 17th Ave, San Francisco, CA 94116-1828, 2278 22nd Ave, San Francisco, CA 94116, 2278 27th Ave, San Francisco, CA 94116-1752, 2279 39th Ave, San Francisco, CA 94116-1653, 2279 47th Ave, San Francisco, CA 94116, 228 Evelyn, San Francisco, CA 94127, 228 Prague St, San Francisco, CA 94112, 228 Winfield St, San Francisco, CA 94110, 2280 Bay St, San Francisco, CA 94123, 2282 18th Ave, San Francisco, CA 94122, 229 Montcalm St, San Francisco, CA 94110, 229 Oak Park Dr, San Francisco, CA 94131-1104, 23 Blair Ter, San Francisco, CA 94107-3264, 23 Caine St, San Francisco, CA 94112, 23 Laidley St, San Francisco, CA 94131-2732, 23 Peralta Ave, San Francisco, CA 94110, 23 Sparta St, San Francisco, CA 94134, 23 Tioga Ave, San Francisco, CA 94134-2240, 230 Capra Way, San Francisco, CA 94123, 230 Granada Ave, San Francisco, CA 94112, 230 Lobos St, San Francisco, CA 94112, 230 San Benito Way, San Francisco, CA 94127, 230-230 Sadowa, San Francisco, CA 94112, 2300 34th Ave, San Francisco, CA 94116, 2300 43rd Ave, San Francisco, CA 94116, 2301 26th Ave, San Francisco, CA 94116, 2301 34th Ave, San Francisco, CA 94116-2204, 2301 Ulloa St, San Francisco, CA 94116-2355, 2306 40th Ave, San Francisco, CA 94116, 2306 41st Ave, San Francisco, CA 94116, 2306 Broadway, San Francisco, CA 94115, 2306 Cecilia Ave, San Francisco, CA 94116, 2307 33rd Ave, San Francisco, CA 94116, 2307 40th Ave, San Francisco, CA 94116, 231 Banks St, San Francisco, CA 94110, 231 Holly Park Cir, San Francisco, CA 94110-5903, 231 Molimo Dr, San Francisco, CA 94127-1849, 231 Naples St, San Francisco, CA 94112, 231 Prague St, San Francisco, CA 94112-2844, 231 Thornton Ave, San Francisco, CA 94124, 231 Upper Terrace, San Francisco, CA 94117, 2311 15th Ave, San Francisco, CA 94116-2503, 2312 32nd Ave, San Francisco, CA 94116-2206, 2314 18th Ave, San Francisco, CA 94116, 2314 44th Ave, San Francisco, CA 94116, 2315 26th Ave, San Francisco, CA 94116-2343, 2318 Quintara St, San Francisco, CA 94116, 2319 Alemany Blvd, San Francisco, CA 94112, 232 Precita Ave, San Francisco, CA 94110, 2320 Lyon St, San Francisco, CA 94115, 2320 Ulloa St, San Francisco, CA 94116, 2323 Funston Ave, San Francisco, CA 94116, 2326 Ulloa St, San Francisco, CA 94116, 2328 Alemany Blvd, San Francisco, CA 94112, 233 21st Ave, San Francisco, CA 94121, 233 32nd Ave, San Francisco, CA 94121, 233 Laidley St, San Francisco, CA 94131, 233 Maple St, San Francisco, CA 94118, 233 Richland Ave, San Francisco, CA 94110, 233 Somerset St, San Francisco, CA 94134, 233 Topeka Ave, San Francisco, CA 94124, 2330 45th Ave, San Francisco, CA 94116-2001, 2336 30th Ave, San Francisco, CA 94116-2229, 2336 Castro St, San Francisco, CA 94131, 2338 Alemany Blvd, San Francisco, CA 94112, 2338 California St, San Francisco, CA 94115, 2338 Kirkham St, San Francisco, CA 94122-3240, 2339 12th Ave, San Francisco, CA 94116, 2339 37th Ave, San Francisco, CA 94116-2140, 234 10th Ave, San Francisco, CA 94118-2213, 234 Jules, San Francisco, CA 94112, 234 Molimo Dr, San Francisco, CA 94127, 234 Orizaba Ave, San Francisco, CA 94132, 234 Valley St, San Francisco, CA 94131, 234 Wilde Ave, San Francisco, CA 94134, 2341 Cecilia Ave, San Francisco, CA 94116, 2341 Cecilia Ave, San Francisco, CA 94116-2509, 2343 25th Ave, San Francisco, CA 94116-2338, 2345 Wawona, San Francisco, CA 94116, 2347 16th Ave, San Francisco, CA 94116, 2347 17th Ave, San Francisco, CA 94116, 2347 34th Ave, San Francisco, CA 94116-2204, 235 Ashton Ave, San Francisco, CA 94112, 235 Denslowe Dr, San Francisco, CA 94132, 235 Dublin St, San Francisco, CA 94112-2835, 235 Flournoy St, San Francisco, CA 94112, 235 Hanover St, San Francisco, CA 94112, 235 Hearst Ave, San Francisco, CA 94131, 235 Montecito Ave, San Francisco, CA 94112, 235 Moscow St, San Francisco, CA 94112-2146, 235 Ney St, San Francisco, CA 94112, 235 St Charles Ave, San Francisco, CA 94132, 2350 Broadway, San Francisco, CA 94115, 2354 39th Ave, San Francisco, CA 94116, 2354 45th Ave, San Francisco, CA 94116, 2355 25th Ave, San Francisco, CA 94116, 2358 27th Ave, San Francisco, CA 94116-2322, 2358 44th Ave, San Francisco, CA 94116-2041, 236 Elsie St, San Francisco, CA 94110, 236 Felton St, San Francisco, CA 94134, 236 Mount Vernon Ave, San Francisco, CA 94112-3632, 236 Niagara Ave, San Francisco, CA 94112, 236 Paris, San Francisco, CA 94015, 2360 9th Ave, San Francisco, CA 94116, 2367 Washington, San Francisco, CA 94115, 237 9th Ave, San Francisco, CA 94118, 2370 31st Ave, San Francisco, CA 94116, 2370 California St, San Francisco, CA 94115, 2374 Greenwich St, San Francisco, CA 94123, 2375 28th Ave, San Francisco, CA 94116-2330, 2375 31st Ave, San Francisco, CA 94116, 2376 45th Ave, San Francisco, CA 94116-2001, 238 28th St, San Francisco, CA 94110, 238 Faxon Ave, San Francisco, CA 94112, 238 Mangels Ave, San Francisco, CA 94131, 238 Vernon St, San Francisco, CA 94132, 2383 37th Ave, San Francisco, CA 94116, 239 Judah St, San Francisco, CA 94122, 24 Ashton, San Francisco, CA 94112, 24 Henry St, San Francisco, CA 94114, 24 Ina Ct, San Francisco, CA 94112, 24 Lunado Way, San Francisco, CA 94127, 24 Niagara Ave, San Francisco, CA 94112-3335, 24 Thor Ave, San Francisco, CA 94131, 240 9th Ave, San Francisco, CA 94118-2209, 240 Andover St, San Francisco, CA 94110-5610, 240 Cervantes Blvd, San Francisco, CA 94123, 240 Chenery St, San Francisco, CA 94114, 240 Douglass St, San Francisco, CA 94114, 240 Flournoy St, San Francisco, CA 94112, 240 Pope St, San Francisco, CA 94112, 240 Theresa St, San Francisco, CA 94112, 240 Winfield St, San Francisco, CA 94110, 2400 Green St, San Francisco, CA 94123, 2407 Lincoln Way, San Francisco, CA 94122, 241 Paris St, San Francisco, CA 94112, 241 Winding Way, San Francisco, CA 94112-4428, 2410 Steiner, San Francisco, CA 94115, 2414 Webster St, San Francisco, CA 94115, 2415 45th Ave, San Francisco, CA 94116, 2419 22nd Ave, San Francisco, CA 94116, 2419 42nd Ave, San Francisco, CA 94116, 242 32nd Ave, San Francisco, CA 94121, 242 Athens, San Francisco, CA 94126, 242 Country Club Dr, San Francisco, CA 94132, 242 Prague St, San Francisco, CA 94112, 242 Raymond St, San Francisco, CA 94134, 2421 Balboa Ave, San Francisco, CA 94121-2906, 2423 32nd Ave, San Francisco, CA 94116-2238, 2424 Alemany, San Francisco, CA 94112, 2424 Buchanan, San Francisco, CA 94115-1928, 2424 Yorba, San Francisco, CA 94116, 2425 Filbert St, San Francisco, CA 94123, 2425 Lincoln Way, San Francisco, CA 94122, 2425 Vicente, San Francisco, CA 94116-2835, 2426 28th St, San Francisco, CA 94116, 2426 34th, San Francisco, CA 94116, 2426 47th Ave, San Francisco, CA 94116, 243 Maynard St, San Francisco, CA 94112, 243 Moultrie St, San Francisco, CA 94110, 243 Niagara Ave, San Francisco, CA 94112, 243 Romain St, San Francisco, CA 94131, 243 Staples Ave, San Francisco, CA 94112, 243 Topaz Way, San Francisco, CA 94131, 243 Vicente St, San Francisco, CA 94127, 2430 Alemany, San Francisco, CA 94112, 2431 37th Ave, San Francisco, CA 94116, 2431 47th Ave, San Francisco, CA 94116-2012, 2438 18th Ave, San Francisco, CA 94116, 2439 44th Ave, San Francisco, CA 94116, 2439 47th Ave, San Francisco, CA 94116-2012, 244 Elsie St, San Francisco, CA 94110-5508, 244 Juanita Way, San Francisco, CA 94127-1736, 244 Miramar Ave, San Francisco, CA 94112, 244 University St, San Francisco, CA 94134, 2440 Washington, San Francisco, CA 94115, 2443 25th Ave, San Francisco, CA 94116, 2446 46th Ave, San Francisco, CA 94116-2008, 245 Bridgeview Dr, San Francisco, CA 94124-2232, 245 Chattanooga St, San Francisco, CA 94114, 245 Concord St, San Francisco, CA 94112, 245 Mallorca Way, San Francisco, CA 94123-1551, 2451 Bay St, San Francisco, CA 94123, 2451 Larkin St, San Francisco, CA 94109, 2454 42nd Ave, San Francisco, CA 94116, 2456 Filbert St, San Francisco, CA 94123, 2459 14th Ave, San Francisco, CA 94116, 246 28th Ave, San Francisco, CA 94118, 246 Corbett Ave, San Francisco, CA 94114, 246 Montana St, San Francisco, CA 94112, 246 Stillings Ave, San Francisco, CA 94131-2842, 246 Vienna St, San Francisco, CA 94112, 2462 24th Ave, San Francisco, CA 94116-2334, 2465 Pacific, San Francisco, CA 94115, 2466 18th Ave, San Francisco, CA 94116-2401, 247 Flood Ave, San Francisco, CA 94112-1330, 247 Hahn St, San Francisco, CA 94112, 247 Liberty St, San Francisco, CA 94114, 247 Wilson St, San Francisco, CA 94112, 2470 36th Ave, San Francisco, CA 94116-2249, 2470 Broadway, San Francisco, CA 94115, 2471 16th Ave, San Francisco, CA 94116, 2471 35th Ave, San Francisco, CA 94116, 2471 35th Ave, San Francisco, CA 94116-2247, 2471 45th Ave, San Francisco, CA 94116-2007, 2472 39th Ave, San Francisco, CA 94116, 2474 36th Ave, San Francisco, CA 94116, 2475 42nd Ave, San Francisco, CA 94116, 2478 17th Ave, San Francisco, CA 94116, 2478 18th Ave, San Francisco, CA 94116, 248 10th Ave, San Francisco, CA 94118, 248 Juanita Way, San Francisco, CA 94127-1736, 248 Montana St, San Francisco, CA 94112-2953, 248 Ridge Ln, San Francisco, CA 94112, 248 Upper Terrace, San Francisco, CA 94117, 2481 29th Ave, San Francisco, CA 94116, 249 Mississippi St, San Francisco, CA 94107-2528, 2491 40th Ave, San Francisco, CA 94116-2116, 2494 29th Ave, San Francisco, CA 94116-2208, 25 Bessie St, San Francisco, CA 94110, 25 Chaves Ave, San Francisco, CA 94127, 25 Elsie St, San Francisco, CA 94110, 25 Gorham St, San Francisco, CA 94112-1454, 25 Italy Ave, San Francisco, CA 94112, 25 Madrid St, San Francisco, CA 94112, 25 Margaret Ave, San Francisco, CA 94112, 25 Rico Way, San Francisco, CA 94123, 25 Scotia Ave, San Francisco, CA 94124, 250 Cervantes Blvd, San Francisco, CA 94123, 250 De Long St, San Francisco, CA 94112, 250 Farallones St, San Francisco, CA 94112, 250 Romain, San Francisco, CA 94131, 2501 30th Ave, San Francisco, CA 94116, 2504 Bush St, San Francisco, CA 94115, 2507-002 45th Ave, San Francisco, CA 94116, 251 15th Ave, San Francisco, CA 94118, 251 32nd Ave, San Francisco, CA 94118, 251 De Long St, San Francisco, CA 94112, 251 Foerster St, San Francisco, CA 94112, 251 Ramsell St, San Francisco, CA 94132, 251 Summit Way, San Francisco, CA 94132, 251 Waller St, San Francisco, CA 94102, 2510 21st Ave, San Francisco, CA 94116, 2512 23rd Ave, San Francisco, CA 94116, 2512 Broadway St, San Francisco, CA 94115, 2514 Balboa St, San Francisco, CA 94121-2909, 2516 24th Ave, San Francisco, CA 94116-3036, 2518 42nd Ave, San Francisco, CA 94116, 2519 47th Ave, San Francisco, CA 94116, 252 Holyoke, San Francisco, CA 94134, 252 Montana, San Francisco, CA 94112-2953, 252 Richland Ave, San Francisco, CA 94110, 252 Rolph St, San Francisco, CA 94112, 2523 Harrison St, San Francisco, CA 94110, 2523 Steiner, San Francisco, CA 94115, 2525 Webster St, San Francisco, CA 94115-1330, 2527 42nd Ave, San Francisco, CA 94116, 253 21st Ave, San Francisco, CA 94121, 253 Gold Mine Dr, San Francisco, CA 94131, 253 Summit Way, San Francisco, CA 94132, 2531 29th Ave, San Francisco, CA 94116, 2533 Folsom St, San Francisco, CA 94110-0, 2534 31st Ave, San Francisco, CA 94116-2934, 2534 42nd Ave, San Francisco, CA 94116, 2535 Green St, San Francisco, CA 94123-4628, 2535 Laguna St, San Francisco, CA 94115-1543, 2537 Greenwich St, San Francisco, CA 94123-3415, 2539 16th Ave, San Francisco, CA 94116, 254 Hahn St, San Francisco, CA 94134-3020, 254 Hale St, San Francisco, CA 94134-1216, 254 Minerva St, San Francisco, CA 94112, 254 Pope, San Francisco, CA 94112, 254 Thrift St, San Francisco, CA 94112-2923, 254 Winding Way, San Francisco, CA 94112, 2546 44th Ave, San Francisco, CA 94116-2633, 2546-2546 30th Ave, San Francisco, CA 94116, 2547 32nd Ave, San Francisco, CA 94116-2953, 2547 Diamond St, San Francisco, CA 94131, 255 Arch St, San Francisco, CA 94132, 255 Corona St, San Francisco, CA 94127, 255 Crestmont Dr, San Francisco, CA 94131, 255 Howth St, San Francisco, CA 94112-2415, 255 Ralston St, San Francisco, CA 94132, 255 Sea Cliff, San Francisco, CA 94121, 255 Westgate Dr, San Francisco, CA 94127, 2550 35th Ave, San Francisco, CA 94116, 2550 45th Ave, San Francisco, CA 94116, 2551 20th Ave, San Francisco, CA 94116, 2551 27th Ave, San Francisco, CA 94116-2909, 2551 37th Ave, San Francisco, CA 94116-2851, 2554 14th Ave, San Francisco, CA 94127, 2558 San Jose Ave, San Francisco, CA 94112-3120, 2559 31st Ave, San Francisco, CA 94116-2935, 256 Casitas Ave, San Francisco, CA 94127-1604, 256 Grand View Ave, San Francisco, CA 94114, 256 Lowell St, San Francisco, CA 94112, 2562 36th Ave, San Francisco, CA 94116-2818, 2563 16th Ave, San Francisco, CA 94116, 2563 26th Ave, San Francisco, CA 94116-2906, 2566 Pine St, San Francisco, CA 94115, 2567 31st Ave, San Francisco, CA 94116, 2569 Greenwich St, San Francisco, CA 94123, 257 29th St, San Francisco, CA 94131-2406, 257 Bradford St, San Francisco, CA 94110, 257 Mangels, San Francisco, CA 94131-2817, 257 Roosevelt Way, San Francisco, CA 94114-1431, 2570 21st Ave, San Francisco, CA 94116, 2571 22nd Ave, San Francisco, CA 94116-3029, 2571 39th Ave, San Francisco, CA 94116-2752, 2574 42nd Ave, San Francisco, CA 94116, 2575 20th Ave, San Francisco, CA 94116-3011, 2578 15th Ave, San Francisco, CA 94127, 2578 23rd Ave, San Francisco, CA 94116, 2578 32nd Ave, San Francisco, CA 94116, 258 Victoria St, San Francisco, CA 94132, 2582 46th Ave, San Francisco, CA 94116-2601, 2583 45th Ave, San Francisco, CA 94116, 2584 San Jose Ave, San Francisco, CA 94112, 2586 28th Ave, San Francisco, CA 94116, 2587 28th Ave, San Francisco, CA 94116-2911, 259 Chester Ave, San Francisco, CA 94132, 259 Dublin St, San Francisco, CA 94112, 259 Seneca Ave, San Francisco, CA 94112, 259 Tocoloma Ave, San Francisco, CA 94134, 2591 39th Ave, San Francisco, CA 94116, 2591 47th Ave, San Francisco, CA 94116-2606, 2596 Chestnut, San Francisco, CA 94123, 2598 27th Ave, San Francisco, CA 94116-2908, 26 Buena Vista Ter, San Francisco, CA 94117, 26 Camellia Ave, San Francisco, CA 94112, 26 Genebern Way, San Francisco, CA 94112, 26 Holloway Ave, San Francisco, CA 94112-2338, 26 Mizpah St, San Francisco, CA 94131, 26 Parnassus Ave, San Francisco, CA 94117, 26 Seville St, San Francisco, CA 94112, 26 Sparta St, San Francisco, CA 94134, 26 Tingley, San Francisco, CA 94112, 26 Valley St, San Francisco, CA 94110, 260 Charter Oak Ave, San Francisco, CA 94124, 260 Day St, San Francisco, CA 94131-2417, 260 Girard St, San Francisco, CA 94134, 260 Gold Mine Dr, San Francisco, CA 94131, 260 Los Palmos Dr, San Francisco, CA 94127-2314, 260 Montana St, San Francisco, CA 94112, 260 Ney St, San Francisco, CA 94112, 260 San Fernando Way, San Francisco, CA 94127, 260 Wawona St, San Francisco, CA 94127, 2600 47th Ave, San Francisco, CA 94116, 2600 47th St, San Francisco, CA 94116, 2601 Lawton St, San Francisco, CA 94122, 2601 Lyon St, San Francisco, CA 94123-3805, 2601 Moraga St, San Francisco, CA 94122-4118, 2605 19th St, San Francisco, CA 94110, 2605 Diamond St, San Francisco, CA 94131, 2605 Post St, San Francisco, CA 94115-3314, 2607 34th Ave, San Francisco, CA 94116-2805, 261 Lowell St, San Francisco, CA 94112, 261 Montana St, San Francisco, CA 94112, 261 Morningside Dr, San Francisco, CA 94132-1240, 261 Roosevelt Way, San Francisco, CA 94114, 2611 18th Ave, San Francisco, CA 94116-3008, 2611 Divisadero St, San Francisco, CA 94123, 2614 Diamond St, San Francisco, CA 94131, 2615 California St, San Francisco, CA 94115-2617, 2615 Larkin St, San Francisco, CA 94109, 2618 19th Ave, San Francisco, CA 94116, 2619 15th Ave, San Francisco, CA 94127, 2619 22nd Ave, San Francisco, CA 94116, 262 Madison St, San Francisco, CA 94134, 262 Roosevelt, San Francisco, CA 94114, 2620 20th St, San Francisco, CA 94110-2822, 2621 Alemany Blvd, San Francisco, CA 94112-4101, 2622 Jackson St, San Francisco, CA 94115, 2623 44th Ave, San Francisco, CA 94116, 2626 21st Ave, San Francisco, CA 94116-3015, 2626 22nd Ave, San Francisco, CA 94116, 2626 Quintara St, San Francisco, CA 94116, 2628 15th Ave, San Francisco, CA 94127, 263 Castro St, San Francisco, CA 94114-1527, 263 Madrid St, San Francisco, CA 94112, 2631 47th Ave, San Francisco, CA 94116, 2632 Cabrillo St, San Francisco, CA 94121, 2634 17th Ave, San Francisco, CA 94116-3003, 2634 23rd Ave, San Francisco, CA 94116, 2634 44th Ave, San Francisco, CA 94116, 2634 San Jose Ave, San Francisco, CA 94112, 2635 Broadway, San Francisco, CA 94115, 264 Grand View Ave, San Francisco, CA 94114, 264 Orizaba Ave, San Francisco, CA 94132, 264 Precita Ave, San Francisco, CA 94110, 2643 45th Ave, San Francisco, CA 94116, 2646 Broderick St, San Francisco, CA 94123, 2647 23rd Ave, San Francisco, CA 94116, 2647 38th Ave, San Francisco, CA 94116, 265 Avila, San Francisco, CA 94123, 265 Castenada, San Francisco, CA 94116, 265 Moncada Way, San Francisco, CA 94127-2705, 265 San Leandro Way, San Francisco, CA 94127, 265 Santa Paula, San Francisco, CA 94127, 265 Valdez Ave, San Francisco, CA 94127, 2651 Bryant St, San Francisco, CA 94110, 2651 Green St, San Francisco, CA 94123, 2655 39th, San Francisco, CA 94116, 2658 44th Ave, San Francisco, CA 94116, 2659 39th Ave, San Francisco, CA 94116-2754, 266 32nd Ave, San Francisco, CA 94121, 266 Cresta Vista, San Francisco, CA 94127, 266 Jules Ave, San Francisco, CA 94112, 266 Nevada St, San Francisco, CA 94110, 2661 Clay St, San Francisco, CA 94115, 2662 40th Ave, San Francisco, CA 94116, 2666 31st, San Francisco, CA 94116, 2666 38th Ave, San Francisco, CA 94116-2856, 2667 44th Ave, San Francisco, CA 94116-2636, 267 Bonview St, San Francisco, CA 94110, 267 Oxford St, San Francisco, CA 94134, 2670 40th Ave, San Francisco, CA 94116, 2675 34th Ave, San Francisco, CA 94116, 2676 Great Highway, San Francisco, CA 94116, 2678 40th Ave, San Francisco, CA 94116-2705, 268 Avila St, San Francisco, CA 94123-1509, 268 Desmond St, San Francisco, CA 94134-2910, 268 Rutledge St, San Francisco, CA 94110, 2680 Great Highway, San Francisco, CA 94116, 2682 45th Ave, San Francisco, CA 94116, 2683 37th Ave, San Francisco, CA 94116, 2686 35th Ave, San Francisco, CA 94116-2812, 2686 40th Ave, San Francisco, CA 94116, 269 Hale St, San Francisco, CA 94134, 2691 24th Ave, San Francisco, CA 94116, 2694 18th Ave, San Francisco, CA 94116, 2699 Filbert, San Francisco, CA 94123, 27 Benton Ave, San Francisco, CA 94112-1103, 27 Buena Vista Ter, San Francisco, CA 94117, 27 Christopher Dr, San Francisco, CA 94131, 27 Coventry Ct, San Francisco, CA 94127, 27 Day St, San Francisco, CA 94110-4904, 27 Jules Ave, San Francisco, CA 94112, 27 Malta Dr, San Francisco, CA 94131, 27 Nebraska St, San Francisco, CA 94110, 27 Presidio Ter, San Francisco, CA 94118, 27 Rico Way, San Francisco, CA 94123-1218, 27 Victoria St, San Francisco, CA 94132, 27-29 Fountain St, San Francisco, CA 94114, 270 Byxbee St, San Francisco, CA 94132, 270 San Anselmo Ave, San Francisco, CA 94127-2049, 2700 Pierce St, San Francisco, CA 94123-4633, 2700 Ulloa, San Francisco, CA 94116, 2701 Taraval St, San Francisco, CA 94116, 2707 Laguna St, San Francisco, CA 94123, 271 Bright St, San Francisco, CA 94132-3127, 271 Lowell St, San Francisco, CA 94112, 271 Prospect Ave, San Francisco, CA 94110, 271 Prospect, San Francisco, CA 94110, 2717 Baker St, San Francisco, CA 94123, 2719 Filbert, San Francisco, CA 94123, 272 Granada, San Francisco, CA 94112, 272 Stratford Dr, San Francisco, CA 94132, 2720 36th Ave, San Francisco, CA 94116, 2723 Rivera St, San Francisco, CA 94116, 2724 21st St, San Francisco, CA 94110-2832, 2724 Ortega St, San Francisco, CA 94122-4139, 2725 Jackson St, San Francisco, CA 94115, 2727 40th Ave, San Francisco, CA 94116, 2727 Union, San Francisco, CA 94124, 2727 Vallejo St, San Francisco, CA 94123, 2728 Kirkham St, San Francisco, CA 94122-3151, 2728 Ulloa St, San Francisco, CA 94116, 2733 15th Ave, San Francisco, CA 94127, 2733 15th Ave, San Francisco, CA 94127-1433, 2736 44th Ave, San Francisco, CA 94116, 274 Baltimore Way, San Francisco, CA 94112, 2741 15th Ave, San Francisco, CA 94127, 275 14th Ave, San Francisco, CA 94118-1007, 275 London St, San Francisco, CA 94112, 275 Shipley St, San Francisco, CA 94107, 275 South Hill Blvd, San Francisco, CA 94112, 2755 34th Ave, San Francisco, CA 94116, 2755 McAllister St, San Francisco, CA 94118, 2755 Scott St, San Francisco, CA 94123, 2755 Scott St, San Francisco, CA 94123-4636, 2755 Sutter St, San Francisco, CA 94115, 276 Grand View Ave, San Francisco, CA 94114, 276 Santos St, San Francisco, CA 94134-3129, 2760 Broderick St, San Francisco, CA 94123-3804, 2764 Greenwich St, San Francisco, CA 94123-3222, 2765 Union St, San Francisco, CA 94123, 277 Granada Ave, San Francisco, CA 94112-2243, 2779 Diamond St, San Francisco, CA 94131, 278 Chenery St, San Francisco, CA 94131, 278 Munich St, San Francisco, CA 94112, 278 Wheeler Ave, San Francisco, CA 94134, 2780 42nd Ave, San Francisco, CA 94116, 279 Broad St, San Francisco, CA 94112, 2791 41st Ave, San Francisco, CA 94116, 2796 36th Ave, San Francisco, CA 94116-2820, 28 Britton St, San Francisco, CA 94134, 28 Harrington St, San Francisco, CA 94112, 28 Hartford St, San Francisco, CA 94114-2014, 28 Meda Ave, San Francisco, CA 94112-2528, 28 Precita Ave, San Francisco, CA 94110, 28 Prosper St, San Francisco, CA 94114, 28 Raleigh Ave, San Francisco, CA 94112, 28 Summit Way, San Francisco, CA 94132, 28 Waterville St, San Francisco, CA 94124, 280 32nd Ave, San Francisco, CA 94121, 280 Casitas Ave, San Francisco, CA 94127, 280 Surrey St, San Francisco, CA 94131-2966, 2807 Clay, San Francisco, CA 94115, 2808 Broadway, San Francisco, CA 94115, 2808 Fulton St, San Francisco, CA 94118, 2808 Market St, San Francisco, CA 94114-1925, 281 Avila, San Francisco, CA 94123, 281 Granada Ave, San Francisco, CA 94112-2243, 281 Richland Ave, San Francisco, CA 94110, 281 Santos St, San Francisco, CA 94134, 2812 36th Ave, San Francisco, CA 94116, 2813 Pine St, San Francisco, CA 94115-2511, 2815 Franklin St, San Francisco, CA 94123-3107, 2816 Laguna St, San Francisco, CA 94123-4209, 2822 Moraga St, San Francisco, CA 94122-4123, 2826 Ingalls St, San Francisco, CA 94124-3630, 2827 Noriega St, San Francisco, CA 94122, 2828 Green St, San Francisco, CA 94123, 283 Hahn St, San Francisco, CA 94134, 283 Prague, San Francisco, CA 94112, 283 Surrey, San Francisco, CA 94131, 2830 Buchanan St, San Francisco, CA 94123, 2833 Moraga St, San Francisco, CA 94122, 2838 Washington, San Francisco, CA 94115, 284 Avila St, San Francisco, CA 94123, 284 Grand View, San Francisco, CA 94114, 2840 Lake St, San Francisco, CA 94121, 2844 Fulton St, San Francisco, CA 94118, 2846 Baker St, San Francisco, CA 94123, 2846 Fillmore St, San Francisco, CA 94123-4705, 285 Ashton Ave, San Francisco, CA 94112-1744, 2850 Filbert St, San Francisco, CA 94123-3220, 2850 Fulton St, San Francisco, CA 94118, 2857 22nd St, San Francisco, CA 94110, 286 Jersey St, San Francisco, CA 94114, 286 Maywood Dr, San Francisco, CA 94127, 286 Ramsell St, San Francisco, CA 94112, 2860-2862 Greenwich St, San Francisco, CA 94123-3224, 2865 Vallejo St, San Francisco, CA 94123, 2865 Vallejo St, San Francisco, CA 94123-4616, 287 Summit Way, San Francisco, CA 94132, 2875 Golden Gate Ave, San Francisco, CA 94118-4110, 288 Chattanooga St, San Francisco, CA 94114, 289 Dellbrook Ave, San Francisco, CA 94131-1210, 289 San Marcos Ave, San Francisco, CA 94116-1946, 29 Teddy Ave, San Francisco, CA 94134-2345, 290 Circular Ave, San Francisco, CA 94131, 2900 Hawes St, San Francisco, CA 94124-3749, 2901 Pine St, San Francisco, CA 94115, 2906 Bush St, San Francisco, CA 94115-2929, 2907 Bush St, San Francisco, CA 94115, 291 Capistrano Ave, San Francisco, CA 94112, 291 Summit Way, San Francisco, CA 94132, 291 Topaz Way, San Francisco, CA 94131, 2911 Lake St, San Francisco, CA 94121, 2915 Hawes St, San Francisco, CA 94124, 2919 Pacheco St, San Francisco, CA 94116, 2920 Ingalls St, San Francisco, CA 94124-3640, 2921 Jackson St, San Francisco, CA 94115, 2929 23rd Ave, San Francisco, CA 94132, 2930 Rivera St, San Francisco, CA 94116, 2932 Ingalls St, San Francisco, CA 94124, 2935 Pacific Ave, San Francisco, CA 94115, 2940 Clement St, San Francisco, CA 94121, 2944 Webster St, San Francisco, CA 94123, 295 Byxbee St, San Francisco, CA 94132-2618, 295 Mangels Ave, San Francisco, CA 94131, 295 Summit Way, San Francisco, CA 94132, 2957 Cesar Chavez St, San Francisco, CA 94110, 2957 Divisadero, San Francisco, CA 94123-3822, 296 Cresta Vista Dr, San Francisco, CA 94127, 296 Guttenberg St, San Francisco, CA 94112, 2963 21st St, San Francisco, CA 94110, 2963 23rd Ave, San Francisco, CA 94132, 2967 Pine St, San Francisco, CA 94115, 297 Summit Way, San Francisco, CA 94132, 2971 21st St, San Francisco, CA 94110, 2971 23rd Ave, San Francisco, CA 93132, 2974 Pacific Ave, San Francisco, CA 94115, 2975 Lake St, San Francisco, CA 94121, 298 Dorantes Ave, San Francisco, CA 94116, 2980 Vallejo St, San Francisco, CA 94123, 2985 Lake St, San Francisco, CA 94121, 3 Balmy St, San Francisco, CA 94110, 3 Lincoln Ct, San Francisco, CA 94112, 3 Orizaba, San Francisco, CA 94112, 3 Summit St, San Francisco, CA 94112, 30 Caine, San Francisco, CA 94112, 30 Conrad St, San Francisco, CA 94131, 30 Constanso Way, San Francisco, CA 94132, 30 Elsie St, San Francisco, CA 94110, 30 Margaret Ave, San Francisco, CA 94112, 30 Miraloma Dr, San Francisco, CA 94127, 30 Otsego Ave, San Francisco, CA 94112, 30 Ralston St, San Francisco, CA 94132-3020, 30 Santa Ana Ave, San Francisco, CA 94127, 30 Santa Rita Ave, San Francisco, CA 94116-1464, 30 West View Ave, San Francisco, CA 94134, 30 Winter Pl, San Francisco, CA 94133, 300 Brentwood Ave, San Francisco, CA 94127, 300 Chester Ave, San Francisco, CA 94132, 300 Eucalyptus Dr, San Francisco, CA 94132, 300 Gennessee St, San Francisco, CA 94112-1347, 300 Harvard St, San Francisco, CA 94134-1346, 300 Molimo Dr, San Francisco, CA 94127, 3005 23rd Ave, San Francisco, CA 94132, 3016 22nd Ave, San Francisco, CA 94132, 302 Sawyer St, San Francisco, CA 94134, 3020 Pacific Ave, San Francisco, CA 94115, 3021 26th Ave, San Francisco, CA 94132, 3024 25th St, San Francisco, CA 94110, 3025 Wawona St, San Francisco, CA 94116, 303 30th St, San Francisco, CA 94131-2408, 3030 19th Ave, San Francisco, CA 94132-1627, 3037 Cesar Chavez, San Francisco, CA 94110, 3041 Baker St, San Francisco, CA 94123, 3044 20th Ave, San Francisco, CA 94132, 3045 22nd Ave, San Francisco, CA 94132, 305 Baltimore Way, San Francisco, CA 94112, 3055 22nd Ave, San Francisco, CA 94132-1524, 306 Caselli Ave, San Francisco, CA 94114, 307 15th Ave, San Francisco, CA 94118, 3070 Market St, San Francisco, CA 94114, 3071 Alemany Blvd, San Francisco, CA 94112, 3085 23rd Ave, San Francisco, CA 94132, 3089 San Jose Ave, San Francisco, CA 94112, 309 Surrey St, San Francisco, CA 94131, 3092 Market St, San Francisco, CA 94114, 31 21st Ave, San Francisco, CA 94121-1203, 31 Cayuga Ave, San Francisco, CA 94112-1413, 31 Ervine St, San Francisco, CA 94134, 31 Goettingen St, San Francisco, CA 94134-1246, 31 Miramar Ave, San Francisco, CA 94112, 31 Robblee Ave, San Francisco, CA 94124, 31 Romain, San Francisco, CA 94114-2733, 31 San Pablo Ave, San Francisco, CA 94127, 31 St Charles Ave, San Francisco, CA 94132, 31 Whittier St, San Francisco, CA 94112, 310 Cresta Vista Dr, San Francisco, CA 94127, 310 Montcalm St, San Francisco, CA 94110-5219, 310 Santa Clara Ave, San Francisco, CA 94127, 3100 Moraga St, San Francisco, CA 94122, 3106 Turk Blvd, San Francisco, CA 94118, 311 Athens St, San Francisco, CA 94112, 311 San Benito Way, San Francisco, CA 94127-2532, 3110 Buchanan, San Francisco, CA 94123, 312 Salinas Ave, San Francisco, CA 94124, 312 South Hill Blvd, San Francisco, CA 94112-4554, 312 Stratford Dr, San Francisco, CA 94132, 312 Texas St, San Francisco, CA 94107, 3124 Gough St, San Francisco, CA 94123, 3125 Quintara St, San Francisco, CA 94116, 3128 Wawona St, San Francisco, CA 94116, 313 Franconia, San Francisco, CA 94110, 313 Moscow St, San Francisco, CA 94112-2113, 313-323 Cumberland St, San Francisco, CA 94114-2515, 314 21st Ave, San Francisco, CA 94121, 314 Duncan St, San Francisco, CA 94131, 314 Felton St, San Francisco, CA 94134, 314-314 Wheeler Ave, San Francisco, CA 94134-2446, 3157 Jackson St, San Francisco, CA 94115, 316 Bocana St, San Francisco, CA 94110, 316 Rutledge St, San Francisco, CA 94110, 316 Walnut St, San Francisco, CA 94118, 3162 Turk Blvd, San Francisco, CA 94118, 3165 Folsom St, San Francisco, CA 94110, 317 Los Palmos, San Francisco, CA 94127, 317 Wawona, San Francisco, CA 94127, 318 22nd Ave, San Francisco, CA 94121, 318 Holladay Ave, San Francisco, CA 94110, 318 Louisburg St, San Francisco, CA 94112-3108, 318 Moraga St, San Francisco, CA 94122-4632, 318 Moscow St, San Francisco, CA 94112, 318 Naglee Ave, San Francisco, CA 94112-4142, 318 Paris St, San Francisco, CA 94112, 318 Vernon St, San Francisco, CA 94132, 319 Byxbee St, San Francisco, CA 94132, 319 Girard St, San Francisco, CA 94134, 319 Wilde Ave, San Francisco, CA 94134, 3196 Pacific Ave, San Francisco, CA 94115-1016, 32 Caselli Ave, San Francisco, CA 94114, 32 Church St, San Francisco, CA 94114, 32 Clifford Ter, San Francisco, CA 94117, 32 Edna St, San Francisco, CA 94112, 32 Laidley St, San Francisco, CA 94131, 32 Newburg St, San Francisco, CA 94131, 32 Niagara Ave, San Francisco, CA 94112, 32 Niagara, San Francisco, CA 94112, 32 Sequoia Way, San Francisco, CA 94127, 32 Summit Way, San Francisco, CA 94132, 320 Castenada Ave, San Francisco, CA 94116, 320 Hearst Ave, San Francisco, CA 94112, 320 Woodside Ave, San Francisco, CA 94127-1222, 3209 Jackson St, San Francisco, CA 94118, 321 Ellington Ave, San Francisco, CA 94112, 321 Wilde Ave, San Francisco, CA 94134, 3210 Jackson St, San Francisco, CA 94118-2017, 3212 Baker St, San Francisco, CA 94123, 322 Flood Ave, San Francisco, CA 94112, 322 Peninsula Ave, San Francisco, CA 94134, 3223 20th St, San Francisco, CA 94110, 3225 Moraga, San Francisco, CA 94122, 3227 Lawton St, San Francisco, CA 94122-3027, 323 Athens St, San Francisco, CA 94112-2117, 323 Foote Ave, San Francisco, CA 94112, 323 Madrid St, San Francisco, CA 94112, 323 Panorama Dr, San Francisco, CA 94131, 3232 Pacific Ave, San Francisco, CA 94118, 3235 Baker St, San Francisco, CA 94123, 324 Avalon Ave, San Francisco, CA 94112-2002, 324 Elliot St, San Francisco, CA 94134, 325 Capistrano Ave, San Francisco, CA 94112-2503, 325 Morse St, San Francisco, CA 94112-3716, 325 Seneca Ave, San Francisco, CA 94112-3220, 326 29th Ave, San Francisco, CA 94121, 326 Banks St, San Francisco, CA 94110-6132, 326 Ellington Ave, San Francisco, CA 94112, 326 Ney St, San Francisco, CA 94112-1647, 326 Prague St, San Francisco, CA 94112, 3261 Harrison St, San Francisco, CA 94110-5212, 327 Ellington Ave, San Francisco, CA 94112, 327 Park St, San Francisco, CA 94110, 327 Rome St, San Francisco, CA 94112, 327 Topeka Ave, San Francisco, CA 94124, 327 Victoria St, San Francisco, CA 94132, 3272 25th St, San Francisco, CA 94110, 329 Baltimore Way, San Francisco, CA 94112-4432, 329 Chicago Way, San Francisco, CA 94112, 329 Dellbrook, San Francisco, CA 94131, 329 Prague St, San Francisco, CA 94112, 33 Dashiell Hammett St, San Francisco, CA 94108-3113, 33 Deming Ave, San Francisco, CA 94114, 33 Gorham St, San Francisco, CA 94112-1454, 33 Joost Ave, San Francisco, CA 94131-3209, 33 Marcela Ave, San Francisco, CA 94116-1454, 33 Santa Monica Way, San Francisco, CA 94127, 330 Crestlake Dr, San Francisco, CA 94132, 330 Grafton Ave, San Francisco, CA 94112-2234, 330 Head, San Francisco, CA 94132, 330 Leland Ave, San Francisco, CA 94134-2737, 330 Locust St, San Francisco, CA 94118, 330 Louisburg St, San Francisco, CA 94112, 330 Paris St, San Francisco, CA 94112-2714, 330 Princeton St, San Francisco, CA 94134-1614, 330 Yerba Buena Ave, San Francisco, CA 94127, 331 Collingwood St, San Francisco, CA 94114, 331 Connecticut St, San Francisco, CA 94107-2815, 331 Vernon St, San Francisco, CA 94132, 3312 California St, San Francisco, CA 94118-1906, 3318 Quintara St, San Francisco, CA 94116, 3319 Clay St, San Francisco, CA 94118, 332 College Ave, San Francisco, CA 94134, 332 Ewing Ter, San Francisco, CA 94118, 332 Hill St, San Francisco, CA 94114, 332 Marietta Dr, San Francisco, CA 94127, 332 Virginia Ave, San Francisco, CA 94110, 332 Wilde Ave, San Francisco, CA 94134, 3320 Cabrillo St, San Francisco, CA 94121, 3324 Rivera St, San Francisco, CA 94116-1537, 333 El Camino Del Mar, San Francisco, CA 94121, 333 Laidley St, San Francisco, CA 94131, 333 Ralston St, San Francisco, CA 94132, 3332 Cabrillo St, San Francisco, CA 94121, 3332 Folsom, San Francisco, CA 94110, 3338 Wawona St, San Francisco, CA 94116, 334 Holladay, San Francisco, CA 94110, 334 Laidley St, San Francisco, CA 94131, 3343 Pierce, San Francisco, CA 94123, 335 Congo St, San Francisco, CA 94131, 335 Hanover St, San Francisco, CA 94112-4304, 3350 Cabrillo Ave, San Francisco, CA 94121, 3355 Pacific Ave, San Francisco, CA 94118, 336 Jules Ave, San Francisco, CA 94112, 336 Point Lobos Ave, San Francisco, CA 94121, 3368 Jackson St, San Francisco, CA 94118, 337 Bridgeview Dr, San Francisco, CA 94124, 337 Douglass St, San Francisco, CA 94114, 337 Warren Dr, San Francisco, CA 94131, 337-337 Lakeview Ave, San Francisco, CA 94112-9411, 338 27th Ave, San Francisco, CA 94121, 338 Garfield St, San Francisco, CA 94132, 338 Munich St, San Francisco, CA 94112, 338 Princeton St, San Francisco, CA 94134, 3383 Clay St, San Francisco, CA 94118, 3385 Jackson, San Francisco, CA 94118, 339 Woolsey St, San Francisco, CA 94134, 339-339 Orizaba Ave, San Francisco, CA 94132, 34 Clipper St, San Francisco, CA 94114, 34 Colby St, San Francisco, CA 94134, 34 Entrada Ct, San Francisco, CA 94127, 34 Hawkins Ln, San Francisco, CA 94124, 34 Rae Ave, San Francisco, CA 94112-4134, 34 Rhine St, San Francisco, CA 94112, 340 Brentwood, San Francisco, CA 94127, 340 Castenada Ave, San Francisco, CA 94116, 340 Molimo Dr, San Francisco, CA 94127-1620, 3420 Ortega St, San Francisco, CA 94122, 3425 Cabrillo St, San Francisco, CA 94121, 3426 Broderick St, San Francisco, CA 94123, 3426 Broderick, San Francisco, CA 94123, 3428 Rivera St, San Francisco, CA 94116, 343 Edinburgh St, San Francisco, CA 94112, 343 Tara St, San Francisco, CA 94112, 343-345 Liberty St, San Francisco, CA 94114-2920, 3434 Rivera St, San Francisco, CA 94116, 3438 Taraval, San Francisco, CA 94116, 344 3rd Ave, San Francisco, CA 94118, 3445 Moraga St, San Francisco, CA 94122, 3445 Ocean Ave, San Francisco, CA 94132, 345 Day St, San Francisco, CA 94131, 345 Miramar Ave, San Francisco, CA 94112, 345 Richland Ave, San Francisco, CA 94110, 345 Santiago St, San Francisco, CA 94116, 3455 Keith St, San Francisco, CA 94124, 3456 Baker St, San Francisco, CA 94123-1418, 346 Woolsey St, San Francisco, CA 94134, 3460 Clay, San Francisco, CA 94118, 347 Clipper St, San Francisco, CA 94114-3708, 347 Prague St, San Francisco, CA 94112, 347 Prague St, San Francisco, CA 94112-2851, 348 5th Ave, San Francisco, CA 94118, 35 Apollo St, San Francisco, CA 94124, 35 Belgrave Ave, San Francisco, CA 94117, 35 Colby St, San Francisco, CA 94134, 35 Lobos St, San Francisco, CA 94112, 35 Lopez Ave, San Francisco, CA 94116, 35 Montecito Ave, San Francisco, CA 94112, 35 Rockwood Ct, San Francisco, CA 94127, 35 San Fernando Way, San Francisco, CA 94127-1503, 35 Santa Cruz Ave, San Francisco, CA 94112, 35 Sussex St, San Francisco, CA 94131-3011, 35 Tucker Ave, San Francisco, CA 94134, 35 Victoria St, San Francisco, CA 94132, 350 Bradford St, San Francisco, CA 94110, 350 Brentwood Ave, San Francisco, CA 94127, 350 Christopher Dr, San Francisco, CA 94131, 350 Liberty St, San Francisco, CA 94114, 350 Madrid St, San Francisco, CA 94112-2021, 350 Roosevelt Way, San Francisco, CA 94114, 350 Tara St, San Francisco, CA 94112, 350 Willard North, San Francisco, CA 94118-4168, 3500 Noriega St, San Francisco, CA 94122, 3501 Moraga St, San Francisco, CA 94122, 351 Byxbee St, San Francisco, CA 94132, 351 El Camino Del Mar, San Francisco, CA 94121-1130, 351 Madison St, San Francisco, CA 94134, 351 Mount Vernon Ave, San Francisco, CA 94116, 351 San Leandro Way, San Francisco, CA 94127-1917, 351 Vernon St, San Francisco, CA 94132, 352 Cumberland St, San Francisco, CA 94114-2516, 352 Lake St, San Francisco, CA 94118, 3520 Fulton St, San Francisco, CA 94118, 3521 Alemany, San Francisco, CA 94132, 3524 Judah St, San Francisco, CA 94122-1235, 3525 Clay St, San Francisco, CA 94118-1838, 3525 Ortega St, San Francisco, CA 94122, 3526 Fulton St, San Francisco, CA 94118, 353 31st Ave, San Francisco, CA 94121, 353 Park St, San Francisco, CA 94110, 3530 Lawton St, San Francisco, CA 94122, 3537 21st, San Francisco, CA 94114-3026, 354 Banks St, San Francisco, CA 94110, 354 Cresta Vista Dr, San Francisco, CA 94127, 354 Maynard St, San Francisco, CA 94112, 355 Coleridge St, San Francisco, CA 94110-5442, 355 Ralston St, San Francisco, CA 94132-2637, 355 Winding Way, San Francisco, CA 94112, 356 17th Ave, San Francisco, CA 94118, 356 Holyoke St, San Francisco, CA 94134, 356 London St, San Francisco, CA 94112, 356 Louisburg St, San Francisco, CA 94112, 3566 19th St, San Francisco, CA 94110-1665, 357 Cumberland St, San Francisco, CA 94114, 357 Monticello St, San Francisco, CA 94132, 3575 Mission St, San Francisco, CA 94110, 358 Judson Ave, San Francisco, CA 94112, 36 Commonwealth Ave, San Francisco, CA 94118, 36 Flora St, San Francisco, CA 94124, 36 Laidley St, San Francisco, CA 94131, 36 Lobos St, San Francisco, CA 94112, 36 Mirabel Ave, San Francisco, CA 94110-4615, 360 Nevada St, San Francisco, CA 94110, 361 Maynard St, San Francisco, CA 94112, 3610 Washington St, San Francisco, CA 94118, 3615 Moraga St, San Francisco, CA 94122, 3616 21st St, San Francisco, CA 94114, 3621 22nd St, San Francisco, CA 94114, 3622 Baker St, San Francisco, CA 94123, 3627 Divisadero St, San Francisco, CA 94123, 363 21st Ave, San Francisco, CA 94121, 363 Allison St, San Francisco, CA 94112-4312, 363 Marina Blvd, San Francisco, CA 94123, 3636 Ortega St, San Francisco, CA 94122-4034, 364-366 3rd Ave, San Francisco, CA 94118-2403, 3643 20th St, San Francisco, CA 94110, 3643 Folsom St, San Francisco, CA 94110-5651, 365 Hill St, San Francisco, CA 94114-2916, 3651 21st St, San Francisco, CA 94114, 3655 Noriega St, San Francisco, CA 94122, 3658 Folsom St, San Francisco, CA 94110-5652, 366 Hill St, San Francisco, CA 94114-2917, 366 Leland Ave, San Francisco, CA 94134, 366 Liberty St, San Francisco, CA 94114, 366 Monticello, San Francisco, CA 94132, 366 Nevada St, San Francisco, CA 94110, 3661 Folsom St, San Francisco, CA 94110-5651, 3666 Folsom St, San Francisco, CA 94110-5652, 367 Head St, San Francisco, CA 94132, 368 Benton Ave, San Francisco, CA 94110, 368 Lily St, San Francisco, CA 94102-5608, 368 Vallejo St, San Francisco, CA 94133, 369 Baltimore Way, San Francisco, CA 94112, 369 Ralston St, San Francisco, CA 94132, 37 Ashton Ave, San Francisco, CA 94112-2205, 37 Carrizal St, San Francisco, CA 94134, 37 Cayuga Ave, San Francisco, CA 94112, 37 Elk, San Francisco, CA 94131, 37 Presidio Ave, San Francisco, CA 94115, 37 Presidio Ave, San Francisco, CA 94115-1017, 37 Rebecca Ln, San Francisco, CA 94124, 37 Rivoli St, San Francisco, CA 94117-4306, 37 St Germain Ave, San Francisco, CA 94114-2129, 37 Venus St, San Francisco, CA 94124-2242, 37 Winfield St, San Francisco, CA 94110, 370 11th Ave, San Francisco, CA 94118, 370 Bright St, San Francisco, CA 94132, 370 Colon Ave, San Francisco, CA 94127, 370 Mangels Ave, San Francisco, CA 94127, 370 Teddy Ave, San Francisco, CA 94134, 3704 Folsom St, San Francisco, CA 94110-5654, 371 Delano, San Francisco, CA 94112-2525, 371 Douglass St, San Francisco, CA 94114, 371 Prentiss St, San Francisco, CA 94110-6140, 371 Prospect Ave, San Francisco, CA 94110, 371 Vienna St, San Francisco, CA 94112-2129, 3712 Jackson St, San Francisco, CA 94118-1609, 3718 Folsom St, San Francisco, CA 94110, 372 Chenery St, San Francisco, CA 94131-3068, 372 Country Club, San Francisco, CA 94132-1110, 372 Laidley St, San Francisco, CA 94131, 372 Marietta Dr, San Francisco, CA 9417, 372 Sawyer St, San Francisco, CA 94134-2717, 372 Wilde Ave, San Francisco, CA 94134-2252, 3720 Rivera St, San Francisco, CA 94116-1558, 3725-3727 23rd St, San Francisco, CA 94110, 373 6th Ave, San Francisco, CA 94118, 373 Clipper St, San Francisco, CA 94114, 373 Winding Way, San Francisco, CA 94112-4451, 3731 Jackson St, San Francisco, CA 94118, 3733 San Bruno Ave, San Francisco, CA 94134, 374 Ewing Ter, San Francisco, CA 94118, 374 Staples Ave, San Francisco, CA 94112, 374 Vernon St, San Francisco, CA 94132, 3741 26th St, San Francisco, CA 94110, 3747 Jackson St, San Francisco, CA 94118, 375 Oxford St, San Francisco, CA 94134, 375 Victoria St, San Francisco, CA 94132, 375-375 Vernon St, San Francisco, CA 94131, 3751 21st St, San Francisco, CA 94114-77, 376 Eureka St, San Francisco, CA 94114, 3764 Folsom St, San Francisco, CA 94110, 3765 21st St, San Francisco, CA 94114, 377 Capitol Ave, San Francisco, CA 94112, 377 Franconia St, San Francisco, CA 94110, 3774 23rd St, San Francisco, CA 94114, 3775 16th St, San Francisco, CA 94114, 378 Allison, San Francisco, CA 94112, 378 Highland Ave, San Francisco, CA 94110, 378 Park St, San Francisco, CA 94110, 379 Highland Ave, San Francisco, CA 94110-5845, 3790 Fillmore St, San Francisco, CA 94123-1258, 38 Allston Way, San Francisco, CA 94127, 38 Arco, San Francisco, CA 94112-2403, 38 Laura St, San Francisco, CA 94112-4010, 38 Sadowa St, San Francisco, CA 94112, 380 Valdez Ave, San Francisco, CA 94127, 3810 Washington St, San Francisco, CA 94118, 382 Gaven St, San Francisco, CA 94134, 3820 Noriega St, San Francisco, CA 94122, 3835 Ulloa St, San Francisco, CA 94116, 384 Bradford St, San Francisco, CA 94110-6203, 3845 Washington St, San Francisco, CA 94118, 385 Castenada Ave, San Francisco, CA 94116, 385 Santa Clara Ave, San Francisco, CA 94127, 385 Winding Way, San Francisco, CA 94112-4451, 3856 21st St, San Francisco, CA 94114, 3859 21st St, San Francisco, CA 94114-2802, 386 Hill St, San Francisco, CA 94114, 387 Los Palmos Dr, San Francisco, CA 94127, 387 Munich St, San Francisco, CA 94112-2809, 387 Pacheco St, San Francisco, CA 94116, 3880 Clay St, San Francisco, CA 94118, 3882 25th St, San Francisco, CA 94110, 3887 18th St, San Francisco, CA 94114, 389 27th St, San Francisco, CA 94131, 389 Dellbrook Ave, San Francisco, CA 94131-1201, 39 Bronte St, San Francisco, CA 94110-6204, 39 Fairfield Way, San Francisco, CA 94127, 39 Fernwood Dr, San Francisco, CA 94127-2003, 39 Homestead St, San Francisco, CA 94114, 39 Midcrest Way, San Francisco, CA 94131, 39 Mill St, San Francisco, CA 94134-2153, 39 Rossmoor Dr, San Francisco, CA 94132, 39 Samoset, San Francisco, CA 94110, 39 Santa Marina St, San Francisco, CA 94110, 39 West View Ave, San Francisco, CA 94134, 390 Chenery St, San Francisco, CA 94131, 3905 Folsom St, San Francisco, CA 94110, 3927 Moraga St, San Francisco, CA 94122, 3929 18th St, San Francisco, CA 94114, 393 Marina Blvd, San Francisco, CA 94123, 393 Melrose Ave, San Francisco, CA 94127, 393 Oxford St, San Francisco, CA 94134, 393 Teddy Ave, San Francisco, CA 94134, 394 Joost Ave, San Francisco, CA 94131-3129, 3945 Lincoln Way, San Francisco, CA 94122-1228, 3946 Cesar Chavez St, San Francisco, CA 94131-2004, 3947 Irving St, San Francisco, CA 94122, 3952 19th St, San Francisco, CA 94114, 3955 Cesar Chavez, San Francisco, CA 94131, 3956 20th St, San Francisco, CA 94114-2709, 3957 22nd St, San Francisco, CA 94114, 3958 Cesar Chavez St, San Francisco, CA 94131, 3962 Clay St, San Francisco, CA 94118, 3970 Clay St, San Francisco, CA 94118, 3970 San Bruno Ave, San Francisco, CA 94134, 3974 20th St, San Francisco, CA 94114-2907, 3975 20th St, San Francisco, CA 94114, 398 Vienna St, San Francisco, CA 94112-2130, 399 Athens St, San Francisco, CA 94112-2117, 399 Ellington Ave, San Francisco, CA 94112-4106, 3990 San Bruno Ave, San Francisco, CA 94134, 3991 20th St, San Francisco, CA 94114, 4 Brumiss Ter, San Francisco, CA 94014, 4 Minerva St, San Francisco, CA 94112, 4 Ord Ct, San Francisco, CA 94114, 40 22nd Ave, San Francisco, CA 94121, 40 27th Ave, San Francisco, CA 94121, 40 Almaden Ct, San Francisco, CA 94118, 40 Borica St, San Francisco, CA 94127, 40 Brentwood Ave, San Francisco, CA 94127-2237, 40 Canyon Dr, San Francisco, CA 94112, 40 Cedro Ave, San Francisco, CA 94127-2702, 40 Cityview Way, San Francisco, CA 94131, 40 Costa St, San Francisco, CA 94110-0, 40 Day St, San Francisco, CA 94110, 40 De Soto St, San Francisco, CA 94127-2811, 40 Dorchester Way, San Francisco, CA 94127, 40 Exeter St, San Francisco, CA 94124-3117, 40 Farview Ct, San Francisco, CA 94131-1212, 40 Lapidge St, San Francisco, CA 94110, 40 Melba Ave, San Francisco, CA 94132, 40 Montclair Ter, San Francisco, CA 94133, 40 Nadell Ct, San Francisco, CA 94112-4359, 40 Seaview Ter, San Francisco, CA 94121, 40 Terrace Dr, San Francisco, CA 94127-1528, 400 Avalon Ave, San Francisco, CA 94112, 400 Fair Oaks St, San Francisco, CA 94110-3619, 400 Franconia, San Francisco, CA 94110, 400 Garfield St, San Francisco, CA 94132, 400-402 Hoffman Ave, San Francisco, CA 94114, 401 28th St, San Francisco, CA 94131, 401 Banks St, San Francisco, CA 94110, 401 Cambridge St, San Francisco, CA 94134-1325, 401 Justin Dr, San Francisco, CA 94112, 4019 Mission St, San Francisco, CA 94112, 4025 Moraga St, San Francisco, CA 94122-3927, 4027 Clement St, San Francisco, CA 94121, 403 28th St, San Francisco, CA 94131-2217, 403 44th Ave, San Francisco, CA 94121-1410, 4048 22nd St, San Francisco, CA 94114, 4054 20th St, San Francisco, CA 94114, 4058 20th St, San Francisco, CA 94114, 406 Vicksburg St, San Francisco, CA 94114, 407 30th St, San Francisco, CA 94131, 407 Connecticut St, San Francisco, CA 94107, 408 Amherst St, San Francisco, CA 94134, 408 Franconia St, San Francisco, CA 94110, 408 Portola Dr, San Francisco, CA 94131, 4085 20th St, San Francisco, CA 94114, 409 Madrid St, San Francisco, CA 94112, 41 Martha Ave, San Francisco, CA 94131, 41 Rebecca Ln, San Francisco, CA 94124, 41 Saturn St, San Francisco, CA 94114-1420, 410 Hearst Ave, San Francisco, CA 94112, 410 Vienna St, San Francisco, CA 94112, 4106 20th St, San Francisco, CA 94114, 4110 20th St, San Francisco, CA 94114, 412 Anderson St, San Francisco, CA 94110, 412 Marietta Dr, San Francisco, CA 94127, 412 University St, San Francisco, CA 94134-1628, 4127 Ulloa St, San Francisco, CA 94116, 414 43rd Ave, San Francisco, CA 94121, 414 Douglass St, San Francisco, CA 94114-2726, 414 Head St, San Francisco, CA 94132, 4146 22nd St, San Francisco, CA 94114, 4148 23rd St, San Francisco, CA 94114, 415 Myra Way, San Francisco, CA 94127, 415 Raymond, San Francisco, CA 94134, 415 Urbano Dr, San Francisco, CA 94127-2862, 416 Hanover St, San Francisco, CA 94112, 417 Oak Park Dr, San Francisco, CA 94131-1027, 417 Precita Ave, San Francisco, CA 94110, 4179 23rd St, San Francisco, CA 94114, 418 Marietta Dr, San Francisco, CA 94127, 419 31st Ave, San Francisco, CA 94121, 419 43rd Ave, San Francisco, CA 94121-1515, 419 Lakeshore Dr, San Francisco, CA 94132, 42 Allston Way, San Francisco, CA 94127-1102, 42 Gilroy St, San Francisco, CA 94124-3719, 42 Gladstone Dr, San Francisco, CA 94112, 42 Mill, San Francisco, CA 94134, 42 Pearl St, San Francisco, CA 94103, 42 Vernon St, San Francisco, CA 94132, 420 Laidley St, San Francisco, CA 94131-3038, 420 Monticello St, San Francisco, CA 94127, 421 Dellbrook Ave, San Francisco, CA 94131, 421 Los Palmos Dr, San Francisco, CA 94127-2207, 421 Molimo Dr, San Francisco, CA 94127-1655, 421 Sunrise Way, San Francisco, CA 94134, 4219 Lawton St, San Francisco, CA 94122-2809, 422 21st Ave, San Francisco, CA 94121-3012, 422 41st Ave, San Francisco, CA 94121, 422 Bright St, San Francisco, CA 94132, 422 Jersey St, San Francisco, CA 94114, 422 Molimo Dr, San Francisco, CA 94127, 422 Peninsula Ave, San Francisco, CA 94134, 4221 Moraga St, San Francisco, CA 94122, 4226 26th St, San Francisco, CA 94131, 4226 Cabrillo St, San Francisco, CA 94121-3310, 4229 26th St, San Francisco, CA 94131, 423 Melrose Ave, San Francisco, CA 94127, 4230 Lawton St, San Francisco, CA 94122-2810, 4235 Folsom St, San Francisco, CA 94110, 424 Gennessee St, San Francisco, CA 94127, 424 Roosevelt Way, San Francisco, CA 94117, 4242 Lawton St, San Francisco, CA 94122, 425 6th Ave, San Francisco, CA 94118, 4255 Folsom St, San Francisco, CA 94110, 426 Arch St, San Francisco, CA 94132, 426 Delta St, San Francisco, CA 94134, 426 Head St, San Francisco, CA 94132-3133, 426 Monterey Blvd, San Francisco, CA 94127, 427 Huron, San Francisco, CA 94112, 4271 26th St, San Francisco, CA 94131, 4273 25th St, San Francisco, CA 94114-3618, 428 27th St, San Francisco, CA 94131, 428 38th Ave, San Francisco, CA 94121-1506, 428 Collingwood St, San Francisco, CA 94114-2813, 4288 Cesar Chavez, San Francisco, CA 94131, 429 Douglass St, San Francisco, CA 94114, 429 Liberty St, San Francisco, CA 94114, 4291 26th St, San Francisco, CA 94131, 43 Everson St, San Francisco, CA 94131, 43 Liebig St, San Francisco, CA 94112-3919, 43 Lobos St, San Francisco, CA 94112-3019, 43 Lucky St, San Francisco, CA 94110, 43 Minerva St, San Francisco, CA 94112, 43 Ruth St, San Francisco, CA 94112, 43 Toledo Way, San Francisco, CA 94123, 430 Bright St, San Francisco, CA 94132, 430 Monterey Blvd, San Francisco, CA 94127, 430 Victoria St, San Francisco, CA 94132, 431 Athens, San Francisco, CA 94112, 431 Castenada Ave, San Francisco, CA 94116-1910, 431 Joost Ave, San Francisco, CA 94127, 431 Peninsula Ave, San Francisco, CA 94134, 431 Staples Ave, San Francisco, CA 94112, 4315 21st St, San Francisco, CA 94114, 4317 24th St, San Francisco, CA 94114, 432 Capitol Ave, San Francisco, CA 94112-2935, 4327 Cabrillo, San Francisco, CA 94121, 433 Bowdoin St, San Francisco, CA 94134, 433 Liberty St, San Francisco, CA 94114, 4332 19th St, San Francisco, CA 94114, 4335 Cesar Chavez St, San Francisco, CA 94131, 4338 24th St, San Francisco, CA 94114, 434 Hanover St, San Francisco, CA 94112, 4341 Kirkham St, San Francisco, CA 94122, 4344 26th St, San Francisco, CA 94131-1810, 4345 25th St, San Francisco, CA 94114, 4348 21st St, San Francisco, CA 94118, 4348 23rd St, San Francisco, CA 94114-3112, 4349 25th St, San Francisco, CA 94114, 435 10th Ave, San Francisco, CA 94118, 435 Alvarado St, San Francisco, CA 94114-3304, 435 Laidley St, San Francisco, CA 94131, 435 Marina Blvd, San Francisco, CA 94123, 435 West Portal Ave, San Francisco, CA 94127-4127, 436 Country Club Dr, San Francisco, CA 94132, 436 Joost Ave, San Francisco, CA 94127, 4363 26th St, San Francisco, CA 94131, 4365 26th St, San Francisco, CA 94131, 4366 25th St, San Francisco, CA 94114, 4369 21st St, San Francisco, CA 94114-2742, 437 Amazon Ave, San Francisco, CA 94112, 437 Banks St, San Francisco, CA 94110, 437 Duncan, San Francisco, CA 94131, 437 Mississippi St, San Francisco, CA 94107-2633, 437 Urbano Dr, San Francisco, CA 94127, 4376 17th St, San Francisco, CA 94114, 4378 Cesar Chavez St, San Francisco, CA 94131, 438 Colon Ave, San Francisco, CA 94127-2108, 438 Monterey Blvd, San Francisco, CA 94127-2414, 438 Naples St, San Francisco, CA 94112, 4388 23rd St, San Francisco, CA 94114, 439 23rd Ave, San Francisco, CA 94121, 439 Bowdoin St, San Francisco, CA 94134-1153, 439 Frederick St, San Francisco, CA 94117, 44 Amethyst Way, San Francisco, CA 94131-1632, 44 Argonaut Ave, San Francisco, CA 94134-3233, 44 Arnold Ave, San Francisco, CA 94110, 44 Burr Ave, San Francisco, CA 94134, 44 Everson St, San Francisco, CA 94131, 44 Garrison Ave, San Francisco, CA 94134-3244, 44 Glover St, San Francisco, CA 94109, 44 Hartford St, San Francisco, CA 94114, 44 Molimo Dr, San Francisco, CA 94127, 44 Newton, San Francisco, CA 94112, 44 Powers Ave, San Francisco, CA 94110, 44 Regent St, San Francisco, CA 94112, 44 Vista Verde Ct, San Francisco, CA 94131, 4404 18th St, San Francisco, CA 94114, 442 18th Ave, San Francisco, CA 94121, 442 39th Ave, San Francisco, CA 94121-1508, 442 Anderson St, San Francisco, CA 94110, 442 Leland Ave, San Francisco, CA 94134, 442 Lyon, San Francisco, CA 94117, 4431 24th St, San Francisco, CA 94114, 4433 17th St, San Francisco, CA 94114, 444 London St, San Francisco, CA 94112, 4449 23rd St, San Francisco, CA 94114, 445 Anderson St, San Francisco, CA 94110, 445 Banks St, San Francisco, CA 94110, 446 Hanover St, San Francisco, CA 94112, 4469 23rd St, San Francisco, CA 94114, 447 Campbell Ave, San Francisco, CA 94134, 448 Gold Mine Dr, San Francisco, CA 94131, 4480 17th St, San Francisco, CA 94114, 449 Nevada, San Francisco, CA 94110, 45 Carrizal St, San Francisco, CA 94134-3101, 45 Howth St, San Francisco, CA 94112-2411, 45 McLaren Ave, San Francisco, CA 94121-1051, 45 Miraloma Dr, San Francisco, CA 94127, 45 Parker Ave, San Francisco, CA 94118, 45 San Andreas Way, San Francisco, CA 94127, 45 San Benito Way, San Francisco, CA 94127, 45 San Rafael Way, San Francisco, CA 94127, 45 Shore View Ave, San Francisco, CA 94121, 450 17th Ave, San Francisco, CA 94121-3105, 450 London St, San Francisco, CA 94112-2728, 451 Argonaut Ave, San Francisco, CA 94134-3235, 451 Crestmont Dr, San Francisco, CA 94131, 451 Naples St, San Francisco, CA 94112, 451 Victoria St, San Francisco, CA 94132, 451 Yerba Buena Ave, San Francisco, CA 94127-2127, 4515 Ulloa St, San Francisco, CA 94116, 4529 25th St, San Francisco, CA 94114, 4533 Ulloa St, San Francisco, CA 94116, 454 17th Ave, San Francisco, CA 94121, 454 Madrid St, San Francisco, CA 94112, 455 Bowdoin, San Francisco, CA 94134-1153, 4552 19th St, San Francisco, CA 94114, 4555 19th St, San Francisco, CA 94114, 456 Elizabeth St, San Francisco, CA 94114, 456 Gold Mine Dr, San Francisco, CA 94131, 456 Nevada St, San Francisco, CA 94110, 456 Princeton St, San Francisco, CA 94134, 457 Hill St, San Francisco, CA 94114, 457 Somerset St, San Francisco, CA 94134, 458 Hearst Ave, San Francisco, CA 94112, 459 Frederick St, San Francisco, CA 94117, 459 Magellan Ave, San Francisco, CA 94116, 459 Mangels, San Francisco, CA 94127, 459 Ralston St, San Francisco, CA 94132, 46 Apollo St, San Francisco, CA 94124-2227, 46 Caine Ave, San Francisco, CA 94112, 46 Carrizal St, San Francisco, CA 94134, 46 Conkling, San Francisco, CA 94124-1909, 46 Country Club Dr, San Francisco, CA 94132-1104, 46 Eagle St, San Francisco, CA 94114-2303, 46 Latona St, San Francisco, CA 94124, 46 Marston Ave, San Francisco, CA 94112, 46 Wabash, San Francisco, CA 94134, 46 West View Ave, San Francisco, CA 94134, 460 Dwight St, San Francisco, CA 94134, 460 West Portal Ave, San Francisco, CA 94122-9412, 461 Capistrano Ave, San Francisco, CA 94112, 461 Day St, San Francisco, CA 94131, 4616 Irving St, San Francisco, CA 94122, 462 Madrid St, San Francisco, CA 94112, 462 Orizaba Ave, San Francisco, CA 94132-2833, 462 Oxford St, San Francisco, CA 94134, 462 Sanchez St, San Francisco, CA 94114, 463 Goettingen St, San Francisco, CA 94134-1719, 463 Nevada St, San Francisco, CA 94110, 463 Paris St, San Francisco, CA 94112-2715, 465 Avila St, San Francisco, CA 94123, 466 11th Ave, San Francisco, CA 94118, 466 39th Ave, San Francisco, CA 94121-1508, 466 Sanchez St, San Francisco, CA 94114, 467 Campbell Ave, San Francisco, CA 94134, 4674 19th St, San Francisco, CA 94114, 468 Noe St, San Francisco, CA 94114, 468 Valley St, San Francisco, CA 94131, 469 27th St, San Francisco, CA 94131, 469 Noriega St, San Francisco, CA 94122-4611, 469 Valley St, San Francisco, CA 94131-2234, 47 Clarendon Ave, San Francisco, CA 94114, 47 Edinburgh St, San Francisco, CA 94112, 47 Gaviota Way, San Francisco, CA 94127, 47 Guttenberg St, San Francisco, CA 94112-4341, 47 Levant St, San Francisco, CA 94114, 47 Liebig St, San Francisco, CA 94112, 47 Rosewood Dr, San Francisco, CA 94127, 47 Topeka Ave, San Francisco, CA 94124-2016, 470 Vermont St, San Francisco, CA 94107, 4712 25th St, San Francisco, CA 94114, 473-475 Diamond St, San Francisco, CA 94114, 474 Princeton St, San Francisco, CA 94112, 475 Sunrise Way, San Francisco, CA 94134, 4751 25th St, San Francisco, CA 94114, 477 Duncan St, San Francisco, CA 94131, 478 28th Ave, San Francisco, CA 94121, 478 Athens St, San Francisco, CA 94112, 479 Ralston St, San Francisco, CA 94132, 479-81 Vienna St, San Francisco, CA 94112-2831, 48 Appleton Ave, San Francisco, CA 94110, 48 Cortland Ave, San Francisco, CA 94110-5410, 48 Fountain St, San Francisco, CA 94114, 48 Molimo Dr, San Francisco, CA 94127, 48 Pope St, San Francisco, CA 94112, 48 Turquoise Way, San Francisco, CA 94131, 480 Kansas St, San Francisco, CA 94107, 480 Melrose Ave, San Francisco, CA 94127-2218, 480 Orizaba Ave, San Francisco, CA 94132, 482 20th Ave, San Francisco, CA 94121, 483 Silver Ave, San Francisco, CA 94112, 484 Los Palmos Dr, San Francisco, CA 94127, 485 Arch St, San Francisco, CA 94132-2717, 485 Dellbrook Ave, San Francisco, CA 94131, 487 47th Ave, San Francisco, CA 94121, 488 Anderson St, San Francisco, CA 94110, 488 Day St, San Francisco, CA 94131, 488 Gold Mine Dr, San Francisco, CA 94131, 49 Bradford St, San Francisco, CA 94110-5701, 49 Cameo Way, San Francisco, CA 94131, 49 Hopkins Ave, San Francisco, CA 94131-1379, 490 Vermont St, San Francisco, CA 94107, 491 27th St, San Francisco, CA 94131-1916, 491 Gold Mine Dr, San Francisco, CA 94131-2527, 493 Sunrise Way, San Francisco, CA 94134, 495 44th Ave, San Francisco, CA 94121, 495 Ulloa St, San Francisco, CA 94127-1230, 496 Sea Cliff, San Francisco, CA 94121, 498 Corbett Ave, San Francisco, CA 94114, 5 Cook St, San Francisco, CA 94118, 5 Dolores Ter, San Francisco, CA 94110-1010, 5 Lobos St, San Francisco, CA 94112, 5 Orsi, San Francisco, CA 94124, 5 Sunview Dr, San Francisco, CA 94131-1618, 5 Vicksburg St, San Francisco, CA 94114, 50 Ankeny St, San Francisco, CA 94134, 50 Berkshire Way, San Francisco, CA 94132, 50 Carr St, San Francisco, CA 94124-3113, 50 Conrad, San Francisco, CA 94131-2925, 50 De Soto St, San Francisco, CA 94127, 50 Mount Vernon Ave, San Francisco, CA 94112-3664, 50 Oakwood St, San Francisco, CA 94110, 50 Palo Alto Ave, San Francisco, CA 94114-2121, 50 Seward St, San Francisco, CA 94114-2337, 50 Southwood Dr, San Francisco, CA 94112, 50 Sunview Dr, San Francisco, CA 94131, 50 Taraval St, San Francisco, CA 94116-1931, 50 Watt Ave, San Francisco, CA 94112, 500 Castenada Ave, San Francisco, CA 94116-1911, 500 Franconia St, San Francisco, CA 94110, 500 Head St, San Francisco, CA 94132, 500 Hearst Ave, San Francisco, CA 94112, 500 Quintara St, San Francisco, CA 94116-1326, 501 46th Ave, San Francisco, CA 94121-2422, 501 Darien Way, San Francisco, CA 94127-2522, 501 El Camino Del Mar, San Francisco, CA 94121-1041, 501 Valley St, San Francisco, CA 94131, 503 Anderson St, San Francisco, CA 94110, 503 Lakeview Ave, San Francisco, CA 94112, 505 Joost Ave, San Francisco, CA 94127-2407, 506 Banks St, San Francisco, CA 94110, 507 4th Ave, San Francisco, CA 94118, 51 Arbor St, San Francisco, CA 94131-2918, 51 Beaver St, San Francisco, CA 94114-154, 51 Hanover, San Francisco, CA 94112, 51 Kissling, San Francisco, CA 94103, 51 Lobos St, San Francisco, CA 94112, 51 Los Palmos Dr, San Francisco, CA 94127, 51 Mill St, San Francisco, CA 94134-2153, 51 Mirabel Ave, San Francisco, CA 94110, 51 Mirabel Ave, San Francisco, CA 94110-4614, 51 Ord St, San Francisco, CA 94114, 51 Reddy St, San Francisco, CA 94124, 51 Somerset St, San Francisco, CA 94134, 51 West View Ave, San Francisco, CA 94134, 510 Orizaba Ave, San Francisco, CA 94132, 5106 Anza St, San Francisco, CA 94121, 511 17th Ave, San Francisco, CA 94121, 511 17th Ave, San Francisco, CA 94121-3106, 511 9th Ave, San Francisco, CA 94118, 512 10th Ave, San Francisco, CA 94118-3638, 513 8th Ave, San Francisco, CA 94118, 518 Ellsworth St, San Francisco, CA 94110, 518 Sawyer St, San Francisco, CA 94134, 519 Anderson St, San Francisco, CA 94110-6004, 519 Baker St, San Francisco, CA 94117, 519 Garfield St, San Francisco, CA 94132, 519 Mangels Ave, San Francisco, CA 94127-2342, 52 Bayview St, San Francisco, CA 94124, 52 Bonview St, San Francisco, CA 94110-5105, 52 Broadmoor Dr, San Francisco, CA 94132, 52 Byxbee St, San Francisco, CA 94132, 52 Clipper St, San Francisco, CA 94114, 52 Gambier St, San Francisco, CA 94134, 52 Hanover, San Francisco, CA 94112, 52 Lobos St, San Francisco, CA 94112, 52 Maynard St, San Francisco, CA 94112, 52 Niagara Ave, San Francisco, CA 94112-3335, 52 Prague St, San Francisco, CA 94112, 52 Shawnee Ave, San Francisco, CA 94112, 520 Clipper St, San Francisco, CA 94114, 520 College Ave, San Francisco, CA 94112, 522 11th Ave, San Francisco, CA 94118, 522 43rd Ave, San Francisco, CA 94121, 522 Naples St, San Francisco, CA 94112, 523 Mangels Ave, San Francisco, CA 94127-2342, 524 Moraga St, San Francisco, CA 94122-4636, 525 Girard St, San Francisco, CA 94134, 525 Laurel St, San Francisco, CA 94118, 525 Peru Ave, San Francisco, CA 94112, 526 9th Ave, San Francisco, CA 94118-3717, 526 Funston, San Francisco, CA 94118, 527 15th Ave, San Francisco, CA 94118, 527 Wayland St, San Francisco, CA 94134-1740, 528 4th Ave, San Francisco, CA 94118, 528 Lisbon, San Francisco, CA 94112, 528 Melrose Ave, San Francisco, CA 94127, 528 Melrose Ave, San Francisco, CA 94127-2220, 528 Ortega St, San Francisco, CA 94122, 529 Brussels St, San Francisco, CA 94134, 53 Clarendon Ave, San Francisco, CA 94114, 53 Cragmont Ave, San Francisco, CA 94116-1306, 53 Edinburgh St, San Francisco, CA 94112, 53 Elsie St, San Francisco, CA 94110, 53 Martha Ave, San Francisco, CA 94131, 53 Stillings Ave, San Francisco, CA 94131, 53 Vernon St, San Francisco, CA 94132, 530 34th Ave, San Francisco, CA 94121, 530 35th Ave, San Francisco, CA 94121, 530 Anderson St, San Francisco, CA 94110-6005, 530 Day St, San Francisco, CA 94132, 530 Randolph St, San Francisco, CA 94132, 531 Brussels St, San Francisco, CA 94134-1713, 531 Rutland St, San Francisco, CA 94134, 533 Brussels St, San Francisco, CA 94134, 533 Corbett Ave, San Francisco, CA 94114, 533 Ellsworth St, San Francisco, CA 94110, 534 16th Ave, San Francisco, CA 94121-3509, 534 27th Ave, San Francisco, CA 94121, 534 Campbell Ave, San Francisco, CA 94134, 534 Connecticut St, San Francisco, CA 94107-2833, 534 Woolsey St, San Francisco, CA 94134, 535 15th Ave, San Francisco, CA 94118, 535 15th Ave, San Francisco, CA 94118-3530, 535 El Camino Del Mar, San Francisco, CA 94121, 535 Gates St, San Francisco, CA 94110, 535 Laurel St, San Francisco, CA 94118-2716, 535 Paris St, San Francisco, CA 94112, 535 Sawyer St, San Francisco, CA 94134-3222, 536 30th St, San Francisco, CA 94131, 536 Alvarado St, San Francisco, CA 94114, 536 Los Palmos Dr, San Francisco, CA 94127, 537 Congo St, San Francisco, CA 94131, 537 Laidley St, San Francisco, CA 94131, 538 33rd Ave, San Francisco, CA 94121--271, 538 Brunswick St, San Francisco, CA 94112, 538 Utah St, San Francisco, CA 94110, 54 Eastwood Dr, San Francisco, CA 94112, 54 Rae, San Francisco, CA 94112, 54 Uranus Ter, San Francisco, CA 94102, 540 Funston Ave, San Francisco, CA 94118, 540 Laidley St, San Francisco, CA 94131-3040, 540 Victoria, San Francisco, CA 94132, 541 Congo, San Francisco, CA 94131, 541 Mississippi St, San Francisco, CA 94107, 541 Rolph St, San Francisco, CA 94112, 541 Staples Ave, San Francisco, CA 94112, 542 Kirkham, San Francisco, CA 94122, 542 Mangels Ave, San Francisco, CA 94127, 543 Moultrie St, San Francisco, CA 94110, 544 Victoria St, San Francisco, CA 94132-2742, 545 Valley St, San Francisco, CA 94131, 546 44th Ave, San Francisco, CA 94121, 546 Mangels Ave, San Francisco, CA 94127-2343, 546 Myra Way, San Francisco, CA 94127, 547 Lakeview Ave, San Francisco, CA 94112, 547 Missouri St, San Francisco, CA 94107, 55 25th Ave, San Francisco, CA 94121, 55 Cerritos Ave, San Francisco, CA 94127, 55 Clairview Ct, San Francisco, CA 94131, 55 Exeter, San Francisco, CA 94124, 55 Hiliritas Ave, San Francisco, CA 94131-2612, 55 Montana, San Francisco, CA 94112, 55 Ord St, San Francisco, CA 94114-1414, 55 San Benito Way, San Francisco, CA 94127, 55 Woodland Ave, San Francisco, CA 94117, 550 Crestlake Dr, San Francisco, CA 94132, 550 Laidley St, San Francisco, CA 94131, 550 Shotwell St, San Francisco, CA 94110, 550 Victoria St, San Francisco, CA 94132, 5500 Anza St, San Francisco, CA 94121-2431, 551 Goettingen St, San Francisco, CA 94134, 551 Mangels Ave, San Francisco, CA 94127, 552-554 Capp St, San Francisco, CA 94110, 553 Wildwood Way, San Francisco, CA 94112, 554 45th Ave, San Francisco, CA 94121, 554 Madrid St, San Francisco, CA 94112, 554 Vienna St, San Francisco, CA 94112, 555 45th Ave, San Francisco, CA 94121, 555 Bright St, San Francisco, CA 94132, 555 El Camino Del Mar, San Francisco, CA 94121, 555 Laurel St, San Francisco, CA 94118, 555 Valley, San Francisco, CA 94131-2235, 556 Cordova St, San Francisco, CA 94112, 556 Leland Ave, San Francisco, CA 94134, 556 Peralta Ave, San Francisco, CA 94110, 556 Peralta Ave, San Francisco, CA 94110-5339, 559 Douglass St, San Francisco, CA 94114, 559 Silver, San Francisco, CA 94112, 559 Ulloa St, San Francisco, CA 94127, 56 Ellington Ave, San Francisco, CA 94112-3621, 56 Farview Ct, San Francisco, CA 94131-1212, 56 Gladstone, San Francisco, CA 94112-1633, 56 Grand View Ave, San Francisco, CA 94114, 56 Lopez Ave, San Francisco, CA 94116-1470, 56 Merced Ave, San Francisco, CA 94127, 56 Nantucket Ave, San Francisco, CA 94112, 56 Teddy Ave, San Francisco, CA 94134, 56 Ulloa St, San Francisco, CA 94127-1218, 56 Walter St, San Francisco, CA 94114, 560 Moultrie St, San Francisco, CA 94110, 562 40th Ave, San Francisco, CA 94121, 562 Arguello Blvd, San Francisco, CA 94118, 564 15th Ave, San Francisco, CA 94118, 564 Diamond, San Francisco, CA 94114, 565 Miramar Ave, San Francisco, CA 94112-1214, 565 Ortega St, San Francisco, CA 94122-4623, 566 46th Ave, San Francisco, CA 94121-2423, 567 Hearst Ave, San Francisco, CA 94112-1352, 567-567 London St, San Francisco, CA 94112, 568 Chenery St, San Francisco, CA 94131, 569 Staples Ave, San Francisco, CA 94112, 569 Victoria St, San Francisco, CA 94132, 57 Cragmont Ave, San Francisco, CA 94116, 57 Gladys St, San Francisco, CA 94110, 57 Yerba Buena Ave, San Francisco, CA 94127, 570 Chenery St, San Francisco, CA 94131, 571 42nd Ave, San Francisco, CA 94121, 573 Prentiss St, San Francisco, CA 94110-6127, 574 Dellbrook Ave, San Francisco, CA 94131, 574 Moscow St, San Francisco, CA 94112, 575 42nd Ave, San Francisco, CA 94121, 575 Crestlake Dr, San Francisco, CA 94132, 575 Diamond, San Francisco, CA 94114, 575 Magellan Ave, San Francisco, CA 94116, 575 Peralta Ave, San Francisco, CA 94110, 576 15th Ave, San Francisco, CA 94118-3531, 576 Clipper St, San Francisco, CA 94114, 576 Dewey Blvd, San Francisco, CA 94116, 576 Texas St, San Francisco, CA 94107, 578 7th Ave, San Francisco, CA 94118, 579 34th Ave, San Francisco, CA 94121, 579 47th Ave, San Francisco, CA 94121, 58 Bannock St, San Francisco, CA 94112, 58 Belle Ave, San Francisco, CA 94132, 58 Digby St, San Francisco, CA 94131-2634, 58 Gladys St, San Francisco, CA 94410-5428, 58 Havelock Ave, San Francisco, CA 94112, 58 Martha Ave, San Francisco, CA 94131-2835, 58 Naples St, San Francisco, CA 94112, 58 Pretor Way, San Francisco, CA 94112, 580 Hill St, San Francisco, CA 94114, 581 Waller St, San Francisco, CA 94117, 582 Corbett Ave, San Francisco, CA 94114-2220, 583 Clipper St, San Francisco, CA 94114, 583 Corbett Ave, San Francisco, CA 94114-2219, 584 Clipper St, San Francisco, CA 94114, 584 Dewey Blvd, San Francisco, CA 94116, 584 Funston St, San Francisco, CA 94118, 584 Teresita Blvd, San Francisco, CA 94127, 586 Lisbon, San Francisco, CA 94112, 587 15th Ave, San Francisco, CA 94118, 587 29th St, San Francisco, CA 94131, 587 39th Ave, San Francisco, CA 94121, 587 Naples St, San Francisco, CA 94112, 587 Thornton, San Francisco, CA 94112, 587 Waller St, San Francisco, CA 94117, 5875 Mission St, San Francisco, CA 94112, 589 45th Ave, San Francisco, CA 94121-2420, 59 Edinburgh St, San Francisco, CA 94112-1603, 59 Lois Ln, San Francisco, CA 94134-2467, 59 Madrone Ave, San Francisco, CA 94127-1149, 59 Manor Dr, San Francisco, CA 94127, 59 Neptune St, San Francisco, CA 94124-2523, 59 Rice St, San Francisco, CA 94112-3960, 59 Rondel Pl, San Francisco, CA 94103, 59 Sunview Dr, San Francisco, CA 94131-1618, 59 Winding Way, San Francisco, CA 94112, 590 38th Ave, San Francisco, CA 94121, 590 Campbell Ave, San Francisco, CA 94134-2204, 590 Funston Ave, San Francisco, CA 94118, 590 Moscow St, San Francisco, CA 94112, 590 Spruce St, San Francisco, CA 94118, 590 Spruce St, San Francisco, CA 94118-2617, 591 36th Ave, San Francisco, CA 94121, 591 Oak Park Dr, San Francisco, CA 94131-1028, 5915 California St, San Francisco, CA 94121, 594 10th Ave, San Francisco, CA 94118, 594 19th Ave, San Francisco, CA 94121-3119, 594 Arkansas St, San Francisco, CA 94107, 594 Clipper St, San Francisco, CA 94114, 598 28th St, San Francisco, CA 94131, 599 40th Ave, San Francisco, CA 94121-2522, 6 Bonview St, San Francisco, CA 94110, 6 Cameo Way, San Francisco, CA 94131-1634, 6 Prospect Ave, San Francisco, CA 94110, 6 Ramsell, San Francisco, CA 94132-3232, 60 21st Ave, San Francisco, CA 94121-1204, 60 Corona St, San Francisco, CA 94127, 60 Gates St, San Francisco, CA 94110, 60 Majestic Ave, San Francisco, CA 94112, 60 Peralta Ave, San Francisco, CA 94110, 60 Turquoise Way, San Francisco, CA 94131, 60 Ventura Ave, San Francisco, CA 94116, 600 Gates St, San Francisco, CA 94110, 600 Hamilton St, San Francisco, CA 94134, 600 Wisconsin St, San Francisco, CA 94107, 601 Broderick, San Francisco, CA 94117, 601 Fell St, San Francisco, CA 94102-5020, 601 Madrid St, San Francisco, CA 94112-3511, 604 Russia Ave, San Francisco, CA 94112, 607 7th Ave, San Francisco, CA 94118, 607 Campbell Ave, San Francisco, CA 94134, 607 Los Palmos Dr, San Francisco, CA 94127, 609 Precita Ave, San Francisco, CA 94110-4819, 609 Rockdale Dr, San Francisco, CA 94127, 61 Homestead St, San Francisco, CA 94114, 61 Loehr St, San Francisco, CA 94134-2712, 61 Prosper St, San Francisco, CA 94114, 61 Seminole Ave, San Francisco, CA 94112, 610 Duncan St, San Francisco, CA 94131, 610 Duncan St, San Francisco, CA 94131-1841, 610 Holloway Ave, San Francisco, CA 94112, 610 Panorama Dr, San Francisco, CA 94131, 610 Russia Ave, San Francisco, CA 94112, 612 Cambridge St, San Francisco, CA 94134-1611, 612 Texas St, San Francisco, CA 94107-2941, 614 21st Ave, San Francisco, CA 94121, 614 Teresita Blvd, San Francisco, CA 94127, 615 Campbell Ave, San Francisco, CA 94134-2205, 615 Ellsworth St, San Francisco, CA 94110, 615 Lisbon St, San Francisco, CA 94112, 615 Los Palmos Dr, San Francisco, CA 94127, 617 Moscow, San Francisco, CA 94112, 617 Spruce St, San Francisco, CA 94118, 618 47th Ave, San Francisco, CA 94121, 618 Paris St, San Francisco, CA 94112, 619 Grand View Ave, San Francisco, CA 94114, 62 Bradford St, San Francisco, CA 94110, 62 Eastwood Dr, San Francisco, CA 94112, 62 Lucy St, San Francisco, CA 94124, 62 Nantucket Ave, San Francisco, CA 94112, 62 Schwerin St, San Francisco, CA 94134, 62 Wanda St, San Francisco, CA 94112, 620 Ortega St, San Francisco, CA 94122, 620 Prentiss St, San Francisco, CA 94110, 621 Brunswick St, San Francisco, CA 94112, 621 Holloway Ave, San Francisco, CA 94112-2223, 621 Velasco Ave, San Francisco, CA 94134, 621 Waller St, San Francisco, CA 94117, 622 Edna St, San Francisco, CA 94127, 622 Los Palmos Dr, San Francisco, CA 94127, 622-A Castro St, San Francisco, CA 94114, 623 Edinburgh St, San Francisco, CA 94112-3532, 623 Missouri St, San Francisco, CA 94107, 624 12th Ave, San Francisco, CA 94118, 624 Excelsior Ave, San Francisco, CA 94112-2124, 625 46th Ave, San Francisco, CA 94121, 625 Brussels St, San Francisco, CA 94134, 625 Detroit St, San Francisco, CA 94131-3120, 626 Judah St, San Francisco, CA 94122-2219, 626 Rivera St, San Francisco, CA 94116, 627 29th St, San Francisco, CA 94131, 627 Sargent St, San Francisco, CA 94132, 628 29th St, San Francisco, CA 94131-2206, 628 Missouri St, San Francisco, CA 94107-2839, 63 Forest View Dr, San Francisco, CA 94132-1142, 63 Karen Ct, San Francisco, CA 94134, 63 Lamartine, San Francisco, CA 94112, 63 Sears St, San Francisco, CA 94112, 63-63 Esquina, San Francisco, CA 94134, 630 Moultrie St, San Francisco, CA 94110, 630 Olmstead St, San Francisco, CA 94134, 630 Rhode Island St, San Francisco, CA 94107, 631 29th St, San Francisco, CA 94131-2205, 631 Edinburgh St, San Francisco, CA 94112-3532, 632 Mississippi St, San Francisco, CA 94107-2937, 633 Cambridge St, San Francisco, CA 94134-1637, 633 Lakeview Ave, San Francisco, CA 94112, 633 Rockdale Dr, San Francisco, CA 94127-1719, 633 Velasco Ave, San Francisco, CA 94134, 633 Velasco Ave, San Francisco, CA 94134-3136, 634 45th Ave, San Francisco, CA 94121-2435, 635 24th Ave, San Francisco, CA 94121, 635 25th Ave, San Francisco, CA 94121-2918, 635 27th St, San Francisco, CA 94131, 635 Cayuga Ave, San Francisco, CA 94112, 635 Detroit, San Francisco, CA 94131, 636 39th Ave, San Francisco, CA 94121-2626, 636 Carolina St, San Francisco, CA 94107-2726, 636 Girard St, San Francisco, CA 94134, 637 Brussels St, San Francisco, CA 94134, 637 Garfield St, San Francisco, CA 94132, 638 Dartmouth St, San Francisco, CA 94134, 639 Geneva Ave, San Francisco, CA 94112-3324, 64 Gillette Ave, San Francisco, CA 94134-2414, 64 Majestic Ave, San Francisco, CA 94112, 64 Russell St, San Francisco, CA 94109, 640 2nd Ave, San Francisco, CA 94118, 641 Victoria St, San Francisco, CA 94127, 642 35th Ave, San Francisco, CA 94121, 642 Capp St, San Francisco, CA 94110-2510, 6423-6425 California St, San Francisco, CA 94121, 6427 Geary Blvd, San Francisco, CA 94121, 643 Greenwich St, San Francisco, CA 94133-2806, 643 Hamilton St, San Francisco, CA 94134-1812, 643 Lisbon St, San Francisco, CA 94112, 644 Laguna Honda Blvd, San Francisco, CA 94127, 645 Capp St, San Francisco, CA 94110-2509, 646 30th Ave, San Francisco, CA 94121, 646 Mangels Ave, San Francisco, CA 94127-2214, 647 Alvarado St, San Francisco, CA 94114, 647 Duncan St, San Francisco, CA 94131-1840, 647 Edinburgh St, San Francisco, CA 94112, 648 18th Ave, San Francisco, CA 94121, 65 Alder St, San Francisco, CA 94134-2136, 65 Almaden Ct, San Francisco, CA 94118, 65 Bishop St, San Francisco, CA 94134, 65 Cielito Dr, San Francisco, CA 94134-3106, 65 Greenwood Ave, San Francisco, CA 94112, 65 Parker Ave, San Francisco, CA 94118, 65 Stanyan St, San Francisco, CA 94118, 65 Teddy Ave, San Francisco, CA 94134-2345, 650 46th Ave, San Francisco, CA 94121, 650 Anderson St, San Francisco, CA 94110, 650 Joost Ave, San Francisco, CA 94127, 650 Quintara St, San Francisco, CA 94116, 651 Hearst Ave, San Francisco, CA 94112, 651 Noe St, San Francisco, CA 94114, 651 Rockdale, San Francisco, CA 94127, 651 Upland Dr, San Francisco, CA 94127, 653 28th St, San Francisco, CA 94131, 654 28th St, San Francisco, CA 94131, 654 Pennsylvania, San Francisco, CA 94107-2916, 655 Spruce St, San Francisco, CA 94118, 655 Teresita Blvd, San Francisco, CA 94127, 656 Sweeny St, San Francisco, CA 94134, 657 Cambridge St, San Francisco, CA 94134, 657 Vienna St, San Francisco, CA 94112-3556, 659 37th Ave, San Francisco, CA 94121, 659 Greenwich St, San Francisco, CA 94133-2806, 659-663 Banks St, San Francisco, CA 94110, 66 Amethyst Way, San Francisco, CA 94131, 66 Bishop St, San Francisco, CA 94134, 66 Juanita Way, San Francisco, CA 94127-1745, 66 Jules Ave, San Francisco, CA 94112, 66 Miramar Ave, San Francisco, CA 94112, 66 San Juan, San Francisco, CA 94112-2616, 66 Seaview Ter, San Francisco, CA 94121, 66 Yerba Buena Ave, San Francisco, CA 94127, 661 Rockdale Dr, San Francisco, CA 94127, 6630 Fulton St, San Francisco, CA 94121, 665 Banks St, San Francisco, CA 94110, 666 34th Ave, San Francisco, CA 94121, 666 Monterey Blvd, San Francisco, CA 94127, 666 Rockdale Dr, San Francisco, CA 94127, 667 28th St, San Francisco, CA 94131, 668 20th Ave, San Francisco, CA 94121, 669 Marina Blvd, San Francisco, CA 94123-1022, 67 Arago St, San Francisco, CA 94112, 67 Bridgeview, San Francisco, CA 94124, 67 Cityview Way, San Francisco, CA 94131, 67 Clarendon Ave, San Francisco, CA 94114, 67 Crags Ct, San Francisco, CA 94131-2521, 67 Madrone Ave, San Francisco, CA 94127-1149, 67 Meadowbrook Dr, San Francisco, CA 94132, 67 Melrose Ave, San Francisco, CA 94131, 67 Richland Ave, San Francisco, CA 94110, 67 Sunview Dr, San Francisco, CA 94131-1618, 672 Arguello Blvd, San Francisco, CA 94118, 673 Hamilton St, San Francisco, CA 94134, 674 15th Ave, San Francisco, CA 94118, 674 37th Ave, San Francisco, CA 94121-2614, 674 Rockdale Dr, San Francisco, CA 94127, 675 Grand View Ave, San Francisco, CA 94114, 675 Naples St, San Francisco, CA 94112, 676 Silver Ave, San Francisco, CA 94134, 677 Sweeny St, San Francisco, CA 94134, 678 Mangels Ave, San Francisco, CA 94127-2214, 678 Precita Ave, San Francisco, CA 94110, 679 Campbell Ave, San Francisco, CA 94134, 679 Edinburgh, San Francisco, CA 94112, 68 Agua Way, San Francisco, CA 94127-1707, 68 Ashton Ave, San Francisco, CA 94112, 68 Curtis St, San Francisco, CA 94112-3709, 68 Ellington Ave, San Francisco, CA 94112, 68 Lamartine, San Francisco, CA 94112, 68 Pasadena St, San Francisco, CA 94134-3125, 682 42nd Ave, San Francisco, CA 94121, 682 Castro St, San Francisco, CA 94114-2518, 682 Madrid Sq, San Francisco, CA 94112, 683 Edinburgh St, San Francisco, CA 94112-3532, 683 Spruce St, San Francisco, CA 94118, 685 Arkansas St, San Francisco, CA 94107, 685 Peralta Ave, San Francisco, CA 94110, 686 19th Ave, San Francisco, CA 94121, 686 47th Ave, San Francisco, CA 94121-2439, 686 Connecticut St, San Francisco, CA 94107, 688-690 Lisbon St, San Francisco, CA 94112-3508, 69 Almaden Ct, San Francisco, CA 94118, 69 Arnold Ave, San Francisco, CA 94110, 69 Bitting Ave, San Francisco, CA 94124, 69 Carr St, San Francisco, CA 94124, 69 Devonshire Way, San Francisco, CA 94131, 69 Harold Ave, San Francisco, CA 94112, 69 Moneta Way, San Francisco, CA 94112-4122, 690 18th St, San Francisco, CA 94107, 691 Keith St, San Francisco, CA 94124, 691 Laguna Honda Blvd, San Francisco, CA 94127, 698 Edinburgh St, San Francisco, CA 94112-3533, 7 Castenada Ave, San Francisco, CA 94116-1406, 7 Kronquist Ct, San Francisco, CA 94131, 7 Mateo St, San Francisco, CA 94131, 7 McCarthy Ave, San Francisco, CA 94134, 7 McCarthy Ave, San Francisco, CA 94134-3220, 70 Arago St, San Francisco, CA 94112, 70 Arroyo, San Francisco, CA 94127, 70 Bannock St, San Francisco, CA 94112, 70 Edinburgh St, San Francisco, CA 94112, 70 Getz St, San Francisco, CA 94112, 70 Goethe St, San Francisco, CA 94112-3913, 70 Lenox Way, San Francisco, CA 94127, 70 Tingley, San Francisco, CA 94112, 70 West View, San Francisco, CA 94134, 70 Winfield, San Francisco, CA 94110, 70 Woodland Ave, San Francisco, CA 94117, 700 Goettingen St, San Francisco, CA 94134, 700 Mount Vernon, San Francisco, CA 94112, 700 Shields St, San Francisco, CA 94132, 701 3rd Ave, San Francisco, CA 94118, 701 Brazil Ave, San Francisco, CA 94112, 701 London St, San Francisco, CA 94112, 701 Quintara St, San Francisco, CA 94116-1262, 701 Urbano Dr, San Francisco, CA 94127, 703 Dartmouth St, San Francisco, CA 94134, 704 5th Ave, San Francisco, CA 94118, 705 Noriega St, San Francisco, CA 94122, 706 47th Ave, San Francisco, CA 94121, 706 Faxon Ave, San Francisco, CA 94112, 707 Cole St, San Francisco, CA 94117, 707 Cole St, San Francisco, CA 94117-3911, 707 Kansas St, San Francisco, CA 94107-2625, 709 Eugenia Ave, San Francisco, CA 94110, 71 Cotter St, San Francisco, CA 94112, 71 Landers St, San Francisco, CA 94114, 71 Los Palmos, San Francisco, CA 94127, 71 Maddux Ave, San Francisco, CA 94124, 71 Parnassus, San Francisco, CA 94117, 71 Peralta Ave, San Francisco, CA 94110, 71 Santa Fe Ave, San Francisco, CA 94124, 710 Broderick St, San Francisco, CA 94117-1414, 710 Russia Ave, San Francisco, CA 94112, 711 Lakeview Ave, San Francisco, CA 94112, 712 Detroit St, San Francisco, CA 94131, 713 Lyon, San Francisco, CA 94117, 714 Kansas St, San Francisco, CA 94107, 714 Teresita Blvd, San Francisco, CA 94127, 715 Myra Way, San Francisco, CA 94127, 715 Plymouth Ave, San Francisco, CA 94112-2916, 718 30th Ave, San Francisco, CA 94121, 719 10th Ave, San Francisco, CA 94118, 719 Anderson St, San Francisco, CA 94110, 719 Madrid St, San Francisco, CA 94112, 72 Crescio Ct, San Francisco, CA 94112, 72 Dawnview Way, San Francisco, CA 94131, 72 Lapham Way, San Francisco, CA 94122, 72 Ney St, San Francisco, CA 94112, 72 San Benito Way, San Francisco, CA 94127, 72 Tioga Ave, San Francisco, CA 94134, 720 Elizabeth St, San Francisco, CA 94114, 720 Junipero Serra Blvd, San Francisco, CA 94127, 720 Laguna Honda Blvd, San Francisco, CA 94127-1022, 721 Lakeview Ave, San Francisco, CA 94112, 721 York St, San Francisco, CA 94110, 722 43rd Ave, San Francisco, CA 94121, 722 Silver, San Francisco, CA 94134-1053, 7226 Geary Blvd, San Francisco, CA 94121, 724 24th Ave, San Francisco, CA 94121, 724 Jarboe Ave, San Francisco, CA 94110, 725 Hampshire St, San Francisco, CA 94110, 726 4th Ave, San Francisco, CA 94118-3913, 726 Banks St, San Francisco, CA 94110, 726 Cayuga Ave, San Francisco, CA 94112-2508, 726 Ellsworth St, San Francisco, CA 94110, 726 Joost Ave, San Francisco, CA 94127, 728 27th St, San Francisco, CA 94131, 729 Bacon St, San Francisco, CA 94134, 73 Beaumont Ave, San Francisco, CA 94118-3301, 73 Cielito Dr, San Francisco, CA 94134, 73 Henry St, San Francisco, CA 94114, 73 Naples St, San Francisco, CA 94112, 73 Seville St, San Francisco, CA 94112-4524, 73 Teresita Blvd, San Francisco, CA 94127, 730 Excelsior Ave, San Francisco, CA 94112-2126, 731 10th Ave, San Francisco, CA 94118, 731 Duboce Ave, San Francisco, CA 94117, 731 Lisbon St, San Francisco, CA 94112-3523, 733 Sanchez St, San Francisco, CA 94114, 734 39th Ave, San Francisco, CA 94121, 734 Anderson St, San Francisco, CA 94110, 734 Andover, San Francisco, CA 94110-6018, 735 41st Ave, San Francisco, CA 94121-3318, 735 Cambridge St, San Francisco, CA 94134, 735 Mangels, San Francisco, CA 94112, 735 Vienna St, San Francisco, CA 94112, 737 Panorama Dr, San Francisco, CA 94131, 738 11th Ave, San Francisco, CA 94118, 738 38th Ave, San Francisco, CA 94121, 738 Naples St, San Francisco, CA 94112-3555, 739 27th St, San Francisco, CA 94131, 74 Agua Way, San Francisco, CA 94127, 74 Arroyo Way, San Francisco, CA 94127, 74 Beaver St, San Francisco, CA 94114, 74 Crane St, San Francisco, CA 94124, 74 Curtis St, San Francisco, CA 94112-3709, 74 Farallones St, San Francisco, CA 94112, 74 Newburg St, San Francisco, CA 94131, 74 Otsego Ave, San Francisco, CA 94112-2534, 74 Villa Ter, San Francisco, CA 94114, 740 Diamond St, San Francisco, CA 94114, 740 Foerster St, San Francisco, CA 94127, 740 Pacheco St, San Francisco, CA 94116-1349, 740 Rolph St, San Francisco, CA 94112, 741 Girard St, San Francisco, CA 94134, 741 Teresita Blvd, San Francisco, CA 94127, 742 Andover, San Francisco, CA 94110, 742 Brunswick St, San Francisco, CA 94112-4205, 742 Myra Way, San Francisco, CA 94127, 743 45th Ave, San Francisco, CA 94121, 744 Colby St, San Francisco, CA 94134-1824, 746 Andover St, San Francisco, CA 94110, 746 Vienna St, San Francisco, CA 94112, 747 Anderson, San Francisco, CA 94110, 748 Madrid St, San Francisco, CA 94112, 749 Delta St, San Francisco, CA 94134-2827, 75 Aloha Ave, San Francisco, CA 94122, 75 Juanita Way, San Francisco, CA 94127, 75 Pinehurst Way, San Francisco, CA 94127, 75 Rico Way, San Francisco, CA 94123, 75 San Lorenzo Way, San Francisco, CA 94127, 75 Winfield St, San Francisco, CA 94110, 750 3rd Ave, San Francisco, CA 94118-3909, 750 44th Ave, San Francisco, CA 94121, 750 Funston Ave, San Francisco, CA 94118, 751 10th Ave, San Francisco, CA 94118, 751 Lisbon St, San Francisco, CA 94112-3523, 752 27th St, San Francisco, CA 94131, 752 Head St, San Francisco, CA 94132-2812, 754 22nd Ave, San Francisco, CA 94121, 754 41st Ave, San Francisco, CA 94121, 754 45th Ave, San Francisco, CA 94121, 754 Monterey Blvd, San Francisco, CA 94127, 755 40th Ave, San Francisco, CA 94121, 755 El Camino Del Mar, San Francisco, CA 94121-1015, 758 42nd Ave, San Francisco, CA 94121, 758 Moscow St, San Francisco, CA 94112, 76 Homestead, San Francisco, CA 94110, 76 Homestead, San Francisco, CA 94114, 76 Karen Ct, San Francisco, CA 94134-1951, 76-78 Latona St, San Francisco, CA 94124-2342, 760 Elizabeth St, San Francisco, CA 94114, 760 Felton St, San Francisco, CA 94134, 760 Moultrie St, San Francisco, CA 94110, 760 Rhode Island St, San Francisco, CA 94107, 761 Burrows, San Francisco, CA 94134, 762 Cayuga, San Francisco, CA 94112, 763 Head St, San Francisco, CA 94132, 764 17th Ave, San Francisco, CA 94121-3821, 767 Cayuga Ave, San Francisco, CA 94112, 769 Elizabeth St, San Francisco, CA 94114-3144, 769 Pacheco, San Francisco, CA 94116-1369, 77 Amber Dr, San Francisco, CA 94131, 77 Belgrave Ave, San Francisco, CA 94117, 77 Bradford St, San Francisco, CA 94110, 77 Robblee Ave, San Francisco, CA 94124, 77 Robinson Dr, San Francisco, CA 94112-4571, 771 36th Ave, San Francisco, CA 94121, 772 47th Ave, San Francisco, CA 94121, 772 Wisconsin St, San Francisco, CA 94107, 7724 Geary Blvd, San Francisco, CA 94121, 774 30th Ave, San Francisco, CA 94121, 774 Athens St, San Francisco, CA 94112, 775 38th Ave, San Francisco, CA 94121, 776 Victoria St, San Francisco, CA 94127, 777 Noriega St, San Francisco, CA 94122-4541, 778 40th Ave, San Francisco, CA 94121, 778 Lakeview Ave, San Francisco, CA 94112, 779 Wisconsin St, San Francisco, CA 94107, 779 Wisconsin, San Francisco, CA 94107, 78 Aloha Ave, San Francisco, CA 94122, 78 Melba Ave, San Francisco, CA 94132, 78 Naples St, San Francisco, CA 94112, 78 Park St, San Francisco, CA 94110-5834, 780 47th Ave, San Francisco, CA 94121, 780 Colby St, San Francisco, CA 94134, 780 Pacheco St, San Francisco, CA 94116, 781 Pacheco St, San Francisco, CA 94116, 782 16th Ave, San Francisco, CA 94118, 782 37th Ave, San Francisco, CA 94121-3406, 782 41st Ave, San Francisco, CA 94121, 783 Wisconsin St, San Francisco, CA 94107, 784 48th Ave, San Francisco, CA 94121, 785 Vienna St, San Francisco, CA 94112, 786 44th Ave, San Francisco, CA 94121, 787 25th Ave, San Francisco, CA 94121, 787 46th Ave, San Francisco, CA 94121, 787 Pacheco, San Francisco, CA 94112, 79 Bruce Ave, San Francisco, CA 94112, 79 Everson St, San Francisco, CA 94131, 79 Kempton Ave, San Francisco, CA 94132, 79 Navajo Ave, San Francisco, CA 94112, 79 Seward St, San Francisco, CA 94114, 791 30th Ave, San Francisco, CA 94121, 792 Dartmouth St, San Francisco, CA 94134, 792 Goettingen, San Francisco, CA 94134, 794 48th Ave, San Francisco, CA 94121-3210, 795 34th Ave, San Francisco, CA 94121-3481, 795 Brunswick St, San Francisco, CA 94112, 795 Foerster St, San Francisco, CA 94127, 797 35th Ave, San Francisco, CA 94121, 799 Athens St, San Francisco, CA 94112, 8 Arco Way, San Francisco, CA 94112, 8 Cambridge St, San Francisco, CA 94134, 8 Crestlake Dr, San Francisco, CA 94132, 8 Phoenix Ter, San Francisco, CA 94133, 8 Van Buren St, San Francisco, CA 94131, 80 Benton Ave, San Francisco, CA 94112, 80 Borica St, San Francisco, CA 94127, 80 Clairview Ct, San Francisco, CA 94131, 80 Clairview Ct, San Francisco, CA 94131-1205, 80 Dawnview Way, San Francisco, CA 94131, 80 Laura St, San Francisco, CA 94112, 80 Manchester St, San Francisco, CA 94110, 80 Mount Vernon Ave, San Francisco, CA 94112, 80 Ord St, San Francisco, CA 94114-1445, 80 Pinehurst Way, San Francisco, CA 94127, 80 Seneca Ave, San Francisco, CA 94112, 80 Winding Way, San Francisco, CA 94112-4527, 800 29th Ave, San Francisco, CA 94121, 800 Quintara St, San Francisco, CA 94116, 801 Avalon Ave, San Francisco, CA 94112, 801 Congo St, San Francisco, CA 94131, 804 Faxon Ave, San Francisco, CA 94112, 805 Foerster, San Francisco, CA 94127, 805 York St, San Francisco, CA 94110, 806 Monterey Blvd, San Francisco, CA 94127, 806 Urbano Dr, San Francisco, CA 94127, 809 Florida St, San Francisco, CA 94110-2835, 81 Ashbury Ter, San Francisco, CA 94117, 81 Lobos St, San Francisco, CA 94112, 81 Pinehurst Way, San Francisco, CA 94127-2735, 81 San Jacinto Way, San Francisco, CA 94127-2053, 812 Monterey Blvd, San Francisco, CA 94127, 813 Paris St, San Francisco, CA 94112, 816 Jamestown Ave, San Francisco, CA 94124-3730, 818 42nd Ave, San Francisco, CA 94121, 818 Duncan St, San Francisco, CA 94131, 819 42nd Ave, San Francisco, CA 94121, 82 6th Ave, San Francisco, CA 94118, 82 Cameo Way, San Francisco, CA 94131, 82 Fernwood Dr, San Francisco, CA 94127, 82 Idora Ave, San Francisco, CA 94127, 82 Junior Ter, San Francisco, CA 94112, 82 Margaret Ave, San Francisco, CA 94112, 821 Head St, San Francisco, CA 94132, 821 Pacheco St, San Francisco, CA 94116, 822 41st Ave, San Francisco, CA 94121, 8234 Geary Blvd, San Francisco, CA 94121, 824 Garfield St, San Francisco, CA 94132-2625, 824 Waller St, San Francisco, CA 94117, 825 Alvarado St, San Francisco, CA 94114-3115, 827 Waller St, San Francisco, CA 94117-3118, 828 Jamestown Ave, San Francisco, CA 94124, 828-St Alabama St, San Francisco, CA 94110, 83 Bridgeview, San Francisco, CA 94124, 83 Encanto Ave, San Francisco, CA 94115, 83 Seward St, San Francisco, CA 94114, 83 Winfield St, San Francisco, CA 94110, 830 40th Ave, San Francisco, CA 94121-3317, 830 Felton St, San Francisco, CA 94134-1470, 830 Rhode Island St, San Francisco, CA 94107, 830 Sloat Blvd, San Francisco, CA 94132, 831 27th St, San Francisco, CA 94131, 831 32nd Ave, San Francisco, CA 94121, 831 37th Ave, San Francisco, CA 94121, 831 41st Ave, San Francisco, CA 94121, 831 Mason St, San Francisco, CA 94108, 832 Diamond St, San Francisco, CA 94114, 833 Edinburgh St, San Francisco, CA 94112, 833 Italy Ave, San Francisco, CA 94112-3521, 834 43rd Ave, San Francisco, CA 94121, 834 44th Ave, San Francisco, CA 94121, 835 33rd Ave, San Francisco, CA 94121, 835 Sanchez, San Francisco, CA 94114, 837 Moultrie St, San Francisco, CA 94110, 838 36th Ave, San Francisco, CA 94121-3404, 839 37th Ave, San Francisco, CA 94121-3407, 839 Faxon Ave, San Francisco, CA 94112, 84 Cordova St, San Francisco, CA 94112, 84 Ledyard, San Francisco, CA 94124, 84 Mangels Ave, San Francisco, CA 94131, 84 Mangels Ave, San Francisco, CA 94131-3238, 84 Manor Dr, San Francisco, CA 94127, 84 Manor Dr, San Francisco, CA 94127-2734, 84 Moneta Way, San Francisco, CA 94112, 84 Vienna, San Francisco, CA 94112, 842 29th Ave, San Francisco, CA 94121, 842 Teresita Blvd, San Francisco, CA 94127-2323, 843 28th Ave, San Francisco, CA 94121, 844 Bay St, San Francisco, CA 94109, 844 Dartmouth St, San Francisco, CA 94134, 844 Duncan St, San Francisco, CA 94131-1832, 848 Girard, San Francisco, CA 94134, 848 Potrero Ave, San Francisco, CA 94110, 849 Moultrie St, San Francisco, CA 94110, 849 Noriega St, San Francisco, CA 94122, 85 Beaumont Ave, San Francisco, CA 94118-3301, 85 Bruce Ave, San Francisco, CA 94112-2359, 85 Caine Ave, San Francisco, CA 94112, 85 Carr St, San Francisco, CA 94124, 85 Castenada Ave, San Francisco, CA 94116-1406, 85 Cervantes Blvd, San Francisco, CA 94123, 85 Delano Ave, San Francisco, CA 94112, 85 Hillcrest Ct, San Francisco, CA 94127, 85 Linda, San Francisco, CA 94110, 85 Manchester St, San Francisco, CA 94110, 85 Mirabel Ave, San Francisco, CA 94110, 85 Parker Ave, San Francisco, CA 94118, 85 Watt Ave, San Francisco, CA 94112, 850 29th Ave, San Francisco, CA 94121-3518, 852 Clayton St, San Francisco, CA 94117, 856 Moultrie St, San Francisco, CA 94110, 857 Colby St, San Francisco, CA 94134, 858 38th Ave, San Francisco, CA 94121, 858 Florida St, San Francisco, CA 94110, 86 Bayview St, San Francisco, CA 94124, 86 Bridgeview Dr, San Francisco, CA 94124, 861 Rockdale Dr, San Francisco, CA 94127, 862 34th Ave, San Francisco, CA 94121, 862 Wisconsin St, San Francisco, CA 94107-3347, 862 York St, San Francisco, CA 94110, 865 Faxon St, San Francisco, CA 94112, 866 29th Ave, San Francisco, CA 94121, 867 31st Ave, San Francisco, CA 94121, 867 32nd Ave, San Francisco, CA 94121-3503, 87 Inverness Dr, San Francisco, CA 94132, 87 Morningside Dr, San Francisco, CA 94132, 872 Ingerson Ave, San Francisco, CA 94124-3728, 874 24th Ave, San Francisco, CA 94121, 875 41st Ave, San Francisco, CA 94121, 875 Dartmouth St, San Francisco, CA 94134, 875 Faxon Ave, San Francisco, CA 94112-1205, 876 43rd Ave, San Francisco, CA 94121, 88 Keystone Way, San Francisco, CA 94127, 88 Manchester St, San Francisco, CA 94110, 88 Nueva Ave, San Francisco, CA 94134, 88 Winfield St, San Francisco, CA 94110, 880 Silver Ave, San Francisco, CA 94134, 882 Huron Ave, San Francisco, CA 94112, 883 42nd Ave, San Francisco, CA 94121, 884 Goettingen St, San Francisco, CA 94134, 886 Burnett Ave, San Francisco, CA 94131, 887 28th Ave, San Francisco, CA 94121, 889 40th Ave, San Francisco, CA 94122, 89 Martha Ave, San Francisco, CA 94131, 89 Robblee Ave, San Francisco, CA 94124-2029, 89 Theresa St, San Francisco, CA 94112, 89 Westwood Dr, San Francisco, CA 94112, 891 43rd Ave, San Francisco, CA 94121-3303, 891 47th Ave, San Francisco, CA 94121, 892 Ashbury St, San Francisco, CA 94117, 9 Britton, San Francisco, CA 94134, 9 Dartmouth, San Francisco, CA 94134, 9 De Soto St, San Francisco, CA 94127, 9 Heather Ave, San Francisco, CA 94118, 9 Pomona St, San Francisco, CA 94124, 9 Scotia, San Francisco, CA 94124, 9 Teddy Ave, San Francisco, CA 94134, 90 Clarendon, San Francisco, CA 94114, 90 Joost Ave, San Francisco, CA 94131, 90 Laidley St, San Francisco, CA 94131, 90 Lapham Way, San Francisco, CA 94112, 90 Melrose Ave, San Francisco, CA 94131, 90 Rotteck St, San Francisco, CA 94112, 90 San Pablo Ave, San Francisco, CA 94127, 90 Sussex St, San Francisco, CA 94131, 90 Woodland Ave, San Francisco, CA 94117, 900 Mansell St, San Francisco, CA 94134-1857, 900 Sunnydale Ave, San Francisco, CA 94134-2747, 901 Holyoke St, San Francisco, CA 94134, 901 Huron Ave, San Francisco, CA 94112, 903 Minnesota St, San Francisco, CA 94107, 905 Portola Dr, San Francisco, CA 94127-1223, 907 Darien Way, San Francisco, CA 94127, 908 Cabrillo St, San Francisco, CA 94118, 909 Bay St, San Francisco, CA 94109, 91 Gates St, San Francisco, CA 94110, 910 Diamond St, San Francisco, CA 94114, 911 Minnesota St, San Francisco, CA 94107, 913 Alvarado St, San Francisco, CA 94114-3149, 914 Junipero Serra Blvd, San Francisco, CA 94132, 915-915 Avalon, San Francisco, CA 94112, 917 Edinburgh St, San Francisco, CA 94112, 918 Kansas St, San Francisco, CA 94107, 919 Teresita Blvd, San Francisco, CA 94127, 92 Ashton Ave, San Francisco, CA 94112, 92 Homestead St, San Francisco, CA 94114, 92 Robinson Dr, San Francisco, CA 94112, 92 Robinson Dr, San Francisco, CA 94112-4570, 921 Dwight St, San Francisco, CA 94134, 922 Shields, San Francisco, CA 94132, 923 Edinburgh St, San Francisco, CA 94112, 925 Fulton St, San Francisco, CA 94117-1701, 929 Cayuga Ave, San Francisco, CA 94112, 929 Monterey, San Francisco, CA 94127, 93 Sequoia, San Francisco, CA 94127, 930 Ashbury St, San Francisco, CA 94117, 930 Avalon Ave, San Francisco, CA 94112, 930 Huron Ave, San Francisco, CA 94112-4026, 930 Monterey Blvd, San Francisco, CA 94127, 930 Wisconsin St, San Francisco, CA 94107, 932 Felton St, San Francisco, CA 94134-1471, 933 Dartmouth St, San Francisco, CA 94134-1855, 933 Woolsey St, San Francisco, CA 94134, 935 Diamond St, San Francisco, CA 94114, 939 Sanchez St, San Francisco, CA 94114, 940 Grove St, San Francisco, CA 94117-1714, 941 Rolph St, San Francisco, CA 94112-4547, 941 Teresita, San Francisco, CA 94127, 942 Vienna St, San Francisco, CA 94112, 944 Chestnut St, San Francisco, CA 94109, 944 Hampshire, San Francisco, CA 94110, 947 Avalon Ave, San Francisco, CA 94112, 947 Innes Ave, San Francisco, CA 94124-2904, 948 Hampshire St, San Francisco, CA 94110, 948 Ingerson Ave, San Francisco, CA 94124, 948 Rolph St, San Francisco, CA 94112, 95 Aptos Ave, San Francisco, CA 94127, 95 Bridgeview Dr, San Francisco, CA 94124, 95 Farragut Ave, San Francisco, CA 94112, 95 Keystone Way, San Francisco, CA 94127, 95 Ledyard St, San Francisco, CA 94124, 95 Molimo Dr, San Francisco, CA 94127, 95 Winfield St, San Francisco, CA 94110, 950 Somerset, San Francisco, CA 94134-2156, 951 Huron Ave, San Francisco, CA 94112-4025, 955 Holyoke St, San Francisco, CA 94134, 955 Rockdale Dr, San Francisco, CA 94127, 958 Carolina St, San Francisco, CA 94107, 96 Alpha St, San Francisco, CA 94134, 96 Ney St, San Francisco, CA 94112, 96 Tioga Ave, San Francisco, CA 94134, 960 Cayuga Ave, San Francisco, CA 94112, 960 Elizabeth St, San Francisco, CA 94114, 961 Goettingen St, San Francisco, CA 94134, 961 Holloway Ave, San Francisco, CA 94132, 961 San Bruno Ave, San Francisco, CA 94110, 967 Goettingen St, San Francisco, CA 94134-2113, 97 Turquoise, San Francisco, CA 94131, 970 Corbett Ave, San Francisco, CA 94131, 972 Plymouth Ave, San Francisco, CA 94112, 975 Naples St, San Francisco, CA 94112, 979 Alabama St, San Francisco, CA 94110, 979 Key Ave, San Francisco, CA 94124, 98 Cortland Ave, San Francisco, CA 94110, 98 Mullen Ave, San Francisco, CA 94110, 98 Sotelo Ave, San Francisco, CA 94116, 982 Hollister Ave, San Francisco, CA 94124, 983 Hollister Ave, San Francisco, CA 94124, 99 Ellsworth St, San Francisco, CA 94110, 99 Lois Ln, San Francisco, CA 94134, 99 Mendosa Ave, San Francisco, CA 94116, 990 Hollister Ave, San Francisco, CA 94124, 990 Rutland St, San Francisco, CA 94134]\n",
      "  warnings.warn(w)\n"
     ]
    },
    {
     "name": "stderr",
     "output_type": "stream",
     "text": [
      "/Users/37138/anaconda3/lib/python3.6/site-packages/h2o/job.py:70: UserWarning: Test/Validation dataset column 'views' has levels not trained on: [BAY,BYBR,GGTE,SFRN, BAY,BYBR,SFRN,DWNT, BAY,GRDN,HILL,TWNP, BAY,GRDN,WOOD,CNYN, BAY,OCEN,HILL, BAY,SFRN,MNTN, BAY,SFRN,PARK, BAY,SFRN,TWNP,CNYN,VALY, BAY,WOOD,HILL,MNTN, BYBR,DWNT,HILL, BYBR,SFRN,DWNT, CTYL,BAY,BYBR,SFRN,DWNT,HILL,MTDB, CTYL,BAY,BYBR,SFRN,DWNT,TWNP, CTYL,BAY,BYBR,SFRN,HILL, CTYL,BAY,GGTE,SFRN,DWNT, CTYL,BAY,GGTE,SFRN,MNTN, CTYL,BAY,PARK,TWNP, CTYL,BAY,SFRN,DWNT,GRDN,MNTN,MTDB, CTYL,BAY,SFRN,DWNT,MNTN,TWNP, CTYL,BAY,SFRN,DWNT,PARK,HILL,TWNP, CTYL,BAY,SFRN,DWNT,TWNP, CTYL,BAY,SFRN,GRDN,MNTN, CTYL,BAY,SFRN,PARK,HILL, CTYL,BAY,SFRN,PARK,HILL,CNYN, CTYL,BAY,SFRN,WOOD,HILL,TWNP, CTYL,BYBR,OCEN,GRDN,MNTN, CTYL,BYBR,SFRN,DWNT,TWNP, CTYL,BYBR,SFRN,GLFC,MNTN, CTYL,DWNT,WOOD, CTYL,GGTE,MNTN, CTYL,GGTE,PARK,GLFC, CTYL,GGTE,SFRN,FRST, CTYL,GGTE,SFRN,OCEN, CTYL,GGTE,SFRN,PARK,GRDN,HILL,TWNP, CTYL,GRDN,HILL,VALY, CTYL,GRDN,WOOD,TWNP, CTYL,OCEN,PARK,WOOD, CTYL,OCEN,VALY, CTYL,OCEN,WOOD,TWNP, CTYL,SFRN,DWNT,GRDN,MTDB, CTYL,SFRN,DWNT,PARK, CTYL,SFRN,DWNT,PARK,GRDN,HILL, CTYL,SFRN,DWNT,PARK,WOOD,HILL,FRST, CTYL,SFRN,DWNT,WOOD,HILL, CTYL,SFRN,GRDN,TWNP, CTYL,SFRN,OCEN,PARK,WOOD,MNTN, CTYL,SFRN,OCEN,TWNP, CTYL,SFRN,VALY, CTYL,SFRN,WOOD,FRST, CTYL,WATR,BAY,BYBR,SFRN,DWNT,GRDN,WOOD,HILL,MNTN, CTYL,WATR,BAY,BYBR,SFRN,DWNT,OCEN,HILL,MNTN,TWNP, CTYL,WATR,BAY,BYBR,SFRN,VALY, CTYL,WATR,BAY,DWNT,MNTN, CTYL,WATR,BAY,DWNT,PARK, CTYL,WATR,BAY,GGTE,DWNT,PARK,TWNP, CTYL,WATR,BAY,GGTE,SFRN,GRDN, CTYL,WATR,BAY,GGTE,SFRN,GRDN,WOOD, CTYL,WATR,BAY,GGTE,SFRN,MRNA,OCEN,MTPS, CTYL,WATR,BAY,GGTE,SFRN,OCEN, CTYL,WATR,BAY,GRDN,HILL,TWNP, CTYL,WATR,BAY,GRDN,MNTN, CTYL,WATR,BAY,GRDN,WOOD,HILL,MNTN, CTYL,WATR,BAY,MNTN,MTPS, CTYL,WATR,BAY,OCEN,MTDB, CTYL,WATR,BAY,SFRN,OCEN,GRDN, CTYL,WATR,BAY,SFRN,OCEN,GRDN,GLFC, CTYL,WATR,BYBR,DWNT, CTYL,WATR,BYBR,DWNT,HILL, CTYL,WATR,BYBR,GRDN, CTYL,WATR,BYBR,SFRN,DWNT,HILL,MNTN, CTYL,WATR,DWNT,TWNP, CTYL,WATR,GLFC, CTYL,WATR,MTPS, CTYL,WATR,PARK,GRDN, CTYL,WATR,SFRN,WOOD,FRST, CTYL,WATR,TWNP,FRST, CTYL,WATR,WOOD, DWNT,GRDN,HILL,MTDB,TWNP, DWNT,MNTN, DWNT,OCEN, GGTE,HILL,MTPS, GGTE,OCEN,PARK,HILL, GGTE,WOOD,FRST, GRDN,GLFC,WOOD, GRDN,HILL,FRST,RIDG, GRDN,WOOD,LAKE, MNTN,MTPS, OCEN,PARK,GRDN,WOOD,HILL,MNTN,FRST, OCEN,PARK,MNTN, OCEN,PARK,MNTN,MTPS, OCEN,VALY, OCEN,WOOD,HILL,FRST, PARK,GRDN,WOOD,HILL,TWNP, PNRM,BAY,BYBR,SFRN,MTDB, PNRM,BAY,DWNT,MTDB, PNRM,BAY,DWNT,MTDB,TWNP, PNRM,BAY,GGTE,SFRN, PNRM,BAY,GGTE,SFRN,MNTN,MTPS, PNRM,BAY,PARK, PNRM,BAY,SFRN,GRDN,HILL, PNRM,BAY,TWNP, PNRM,BYBR,DWNT,HILL, PNRM,BYBR,DWNT,MTDB, PNRM,CTYL,BAY,BYBR,DWNT,MNTN, PNRM,CTYL,BAY,BYBR,DWNT,MTDB, PNRM,CTYL,BAY,BYBR,GGTE,SFRN,DWNT,HILL,MTPS, PNRM,CTYL,BAY,BYBR,GGTE,SFRN,DWNT,OCEN,HILL, PNRM,CTYL,BAY,BYBR,MTDB,TWNP,CNYN, PNRM,CTYL,BAY,BYBR,SFRN,DWNT,HILL,MTDB, PNRM,CTYL,BAY,BYBR,SFRN,DWNT,HILL,VALY, PNRM,CTYL,BAY,BYBR,SFRN,HILL,TWNP, PNRM,CTYL,BAY,GGTE,DWNT,OCEN, PNRM,CTYL,BAY,GGTE,SFRN,DWNT,GRDN,HILL,TWNP, PNRM,CTYL,BAY,GGTE,SFRN,DWNT,OCEN,HILL,MNTN,MTPS, PNRM,CTYL,BAY,GGTE,SFRN,GRDN,FRST, PNRM,CTYL,BAY,GGTE,SFRN,HILL,TWNP, PNRM,CTYL,BAY,GGTE,SFRN,OCEN,HILL,MNTN,MTPS, PNRM,CTYL,BAY,HILL,MNTN,MTPS,TWNP, PNRM,CTYL,BAY,OCEN,MNTN, PNRM,CTYL,BAY,SFRN,DWNT,GRDN, PNRM,CTYL,BAY,SFRN,DWNT,HILL,MNTN, PNRM,CTYL,BYBR,DWNT,TWNP, PNRM,CTYL,BYBR,SFRN,DWNT,GRDN, PNRM,CTYL,BYBR,SFRN,DWNT,MNTN,TWNP, PNRM,CTYL,DWNT,GRDN,WOOD,HILL,MNTN,TWNP, PNRM,CTYL,DWNT,MNTN,TWNP, PNRM,CTYL,GGTE,SFRN,DWNT,GRDN,GLFC,WOOD, PNRM,CTYL,OCEN,GLFC,MNTN,LAKE, PNRM,CTYL,OCEN,HILL,MNTN, PNRM,CTYL,PARK,MNTN,TWNP, PNRM,CTYL,SFRN,HILL,MNTN,TWNP,RIDG,VALY, PNRM,CTYL,SFRN,OCEN,PARK,GLFC,HILL, PNRM,CTYL,SFRN,PARK, PNRM,CTYL,SFRN,PARK,HILL,MNTN,TWNP,FRST,VALY, PNRM,CTYL,WATR,BAY,BYBR,GGTE,SFRN,DWNT,GRDN,WOOD,HILL,MNTN,MTPS,MTDB,TWNP,FRST, PNRM,CTYL,WATR,BAY,BYBR,GGTE,SFRN,DWNT,WOOD,HILL,MTPS,MTDB, PNRM,CTYL,WATR,BAY,BYBR,HILL, PNRM,CTYL,WATR,BAY,BYBR,SFRN,DWNT,GRDN,HILL,MNTN,MTDB,VALY, PNRM,CTYL,WATR,BAY,BYBR,SFRN,DWNT,GRDN,MTDB,TWNP, PNRM,CTYL,WATR,BAY,BYBR,SFRN,DWNT,GRDN,WOOD,HILL, PNRM,CTYL,WATR,BAY,BYBR,SFRN,DWNT,GRDN,WOOD,HILL,MNTN,MTDB,FRST,CNYN, PNRM,CTYL,WATR,BAY,BYBR,SFRN,DWNT,GRDN,WOOD,MNTN,TWNP,RIDG,CNYN, PNRM,CTYL,WATR,BAY,BYBR,SFRN,DWNT,HILL,MNTN,MTDB,TWNP, PNRM,CTYL,WATR,BAY,BYBR,SFRN,DWNT,HILL,MTDB, PNRM,CTYL,WATR,BAY,BYBR,SFRN,DWNT,OCEN,HILL, PNRM,CTYL,WATR,BAY,BYBR,SFRN,DWNT,PARK,GLFC,HILL,MNTN,TWNP, PNRM,CTYL,WATR,BAY,BYBR,SFRN,DWNT,PARK,GRDN,HILL,MTDB,VALY, PNRM,CTYL,WATR,BAY,BYBR,SFRN,DWNT,PARK,GRDN,MTDB, PNRM,CTYL,WATR,BAY,BYBR,SFRN,DWNT,VALY, PNRM,CTYL,WATR,BAY,BYBR,SFRN,TWNP, PNRM,CTYL,WATR,BAY,DWNT,GRDN, PNRM,CTYL,WATR,BAY,GGTE,DWNT,MRNA,GRDN,MTPS, PNRM,CTYL,WATR,BAY,GGTE,SFRN,DWNT,HILL,MTPS,TWNP, PNRM,CTYL,WATR,BAY,GGTE,SFRN,DWNT,OCEN, PNRM,CTYL,WATR,BAY,GGTE,SFRN,DWNT,OCEN,PARK,HILL,TWNP, PNRM,CTYL,WATR,BAY,GGTE,SFRN,MNTN, PNRM,CTYL,WATR,BAY,GGTE,SFRN,MRNA,MTPS, PNRM,CTYL,WATR,BAY,OCEN,MNTN,VALY, PNRM,CTYL,WATR,BAY,SFRN,DWNT,GRDN,HILL,MTDB, PNRM,CTYL,WATR,BAY,SFRN,DWNT,GRDN,MNTN,TWNP, PNRM,CTYL,WATR,BAY,SFRN,DWNT,HILL,MTDB,TWNP, PNRM,CTYL,WATR,BAY,SFRN,DWNT,HILL,TWNP,VALY, PNRM,CTYL,WATR,BAY,SFRN,DWNT,MRNA,MTPS, PNRM,CTYL,WATR,BAY,SFRN,DWNT,MTDB, PNRM,CTYL,WATR,BAY,SFRN,DWNT,OCEN, PNRM,CTYL,WATR,BAY,SFRN,DWNT,OCEN,WOOD, PNRM,CTYL,WATR,BAY,SFRN,HILL,MNTN,MTDB,RIDG, PNRM,CTYL,WATR,BAY,SFRN,MTDB,TWNP, PNRM,CTYL,WATR,BAY,SFRN,OCEN,PARK,GRDN,GLFC,WOOD,HILL, PNRM,CTYL,WATR,GGTE,OCEN, PNRM,CTYL,WATR,GGTE,SFRN,DWNT, PNRM,CTYL,WATR,GGTE,SFRN,OCEN,HILL,MNTN, PNRM,CTYL,WATR,HILL,MNTN,CNYN, PNRM,CTYL,WATR,OCEN,GLFC,HILL,MNTN,LAKE, PNRM,CTYL,WATR,OCEN,HILL,MNTN,MTPS, PNRM,CTYL,WATR,OCEN,PARK,GRDN,GLFC,WOOD,HILL,FRST,LAKE, PNRM,CTYL,WATR,OCEN,PARK,LAKE, PNRM,CTYL,WATR,WOOD, PNRM,DWNT,MNTN, PNRM,GGTE,PARK,GRDN,MNTN, PNRM,GGTE,SFRN,DWNT, PNRM,GGTE,SFRN,TWNP, PNRM,GGTE,TWNP, PNRM,GRDN,WOOD,HILL,MNTN,TWNP, PNRM,HILL,MNTN,FRST, PNRM,MRNA,OCEN, PNRM,OCEN,GLFC,HILL,MNTN, PNRM,OCEN,GRDN,MTPS, PNRM,OCEN,PARK,MTPS, PNRM,OCEN,WOOD,FRST, PNRM,PARK,WOOD,HILL,CNYN, PNRM,PRTL,BAY,BYBR, PNRM,PRTL,BAY,GGTE,MRNA, PNRM,PRTL,CTYL,BAY,GRDN,HILL, PNRM,PRTL,CTYL,DWNT,MNTN,CNYN, PNRM,PRTL,CTYL,HILL,MNTN, PNRM,PRTL,CTYL,HILL,MNTN,TWNP, PNRM,PRTL,CTYL,OCEN,HILL,MNTN, PNRM,PRTL,CTYL,OCEN,WOOD,MNTN, PNRM,PRTL,CTYL,SFRN,OCEN, PNRM,PRTL,CTYL,WATR,BAY,BYBR,SFRN,GRDN,MTDB, PNRM,PRTL,CTYL,WATR,HILL, PNRM,PRTL,CTYL,WATR,OCEN,GRDN,HILL,MNTN, PNRM,PRTL,CTYL,WATR,OCEN,PARK,GLFC,HILL,MNTN,FRST, PNRM,PRTL,CTYL,WATR,OCEN,PARK,GRDN,GLFC,HILL,LAKE, PNRM,PRTL,CTYL,WATR,SFRN,OCEN, PNRM,PRTL,GRDN,HILL,MNTN,TWNP,FRST, PNRM,PRTL,OCEN,HILL, PNRM,PRTL,WATR,BAY, PNRM,PRTL,WATR,SFRN,PARK,GRDN, PNRM,SFRN,GRDN,WOOD,FRST,CNYN, PNRM,SFRN,OCEN,MNTN, PNRM,SFRN,OCEN,WOOD,HILL, PNRM,VALY, PNRM,WATR,BAY,BYBR,GGTE,SFRN,DWNT, PNRM,WATR,BAY,BYBR,SFRN,DWNT,GRDN,HILL,MTDB, PNRM,WATR,BAY,BYBR,SFRN,DWNT,MNTN, PNRM,WATR,BAY,GGTE,TWNP, PNRM,WATR,BAY,OCEN, PNRM,WATR,BAY,SFRN,OCEN, PNRM,WATR,BAY,TWNP, PNRM,WATR,BYBR,SFRN, PNRM,WATR,DWNT,MNTN,MTDB, PNRM,WATR,DWNT,MTDB, PNRM,WATR,OCEN,GLFC,MNTN, PNRM,WATR,OCEN,GRDN,GLFC,LAKE, PNRM,WATR,OCEN,GRDN,WOOD, PNRM,WATR,OCEN,GRDN,WOOD,TWNP, PNRM,WATR,OCEN,MNTN,MTPS, PNRM,WATR,OCEN,PARK,GRDN, PNRM,WATR,OCEN,PARK,MTPS, PNRM,WATR,SFRN,OCEN,GRDN,GLFC,HILL, PNRM,WATR,SFRN,OCEN,PARK,WOOD,HILL, PNRM,WOOD,HILL, PNRM,WOOD,HILL,MNTN, PRTL,BAY,DWNT,HILL, PRTL,BAY,HILL,MNTN,VALY, PRTL,BAY,HILL,TWNP,VALY, PRTL,BAY,SFRN,VALY, PRTL,BAY,TWNP, PRTL,CTYL,BAY,DWNT,GRDN,TWNP, PRTL,CTYL,BAY,GGTE, PRTL,CTYL,BAY,GGTE,SFRN,PARK,GRDN,WOOD, PRTL,CTYL,BYBR,GGTE,OCEN,HILL, PRTL,CTYL,DWNT,GRDN,MNTN, PRTL,CTYL,DWNT,MTDB, PRTL,CTYL,GGTE,GRDN,GLFC, PRTL,CTYL,GGTE,MRNA, PRTL,CTYL,GGTE,OCEN, PRTL,CTYL,GGTE,SFRN,HILL,TWNP, PRTL,CTYL,MNTN,RIDG,VALY, PRTL,CTYL,OCEN,GRDN, PRTL,CTYL,OCEN,PARK, PRTL,CTYL,OCEN,PARK,GRDN, PRTL,CTYL,OCEN,WOOD, PRTL,CTYL,SFRN,GRDN,HILL, PRTL,CTYL,SFRN,HILL,MNTN, PRTL,CTYL,WATR,BAY,BYBR,SFRN,DWNT,GRDN,HILL,MNTN,VALY, PRTL,CTYL,WATR,BAY,DWNT,HILL, PRTL,CTYL,WATR,BAY,OCEN,HILL, PRTL,CTYL,WATR,GGTE,MTPS,FRST, PRTL,CTYL,WATR,OCEN,GLFC,MNTN, PRTL,CTYL,WATR,WOOD, PRTL,CTYL,WATR,WOOD,HILL, PRTL,DWNT,HILL,MTDB, PRTL,GGTE,GRDN, PRTL,GGTE,OCEN,HILL, PRTL,GGTE,PARK,FRST, PRTL,GRDN,HILL,FRST, PRTL,GRDN,LAKE, PRTL,LAKE, PRTL,OCEN,GRDN,HILL,MNTN, PRTL,OCEN,WOOD,HILL, PRTL,PARK,HILL,MNTN,MTPS, PRTL,PARK,WOOD,HILL,MNTN,FRST, PRTL,SFRN,GRDN,WOOD,MNTN,TWNP, PRTL,WATR,BAY,GGTE,DWNT, PRTL,WATR,BAY,GGTE,SFRN,GRDN, PRTL,WATR,BAY,MRNA, PRTL,WATR,BAY,SFRN,GRDN,HILL, PRTL,WATR,BAY,SFRN,WOOD, PRTL,WATR,BYBR,SFRN,TWNP, PRTL,WATR,GGTE,HILL,MTPS, PRTL,WATR,GGTE,OCEN,HILL, PRTL,WATR,GRDN,HILL,TWNP, PRTL,WATR,MRNA,PARK, PRTL,WATR,OCEN,MNTN,TWNP, PRTL,WATR,OCEN,PARK,GLFC,HILL,LAKE, PRTL,WATR,SFRN,OCEN, SFRN,DWNT,MNTN, SFRN,MTPS, SFRN,OCEN,PARK, SFRN,PARK,HILL,MNTN, WATR,BAY,BYBR,DWNT,GRDN, WATR,BAY,DWNT, WATR,BAY,GGTE,OCEN, WATR,BAY,GGTE,PARK,GRDN,HILL, WATR,BAY,GGTE,PARK,GRDN,MNTN, WATR,BAY,GGTE,SFRN,GRDN,WOOD,HILL,MNTN,FRST, WATR,BAY,GGTE,SFRN,MRNA,HILL,MNTN, WATR,BAY,MRNA, WATR,BAY,PARK,HILL, WATR,BAY,SFRN,DWNT, WATR,BAY,SFRN,HILL,MNTN,TWNP,RIDG, WATR,BAY,WOOD,CNYN, WATR,BYBR,DWNT,MTPS, WATR,GGTE,DWNT,OCEN,GRDN,HILL, WATR,GGTE,DWNT,OCEN,GRDN,HILL,MTPS, WATR,GGTE,MTPS, WATR,GGTE,SFRN,GRDN, WATR,GGTE,SFRN,OCEN, WATR,GGTE,SFRN,OCEN,GRDN,GLFC,WOOD,MNTN,FRST,RIDG, WATR,GRDN,HILL,MNTN, WATR,PARK,WOOD,LAKE, WATR,SFRN,GRDN,HILL, WATR,SFRN,HILL, WATR,SFRN,MRNA,GRDN]\n",
      "  warnings.warn(w)\n"
     ]
    },
    {
     "name": "stderr",
     "output_type": "stream",
     "text": [
      "/Users/37138/anaconda3/lib/python3.6/site-packages/h2o/job.py:70: UserWarning: Test/Validation dataset column 'street_name' has levels not trained on: [31st , 34th , 42nd St, 47th St, 48th , Arco , Arco Way, Armstrong , Arroyo , Ashton , Avalon , Balboa Ave, Balmy St, Bennington , Bitting Ave, Brentwood , Britton , Broderick , Brumiss Ter, Cabrillo Ave, Caine , Caine St, Camellia Ave, Cascade , Clarendon , Collins , Conkling , Country Club , Dashiell Hammett St, De Soto , Del Vale St, Deming Ave, Detroit , Devonshire , Diana St, Digby St, Dolores Ter, Elk , Esquina , Eucalyptus , Exeter , Funston St, Garcia , Getz St, Gillette , Greenwich Ct, Guerrero , Hanover , Havelock Ave, Hayes , Heather Ave, Homestead , Ignacio Ave, Jerrold , Jules , Kissling , Knott Ct, Lamartine , Lansdale , Las Villas , Leavenworth , Ledyard , Lincoln Ct, Linda , Madrid Sq, McKinnon Aly, Melba Ave, Mill , Minnesota St, Monticello , Nadell Ct, Navajo St, Oak , Oakwood St, Onondaga , Orben , Otsego , Parnassus , Pearl St, Pennsylvania , Phoenix Ter, Pope , Prospect , Randall , Raymond St, Ridge Ln, Roosevelt , Samoset , Santa Paula , Santa Ynez , Santiago , Sea Cliff , Sequoia , Seymour , Shipley St, Stillings , Sunnydale , Sutter , Thor Ave, Turquoise , Vista Verde Ct, Wabash , Willard North , Winfield , Winter Pl]\n",
      "  warnings.warn(w)\n",
      "/Users/37138/anaconda3/lib/python3.6/site-packages/h2o/job.py:70: UserWarning: Test/Validation dataset column 'type' has levels not trained on: [1STR,2STR, 2STR,3STR, ATAC,4STR,SPLT, ATAC,SMAT,2STR,SPLT, DETC,1STR,2STR, FULL,ATAC,3STR,SPLT, FULL,ATAC,SMAT,2STR, FULL,TWNH,2STR,PUD, JR,3STR, JR,ATAC,3STR, MDFD,DETC,2STR,SPLT, MDFD,TWNH,ATAC,4STR,SPLT, SMAT,DETC,3STR, SMAT,DETC,FIXR, TWNH,ATAC]\n",
      "  warnings.warn(w)\n",
      "/Users/37138/anaconda3/lib/python3.6/site-packages/h2o/job.py:70: UserWarning: Test/Validation dataset column 'parking' has levels not trained on: [DECK,ATDR, DTCH,ATDR,GSPC, DTCH,DECK,GARG,GSPC, DTCH,GSPC, DTCH,UNCV,ATCH,GARG,INAC, DTCH,UNCV,GARG,INAC, UNCV,CARP,GARG, UNCV,CARP,GARG,ATDR,GSPC]\n",
      "  warnings.warn(w)\n",
      "/Users/37138/anaconda3/lib/python3.6/site-packages/h2o/job.py:70: UserWarning: Test/Validation dataset column 'zoning' has levels not trained on: [RC2]\n",
      "  warnings.warn(w)\n",
      "/Users/37138/anaconda3/lib/python3.6/site-packages/h2o/job.py:70: UserWarning: Test/Validation dataset column 'drive_side' has levels not trained on: [GRVL,DIRT, PVSW,GRVL]\n",
      "  warnings.warn(w)\n"
     ]
    }
   ],
   "source": [
    "preds = aml.leader.predict(test)"
   ]
  },
  {
   "cell_type": "code",
   "execution_count": 12,
   "metadata": {},
   "outputs": [],
   "source": [
    "preds['sale_price'] = test['sale_price']"
   ]
  },
  {
   "cell_type": "code",
   "execution_count": 13,
   "metadata": {},
   "outputs": [],
   "source": [
    "from sklearn.metrics import mean_absolute_error, median_absolute_error, r2_score\n",
    "import numpy as np"
   ]
  },
  {
   "cell_type": "code",
   "execution_count": 14,
   "metadata": {},
   "outputs": [],
   "source": [
    "df_pred = preds.as_data_frame()"
   ]
  },
  {
   "cell_type": "code",
   "execution_count": 15,
   "metadata": {},
   "outputs": [],
   "source": [
    "models = {}"
   ]
  },
  {
   "cell_type": "code",
   "execution_count": 16,
   "metadata": {},
   "outputs": [],
   "source": [
    "def getMetrics(name, y_pred_, y_test_):\n",
    "    metrics = {\n",
    "        \"r2\": r2_score(y_pred_, y_test_), \n",
    "        \"mean_absolute_error\": mean_absolute_error(y_pred_, y_test_) / np.mean(y_test_), \n",
    "        \"median_absolute_error\" :median_absolute_error(y_pred_, y_test_) / np.mean(y_test_),\n",
    "        \"mean_abs_perc_error\" : np.mean(np.abs((y_pred_ - y_test_) / y_test_)) * 100\n",
    "    }\n",
    "    models[f\"{name}\"] = metrics"
   ]
  },
  {
   "cell_type": "code",
   "execution_count": 17,
   "metadata": {},
   "outputs": [],
   "source": [
    "getMetrics(\"12-12-hedon-automl\", df_pred[\"predict\"], df_pred[\"sale_price\"])"
   ]
  },
  {
   "cell_type": "code",
   "execution_count": 18,
   "metadata": {},
   "outputs": [
    {
     "data": {
      "text/plain": [
       "{'12-12-hedon-automl': {'r2': 0.8535078504215857,\n",
       "  'mean_absolute_error': 0.14988613096905778,\n",
       "  'median_absolute_error': 0.07032241610751117,\n",
       "  'mean_abs_perc_error': 14.06040759637597}}"
      ]
     },
     "execution_count": 18,
     "metadata": {},
     "output_type": "execute_result"
    }
   ],
   "source": [
    "models"
   ]
  },
  {
   "cell_type": "code",
   "execution_count": 16,
   "metadata": {},
   "outputs": [
    {
     "data": {
      "text/html": [
       "<div>\n",
       "<style scoped>\n",
       "    .dataframe tbody tr th:only-of-type {\n",
       "        vertical-align: middle;\n",
       "    }\n",
       "\n",
       "    .dataframe tbody tr th {\n",
       "        vertical-align: top;\n",
       "    }\n",
       "\n",
       "    .dataframe thead th {\n",
       "        text-align: right;\n",
       "    }\n",
       "</style>\n",
       "<table border=\"1\" class=\"dataframe\">\n",
       "  <thead>\n",
       "    <tr style=\"text-align: right;\">\n",
       "      <th></th>\n",
       "      <th>predict</th>\n",
       "      <th>sale_price</th>\n",
       "    </tr>\n",
       "  </thead>\n",
       "  <tbody>\n",
       "    <tr>\n",
       "      <th>0</th>\n",
       "      <td>6.712208e+05</td>\n",
       "      <td>665000</td>\n",
       "    </tr>\n",
       "    <tr>\n",
       "      <th>1</th>\n",
       "      <td>1.162479e+06</td>\n",
       "      <td>1100000</td>\n",
       "    </tr>\n",
       "    <tr>\n",
       "      <th>2</th>\n",
       "      <td>7.236932e+05</td>\n",
       "      <td>700000</td>\n",
       "    </tr>\n",
       "    <tr>\n",
       "      <th>3</th>\n",
       "      <td>2.945670e+06</td>\n",
       "      <td>2925000</td>\n",
       "    </tr>\n",
       "    <tr>\n",
       "      <th>4</th>\n",
       "      <td>1.476744e+06</td>\n",
       "      <td>1425000</td>\n",
       "    </tr>\n",
       "    <tr>\n",
       "      <th>...</th>\n",
       "      <td>...</td>\n",
       "      <td>...</td>\n",
       "    </tr>\n",
       "    <tr>\n",
       "      <th>4739</th>\n",
       "      <td>2.510536e+06</td>\n",
       "      <td>2350000</td>\n",
       "    </tr>\n",
       "    <tr>\n",
       "      <th>4740</th>\n",
       "      <td>1.641586e+06</td>\n",
       "      <td>1505000</td>\n",
       "    </tr>\n",
       "    <tr>\n",
       "      <th>4741</th>\n",
       "      <td>1.905196e+06</td>\n",
       "      <td>1900000</td>\n",
       "    </tr>\n",
       "    <tr>\n",
       "      <th>4742</th>\n",
       "      <td>1.332332e+06</td>\n",
       "      <td>1268000</td>\n",
       "    </tr>\n",
       "    <tr>\n",
       "      <th>4743</th>\n",
       "      <td>1.939071e+06</td>\n",
       "      <td>1720000</td>\n",
       "    </tr>\n",
       "  </tbody>\n",
       "</table>\n",
       "<p>4744 rows × 2 columns</p>\n",
       "</div>"
      ],
      "text/plain": [
       "           predict  sale_price\n",
       "0     6.712208e+05      665000\n",
       "1     1.162479e+06     1100000\n",
       "2     7.236932e+05      700000\n",
       "3     2.945670e+06     2925000\n",
       "4     1.476744e+06     1425000\n",
       "...            ...         ...\n",
       "4739  2.510536e+06     2350000\n",
       "4740  1.641586e+06     1505000\n",
       "4741  1.905196e+06     1900000\n",
       "4742  1.332332e+06     1268000\n",
       "4743  1.939071e+06     1720000\n",
       "\n",
       "[4744 rows x 2 columns]"
      ]
     },
     "execution_count": 16,
     "metadata": {},
     "output_type": "execute_result"
    }
   ],
   "source": [
    "df_pred"
   ]
  },
  {
   "cell_type": "code",
   "execution_count": 21,
   "metadata": {},
   "outputs": [
    {
     "data": {
      "text/plain": [
       "0.8403784505863039"
      ]
     },
     "execution_count": 21,
     "metadata": {},
     "output_type": "execute_result"
    }
   ],
   "source": [
    "r2_score(df_pred[\"predict\"], df_pred[\"sale_price\"])"
   ]
  },
  {
   "cell_type": "code",
   "execution_count": 20,
   "metadata": {},
   "outputs": [],
   "source": [
    "df_pred[\"pct_err\"] = ((df_pred[\"predict\"] - df_pred[\"sale_price\"]) / df_pred[\"sale_price\"]) *100"
   ]
  },
  {
   "cell_type": "code",
   "execution_count": 21,
   "metadata": {},
   "outputs": [
    {
     "data": {
      "text/plain": [
       "count    4744.000000\n",
       "mean        1.391958\n",
       "std        13.047760\n",
       "min       -65.284841\n",
       "25%        -5.040566\n",
       "50%         0.276401\n",
       "75%         6.171786\n",
       "max       321.612756\n",
       "Name: pct_err, dtype: float64"
      ]
     },
     "execution_count": 21,
     "metadata": {},
     "output_type": "execute_result"
    }
   ],
   "source": [
    "df_pred[\"pct_err\"].describe()"
   ]
  },
  {
   "cell_type": "code",
   "execution_count": 22,
   "metadata": {},
   "outputs": [
    {
     "data": {
      "text/plain": [
       "<matplotlib.axes._subplots.AxesSubplot at 0x1a1f05ab70>"
      ]
     },
     "execution_count": 22,
     "metadata": {},
     "output_type": "execute_result"
    },
    {
     "data": {
      "image/png": "[encoded data removed]",
      "text/plain": [
       "<Figure size 432x288 with 1 Axes>"
      ]
     },
     "metadata": {
      "needs_background": "light"
     },
     "output_type": "display_data"
    }
   ],
   "source": [
    "df_pred[\"pct_err\"].hist()"
   ]
  },
  {
   "cell_type": "code",
   "execution_count": null,
   "metadata": {},
   "outputs": [],
   "source": [
    "df_pred.to_csv(\"ENG_DATA/PREDICTED/12-10_df_h20_leader_predictions_no_list.csv\")"
   ]
  },
  {
   "cell_type": "code",
   "execution_count": null,
   "metadata": {},
   "outputs": [],
   "source": []
  }
 ],
 "metadata": {
  "kernelspec": {
   "display_name": "Python 3",
   "language": "python",
   "name": "python3"
  },
  "language_info": {
   "codemirror_mode": {
    "name": "ipython",
    "version": 3
   },
   "file_extension": ".py",
   "mimetype": "text/x-python",
   "name": "python",
   "nbconvert_exporter": "python",
   "pygments_lexer": "ipython3",
   "version": "3.6.9"
  }
 },
 "nbformat": 4,
 "nbformat_minor": 2
}
